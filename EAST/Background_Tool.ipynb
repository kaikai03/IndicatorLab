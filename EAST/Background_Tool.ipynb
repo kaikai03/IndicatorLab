{
 "cells": [
  {
   "cell_type": "code",
   "execution_count": 48,
   "id": "b916108e-4dba-4771-9fe9-cbf4b12b98a5",
   "metadata": {},
   "outputs": [
    {
     "name": "stdout",
     "output_type": "stream",
     "text": [
      "task:<123> start in background!\n"
     ]
    },
    {
     "data": {
      "text/plain": [
       "'In the background... 4'"
      ]
     },
     "metadata": {},
     "output_type": "display_data"
    },
    {
     "name": "stdout",
     "output_type": "stream",
     "text": [
      "self finish!!\n",
      "task:<123> finish!\n",
      "task:<123> stopped and quited!\n"
     ]
    }
   ],
   "source": [
    "from IPython.display import display\n",
    "\n",
    "import time\n",
    "import asyncio\n",
    "from IPython.lib import backgroundjobs as bg\n",
    "\n",
    "# import os \n",
    "# module_path = os.path.abspath(os.path.join('..')) \n",
    "# if module_path not in sys.path: \n",
    "#     sys.path.append(module_path)\n",
    "\n",
    "\n",
    "def run_background_task(task_name, job_manager, fun, *fun_args, **fun_kwargs):\n",
    "    assert not task_name is None, 'task_name cant be None'\n",
    "    assert isinstance(task_name, str), 'task_name must be {str}'\n",
    "    def run_loop():\n",
    "        loop = asyncio.new_event_loop()\n",
    "        run_loop.loop = loop\n",
    "        asyncio.set_event_loop(loop)\n",
    "        task = loop.create_task(fun(*fun_args,**fun_kwargs))\n",
    "        run_loop.task = task\n",
    "        try:\n",
    "            print('task:<{:s}> start in background!'.format(task_name))\n",
    "            loop.run_until_complete(task)\n",
    "            print('task:<{:s}> finish!'.format(task_name))\n",
    "        except asyncio.CancelledError:\n",
    "            print('task:<{:s}> cancelled!'.format(task_name))\n",
    "        finally:\n",
    "            loop.run_until_complete(loop.shutdown_asyncgens())\n",
    "            loop.close()\n",
    "            print('task:<{:s}> stopped and quited!'.format(task_name))\n",
    "    job_manager.new('run_loop()')\n",
    "    time.sleep(1)\n",
    "    handle = run_loop.task\n",
    "    return handle\n",
    "\n",
    "    \n",
    "\n",
    "\n",
    "\n",
    "######Example\n",
    "# controller.cancel()\n",
    "# jobs.remove(0)\n",
    "# jobs.status()"
   ]
  },
  {
   "cell_type": "code",
   "execution_count": 44,
   "id": "edb9a707-9fc3-46b3-b67e-d854c2f18620",
   "metadata": {},
   "outputs": [
    {
     "data": {
      "text/plain": [
       "True"
      ]
     },
     "execution_count": 44,
     "metadata": {},
     "output_type": "execute_result"
    },
    {
     "name": "stdout",
     "output_type": "stream",
     "text": [
      "cancel sleep\n",
      "task:tst cancelled!\n",
      "task:tst stopped and quited!\n"
     ]
    }
   ],
   "source": [
    "# controller = run_background_task('123', jobs, run, 2, reps=5)\n",
    "\n",
    "jobs = bg.BackgroundJobManager()\n",
    "\n",
    "counter = 0\n",
    "            \n",
    "async def run(interval=1, reps=15):\n",
    "    global counter\n",
    "    display_handle = display(\"display\",display_id=True)\n",
    "    for n in range(reps):\n",
    "        counter += n\n",
    "        try:\n",
    "            await asyncio.sleep(interval)\n",
    "            display_handle.update('In the background... %i' % n)\n",
    "        except asyncio.CancelledError:\n",
    "            print('cancel sleep')\n",
    "            raise asyncio.CancelledError\n",
    "    print('self finish!!')"
   ]
  },
  {
   "cell_type": "code",
   "execution_count": 49,
   "id": "14c43552-d5b9-4c22-9c64-5e4b4b851251",
   "metadata": {},
   "outputs": [
    {
     "data": {
      "text/plain": [
       "'D:\\\\PyProjects\\\\IndicatorLab\\\\EAST'"
      ]
     },
     "execution_count": 49,
     "metadata": {},
     "output_type": "execute_result"
    }
   ],
   "source": [
    "import os\n",
    "os.path.abspath('.')"
   ]
  },
  {
   "cell_type": "code",
   "execution_count": 42,
   "id": "5c72263f-bfea-486e-9291-ca4f1a9be179",
   "metadata": {},
   "outputs": [
    {
     "name": "stdout",
     "output_type": "stream",
     "text": [
      "Completed jobs:\n",
      "0 : run_loop()\n",
      "\n"
     ]
    }
   ],
   "source": []
  },
  {
   "cell_type": "code",
   "execution_count": 26,
   "id": "65c6a5ac-dc23-48eb-b60d-594ed00da9e9",
   "metadata": {},
   "outputs": [
    {
     "data": {
      "text/plain": [
       "10"
      ]
     },
     "execution_count": 26,
     "metadata": {},
     "output_type": "execute_result"
    },
    {
     "name": "stdout",
     "output_type": "stream",
     "text": [
      "stop!\n",
      "All done!\n"
     ]
    }
   ],
   "source": [
    "# asyncio.current_task()\n",
    "counter"
   ]
  }
 ],
 "metadata": {
  "kernelspec": {
   "display_name": "Python 3",
   "language": "python",
   "name": "python3"
  },
  "language_info": {
   "codemirror_mode": {
    "name": "ipython",
    "version": 3
   },
   "file_extension": ".py",
   "mimetype": "text/x-python",
   "name": "python",
   "nbconvert_exporter": "python",
   "pygments_lexer": "ipython3",
   "version": "3.8.8"
  }
 },
 "nbformat": 4,
 "nbformat_minor": 5
}
