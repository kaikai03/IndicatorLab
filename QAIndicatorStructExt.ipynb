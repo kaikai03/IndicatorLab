{
 "cells": [
  {
   "cell_type": "code",
   "execution_count": 1,
   "metadata": {},
   "outputs": [
    {
     "name": "stdout",
     "output_type": "stream",
     "text": [
      "Writing QAIndicatorStructExt.py\n"
     ]
    }
   ],
   "source": [
    "%%writefile QAIndicatorStructExt.py\n",
    "\n",
    "import numpy as np\n",
    "import pandas as pd\n",
    "\n",
    "from QUANTAXIS.QAData import QA_DataStruct_Indicators\n",
    "    \n",
    "class QA_DataStruct_Indicators_Ext(QA_DataStruct_Indicators):\n",
    "    def __init__(self, data):\n",
    "#         self.data = data\n",
    "        super().__init__(data)\n",
    "        \n",
    "    def get_ind(self, code=None, date=None):\n",
    "        ### 白写，和基类的get_timerange相同\n",
    "        if code and date :\n",
    "            if isinstance(date,tuple):\n",
    "                return self.data.loc[pd.IndexSlice[date[0]:date[1],code],:]\n",
    "            return self.data.loc[pd.IndexSlice[date,code],:]\n",
    "        if code :\n",
    "            return self.data.xs(code, level=1)\n",
    "        if date :\n",
    "            if isinstance(date,tuple):\n",
    "                return self.data.loc[date[0]:date[1]] \n",
    "            return self.data.loc[date]\n",
    "            \n",
    "        raise Exception(\"不允许两个参数都为空\")\n",
    "        \n",
    "    def get_ind_offset(self, code, base_date, offset=0):\n",
    "        if code is None or base_date is None:\n",
    "            raise Exception(\"code，date 不允许为空\")\n",
    "        try:\n",
    "            ind = self.data.xs(code, level=1)\n",
    "        except:\n",
    "            return ValueError('CANNOT FOUND THIS CODE')\n",
    "        \n",
    "        try:\n",
    "            idx = ind.index.get_loc(base_date)\n",
    "        except:\n",
    "            return ValueError('CANNOT FOUND THIS TIME RANGE')\n",
    "\n",
    "        if np.sign(offset) < 0 :\n",
    "            return ind.iloc[idx + offset if idx + offset >=0 else 0:idx+1]\n",
    "        else:\n",
    "            return ind.iloc[idx:idx+offset+1]\n",
    "\n",
    "    def get_ind_for_train(self, code, date):\n",
    "        '''get当天的就未来函数了'''\n",
    "        inds = self.get_ind_offset(code, date, offset=-1)\n",
    "        if len(inds)<=1:\n",
    "            return [None]\n",
    "        return inds.iloc[0]"
   ]
  }
 ],
 "metadata": {
  "kernelspec": {
   "display_name": "Python 3",
   "language": "python",
   "name": "python3"
  },
  "language_info": {
   "codemirror_mode": {
    "name": "ipython",
    "version": 3
   },
   "file_extension": ".py",
   "mimetype": "text/x-python",
   "name": "python",
   "nbconvert_exporter": "python",
   "pygments_lexer": "ipython3",
   "version": "3.8.8"
  }
 },
 "nbformat": 4,
 "nbformat_minor": 4
}
