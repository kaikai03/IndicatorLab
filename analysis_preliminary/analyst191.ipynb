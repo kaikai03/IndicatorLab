{
 "cells": [
  {
   "cell_type": "code",
   "execution_count": 1,
   "id": "c9a4c01d-135a-4acc-84ee-c4d82acc9efc",
   "metadata": {
    "execution": {
     "iopub.execute_input": "2022-11-08T10:47:33.086451Z",
     "iopub.status.busy": "2022-11-08T10:47:33.086451Z",
     "iopub.status.idle": "2022-11-08T10:47:54.691851Z",
     "shell.execute_reply": "2022-11-08T10:47:54.691851Z",
     "shell.execute_reply.started": "2022-11-08T10:47:33.086451Z"
    },
    "tags": []
   },
   "outputs": [],
   "source": [
    "import sys\n",
    "import os \n",
    "module_path = os.path.abspath(os.path.join('..')) \n",
    "if module_path not in sys.path: \n",
    "    sys.path.append(module_path)\n",
    "\n",
    "import pandas as pd  \n",
    "import numpy as np  \n",
    "\n",
    "import tools.Sample_Tools as smpl\n",
    "import tools.Pretreat_Tools as pretreat\n",
    "from tools.Cacher import (CACHE_TYPE, save_cache,load_cache_adv,load_cache)\n",
    "\n",
    "# import ind.alpha191 as a191\n",
    "\n",
    "\n",
    "import matplotlib.pyplot as plt\n",
    "import seaborn as sns\n",
    "\n",
    "from base.JuUnits import parallal_task,task_chunk_split\n",
    "from base.JuUnits import excute_for_multidates\n",
    "\n",
    "\n",
    "\n",
    "# from QUANTAXIS.QAUtil import DATABASE\n",
    "# from QUANTAXIS.QAUtil import  trade_date_sse\n",
    "# from QUANTAXIS.QAUtil.QADate_trade import (\n",
    "#     QA_util_get_pre_trade_date,\n",
    "#     QA_util_get_next_trade_date,\n",
    "#     QA_util_if_tradetime\n",
    "# )\n",
    "\n",
    "# import inspect\n",
    "\n",
    "# from sklearn import linear_model\n",
    "\n",
    "%load_ext autoreload\n",
    "%autoreload 2\n",
    "%aimport ind.alpha191"
   ]
  },
  {
   "cell_type": "code",
   "execution_count": 2,
   "id": "7e34fc9d-099b-4584-ab45-ad210b089932",
   "metadata": {
    "execution": {
     "iopub.execute_input": "2022-11-08T10:47:54.693626Z",
     "iopub.status.busy": "2022-11-08T10:47:54.693626Z",
     "iopub.status.idle": "2022-11-08T10:48:13.461930Z",
     "shell.execute_reply": "2022-11-08T10:48:13.461025Z",
     "shell.execute_reply.started": "2022-11-08T10:47:54.693626Z"
    },
    "tags": []
   },
   "outputs": [
    {
     "name": "stdout",
     "output_type": "stream",
     "text": [
      "Now in the main code. Process name is: base.JuUnits\n",
      "base.JuUnits, subpid:20324  pid:25024\n"
     ]
    },
    {
     "data": {
      "application/vnd.jupyter.widget-view+json": {
       "model_id": "af7fb0c1ad2d43039354e384640b4069",
       "version_major": 2,
       "version_minor": 0
      },
      "text/plain": [
       "  0%|          | 0/6 [00:00<?, ?it/s]"
      ]
     },
     "metadata": {},
     "output_type": "display_data"
    }
   ],
   "source": [
    "###加载数据\n",
    "\n",
    "ids = np.arange(1,192)\n",
    "# np.random.shuffle(ids)\n",
    "files = list(map(lambda x:'191_alpha'+'0'*(3- int(np.log10(x)+1))+str(x)+'_train',ids))\n",
    "\n",
    "def load_alpha_factors(file_names):\n",
    "    from tools.Cacher import (CACHE_TYPE, save_cache,load_cache_adv,load_cache)\n",
    "    from base.JuUnits import excute_for_multidates\n",
    "    import numpy as np\n",
    "    import pandas as pd \n",
    "    \n",
    "    temp = []\n",
    "    for file in file_names:\n",
    "        print(file)\n",
    "        temp.append(load_cache(file, cache_type=CACHE_TYPE.FACTOR))\n",
    "    \n",
    "    return pd.concat(temp,axis=1)\n",
    "        \n",
    "worker=6\n",
    "task = task_chunk_split(files, worker)\n",
    "results = parallal_task(worker, load_alpha_factors, task)\n",
    "res = pd.concat(results,axis=1)"
   ]
  },
  {
   "cell_type": "code",
   "execution_count": 3,
   "id": "2542f2d3-cac7-4f8f-8fa2-02e00b0ba8c8",
   "metadata": {
    "execution": {
     "iopub.execute_input": "2022-11-08T10:48:13.462956Z",
     "iopub.status.busy": "2022-11-08T10:48:13.462956Z",
     "iopub.status.idle": "2022-11-08T10:48:16.846405Z",
     "shell.execute_reply": "2022-11-08T10:48:16.845546Z",
     "shell.execute_reply.started": "2022-11-08T10:48:13.462956Z"
    },
    "tags": []
   },
   "outputs": [],
   "source": [
    "def filter_invalid_factor(fators_df):\n",
    "    ## 缺失30%以上，且3倍方差以上，废弃\n",
    "    ## 加极端判断是为了保证留下那种大窗口期的因子。\n",
    "    def nan_count(x):\n",
    "        return round(x.isna().sum(axis=0)/len(x),4)*100\n",
    "    \n",
    "    #计算缺失率\n",
    "    valid_rate = excute_for_multidates(res, nan_count, level=1) \n",
    "    valid_distribute_boundary = valid_rate.mean(axis=0) + valid_rate.std(axis=0)*3\n",
    "    #缺失率符合当前因子在所有标的上，符合3个标准差的\n",
    "    filter_contition = valid_rate > valid_distribute_boundary \n",
    "    \n",
    "    def filter_invalid(x):\n",
    "        code = x.index.get_level_values(1)[0]\n",
    "        distribute_condition = filter_contition.loc[code] \n",
    "        #符合3个标准差的列\n",
    "        invalid_factors_name = distribute_condition[distribute_condition==True].index \n",
    "        #符合3个标准差，并且缺失30%以上的列\n",
    "        thredhold_condition = valid_rate.loc[code][invalid_factors_name]>30 \n",
    "        \n",
    "        x[thredhold_condition.index] = np.nan \n",
    "        return x\n",
    "\n",
    "    filtered = excute_for_multidates(fators_df, filter_invalid, level=1)\n",
    "    \n",
    "    return filtered\n",
    "\n",
    "factors_filtered = filter_invalid_factor(res)"
   ]
  },
  {
   "cell_type": "code",
   "execution_count": 16,
   "id": "4682c775-1824-4577-8ab6-36e30d28f664",
   "metadata": {
    "execution": {
     "iopub.execute_input": "2022-11-08T14:13:24.324110Z",
     "iopub.status.busy": "2022-11-08T14:13:24.323075Z",
     "iopub.status.idle": "2022-11-08T14:13:44.516921Z",
     "shell.execute_reply": "2022-11-08T14:13:44.516921Z",
     "shell.execute_reply.started": "2022-11-08T14:13:24.324110Z"
    },
    "tags": []
   },
   "outputs": [
    {
     "name": "stdout",
     "output_type": "stream",
     "text": [
      "delete correlative factor:191_alpha008,191_alpha014,191_alpha020,191_alpha022,191_alpha024,191_alpha026,191_alpha027,191_alpha028,191_alpha031,191_alpha034,191_alpha037,191_alpha040,191_alpha046,191_alpha047,191_alpha049,191_alpha050,191_alpha051,191_alpha052,191_alpha053,191_alpha055,191_alpha057,191_alpha058,191_alpha059,191_alpha062,191_alpha065,191_alpha066,191_alpha067,191_alpha068,191_alpha071,191_alpha072,191_alpha078,191_alpha079,191_alpha082,191_alpha088,191_alpha089,191_alpha090,191_alpha094,191_alpha095,191_alpha096,191_alpha097,191_alpha099,191_alpha100,191_alpha105,191_alpha106,191_alpha112,191_alpha116,191_alpha121,191_alpha122,191_alpha126,191_alpha128,191_alpha129,191_alpha132,191_alpha133,191_alpha134,191_alpha136,191_alpha137,191_alpha139,191_alpha143,191_alpha147,191_alpha150,191_alpha153,191_alpha154,191_alpha156,191_alpha160,191_alpha161,191_alpha162,191_alpha165,191_alpha167,191_alpha168,191_alpha173,191_alpha174,191_alpha175,191_alpha177,191_alpha180,191_alpha183,191_alpha185,191_alpha187,191_alpha189\n"
     ]
    }
   ],
   "source": [
    "def filter_correlative_factor(fators_df, thredhold=.70, show_chart=False,verbose=False):\n",
    "    #去掉相关性强的因子，相关性大于thredhold的因子（列）将被去除\n",
    "    corr = fators_df.corr()\n",
    "    matrix = corr.values\n",
    "    #取得下三角矩阵\n",
    "    matrix[np.triu_indices(matrix.shape[0])]=np.nan\n",
    "    corr_triu = pd.DataFrame(matrix, columns=corr.columns, index=corr.index)\n",
    "\n",
    "    if show_chart:\n",
    "        plt.figure(figsize=(30,30))\n",
    "        labels = corr.columns.str.replace('191_alpha','')\n",
    "        ax = sns.heatmap(corr_triu, xticklabels=labels, yticklabels=labels, cmap=\"YlGnBu\",cbar=False)\n",
    "\n",
    "    # 取得符合条件的因子对后，再取“一对的左边”作为删除目标\n",
    "    correlative_columns_name = corr_triu.abs().gt(thredhold).stack().loc[lambda x: x].index.get_level_values(0).unique().to_list()\n",
    "    \n",
    "    if verbose:\n",
    "        print('delete correlative factors: {}'.format(','.join(correlative_columns_name)))\n",
    "        \n",
    "    correlative_droed = fators_df.drop(columns=correlative_columns_name)\n",
    "    return correlative_droed\n",
    "\n",
    "factors_filtered = filter_correlative_factor(factors_filtered,show_chart=False,verbose=True)"
   ]
  },
  {
   "cell_type": "code",
   "execution_count": 162,
   "id": "e0bb7db2-825e-461e-9546-052b6e94a313",
   "metadata": {
    "execution": {
     "iopub.execute_input": "2022-11-08T10:25:45.539322Z",
     "iopub.status.busy": "2022-11-08T10:25:45.539135Z",
     "iopub.status.idle": "2022-11-08T10:25:45.615173Z",
     "shell.execute_reply": "2022-11-08T10:25:45.615173Z",
     "shell.execute_reply.started": "2022-11-08T10:25:45.539322Z"
    },
    "tags": []
   },
   "outputs": [
    {
     "data": {
      "text/plain": [
       "Index(['191_alpha008', '191_alpha014', '191_alpha020', '191_alpha022',\n",
       "       '191_alpha024', '191_alpha026', '191_alpha027', '191_alpha028',\n",
       "       '191_alpha031', '191_alpha034', '191_alpha037', '191_alpha040',\n",
       "       '191_alpha046', '191_alpha047', '191_alpha049', '191_alpha050',\n",
       "       '191_alpha051', '191_alpha052', '191_alpha053', '191_alpha055',\n",
       "       '191_alpha057', '191_alpha058', '191_alpha059', '191_alpha062',\n",
       "       '191_alpha065', '191_alpha066', '191_alpha067', '191_alpha068',\n",
       "       '191_alpha071', '191_alpha072', '191_alpha078', '191_alpha079',\n",
       "       '191_alpha082', '191_alpha088', '191_alpha089', '191_alpha090',\n",
       "       '191_alpha094', '191_alpha095', '191_alpha096', '191_alpha097',\n",
       "       '191_alpha099', '191_alpha100', '191_alpha105', '191_alpha106',\n",
       "       '191_alpha112', '191_alpha116', '191_alpha121', '191_alpha122',\n",
       "       '191_alpha126', '191_alpha128', '191_alpha129', '191_alpha132',\n",
       "       '191_alpha133', '191_alpha134', '191_alpha136', '191_alpha137',\n",
       "       '191_alpha139', '191_alpha143', '191_alpha147', '191_alpha150',\n",
       "       '191_alpha153', '191_alpha154', '191_alpha156', '191_alpha160',\n",
       "       '191_alpha161', '191_alpha162', '191_alpha165', '191_alpha167',\n",
       "       '191_alpha168', '191_alpha173', '191_alpha174', '191_alpha175',\n",
       "       '191_alpha177', '191_alpha180', '191_alpha183', '191_alpha185',\n",
       "       '191_alpha187', '191_alpha189'],\n",
       "      dtype='object')"
      ]
     },
     "execution_count": 162,
     "metadata": {},
     "output_type": "execute_result"
    }
   ],
   "source": [
    "# with pd.option_context('display.max_rows', None, \"display.max_columns\", None): \n",
    "#     display(pd.concat([valid_rate.loc['000069',:], valid_distribute_boundary,(valid_rate.loc['000069',:]> valid_distribute_boundary)],axis=1))\n",
    "\n",
    "# corr_triu[abs(corr_triu)>0.7]\n",
    "# corr_triu.gt(.25).stack().loc[lambda df: df].index.to_list()\n",
    "a = corr_triu.abs().gt(.70).stack().loc[lambda x: x].index.get_level_values(0).unique()\n",
    "a\n"
   ]
  },
  {
   "cell_type": "code",
   "execution_count": 15,
   "id": "e52af5a1-8fa8-4218-9adb-73447a993bae",
   "metadata": {
    "execution": {
     "iopub.execute_input": "2022-11-08T14:12:05.390165Z",
     "iopub.status.busy": "2022-11-08T14:12:05.390165Z",
     "iopub.status.idle": "2022-11-08T14:12:05.452418Z",
     "shell.execute_reply": "2022-11-08T14:12:05.451234Z",
     "shell.execute_reply.started": "2022-11-08T14:12:05.390165Z"
    },
    "tags": []
   },
   "outputs": [
    {
     "data": {
      "text/plain": [
       "'aaaabbba'"
      ]
     },
     "execution_count": 15,
     "metadata": {},
     "output_type": "execute_result"
    }
   ],
   "source": [
    "# a = ['1','2','3','4','5']\n",
    "# ','.join(a)\n",
    "\"{}abbb\".format(\"aaa\",\"a\")"
   ]
  }
 ],
 "metadata": {
  "kernelspec": {
   "display_name": "Python 3 (ipykernel)",
   "language": "python",
   "name": "python3"
  },
  "language_info": {
   "codemirror_mode": {
    "name": "ipython",
    "version": 3
   },
   "file_extension": ".py",
   "mimetype": "text/x-python",
   "name": "python",
   "nbconvert_exporter": "python",
   "pygments_lexer": "ipython3",
   "version": "3.9.7"
  }
 },
 "nbformat": 4,
 "nbformat_minor": 5
}
