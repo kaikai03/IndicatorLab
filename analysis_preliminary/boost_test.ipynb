{
 "cells": [
  {
   "cell_type": "code",
   "execution_count": 135,
   "id": "6ad1e658-30c4-4e22-823f-c84fc2919017",
   "metadata": {
    "execution": {
     "iopub.execute_input": "2023-07-20T12:18:55.897853Z",
     "iopub.status.busy": "2023-07-20T12:18:55.896856Z",
     "iopub.status.idle": "2023-07-20T12:18:56.826441Z",
     "shell.execute_reply": "2023-07-20T12:18:56.826441Z",
     "shell.execute_reply.started": "2023-07-20T12:18:55.897853Z"
    },
    "tags": []
   },
   "outputs": [],
   "source": [
    "import sys\n",
    "import os \n",
    "module_path = os.path.abspath(os.path.join('..')) \n",
    "if module_path not in sys.path: \n",
    "    sys.path.append(module_path)\n",
    "\n",
    "import pandas as pd  \n",
    "import numpy as np  \n",
    "\n",
    "import tools.Sample_Tools as smpl\n",
    "from tools.Cacher import (CACHE_TYPE, save_cache,load_cache_adv,load_cache)\n",
    "\n",
    "\n",
    "import matplotlib.pyplot as plt\n",
    "import seaborn as sns\n",
    "\n",
    "# from base.JuUnits import parallal_task,task_chunk_split\n",
    "# from base.JuUnits import excute_for_multidates\n",
    "\n",
    "# from sklearn.decomposition import FactorAnalysis\n",
    "# from factor_analyzer import FactorAnalyzer\n",
    "# from factor_analyzer.factor_analyzer import calculate_bartlett_sphericity,calculate_kmo\n",
    "\n",
    "# import inspect\n",
    "import warnings\n",
    "from sklearn.model_selection import train_test_split\n",
    "\n",
    "from catboost import CatBoostRanker, Pool, MetricVisualizer\n"
   ]
  },
  {
   "cell_type": "code",
   "execution_count": 16,
   "id": "1dbb2b5b-92ee-4517-a192-669afb2ad20a",
   "metadata": {
    "execution": {
     "iopub.execute_input": "2023-07-20T08:33:41.667557Z",
     "iopub.status.busy": "2023-07-20T08:33:41.667557Z",
     "iopub.status.idle": "2023-07-20T08:55:36.664535Z",
     "shell.execute_reply": "2023-07-20T08:55:36.664535Z",
     "shell.execute_reply.started": "2023-07-20T08:55:30.926683Z"
    },
    "tags": []
   },
   "outputs": [],
   "source": [
    "file_names = ['base10','alpha42','alpha54','alpha60','alpha77','191_alpha004', '191_alpha010', '191_alpha021', '191_alpha070', '191_alpha095', '191_alpha115', \n",
    " '191_alpha124', '191_alpha126', '191_alpha129', '191_alpha132', '191_alpha143', '191_alpha144', \n",
    "  '191_alpha146', '191_alpha150', '191_alpha153', '191_alpha160', '191_alpha161', '191_alpha173', '191_alpha187']\n",
    "\n",
    "temp = []\n",
    "for file in file_names[0:7]:\n",
    "    print(file)\n",
    "    temp.append(load_cache(file+'_train',cache_type=CACHE_TYPE.FACTOR)\n",
    ")\n",
    "\n",
    "data_all = pd.concat(temp,axis=1).sort_index()#.loc[(slice('2017-01-11','2020-12-24'),codes),:]\n",
    "\n"
   ]
  },
  {
   "cell_type": "code",
   "execution_count": 85,
   "id": "583029ae-aadd-42c5-a7a9-ace620f7999e",
   "metadata": {
    "execution": {
     "iopub.execute_input": "2023-07-20T10:49:37.193245Z",
     "iopub.status.busy": "2023-07-20T10:49:37.193245Z",
     "iopub.status.idle": "2023-07-20T10:49:37.209203Z",
     "shell.execute_reply": "2023-07-20T10:49:37.209203Z",
     "shell.execute_reply.started": "2023-07-20T10:49:37.193245Z"
    },
    "tags": []
   },
   "outputs": [],
   "source": [
    "data = data_all.loc[(slice('2018-01-11','2020-12-24'),slice(None))]"
   ]
  },
  {
   "cell_type": "code",
   "execution_count": 91,
   "id": "5eb13201-c78a-4298-b234-66bfc8047d44",
   "metadata": {
    "execution": {
     "iopub.execute_input": "2023-07-20T10:50:28.599596Z",
     "iopub.status.busy": "2023-07-20T10:50:28.599596Z",
     "iopub.status.idle": "2023-07-20T10:50:28.615638Z",
     "shell.execute_reply": "2023-07-20T10:50:28.615638Z",
     "shell.execute_reply.started": "2023-07-20T10:50:28.599596Z"
    },
    "tags": []
   },
   "outputs": [],
   "source": [
    "# codes = data.index.get_level_values(1).unique()\n",
    "# dates = data.index.get_level_values(0).unique()\n",
    "# data_replenish = load_cache_adv('all_train_qfq',\n",
    "#                                 dates.min().strftime('%Y-%m-%d'),\n",
    "#                                 dates.max().strftime('%Y-%m-%d'),\n",
    "#                                 cache_type=CACHE_TYPE.STOCK)\n",
    "\n",
    "# data_replenish = data_replenish.loc[(slice(None),data_replenish.index.get_level_values(1).unique().intersection(codes)),]\n",
    "\n",
    "# ret = smpl.get_forward_return(data_replenish,'close')\n",
    "# ret.name = 'target'\n",
    "# ret[np.abs(ret)>0.15]=np.nan\n",
    "\n",
    "# industy = data_replenish['industry']\n",
    "# industy.name = 'industy'\n",
    "# cap_log = np.log(data_replenish['market_value'])\n",
    "# cap_log.name = 'cap_log'\n",
    "\n",
    "# data = pd.concat([data,industy,cap_log,ret],axis=1).sort_index().dropna()\n",
    "# train_data = data[data.columns[:-1]]\n",
    "# train_target = data[[data.columns[-1]]]"
   ]
  },
  {
   "cell_type": "code",
   "execution_count": 130,
   "id": "867dbab8-0659-4480-86f5-516caeaa12b5",
   "metadata": {
    "execution": {
     "iopub.execute_input": "2023-07-20T11:58:47.880411Z",
     "iopub.status.busy": "2023-07-20T11:58:47.880411Z",
     "iopub.status.idle": "2023-07-20T11:58:48.110883Z",
     "shell.execute_reply": "2023-07-20T11:58:48.110883Z",
     "shell.execute_reply.started": "2023-07-20T11:58:47.880411Z"
    },
    "tags": []
   },
   "outputs": [],
   "source": [
    "X_train,X_test, y_train, y_test =train_test_split(train_data,train_target,test_size=.2, shuffle=False)\n",
    "X_train_group = y_train.groupby(level=0).count()\n",
    "y_test_group = y_test.groupby(level=0).count()"
   ]
  },
  {
   "cell_type": "code",
   "execution_count": null,
   "id": "b24bdecc-2bb4-452c-882b-a1565cd673d8",
   "metadata": {
    "tags": []
   },
   "outputs": [],
   "source": []
  },
  {
   "cell_type": "code",
   "execution_count": 122,
   "id": "6a1f06b5-9fba-4b82-9424-b654dd3afee4",
   "metadata": {
    "execution": {
     "iopub.execute_input": "2023-07-20T11:55:38.199163Z",
     "iopub.status.busy": "2023-07-20T11:55:38.198167Z",
     "iopub.status.idle": "2023-07-20T11:55:38.225150Z",
     "shell.execute_reply": "2023-07-20T11:55:38.225150Z",
     "shell.execute_reply.started": "2023-07-20T11:55:38.199163Z"
    },
    "tags": []
   },
   "outputs": [
    {
     "data": {
      "text/html": [
       "<div>\n",
       "<style scoped>\n",
       "    .dataframe tbody tr th:only-of-type {\n",
       "        vertical-align: middle;\n",
       "    }\n",
       "\n",
       "    .dataframe tbody tr th {\n",
       "        vertical-align: top;\n",
       "    }\n",
       "\n",
       "    .dataframe thead th {\n",
       "        text-align: right;\n",
       "    }\n",
       "</style>\n",
       "<table border=\"1\" class=\"dataframe\">\n",
       "  <thead>\n",
       "    <tr style=\"text-align: right;\">\n",
       "      <th></th>\n",
       "      <th>target</th>\n",
       "    </tr>\n",
       "    <tr>\n",
       "      <th>date</th>\n",
       "      <th></th>\n",
       "    </tr>\n",
       "  </thead>\n",
       "  <tbody>\n",
       "    <tr>\n",
       "      <th>2020-06-29</th>\n",
       "      <td>2474</td>\n",
       "    </tr>\n",
       "    <tr>\n",
       "      <th>2020-06-30</th>\n",
       "      <td>2591</td>\n",
       "    </tr>\n",
       "    <tr>\n",
       "      <th>2020-07-01</th>\n",
       "      <td>2594</td>\n",
       "    </tr>\n",
       "    <tr>\n",
       "      <th>2020-07-02</th>\n",
       "      <td>2594</td>\n",
       "    </tr>\n",
       "    <tr>\n",
       "      <th>2020-07-03</th>\n",
       "      <td>2594</td>\n",
       "    </tr>\n",
       "    <tr>\n",
       "      <th>...</th>\n",
       "      <td>...</td>\n",
       "    </tr>\n",
       "    <tr>\n",
       "      <th>2020-12-17</th>\n",
       "      <td>2631</td>\n",
       "    </tr>\n",
       "    <tr>\n",
       "      <th>2020-12-18</th>\n",
       "      <td>2630</td>\n",
       "    </tr>\n",
       "    <tr>\n",
       "      <th>2020-12-21</th>\n",
       "      <td>2632</td>\n",
       "    </tr>\n",
       "    <tr>\n",
       "      <th>2020-12-22</th>\n",
       "      <td>2630</td>\n",
       "    </tr>\n",
       "    <tr>\n",
       "      <th>2020-12-23</th>\n",
       "      <td>2631</td>\n",
       "    </tr>\n",
       "  </tbody>\n",
       "</table>\n",
       "<p>122 rows × 1 columns</p>\n",
       "</div>"
      ],
      "text/plain": [
       "            target\n",
       "date              \n",
       "2020-06-29    2474\n",
       "2020-06-30    2591\n",
       "2020-07-01    2594\n",
       "2020-07-02    2594\n",
       "2020-07-03    2594\n",
       "...            ...\n",
       "2020-12-17    2631\n",
       "2020-12-18    2630\n",
       "2020-12-21    2632\n",
       "2020-12-22    2630\n",
       "2020-12-23    2631\n",
       "\n",
       "[122 rows x 1 columns]"
      ]
     },
     "execution_count": 122,
     "metadata": {},
     "output_type": "execute_result"
    }
   ],
   "source": [
    "# y_test['day']= y_test.index.get_level_values(0)\n"
   ]
  },
  {
   "cell_type": "code",
   "execution_count": 117,
   "id": "7259b8f9-0835-4a8f-9e5d-f096cb658e6e",
   "metadata": {
    "execution": {
     "iopub.execute_input": "2023-07-20T11:48:07.981485Z",
     "iopub.status.busy": "2023-07-20T11:48:07.981485Z",
     "iopub.status.idle": "2023-07-20T11:48:08.011473Z",
     "shell.execute_reply": "2023-07-20T11:48:08.011473Z",
     "shell.execute_reply.started": "2023-07-20T11:48:07.981485Z"
    },
    "tags": []
   },
   "outputs": [
    {
     "data": {
      "text/html": [
       "<div>\n",
       "<style scoped>\n",
       "    .dataframe tbody tr th:only-of-type {\n",
       "        vertical-align: middle;\n",
       "    }\n",
       "\n",
       "    .dataframe tbody tr th {\n",
       "        vertical-align: top;\n",
       "    }\n",
       "\n",
       "    .dataframe thead th {\n",
       "        text-align: right;\n",
       "    }\n",
       "</style>\n",
       "<table border=\"1\" class=\"dataframe\">\n",
       "  <thead>\n",
       "    <tr style=\"text-align: right;\">\n",
       "      <th></th>\n",
       "      <th>target</th>\n",
       "      <th>day</th>\n",
       "    </tr>\n",
       "    <tr>\n",
       "      <th>date</th>\n",
       "      <th></th>\n",
       "      <th></th>\n",
       "    </tr>\n",
       "  </thead>\n",
       "  <tbody>\n",
       "    <tr>\n",
       "      <th>2020-06-29</th>\n",
       "      <td>2474</td>\n",
       "      <td>2474</td>\n",
       "    </tr>\n",
       "    <tr>\n",
       "      <th>2020-06-30</th>\n",
       "      <td>2591</td>\n",
       "      <td>2591</td>\n",
       "    </tr>\n",
       "    <tr>\n",
       "      <th>2020-07-01</th>\n",
       "      <td>2594</td>\n",
       "      <td>2594</td>\n",
       "    </tr>\n",
       "    <tr>\n",
       "      <th>2020-07-02</th>\n",
       "      <td>2594</td>\n",
       "      <td>2594</td>\n",
       "    </tr>\n",
       "    <tr>\n",
       "      <th>2020-07-03</th>\n",
       "      <td>2594</td>\n",
       "      <td>2594</td>\n",
       "    </tr>\n",
       "    <tr>\n",
       "      <th>...</th>\n",
       "      <td>...</td>\n",
       "      <td>...</td>\n",
       "    </tr>\n",
       "    <tr>\n",
       "      <th>2020-12-17</th>\n",
       "      <td>2631</td>\n",
       "      <td>2631</td>\n",
       "    </tr>\n",
       "    <tr>\n",
       "      <th>2020-12-18</th>\n",
       "      <td>2630</td>\n",
       "      <td>2630</td>\n",
       "    </tr>\n",
       "    <tr>\n",
       "      <th>2020-12-21</th>\n",
       "      <td>2632</td>\n",
       "      <td>2632</td>\n",
       "    </tr>\n",
       "    <tr>\n",
       "      <th>2020-12-22</th>\n",
       "      <td>2630</td>\n",
       "      <td>2630</td>\n",
       "    </tr>\n",
       "    <tr>\n",
       "      <th>2020-12-23</th>\n",
       "      <td>2631</td>\n",
       "      <td>2631</td>\n",
       "    </tr>\n",
       "  </tbody>\n",
       "</table>\n",
       "<p>122 rows × 2 columns</p>\n",
       "</div>"
      ],
      "text/plain": [
       "            target   day\n",
       "date                    \n",
       "2020-06-29    2474  2474\n",
       "2020-06-30    2591  2591\n",
       "2020-07-01    2594  2594\n",
       "2020-07-02    2594  2594\n",
       "2020-07-03    2594  2594\n",
       "...            ...   ...\n",
       "2020-12-17    2631  2631\n",
       "2020-12-18    2630  2630\n",
       "2020-12-21    2632  2632\n",
       "2020-12-22    2630  2630\n",
       "2020-12-23    2631  2631\n",
       "\n",
       "[122 rows x 2 columns]"
      ]
     },
     "execution_count": 117,
     "metadata": {},
     "output_type": "execute_result"
    }
   ],
   "source": [
    "y_test.groupby(level=0).count() "
   ]
  }
 ],
 "metadata": {
  "kernelspec": {
   "display_name": "Python 3 (ipykernel)",
   "language": "python",
   "name": "python3"
  },
  "language_info": {
   "codemirror_mode": {
    "name": "ipython",
    "version": 3
   },
   "file_extension": ".py",
   "mimetype": "text/x-python",
   "name": "python",
   "nbconvert_exporter": "python",
   "pygments_lexer": "ipython3",
   "version": "3.9.7"
  }
 },
 "nbformat": 4,
 "nbformat_minor": 5
}
