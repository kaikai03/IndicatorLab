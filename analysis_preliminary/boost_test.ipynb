{
 "cells": [
  {
   "cell_type": "code",
   "execution_count": 225,
   "id": "6ad1e658-30c4-4e22-823f-c84fc2919017",
   "metadata": {
    "execution": {
     "iopub.execute_input": "2023-07-21T05:16:44.403603Z",
     "iopub.status.busy": "2023-07-21T05:16:44.402930Z",
     "iopub.status.idle": "2023-07-21T05:16:44.422672Z",
     "shell.execute_reply": "2023-07-21T05:16:44.422672Z",
     "shell.execute_reply.started": "2023-07-21T05:16:44.403603Z"
    },
    "tags": []
   },
   "outputs": [],
   "source": [
    "import sys\n",
    "import os \n",
    "module_path = os.path.abspath(os.path.join('..')) \n",
    "if module_path not in sys.path: \n",
    "    sys.path.append(module_path)\n",
    "\n",
    "import pandas as pd  \n",
    "import numpy as np  \n",
    "import copy\n",
    "\n",
    "import tools.Sample_Tools as smpl\n",
    "from tools.Cacher import (CACHE_TYPE, save_cache,load_cache_adv,load_cache)\n",
    "\n",
    "\n",
    "import matplotlib.pyplot as plt\n",
    "import seaborn as sns\n",
    "\n",
    "# from base.JuUnits import parallal_task,task_chunk_split\n",
    "# from base.JuUnits import excute_for_multidates\n",
    "\n",
    "# from sklearn.decomposition import FactorAnalysis\n",
    "# from factor_analyzer import FactorAnalyzer\n",
    "# from factor_analyzer.factor_analyzer import calculate_bartlett_sphericity,calculate_kmo\n",
    "\n",
    "# import inspect\n",
    "import warnings\n",
    "from sklearn.model_selection import train_test_split\n",
    "\n",
    "from catboost import CatBoost\n",
    "from catboost import CatBoostRanker, Pool, MetricVisualizer\n"
   ]
  },
  {
   "cell_type": "code",
   "execution_count": 16,
   "id": "1dbb2b5b-92ee-4517-a192-669afb2ad20a",
   "metadata": {
    "execution": {
     "iopub.execute_input": "2023-07-20T08:33:41.667557Z",
     "iopub.status.busy": "2023-07-20T08:33:41.667557Z",
     "iopub.status.idle": "2023-07-20T08:55:36.664535Z",
     "shell.execute_reply": "2023-07-20T08:55:36.664535Z",
     "shell.execute_reply.started": "2023-07-20T08:55:30.926683Z"
    },
    "tags": []
   },
   "outputs": [],
   "source": [
    "file_names = ['base10','alpha42','alpha54','alpha60','alpha77','191_alpha004', '191_alpha010', '191_alpha021', '191_alpha070', '191_alpha095', '191_alpha115', \n",
    " '191_alpha124', '191_alpha126', '191_alpha129', '191_alpha132', '191_alpha143', '191_alpha144', \n",
    "  '191_alpha146', '191_alpha150', '191_alpha153', '191_alpha160', '191_alpha161', '191_alpha173', '191_alpha187']\n",
    "\n",
    "temp = []\n",
    "for file in file_names[0:7]:\n",
    "    print(file)\n",
    "    temp.append(load_cache(file+'_train',cache_type=CACHE_TYPE.FACTOR)\n",
    ")\n",
    "\n",
    "data_all = pd.concat(temp,axis=1).sort_index()#.loc[(slice('2017-01-11','2020-12-24'),codes),:]\n",
    "\n"
   ]
  },
  {
   "cell_type": "code",
   "execution_count": 181,
   "id": "583029ae-aadd-42c5-a7a9-ace620f7999e",
   "metadata": {
    "execution": {
     "iopub.execute_input": "2023-07-21T02:19:02.313090Z",
     "iopub.status.busy": "2023-07-21T02:19:02.313090Z",
     "iopub.status.idle": "2023-07-21T02:19:02.322066Z",
     "shell.execute_reply": "2023-07-21T02:19:02.322066Z",
     "shell.execute_reply.started": "2023-07-21T02:19:02.313090Z"
    },
    "tags": []
   },
   "outputs": [],
   "source": [
    "data_slice = data_all.loc[(slice('2018-01-11','2020-12-24'),slice(None))]"
   ]
  },
  {
   "cell_type": "code",
   "execution_count": 182,
   "id": "5eb13201-c78a-4298-b234-66bfc8047d44",
   "metadata": {
    "execution": {
     "iopub.execute_input": "2023-07-21T02:19:36.239218Z",
     "iopub.status.busy": "2023-07-21T02:19:36.239218Z",
     "iopub.status.idle": "2023-07-21T02:19:47.131215Z",
     "shell.execute_reply": "2023-07-21T02:19:47.131018Z",
     "shell.execute_reply.started": "2023-07-21T02:19:36.239218Z"
    },
    "tags": []
   },
   "outputs": [],
   "source": [
    "codes = data_slice.index.get_level_values(1).unique()\n",
    "dates = data_slice.index.get_level_values(0).unique()\n",
    "data_replenish = load_cache_adv('all_train_qfq',\n",
    "                                dates.min().strftime('%Y-%m-%d'),\n",
    "                                dates.max().strftime('%Y-%m-%d'),\n",
    "                                cache_type=CACHE_TYPE.STOCK)\n",
    "\n",
    "data_replenish = data_replenish.loc[(slice(None),data_replenish.index.get_level_values(1).unique().intersection(codes)),]\n",
    "\n",
    "ret = smpl.get_forward_return(data_replenish,'close')\n",
    "ret.name = 'target'\n",
    "ret[np.abs(ret)>0.15]=np.nan\n",
    "\n",
    "industy = data_replenish['industry']\n",
    "industy.name = 'industy'\n",
    "\n",
    "cap_log = np.log(data_replenish['market_value'])\n",
    "cap_log.name = 'cap_log'\n",
    "\n",
    "\n",
    "data = pd.concat([data_slice,industy,cap_log,ret],axis=1).sort_index().dropna()\n",
    "\n"
   ]
  },
  {
   "cell_type": "code",
   "execution_count": 183,
   "id": "867dbab8-0659-4480-86f5-516caeaa12b5",
   "metadata": {
    "execution": {
     "iopub.execute_input": "2023-07-21T02:19:49.473163Z",
     "iopub.status.busy": "2023-07-21T02:19:49.473163Z",
     "iopub.status.idle": "2023-07-21T02:19:50.626582Z",
     "shell.execute_reply": "2023-07-21T02:19:50.626582Z",
     "shell.execute_reply.started": "2023-07-21T02:19:49.473163Z"
    },
    "tags": []
   },
   "outputs": [],
   "source": [
    "data['industy'] = data['industy'].astype('string')\n",
    "data['191_alpha004'] = data['191_alpha004'].astype('int')\n",
    "train_data = data[data.columns[:-1]]\n",
    "train_target = data[[data.columns[-1]]]\n",
    "\n",
    "\n",
    "X_train,X_test, y_train, y_test =train_test_split(train_data,train_target,test_size=.2, shuffle=False)\n",
    "# X_train_group = y_train.groupby(level=0).count()\n",
    "# X_train.nunique()\n",
    "X_train_group = y_train.index.get_level_values(0).strftime('%Y-%m-%d').tolist()\n",
    "y_test_group = y_test.index.get_level_values(0).strftime('%Y-%m-%d').tolist()"
   ]
  },
  {
   "cell_type": "code",
   "execution_count": 185,
   "id": "76b321ab-7efd-444f-9dfb-5654be3034eb",
   "metadata": {
    "execution": {
     "iopub.execute_input": "2023-07-21T02:20:00.183631Z",
     "iopub.status.busy": "2023-07-21T02:20:00.183226Z",
     "iopub.status.idle": "2023-07-21T02:20:00.186194Z",
     "shell.execute_reply": "2023-07-21T02:20:00.186194Z",
     "shell.execute_reply.started": "2023-07-21T02:20:00.183631Z"
    },
    "tags": []
   },
   "outputs": [],
   "source": [
    "# X_train"
   ]
  },
  {
   "cell_type": "code",
   "execution_count": 184,
   "id": "b24bdecc-2bb4-452c-882b-a1565cd673d8",
   "metadata": {
    "execution": {
     "iopub.execute_input": "2023-07-21T02:19:55.859686Z",
     "iopub.status.busy": "2023-07-21T02:19:55.859175Z",
     "iopub.status.idle": "2023-07-21T02:19:57.194996Z",
     "shell.execute_reply": "2023-07-21T02:19:57.194996Z",
     "shell.execute_reply.started": "2023-07-21T02:19:55.859686Z"
    },
    "tags": []
   },
   "outputs": [],
   "source": [
    "categorical_features_names = ['191_alpha004', 'industy']\n",
    "train_p = Pool(\n",
    "    data=X_train,\n",
    "    label=y_train,\n",
    "    group_id=X_train_group,\n",
    "    cat_features=categorical_features_names\n",
    ")\n",
    "\n",
    "test_p = Pool(\n",
    "    data=X_test,\n",
    "    label=y_test,\n",
    "    group_id=y_test_group,\n",
    "    cat_features=categorical_features_names\n",
    ")"
   ]
  },
  {
   "cell_type": "code",
   "execution_count": 290,
   "id": "7259b8f9-0835-4a8f-9e5d-f096cb658e6e",
   "metadata": {
    "execution": {
     "iopub.execute_input": "2023-07-21T07:32:29.348265Z",
     "iopub.status.busy": "2023-07-21T07:32:29.348265Z",
     "iopub.status.idle": "2023-07-21T07:32:29.357242Z",
     "shell.execute_reply": "2023-07-21T07:32:29.356337Z",
     "shell.execute_reply.started": "2023-07-21T07:32:29.348265Z"
    },
    "tags": []
   },
   "outputs": [],
   "source": [
    "default_parameters = {\n",
    "    'learning_rate': .05,\n",
    "    'iterations': 50,\n",
    "    'custom_metric': None,\n",
    "    'verbose': False,\n",
    "    'random_seed': 0,\n",
    "    'use_best_model':True,\n",
    "    'early_stopping_rounds': 25,\n",
    "}\n",
    "\n",
    "\n",
    "\n",
    "def fit_model(loss_function, train_pool, test_pool, additional_params=None, verbose=False):\n",
    "    parameters = copy.deepcopy(default_parameters)\n",
    "    parameters['loss_function'] = loss_function\n",
    "    parameters['train_dir'] = loss_function\n",
    "    parameters['verbose'] = verbose\n",
    "    \n",
    "    if additional_params is not None:\n",
    "        parameters.update(additional_params)\n",
    "        \n",
    "    # mod = CatBoostRanker(**parameters)\n",
    "    mod = CatBoost(parameters)\n",
    "    \n",
    "    mod.fit(train_pool, eval_set=test_pool, plot=True)\n",
    "    \n",
    "    return mod\n",
    "\n"
   ]
  },
  {
   "cell_type": "code",
   "execution_count": null,
   "id": "ee53e17d-a7e0-4326-ad74-ca9daefd956c",
   "metadata": {
    "tags": []
   },
   "outputs": [],
   "source": []
  },
  {
   "cell_type": "code",
   "execution_count": 325,
   "id": "51e4d983-8b7a-43e1-a0c9-34bc13b322b9",
   "metadata": {
    "execution": {
     "iopub.execute_input": "2023-07-21T08:57:36.466353Z",
     "iopub.status.busy": "2023-07-21T08:57:36.466353Z",
     "iopub.status.idle": "2023-07-21T08:57:36.960764Z",
     "shell.execute_reply": "2023-07-21T08:57:36.959416Z",
     "shell.execute_reply.started": "2023-07-21T08:57:36.466353Z"
    },
    "tags": []
   },
   "outputs": [
    {
     "data": {
      "application/vnd.jupyter.widget-view+json": {
       "model_id": "7289e9fcb767403c86766f83508592e5",
       "version_major": 2,
       "version_minor": 0
      },
      "text/plain": [
       "MetricVisualizer(layout=Layout(align_self='stretch', height='500px'))"
      ]
     },
     "metadata": {},
     "output_type": "display_data"
    },
    {
     "ename": "CatBoostError",
     "evalue": "C:/Go_Agent/pipelines/BuildMaster/catboost.git/catboost/private/libs/target/target_converter.cpp:379: Target with classes must contain only 2 unique values for binary classification",
     "output_type": "error",
     "traceback": [
      "\u001b[1;31m---------------------------------------------------------------------------\u001b[0m",
      "\u001b[1;31mCatBoostError\u001b[0m                             Traceback (most recent call last)",
      "\u001b[1;32m~\\AppData\\Local\\Temp/ipykernel_26472/2308877203.py\u001b[0m in \u001b[0;36m<module>\u001b[1;34m\u001b[0m\n\u001b[0;32m      6\u001b[0m \u001b[1;33m\u001b[0m\u001b[0m\n\u001b[0;32m      7\u001b[0m \u001b[1;31m# 'YetiRank' 'RMSE'\u001b[0m\u001b[1;33m\u001b[0m\u001b[1;33m\u001b[0m\u001b[0m\n\u001b[1;32m----> 8\u001b[1;33m \u001b[0mmodel\u001b[0m \u001b[1;33m=\u001b[0m \u001b[0mfit_model\u001b[0m\u001b[1;33m(\u001b[0m\u001b[1;34m'RMSE'\u001b[0m\u001b[1;33m,\u001b[0m \u001b[0mtrain_p\u001b[0m\u001b[1;33m,\u001b[0m \u001b[0mtest_p\u001b[0m\u001b[1;33m,\u001b[0m \u001b[0mparameters\u001b[0m\u001b[1;33m,\u001b[0m \u001b[0mverbose\u001b[0m\u001b[1;33m=\u001b[0m\u001b[1;32mTrue\u001b[0m\u001b[1;33m)\u001b[0m\u001b[1;33m\u001b[0m\u001b[1;33m\u001b[0m\u001b[0m\n\u001b[0m",
      "\u001b[1;32m~\\AppData\\Local\\Temp/ipykernel_26472/2062089065.py\u001b[0m in \u001b[0;36mfit_model\u001b[1;34m(loss_function, train_pool, test_pool, additional_params, verbose)\u001b[0m\n\u001b[0;32m     23\u001b[0m     \u001b[0mmod\u001b[0m \u001b[1;33m=\u001b[0m \u001b[0mCatBoost\u001b[0m\u001b[1;33m(\u001b[0m\u001b[0mparameters\u001b[0m\u001b[1;33m)\u001b[0m\u001b[1;33m\u001b[0m\u001b[1;33m\u001b[0m\u001b[0m\n\u001b[0;32m     24\u001b[0m \u001b[1;33m\u001b[0m\u001b[0m\n\u001b[1;32m---> 25\u001b[1;33m     \u001b[0mmod\u001b[0m\u001b[1;33m.\u001b[0m\u001b[0mfit\u001b[0m\u001b[1;33m(\u001b[0m\u001b[0mtrain_pool\u001b[0m\u001b[1;33m,\u001b[0m \u001b[0meval_set\u001b[0m\u001b[1;33m=\u001b[0m\u001b[0mtest_pool\u001b[0m\u001b[1;33m,\u001b[0m \u001b[0mplot\u001b[0m\u001b[1;33m=\u001b[0m\u001b[1;32mTrue\u001b[0m\u001b[1;33m)\u001b[0m\u001b[1;33m\u001b[0m\u001b[1;33m\u001b[0m\u001b[0m\n\u001b[0m\u001b[0;32m     26\u001b[0m \u001b[1;33m\u001b[0m\u001b[0m\n\u001b[0;32m     27\u001b[0m     \u001b[1;32mreturn\u001b[0m \u001b[0mmod\u001b[0m\u001b[1;33m\u001b[0m\u001b[1;33m\u001b[0m\u001b[0m\n",
      "\u001b[1;32mD:\\Anaconda3\\lib\\site-packages\\catboost\\core.py\u001b[0m in \u001b[0;36mfit\u001b[1;34m(self, X, y, cat_features, text_features, embedding_features, pairs, sample_weight, group_id, group_weight, subgroup_id, pairs_weight, baseline, use_best_model, eval_set, verbose, logging_level, plot, plot_file, column_description, verbose_eval, metric_period, silent, early_stopping_rounds, save_snapshot, snapshot_file, snapshot_interval, init_model, callbacks, log_cout, log_cerr)\u001b[0m\n\u001b[0;32m   2510\u001b[0m         \u001b[0mmodel\u001b[0m \u001b[1;33m:\u001b[0m \u001b[0mCatBoost\u001b[0m\u001b[1;33m\u001b[0m\u001b[1;33m\u001b[0m\u001b[0m\n\u001b[0;32m   2511\u001b[0m         \"\"\"\n\u001b[1;32m-> 2512\u001b[1;33m         return self._fit(X, y, cat_features, text_features, embedding_features, pairs, sample_weight, group_id, group_weight, subgroup_id,\n\u001b[0m\u001b[0;32m   2513\u001b[0m                          \u001b[0mpairs_weight\u001b[0m\u001b[1;33m,\u001b[0m \u001b[0mbaseline\u001b[0m\u001b[1;33m,\u001b[0m \u001b[0muse_best_model\u001b[0m\u001b[1;33m,\u001b[0m \u001b[0meval_set\u001b[0m\u001b[1;33m,\u001b[0m \u001b[0mverbose\u001b[0m\u001b[1;33m,\u001b[0m \u001b[0mlogging_level\u001b[0m\u001b[1;33m,\u001b[0m \u001b[0mplot\u001b[0m\u001b[1;33m,\u001b[0m \u001b[0mplot_file\u001b[0m\u001b[1;33m,\u001b[0m\u001b[1;33m\u001b[0m\u001b[1;33m\u001b[0m\u001b[0m\n\u001b[0;32m   2514\u001b[0m                          \u001b[0mcolumn_description\u001b[0m\u001b[1;33m,\u001b[0m \u001b[0mverbose_eval\u001b[0m\u001b[1;33m,\u001b[0m \u001b[0mmetric_period\u001b[0m\u001b[1;33m,\u001b[0m \u001b[0msilent\u001b[0m\u001b[1;33m,\u001b[0m \u001b[0mearly_stopping_rounds\u001b[0m\u001b[1;33m,\u001b[0m\u001b[1;33m\u001b[0m\u001b[1;33m\u001b[0m\u001b[0m\n",
      "\u001b[1;32mD:\\Anaconda3\\lib\\site-packages\\catboost\\core.py\u001b[0m in \u001b[0;36m_fit\u001b[1;34m(self, X, y, cat_features, text_features, embedding_features, pairs, sample_weight, group_id, group_weight, subgroup_id, pairs_weight, baseline, use_best_model, eval_set, verbose, logging_level, plot, plot_file, column_description, verbose_eval, metric_period, silent, early_stopping_rounds, save_snapshot, snapshot_file, snapshot_interval, init_model, callbacks, log_cout, log_cerr)\u001b[0m\n\u001b[0;32m   2355\u001b[0m         \u001b[1;32mwith\u001b[0m \u001b[0mlog_fixup\u001b[0m\u001b[1;33m(\u001b[0m\u001b[0mlog_cout\u001b[0m\u001b[1;33m,\u001b[0m \u001b[0mlog_cerr\u001b[0m\u001b[1;33m)\u001b[0m\u001b[1;33m,\u001b[0m\u001b[0;31m \u001b[0m\u001b[0;31m\\\u001b[0m\u001b[1;33m\u001b[0m\u001b[1;33m\u001b[0m\u001b[0m\n\u001b[0;32m   2356\u001b[0m             \u001b[0mplot_wrapper\u001b[0m\u001b[1;33m(\u001b[0m\u001b[0mplot\u001b[0m\u001b[1;33m,\u001b[0m \u001b[0mplot_file\u001b[0m\u001b[1;33m,\u001b[0m \u001b[1;34m'Training plots'\u001b[0m\u001b[1;33m,\u001b[0m \u001b[1;33m[\u001b[0m\u001b[0m_get_train_dir\u001b[0m\u001b[1;33m(\u001b[0m\u001b[0mself\u001b[0m\u001b[1;33m.\u001b[0m\u001b[0mget_params\u001b[0m\u001b[1;33m(\u001b[0m\u001b[1;33m)\u001b[0m\u001b[1;33m)\u001b[0m\u001b[1;33m]\u001b[0m\u001b[1;33m)\u001b[0m\u001b[1;33m:\u001b[0m\u001b[1;33m\u001b[0m\u001b[1;33m\u001b[0m\u001b[0m\n\u001b[1;32m-> 2357\u001b[1;33m             self._train(\n\u001b[0m\u001b[0;32m   2358\u001b[0m                 \u001b[0mtrain_pool\u001b[0m\u001b[1;33m,\u001b[0m\u001b[1;33m\u001b[0m\u001b[1;33m\u001b[0m\u001b[0m\n\u001b[0;32m   2359\u001b[0m                 \u001b[0mtrain_params\u001b[0m\u001b[1;33m[\u001b[0m\u001b[1;34m\"eval_sets\"\u001b[0m\u001b[1;33m]\u001b[0m\u001b[1;33m,\u001b[0m\u001b[1;33m\u001b[0m\u001b[1;33m\u001b[0m\u001b[0m\n",
      "\u001b[1;32mD:\\Anaconda3\\lib\\site-packages\\catboost\\core.py\u001b[0m in \u001b[0;36m_train\u001b[1;34m(self, train_pool, test_pool, params, allow_clear_pool, init_model)\u001b[0m\n\u001b[0;32m   1759\u001b[0m \u001b[1;33m\u001b[0m\u001b[0m\n\u001b[0;32m   1760\u001b[0m     \u001b[1;32mdef\u001b[0m \u001b[0m_train\u001b[0m\u001b[1;33m(\u001b[0m\u001b[0mself\u001b[0m\u001b[1;33m,\u001b[0m \u001b[0mtrain_pool\u001b[0m\u001b[1;33m,\u001b[0m \u001b[0mtest_pool\u001b[0m\u001b[1;33m,\u001b[0m \u001b[0mparams\u001b[0m\u001b[1;33m,\u001b[0m \u001b[0mallow_clear_pool\u001b[0m\u001b[1;33m,\u001b[0m \u001b[0minit_model\u001b[0m\u001b[1;33m)\u001b[0m\u001b[1;33m:\u001b[0m\u001b[1;33m\u001b[0m\u001b[1;33m\u001b[0m\u001b[0m\n\u001b[1;32m-> 1761\u001b[1;33m         \u001b[0mself\u001b[0m\u001b[1;33m.\u001b[0m\u001b[0m_object\u001b[0m\u001b[1;33m.\u001b[0m\u001b[0m_train\u001b[0m\u001b[1;33m(\u001b[0m\u001b[0mtrain_pool\u001b[0m\u001b[1;33m,\u001b[0m \u001b[0mtest_pool\u001b[0m\u001b[1;33m,\u001b[0m \u001b[0mparams\u001b[0m\u001b[1;33m,\u001b[0m \u001b[0mallow_clear_pool\u001b[0m\u001b[1;33m,\u001b[0m \u001b[0minit_model\u001b[0m\u001b[1;33m.\u001b[0m\u001b[0m_object\u001b[0m \u001b[1;32mif\u001b[0m \u001b[0minit_model\u001b[0m \u001b[1;32melse\u001b[0m \u001b[1;32mNone\u001b[0m\u001b[1;33m)\u001b[0m\u001b[1;33m\u001b[0m\u001b[1;33m\u001b[0m\u001b[0m\n\u001b[0m\u001b[0;32m   1762\u001b[0m         \u001b[0mself\u001b[0m\u001b[1;33m.\u001b[0m\u001b[0m_set_trained_model_attributes\u001b[0m\u001b[1;33m(\u001b[0m\u001b[1;33m)\u001b[0m\u001b[1;33m\u001b[0m\u001b[1;33m\u001b[0m\u001b[0m\n\u001b[0;32m   1763\u001b[0m \u001b[1;33m\u001b[0m\u001b[0m\n",
      "\u001b[1;32m_catboost.pyx\u001b[0m in \u001b[0;36m_catboost._CatBoost._train\u001b[1;34m()\u001b[0m\n",
      "\u001b[1;32m_catboost.pyx\u001b[0m in \u001b[0;36m_catboost._CatBoost._train\u001b[1;34m()\u001b[0m\n",
      "\u001b[1;31mCatBoostError\u001b[0m: C:/Go_Agent/pipelines/BuildMaster/catboost.git/catboost/private/libs/target/target_converter.cpp:379: Target with classes must contain only 2 unique values for binary classification"
     ]
    }
   ],
   "source": [
    "# parameters = {'custom_metric': ['PrecisionAt:top=10', 'RecallAt:top=10', 'MAP:top=10']}\n",
    "# parameters = {'custom_metric': ['PFound',  'AverageGain:top=10'],}\n",
    "# parameters = {'custom_metric': ['NDCG',  'AverageGain:top=100'],}\n",
    "# parameters={'learning_rate': .1,'custom_metric': ['NDCG:type=ranking',  'AverageGain:top=1000'],'eval_metric':'AUC:type=Ranking','one_hot_max_size': X_train['industy'].nunique()}\n",
    "parameters={'learning_rate': .1,'custom_metric': ['NDCG', 'AverageGain:top=1000'],'eval_metric':'Logloss','one_hot_max_size': X_train['industy'].nunique()}\n",
    "\n",
    "# 'YetiRank' 'RMSE'\n",
    "model = fit_model('RMSE', train_p, test_p, parameters, verbose=True)"
   ]
  },
  {
   "cell_type": "code",
   "execution_count": 302,
   "id": "63280ee5-4561-4be2-acb2-d34d2e56e173",
   "metadata": {
    "execution": {
     "iopub.execute_input": "2023-07-21T08:22:06.142170Z",
     "iopub.status.busy": "2023-07-21T08:22:06.141589Z",
     "iopub.status.idle": "2023-07-21T08:22:06.168319Z",
     "shell.execute_reply": "2023-07-21T08:22:06.168319Z",
     "shell.execute_reply.started": "2023-07-21T08:22:06.142170Z"
    },
    "tags": []
   },
   "outputs": [
    {
     "data": {
      "text/plain": [
       "array([-0.03088938,  0.11179415, -0.11789988,  0.05019727, -0.03518652,\n",
       "        0.16457119,  0.01458887,  0.0849922 ,  0.03207335, -0.0489555 ])"
      ]
     },
     "execution_count": 302,
     "metadata": {},
     "output_type": "execute_result"
    }
   ],
   "source": [
    "# for i in range(10):\n",
    "#     print(model.predict(Pool(X_test.iloc[i], cat_features=categorical_features_names)),y_test.iloc[i].values[0])\n",
    "\n",
    "    \n",
    "    \n",
    "\n",
    "y_pred = model.predict(Pool(data=X_test.iloc[0:10], cat_features=categorical_features_names)  )  \n",
    "rank = y_pred.argsort()\n",
    "y_pred"
   ]
  },
  {
   "cell_type": "code",
   "execution_count": 303,
   "id": "d5b8ec53-e06b-499d-b244-179cbf7e72d5",
   "metadata": {
    "execution": {
     "iopub.execute_input": "2023-07-21T08:22:07.860788Z",
     "iopub.status.busy": "2023-07-21T08:22:07.860788Z",
     "iopub.status.idle": "2023-07-21T08:22:07.878791Z",
     "shell.execute_reply": "2023-07-21T08:22:07.878791Z",
     "shell.execute_reply.started": "2023-07-21T08:22:07.860788Z"
    },
    "tags": []
   },
   "outputs": [
    {
     "data": {
      "text/plain": [
       "array([2, 9, 4, 0, 6, 8, 3, 7, 1, 5], dtype=int64)"
      ]
     },
     "execution_count": 303,
     "metadata": {},
     "output_type": "execute_result"
    }
   ],
   "source": [
    "rank"
   ]
  },
  {
   "cell_type": "code",
   "execution_count": 278,
   "id": "9f9f1889-6841-4eaf-a636-6e3c743e6fbf",
   "metadata": {
    "execution": {
     "iopub.execute_input": "2023-07-21T06:34:54.921371Z",
     "iopub.status.busy": "2023-07-21T06:34:54.920741Z",
     "iopub.status.idle": "2023-07-21T06:34:54.933722Z",
     "shell.execute_reply": "2023-07-21T06:34:54.933722Z",
     "shell.execute_reply.started": "2023-07-21T06:34:54.921371Z"
    },
    "tags": []
   },
   "outputs": [
    {
     "data": {
      "text/plain": [
       "array([0, 5, 1, 2, 3, 7, 4, 8, 9, 6], dtype=int64)"
      ]
     },
     "execution_count": 278,
     "metadata": {},
     "output_type": "execute_result"
    }
   ],
   "source": [
    "y_test.iloc[0:10].values.squeeze().argsort()"
   ]
  },
  {
   "cell_type": "code",
   "execution_count": 316,
   "id": "972a1985-2ebb-4941-9639-94c931068520",
   "metadata": {
    "execution": {
     "iopub.execute_input": "2023-07-21T08:32:20.149794Z",
     "iopub.status.busy": "2023-07-21T08:32:20.149794Z",
     "iopub.status.idle": "2023-07-21T08:32:20.162609Z",
     "shell.execute_reply": "2023-07-21T08:32:20.162609Z",
     "shell.execute_reply.started": "2023-07-21T08:32:20.149794Z"
    },
    "tags": []
   },
   "outputs": [
    {
     "data": {
      "text/plain": [
       "array([-0.00058625,  0.00312672,  0.00098885,  0.0001612 , -0.00044387,\n",
       "        0.00625504, -0.00032452,  0.00181612,  0.00017939,  0.00039243])"
      ]
     },
     "execution_count": 316,
     "metadata": {},
     "output_type": "execute_result"
    }
   ],
   "source": [
    "y_pred = model.predict(Pool(data=X_test.iloc[0:10], cat_features=categorical_features_names)  )  \n",
    "rank = y_pred.argsort()\n",
    "y_pred"
   ]
  },
  {
   "cell_type": "code",
   "execution_count": 317,
   "id": "e01d69bf-7fdc-4b57-ab8a-7a791a891428",
   "metadata": {
    "execution": {
     "iopub.execute_input": "2023-07-21T08:32:21.400796Z",
     "iopub.status.busy": "2023-07-21T08:32:21.400796Z",
     "iopub.status.idle": "2023-07-21T08:32:21.412846Z",
     "shell.execute_reply": "2023-07-21T08:32:21.412846Z",
     "shell.execute_reply.started": "2023-07-21T08:32:21.400796Z"
    },
    "tags": []
   },
   "outputs": [
    {
     "data": {
      "text/plain": [
       "array([0, 4, 6, 3, 8, 9, 2, 7, 1, 5], dtype=int64)"
      ]
     },
     "execution_count": 317,
     "metadata": {},
     "output_type": "execute_result"
    }
   ],
   "source": [
    "rank"
   ]
  },
  {
   "cell_type": "code",
   "execution_count": 318,
   "id": "39317587-05d8-4b3d-bd2a-ec41deeb6bf8",
   "metadata": {
    "execution": {
     "iopub.execute_input": "2023-07-21T08:33:50.520648Z",
     "iopub.status.busy": "2023-07-21T08:33:50.519649Z",
     "iopub.status.idle": "2023-07-21T08:33:50.525632Z",
     "shell.execute_reply": "2023-07-21T08:33:50.525632Z",
     "shell.execute_reply.started": "2023-07-21T08:33:50.520648Z"
    },
    "tags": []
   },
   "outputs": [
    {
     "data": {
      "text/plain": [
       "array([0, 8, 6, 3, 1, 9, 2, 7, 4, 5], dtype=int64)"
      ]
     },
     "execution_count": 318,
     "metadata": {},
     "output_type": "execute_result"
    }
   ],
   "source": [
    "# model.get_feature_importance(train_p)\n",
    "# feature_importances = model.get_feature_importance(train_p)\n",
    "# for score, name in sorted(zip(feature_importances, X_train.columns), reverse=True):\n",
    "#     print('{}: {}'.format(name, score))\n",
    "######\n",
    "# widget = MetricVisualizer(['model_depth_5', 'model_depth_8']) #事后对比，model_depth_5是‘train_dir’\n",
    "# widget.start()\n",
    "####\n",
    "# model.save_model('catboost_model.dump')\n",
    "# model = CatBoostClassifier()\n",
    "# model.load_model('catboost_model.dump');\n",
    "y_pred.argsort().argsort()"
   ]
  },
  {
   "cell_type": "code",
   "execution_count": 319,
   "id": "f82fc5dc-81d4-4147-9fd4-f13d56cf86d1",
   "metadata": {
    "execution": {
     "iopub.execute_input": "2023-07-21T08:34:02.916456Z",
     "iopub.status.busy": "2023-07-21T08:34:02.916456Z",
     "iopub.status.idle": "2023-07-21T08:34:02.924510Z",
     "shell.execute_reply": "2023-07-21T08:34:02.924510Z",
     "shell.execute_reply.started": "2023-07-21T08:34:02.916456Z"
    },
    "tags": []
   },
   "outputs": [
    {
     "data": {
      "text/plain": [
       "array([0, 2, 3, 4, 6, 1, 9, 5, 7, 8], dtype=int64)"
      ]
     },
     "execution_count": 319,
     "metadata": {},
     "output_type": "execute_result"
    }
   ],
   "source": [
    "y_test.iloc[0:10].values.squeeze().argsort().argsort()"
   ]
  }
 ],
 "metadata": {
  "kernelspec": {
   "display_name": "Python 3 (ipykernel)",
   "language": "python",
   "name": "python3"
  },
  "language_info": {
   "codemirror_mode": {
    "name": "ipython",
    "version": 3
   },
   "file_extension": ".py",
   "mimetype": "text/x-python",
   "name": "python",
   "nbconvert_exporter": "python",
   "pygments_lexer": "ipython3",
   "version": "3.9.7"
  }
 },
 "nbformat": 4,
 "nbformat_minor": 5
}
