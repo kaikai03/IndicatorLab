{
 "cells": [
  {
   "cell_type": "code",
   "execution_count": 2,
   "id": "6ad1e658-30c4-4e22-823f-c84fc2919017",
   "metadata": {
    "execution": {
     "iopub.execute_input": "2023-07-30T07:03:42.525876Z",
     "iopub.status.busy": "2023-07-30T07:03:42.524879Z",
     "iopub.status.idle": "2023-07-30T07:04:09.895513Z",
     "shell.execute_reply": "2023-07-30T07:04:09.894824Z",
     "shell.execute_reply.started": "2023-07-30T07:03:42.525876Z"
    },
    "tags": []
   },
   "outputs": [],
   "source": [
    "import sys\n",
    "import os \n",
    "module_path = os.path.abspath(os.path.join('..')) \n",
    "if module_path not in sys.path: \n",
    "    sys.path.append(module_path)\n",
    "\n",
    "import pandas as pd  \n",
    "import numpy as np  \n",
    "import copy\n",
    "\n",
    "import tools.Sample_Tools as smpl\n",
    "from tools.Cacher import (CACHE_TYPE, save_cache,load_cache_adv,load_cache)\n",
    "\n",
    "\n",
    "import matplotlib.pyplot as plt\n",
    "import seaborn as sns\n",
    "\n",
    "# from base.JuUnits import parallal_task,task_chunk_split\n",
    "# from base.JuUnits import excute_for_multidates\n",
    "\n",
    "# from sklearn.decomposition import FactorAnalysis\n",
    "# from factor_analyzer import FactorAnalyzer\n",
    "# from factor_analyzer.factor_analyzer import calculate_bartlett_sphericity,calculate_kmo\n",
    "\n",
    "# import inspect\n",
    "import warnings\n",
    "from sklearn.model_selection import train_test_split\n",
    "\n",
    "from catboost import CatBoost\n",
    "from catboost import CatBoostRanker, Pool, MetricVisualizer,CatBoostRegressor\n"
   ]
  },
  {
   "cell_type": "code",
   "execution_count": 3,
   "id": "1dbb2b5b-92ee-4517-a192-669afb2ad20a",
   "metadata": {
    "execution": {
     "iopub.execute_input": "2023-07-30T07:04:09.897496Z",
     "iopub.status.busy": "2023-07-30T07:04:09.897496Z",
     "iopub.status.idle": "2023-07-30T07:04:22.081607Z",
     "shell.execute_reply": "2023-07-30T07:04:22.081453Z",
     "shell.execute_reply.started": "2023-07-30T07:04:09.897496Z"
    },
    "tags": []
   },
   "outputs": [
    {
     "name": "stdout",
     "output_type": "stream",
     "text": [
      "base10\n",
      "alpha42\n",
      "alpha54\n",
      "alpha60\n",
      "alpha77\n",
      "191_alpha004\n",
      "191_alpha010\n"
     ]
    }
   ],
   "source": [
    "file_names = ['base10','alpha42','alpha54','alpha60','alpha77','191_alpha004', '191_alpha010', '191_alpha021', '191_alpha070', '191_alpha095', '191_alpha115', \n",
    " '191_alpha124', '191_alpha126', '191_alpha129', '191_alpha132', '191_alpha143', '191_alpha144', \n",
    "  '191_alpha146', '191_alpha150', '191_alpha153', '191_alpha160', '191_alpha161', '191_alpha173', '191_alpha187']\n",
    "\n",
    "\n",
    "temp = []\n",
    "for file in file_names[0:7]:\n",
    "    print(file)\n",
    "    temp.append(load_cache(file+'_train',cache_type=CACHE_TYPE.FACTOR)\n",
    ")\n",
    "\n",
    "data_all = pd.concat(temp,axis=1).sort_index()#.loc[(slice('2017-01-11','2020-12-24'),codes),:]\n",
    "\n"
   ]
  },
  {
   "cell_type": "code",
   "execution_count": 4,
   "id": "583029ae-aadd-42c5-a7a9-ace620f7999e",
   "metadata": {
    "execution": {
     "iopub.execute_input": "2023-07-30T07:04:22.082650Z",
     "iopub.status.busy": "2023-07-30T07:04:22.082650Z",
     "iopub.status.idle": "2023-07-30T07:04:22.129518Z",
     "shell.execute_reply": "2023-07-30T07:04:22.129518Z",
     "shell.execute_reply.started": "2023-07-30T07:04:22.082650Z"
    },
    "tags": []
   },
   "outputs": [],
   "source": [
    "data_slice = data_all.loc[(slice('2018-01-11','2020-12-24'),slice(None))]"
   ]
  },
  {
   "cell_type": "code",
   "execution_count": 5,
   "id": "5eb13201-c78a-4298-b234-66bfc8047d44",
   "metadata": {
    "execution": {
     "iopub.execute_input": "2023-07-30T07:04:22.131389Z",
     "iopub.status.busy": "2023-07-30T07:04:22.131389Z",
     "iopub.status.idle": "2023-07-30T07:04:31.882697Z",
     "shell.execute_reply": "2023-07-30T07:04:31.882543Z",
     "shell.execute_reply.started": "2023-07-30T07:04:22.131389Z"
    },
    "tags": []
   },
   "outputs": [],
   "source": [
    "codes = data_slice.index.get_level_values(1).unique()\n",
    "dates = data_slice.index.get_level_values(0).unique()\n",
    "data_replenish = load_cache_adv('all_train_qfq',\n",
    "                                dates.min().strftime('%Y-%m-%d'),\n",
    "                                dates.max().strftime('%Y-%m-%d'),\n",
    "                                cache_type=CACHE_TYPE.STOCK)\n",
    "\n",
    "data_replenish = data_replenish.loc[(slice(None),data_replenish.index.get_level_values(1).unique().intersection(codes)),]\n",
    "\n",
    "ret = smpl.get_forward_return(data_replenish,'close')\n",
    "ret.name = 'target'\n",
    "ret[np.abs(ret)>0.15]=np.nan\n",
    "\n",
    "industy = data_replenish['industry']\n",
    "industy.name = 'industy'\n",
    "\n",
    "cap_log = np.log(data_replenish['market_value'])\n",
    "cap_log.name = 'cap_log'\n",
    "\n",
    "\n",
    "data = pd.concat([data_slice,industy,cap_log,ret],axis=1).sort_index().dropna()\n",
    "\n"
   ]
  },
  {
   "cell_type": "code",
   "execution_count": 6,
   "id": "867dbab8-0659-4480-86f5-516caeaa12b5",
   "metadata": {
    "execution": {
     "iopub.execute_input": "2023-07-30T07:04:31.883384Z",
     "iopub.status.busy": "2023-07-30T07:04:31.883384Z",
     "iopub.status.idle": "2023-07-30T07:04:32.868832Z",
     "shell.execute_reply": "2023-07-30T07:04:32.868832Z",
     "shell.execute_reply.started": "2023-07-30T07:04:31.883384Z"
    },
    "tags": []
   },
   "outputs": [],
   "source": [
    "data['industy'] = data['industy'].astype('string')\n",
    "data['191_alpha004'] = data['191_alpha004'].astype('int')\n",
    "train_data = data[data.columns[:-1]]\n",
    "train_target = data[[data.columns[-1]]]\n",
    "\n",
    "\n",
    "X_train,X_test, y_train, y_test =train_test_split(train_data,train_target,test_size=.2, shuffle=False)\n",
    "\n",
    "X_train_group = y_train.index.get_level_values(0).strftime('%Y-%m-%d').tolist()\n",
    "y_test_group = y_test.index.get_level_values(0).strftime('%Y-%m-%d').tolist()"
   ]
  },
  {
   "cell_type": "code",
   "execution_count": 7,
   "id": "76b321ab-7efd-444f-9dfb-5654be3034eb",
   "metadata": {
    "execution": {
     "iopub.execute_input": "2023-07-28T08:20:30.552613Z",
     "iopub.status.busy": "2023-07-28T08:20:30.552613Z",
     "iopub.status.idle": "2023-07-28T08:20:30.831397Z",
     "shell.execute_reply": "2023-07-28T08:20:30.831397Z",
     "shell.execute_reply.started": "2023-07-28T08:20:30.552613Z"
    },
    "tags": []
   },
   "outputs": [
    {
     "data": {
      "text/plain": [
       "alpha42     589594\n",
       "industy        336\n",
       "cap_log    1053642\n",
       "dtype: int64"
      ]
     },
     "execution_count": 7,
     "metadata": {},
     "output_type": "execute_result"
    }
   ],
   "source": [
    "# y_train.groupby(level=0).count()\n",
    "# X_train.nunique()"
   ]
  },
  {
   "cell_type": "code",
   "execution_count": 10,
   "id": "b24bdecc-2bb4-452c-882b-a1565cd673d8",
   "metadata": {
    "execution": {
     "iopub.execute_input": "2023-07-30T07:20:29.986407Z",
     "iopub.status.busy": "2023-07-30T07:20:29.986407Z",
     "iopub.status.idle": "2023-07-30T07:20:30.881091Z",
     "shell.execute_reply": "2023-07-30T07:20:30.881091Z",
     "shell.execute_reply.started": "2023-07-30T07:20:29.986407Z"
    },
    "tags": []
   },
   "outputs": [],
   "source": [
    "categorical_features_names = ['191_alpha004', 'industy']\n",
    "# categorical_features_names = ['industy']\n",
    "train_p = Pool(\n",
    "    data=X_train,\n",
    "    label=y_train,\n",
    "    # group_id=X_train_group,\n",
    "    cat_features=categorical_features_names\n",
    ")\n",
    "\n",
    "test_p = Pool(\n",
    "    data=X_test,\n",
    "    label=y_test,\n",
    "    # group_id=y_test_group,\n",
    "    cat_features=categorical_features_names\n",
    ")"
   ]
  },
  {
   "cell_type": "code",
   "execution_count": 167,
   "id": "7259b8f9-0835-4a8f-9e5d-f096cb658e6e",
   "metadata": {
    "execution": {
     "iopub.execute_input": "2023-07-30T14:26:36.232122Z",
     "iopub.status.busy": "2023-07-30T14:26:36.232122Z",
     "iopub.status.idle": "2023-07-30T14:26:36.247165Z",
     "shell.execute_reply": "2023-07-30T14:26:36.247165Z",
     "shell.execute_reply.started": "2023-07-30T14:26:36.232122Z"
    },
    "tags": []
   },
   "outputs": [],
   "source": [
    "default_parameters = {\n",
    "    'learning_rate': .05,\n",
    "    'iterations': 100,\n",
    "    'custom_metric': None,\n",
    "    'verbose': False,\n",
    "    'random_seed': 0,\n",
    "    'use_best_model':True,\n",
    "    'early_stopping_rounds': 10,\n",
    "}\n",
    "\n",
    "\n",
    "\n",
    "def fit_model(model_class ,loss_function, train_pool, test_pool, additional_params=None, verbose=False):\n",
    "    parameters = copy.deepcopy(default_parameters)\n",
    "    parameters['loss_function'] = loss_function\n",
    "    if type(loss_function) == str:\n",
    "        parameters['train_dir'] = loss_function.replace(':','_').replace('=','_')\n",
    "    else:\n",
    "        parameters['train_dir'] = loss_function.__class__.__name__\n",
    "        \n",
    "    parameters['verbose'] = verbose\n",
    "    \n",
    "    if additional_params is not None:\n",
    "        parameters.update(additional_params)\n",
    "        \n",
    "    \n",
    "    # print(parameters)\n",
    "    if model_class == CatBoost:\n",
    "        mod = model_class(parameters)\n",
    "    else:\n",
    "        mod = model_class(**parameters)\n",
    "        \n",
    "    mod.fit(train_pool, eval_set=test_pool, plot=True)\n",
    "    \n",
    "    return mod\n"
   ]
  },
  {
   "cell_type": "code",
   "execution_count": null,
   "id": "ee53e17d-a7e0-4326-ad74-ca9daefd956c",
   "metadata": {
    "tags": []
   },
   "outputs": [],
   "source": [
    "        "
   ]
  },
  {
   "cell_type": "code",
   "execution_count": null,
   "id": "51e4d983-8b7a-43e1-a0c9-34bc13b322b9",
   "metadata": {
    "execution": {
     "iopub.execute_input": "2023-07-30T14:39:10.415800Z",
     "iopub.status.busy": "2023-07-30T14:39:10.415800Z"
    },
    "tags": []
   },
   "outputs": [
    {
     "data": {
      "application/vnd.jupyter.widget-view+json": {
       "model_id": "9a84e7c5cb434741b341c1b1143217b3",
       "version_major": 2,
       "version_minor": 0
      },
      "text/plain": [
       "MetricVisualizer(layout=Layout(align_self='stretch', height='500px'))"
      ]
     },
     "metadata": {},
     "output_type": "display_data"
    }
   ],
   "source": [
    "# parameters = {'custom_metric': ['PrecisionAt:top=10', 'RecallAt:top=10', 'MAP:top=10']}\n",
    "# parameters = {'custom_metric': ['PFound',  'AverageGain:top=10'],}\n",
    "# parameters = {'custom_metric': ['NDCG',  'AverageGain:top=100'],}\n",
    "# parameters={'learning_rate': .1,'custom_metric': ['NDCG:type=ranking',  'AverageGain:top=1000'],'eval_metric':'AUC:type=Ranking','one_hot_max_size': X_train['industy'].nunique()}\n",
    "# parameters={'learning_rate': .1,'custom_metric': ['NDCG', 'AverageGain:top=1000'],'one_hot_max_size': 0}\n",
    "# parameters={'learning_rate': .5,'custom_metric': ['R2'],'one_hot_max_size': 0,'early_stopping_rounds':None,'iterations': 500,'use_best_model':False}\n",
    "\n",
    "# model = fit_model(CatBoostRegressor, 'RMSE', train_p, test_p, parameters, verbose=False)\n",
    "# model = fit_model(CatBoostRegressor, 'RMSE', train_p, test_p, parameters, verbose=False)\n",
    "# CatBoostRegressor\n",
    "class LossObjective(object):\n",
    "    # L​(θ;X,y)=1− 1/N​*∑​max(μi​−yi​,0)**2\n",
    "    def calc_ders_range(self, approxes, targets, weights):\n",
    "        assert len(approxes) == len(targets)\n",
    "        # print('approxes：',(approxes==0).all())\n",
    "        # print('targets：',targets[0:3])\n",
    "        if weights is not None:\n",
    "            assert len(weights) == len(approxes)\n",
    "        result = []\n",
    "        d = approxes*(-2) - targets*(-2)\n",
    "        for index in range(len(targets)):\n",
    "            if approxes[index]-targets[index]>0:\n",
    "                der1 = d[index]\n",
    "                der2 = -2\n",
    "            else:\n",
    "                der1 = 0\n",
    "                der2 = 0\n",
    "\n",
    "            if weights is not None:\n",
    "                der1 *= weights[index]\n",
    "                der2 *= weights[index]\n",
    "\n",
    "            result.append((der1, der2))\n",
    "        return result\n",
    "\n",
    "parameters={'learning_rate': .5,'eval_metric': 'RMSE','custom_metric': ['R2'],'one_hot_max_size': 0,'early_stopping_rounds':None,'iterations': 200,'use_best_model':False}\n",
    "model = fit_model(CatBoostRegressor, LossObjective(), train_p, test_p, parameters, verbose=False)\n",
    "\n",
    "# parameters={'learning_rate': .5,'eval_metric': 'R2','one_hot_max_size': 0,'early_stopping_rounds':None,'iterations': 1,'use_best_model':False}\n",
    "# pxx = copy.deepcopy(default_parameters)\n",
    "# pxx.update(parameters)\n",
    "# m=CatBoostRegressor(loss_function=LossObjective(),**pxx)\n",
    "# m.fit(train_p, eval_set=test_p, plot=True)"
   ]
  },
  {
   "cell_type": "code",
   "execution_count": 163,
   "id": "f48670e7-56af-4190-a73d-2ae6290f872c",
   "metadata": {
    "execution": {
     "iopub.execute_input": "2023-07-30T14:17:23.253341Z",
     "iopub.status.busy": "2023-07-30T14:17:23.252603Z",
     "iopub.status.idle": "2023-07-30T14:17:23.269660Z",
     "shell.execute_reply": "2023-07-30T14:17:23.268426Z",
     "shell.execute_reply.started": "2023-07-30T14:17:23.252603Z"
    },
    "tags": []
   },
   "outputs": [
    {
     "data": {
      "text/plain": [
       "True"
      ]
     },
     "execution_count": 163,
     "metadata": {},
     "output_type": "execute_result"
    }
   ],
   "source": [
    "a = np.array([0,0,0,-0,-0,0])\n"
   ]
  },
  {
   "cell_type": "code",
   "execution_count": 175,
   "id": "63280ee5-4561-4be2-acb2-d34d2e56e173",
   "metadata": {
    "execution": {
     "iopub.execute_input": "2023-07-30T14:37:24.826500Z",
     "iopub.status.busy": "2023-07-30T14:37:24.826500Z",
     "iopub.status.idle": "2023-07-30T14:37:25.045880Z",
     "shell.execute_reply": "2023-07-30T14:37:25.045083Z",
     "shell.execute_reply.started": "2023-07-30T14:37:24.826500Z"
    },
    "tags": []
   },
   "outputs": [
    {
     "data": {
      "text/plain": [
       "0.5043327066784256"
      ]
     },
     "execution_count": 175,
     "metadata": {},
     "output_type": "execute_result"
    }
   ],
   "source": [
    "# for i in range(10):\n",
    "#     print(model.predict(Pool(X_test.iloc[i], cat_features=categorical_features_names)),y_test.iloc[i].values[0])\n",
    "\n",
    "    \n",
    "    \n",
    "\n",
    "y_pred = model.predict(data=X_test,prediction_type='RawFormulaVal')   #RawFormulaVal,Probability, LogProbability\n",
    "# rank = y_pred.argsort()\n",
    "# y_pred\n",
    "\n",
    "(np.sign(y_pred) == np.sign(y_test.values.squeeze())).sum()/len(y_pred)"
   ]
  },
  {
   "cell_type": "code",
   "execution_count": 176,
   "id": "9f9f1889-6841-4eaf-a636-6e3c743e6fbf",
   "metadata": {
    "execution": {
     "iopub.execute_input": "2023-07-30T14:37:26.909617Z",
     "iopub.status.busy": "2023-07-30T14:37:26.909617Z",
     "iopub.status.idle": "2023-07-30T14:37:27.775299Z",
     "shell.execute_reply": "2023-07-30T14:37:27.775299Z",
     "shell.execute_reply.started": "2023-07-30T14:37:26.909617Z"
    },
    "tags": []
   },
   "outputs": [
    {
     "data": {
      "text/plain": [
       "0.5349143579000227"
      ]
     },
     "execution_count": 176,
     "metadata": {},
     "output_type": "execute_result"
    }
   ],
   "source": [
    "# y_test.iloc[200:500].values.squeeze()\n",
    "y_pred = model.predict(data=X_train,prediction_type='RawFormulaVal')   #RawFormulaVal,Probability, LogProbability\n",
    "(np.sign(y_pred) == np.sign(y_train.values.squeeze())).sum()/len(y_pred)"
   ]
  },
  {
   "cell_type": "code",
   "execution_count": 61,
   "id": "90375b6a-a63e-4ec3-9a82-08bfbea7613c",
   "metadata": {
    "execution": {
     "iopub.execute_input": "2023-07-30T08:48:58.149105Z",
     "iopub.status.busy": "2023-07-30T08:48:58.149105Z",
     "iopub.status.idle": "2023-07-30T08:48:58.159042Z",
     "shell.execute_reply": "2023-07-30T08:48:58.158354Z",
     "shell.execute_reply.started": "2023-07-30T08:48:58.149105Z"
    },
    "tags": []
   },
   "outputs": [],
   "source": [
    "# plt.figure(figsize=(1120/72,420/72))\n",
    "# plt.scatter(range(len(y_pred)), np.sign(y_pred),linewidths=4)\n",
    "# plt.scatter(range(len(y_pred)), np.sign(y_test.iloc[700:900].values.squeeze()))\n"
   ]
  },
  {
   "cell_type": "code",
   "execution_count": 173,
   "id": "f969c41a-6fea-4b99-92c0-9e75ea4ac6ea",
   "metadata": {
    "execution": {
     "iopub.execute_input": "2023-07-30T14:29:33.795602Z",
     "iopub.status.busy": "2023-07-30T14:29:33.795602Z",
     "iopub.status.idle": "2023-07-30T14:29:33.812605Z",
     "shell.execute_reply": "2023-07-30T14:29:33.812605Z",
     "shell.execute_reply.started": "2023-07-30T14:29:33.795602Z"
    },
    "tags": []
   },
   "outputs": [
    {
     "data": {
      "text/plain": [
       "array([ 0.00310949,  0.00338603,  0.00099799, ..., -0.00191052,\n",
       "       -0.00207601, -0.00176022])"
      ]
     },
     "execution_count": 173,
     "metadata": {},
     "output_type": "execute_result"
    }
   ],
   "source": [
    "y_pred"
   ]
  },
  {
   "cell_type": "code",
   "execution_count": 333,
   "id": "39317587-05d8-4b3d-bd2a-ec41deeb6bf8",
   "metadata": {
    "execution": {
     "iopub.execute_input": "2023-07-21T09:28:47.071825Z",
     "iopub.status.busy": "2023-07-21T09:28:47.071458Z",
     "iopub.status.idle": "2023-07-21T09:28:47.077506Z",
     "shell.execute_reply": "2023-07-21T09:28:47.077506Z",
     "shell.execute_reply.started": "2023-07-21T09:28:47.071825Z"
    },
    "tags": []
   },
   "outputs": [],
   "source": [
    "# model.get_feature_importance(train_p)\n",
    "# feature_importances = model.get_feature_importance(train_p)\n",
    "# for score, name in sorted(zip(feature_importances, X_train.columns), reverse=True):\n",
    "#     print('{}: {}'.format(name, score))\n",
    "######\n",
    "# widget = MetricVisualizer(['model_depth_5', 'model_depth_8']) #事后对比，model_depth_5是‘train_dir’\n",
    "# widget.start()\n",
    "####\n",
    "# model.save_model('catboost_model.dump')\n",
    "# model = CatBoostClassifier()\n",
    "# model.load_model('catboost_model.dump');\n",
    "\n",
    "########Batch_training\n",
    "# model1 = CatBoostRegressor(**params)\n",
    "# batch1 = Pool(train_data1, label=train_labels1)\n",
    "# model1.fit(X=batch1)\n",
    "# # continue training with different portion of data\n",
    "# model2 = CatBoostRegressor(**params)\n",
    "# batch2 = Pool(train_data2, label=train_labels2)\n",
    "# batch2.set_baseline(model1.predict(batch2))\n",
    "# model2.fit(X=batch2)\n",
    "# # build resulting model\n",
    "# model = sum_models([model1, model2])\n",
    "\n"
   ]
  },
  {
   "cell_type": "code",
   "execution_count": 396,
   "id": "50bb28f8-0888-4762-91c9-ccf737749cb6",
   "metadata": {
    "execution": {
     "iopub.execute_input": "2023-07-21T10:40:12.693975Z",
     "iopub.status.busy": "2023-07-21T10:40:12.692901Z",
     "iopub.status.idle": "2023-07-21T10:43:48.280849Z",
     "shell.execute_reply": "2023-07-21T10:43:48.280849Z",
     "shell.execute_reply.started": "2023-07-21T10:40:12.693975Z"
    },
    "tags": []
   },
   "outputs": [
    {
     "data": {
      "application/vnd.jupyter.widget-view+json": {
       "model_id": "4dd643c440e94deb912b12c9d6b40d10",
       "version_major": 2,
       "version_minor": 0
      },
      "text/plain": [
       "MetricVisualizer(layout=Layout(align_self='stretch', height='500px'))"
      ]
     },
     "metadata": {},
     "output_type": "display_data"
    },
    {
     "data": {
      "text/plain": [
       "<catboost.core.CatBoostRanker at 0x26e5aee5e50>"
      ]
     },
     "execution_count": 396,
     "metadata": {},
     "output_type": "execute_result"
    }
   ],
   "source": [
    "# 'YetiRank' 'RMSE'\n",
    "\n",
    "parameters={\n",
    "    'learning_rate': .05,\n",
    "    'iterations': 50,\n",
    "    'custom_metric': ['NDCG', 'AverageGain:top=1000'],\n",
    "    'verbose': False,\n",
    "    'random_seed': 0,\n",
    "    'use_best_model':True,\n",
    "    'early_stopping_rounds': 10,\n",
    "    'one_hot_max_size': 0\n",
    "}\n",
    "# model = fit_model(CatBoostRanker, 'YetiRank', train_p, test_p, parameters, verbose=False)\n",
    "\n",
    "\n",
    "x = CatBoostRanker(**parameters)\n",
    "x.fit(train_p, eval_set=test_p, plot=True)"
   ]
  },
  {
   "cell_type": "code",
   "execution_count": 399,
   "id": "a65e2e24-6e3f-4340-b9bc-1f2d158c8c04",
   "metadata": {
    "execution": {
     "iopub.execute_input": "2023-07-21T10:51:14.530138Z",
     "iopub.status.busy": "2023-07-21T10:51:14.530138Z",
     "iopub.status.idle": "2023-07-21T10:51:14.551209Z",
     "shell.execute_reply": "2023-07-21T10:51:14.551209Z",
     "shell.execute_reply.started": "2023-07-21T10:51:14.530138Z"
    },
    "tags": []
   },
   "outputs": [
    {
     "data": {
      "text/plain": [
       "array([-0.02283442,  0.04129997,  0.00506462,  0.0366282 , -0.02233261,\n",
       "        0.07942477,  0.01678374,  0.04442451,  0.00612589, -0.03088151])"
      ]
     },
     "execution_count": 399,
     "metadata": {},
     "output_type": "execute_result"
    }
   ],
   "source": [
    "y = x.predict(X_test.iloc[0:10])  \n",
    "y"
   ]
  },
  {
   "cell_type": "code",
   "execution_count": 403,
   "id": "99157788-d08a-402b-b459-fce0897f170c",
   "metadata": {
    "execution": {
     "iopub.execute_input": "2023-07-21T10:51:28.530735Z",
     "iopub.status.busy": "2023-07-21T10:51:28.530199Z",
     "iopub.status.idle": "2023-07-21T10:51:28.540708Z",
     "shell.execute_reply": "2023-07-21T10:51:28.540568Z",
     "shell.execute_reply.started": "2023-07-21T10:51:28.530735Z"
    },
    "tags": []
   },
   "outputs": [
    {
     "data": {
      "text/plain": [
       "array([1, 7, 3, 6, 2, 9, 5, 8, 4, 0], dtype=int64)"
      ]
     },
     "execution_count": 403,
     "metadata": {},
     "output_type": "execute_result"
    }
   ],
   "source": [
    "y.argsort().argsort()"
   ]
  },
  {
   "cell_type": "code",
   "execution_count": null,
   "id": "8a7aa3ec-f5af-4947-b0a5-884ba6f2045b",
   "metadata": {},
   "outputs": [],
   "source": [
    "array([1, 7, 0, 2, 3, 9, 6, 8, 5, 4], dtype=int64)"
   ]
  },
  {
   "cell_type": "code",
   "execution_count": 402,
   "id": "0dc319ec-fdec-42cc-8fc8-f43852167859",
   "metadata": {
    "execution": {
     "iopub.execute_input": "2023-07-21T10:51:27.322917Z",
     "iopub.status.busy": "2023-07-21T10:51:27.321920Z",
     "iopub.status.idle": "2023-07-21T10:51:27.339208Z",
     "shell.execute_reply": "2023-07-21T10:51:27.338943Z",
     "shell.execute_reply.started": "2023-07-21T10:51:27.322917Z"
    },
    "tags": []
   },
   "outputs": [
    {
     "data": {
      "text/plain": [
       "array([0, 2, 3, 4, 6, 1, 9, 5, 7, 8], dtype=int64)"
      ]
     },
     "execution_count": 402,
     "metadata": {},
     "output_type": "execute_result"
    }
   ],
   "source": [
    "y_test.iloc[0:10].values.squeeze().argsort().argsort()"
   ]
  }
 ],
 "metadata": {
  "kernelspec": {
   "display_name": "Python 3 (ipykernel)",
   "language": "python",
   "name": "python3"
  },
  "language_info": {
   "codemirror_mode": {
    "name": "ipython",
    "version": 3
   },
   "file_extension": ".py",
   "mimetype": "text/x-python",
   "name": "python",
   "nbconvert_exporter": "python",
   "pygments_lexer": "ipython3",
   "version": "3.9.7"
  }
 },
 "nbformat": 4,
 "nbformat_minor": 5
}
