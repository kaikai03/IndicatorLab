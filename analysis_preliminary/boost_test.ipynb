{
 "cells": [
  {
   "cell_type": "code",
   "execution_count": 225,
   "id": "6ad1e658-30c4-4e22-823f-c84fc2919017",
   "metadata": {
    "execution": {
     "iopub.execute_input": "2023-07-21T05:16:44.403603Z",
     "iopub.status.busy": "2023-07-21T05:16:44.402930Z",
     "iopub.status.idle": "2023-07-21T05:16:44.422672Z",
     "shell.execute_reply": "2023-07-21T05:16:44.422672Z",
     "shell.execute_reply.started": "2023-07-21T05:16:44.403603Z"
    },
    "tags": []
   },
   "outputs": [],
   "source": [
    "import sys\n",
    "import os \n",
    "module_path = os.path.abspath(os.path.join('..')) \n",
    "if module_path not in sys.path: \n",
    "    sys.path.append(module_path)\n",
    "\n",
    "import pandas as pd  \n",
    "import numpy as np  \n",
    "import copy\n",
    "\n",
    "import tools.Sample_Tools as smpl\n",
    "from tools.Cacher import (CACHE_TYPE, save_cache,load_cache_adv,load_cache)\n",
    "\n",
    "\n",
    "import matplotlib.pyplot as plt\n",
    "import seaborn as sns\n",
    "\n",
    "# from base.JuUnits import parallal_task,task_chunk_split\n",
    "# from base.JuUnits import excute_for_multidates\n",
    "\n",
    "# from sklearn.decomposition import FactorAnalysis\n",
    "# from factor_analyzer import FactorAnalyzer\n",
    "# from factor_analyzer.factor_analyzer import calculate_bartlett_sphericity,calculate_kmo\n",
    "\n",
    "# import inspect\n",
    "import warnings\n",
    "from sklearn.model_selection import train_test_split\n",
    "\n",
    "from catboost import CatBoost\n",
    "from catboost import CatBoostRanker, Pool, MetricVisualizer\n"
   ]
  },
  {
   "cell_type": "code",
   "execution_count": 16,
   "id": "1dbb2b5b-92ee-4517-a192-669afb2ad20a",
   "metadata": {
    "execution": {
     "iopub.execute_input": "2023-07-20T08:33:41.667557Z",
     "iopub.status.busy": "2023-07-20T08:33:41.667557Z",
     "iopub.status.idle": "2023-07-20T08:55:36.664535Z",
     "shell.execute_reply": "2023-07-20T08:55:36.664535Z",
     "shell.execute_reply.started": "2023-07-20T08:55:30.926683Z"
    },
    "tags": []
   },
   "outputs": [],
   "source": [
    "file_names = ['base10','alpha42','alpha54','alpha60','alpha77','191_alpha004', '191_alpha010', '191_alpha021', '191_alpha070', '191_alpha095', '191_alpha115', \n",
    " '191_alpha124', '191_alpha126', '191_alpha129', '191_alpha132', '191_alpha143', '191_alpha144', \n",
    "  '191_alpha146', '191_alpha150', '191_alpha153', '191_alpha160', '191_alpha161', '191_alpha173', '191_alpha187']\n",
    "\n",
    "temp = []\n",
    "for file in file_names[0:7]:\n",
    "    print(file)\n",
    "    temp.append(load_cache(file+'_train',cache_type=CACHE_TYPE.FACTOR)\n",
    ")\n",
    "\n",
    "data_all = pd.concat(temp,axis=1).sort_index()#.loc[(slice('2017-01-11','2020-12-24'),codes),:]\n",
    "\n"
   ]
  },
  {
   "cell_type": "code",
   "execution_count": 181,
   "id": "583029ae-aadd-42c5-a7a9-ace620f7999e",
   "metadata": {
    "execution": {
     "iopub.execute_input": "2023-07-21T02:19:02.313090Z",
     "iopub.status.busy": "2023-07-21T02:19:02.313090Z",
     "iopub.status.idle": "2023-07-21T02:19:02.322066Z",
     "shell.execute_reply": "2023-07-21T02:19:02.322066Z",
     "shell.execute_reply.started": "2023-07-21T02:19:02.313090Z"
    },
    "tags": []
   },
   "outputs": [],
   "source": [
    "data_slice = data_all.loc[(slice('2018-01-11','2020-12-24'),slice(None))]"
   ]
  },
  {
   "cell_type": "code",
   "execution_count": 182,
   "id": "5eb13201-c78a-4298-b234-66bfc8047d44",
   "metadata": {
    "execution": {
     "iopub.execute_input": "2023-07-21T02:19:36.239218Z",
     "iopub.status.busy": "2023-07-21T02:19:36.239218Z",
     "iopub.status.idle": "2023-07-21T02:19:47.131215Z",
     "shell.execute_reply": "2023-07-21T02:19:47.131018Z",
     "shell.execute_reply.started": "2023-07-21T02:19:36.239218Z"
    },
    "tags": []
   },
   "outputs": [],
   "source": [
    "codes = data_slice.index.get_level_values(1).unique()\n",
    "dates = data_slice.index.get_level_values(0).unique()\n",
    "data_replenish = load_cache_adv('all_train_qfq',\n",
    "                                dates.min().strftime('%Y-%m-%d'),\n",
    "                                dates.max().strftime('%Y-%m-%d'),\n",
    "                                cache_type=CACHE_TYPE.STOCK)\n",
    "\n",
    "data_replenish = data_replenish.loc[(slice(None),data_replenish.index.get_level_values(1).unique().intersection(codes)),]\n",
    "\n",
    "ret = smpl.get_forward_return(data_replenish,'close')\n",
    "ret.name = 'target'\n",
    "ret[np.abs(ret)>0.15]=np.nan\n",
    "\n",
    "industy = data_replenish['industry']\n",
    "industy.name = 'industy'\n",
    "\n",
    "cap_log = np.log(data_replenish['market_value'])\n",
    "cap_log.name = 'cap_log'\n",
    "\n",
    "\n",
    "data = pd.concat([data_slice,industy,cap_log,ret],axis=1).sort_index().dropna()\n",
    "\n"
   ]
  },
  {
   "cell_type": "code",
   "execution_count": 183,
   "id": "867dbab8-0659-4480-86f5-516caeaa12b5",
   "metadata": {
    "execution": {
     "iopub.execute_input": "2023-07-21T02:19:49.473163Z",
     "iopub.status.busy": "2023-07-21T02:19:49.473163Z",
     "iopub.status.idle": "2023-07-21T02:19:50.626582Z",
     "shell.execute_reply": "2023-07-21T02:19:50.626582Z",
     "shell.execute_reply.started": "2023-07-21T02:19:49.473163Z"
    },
    "tags": []
   },
   "outputs": [],
   "source": [
    "data['industy'] = data['industy'].astype('string')\n",
    "data['191_alpha004'] = data['191_alpha004'].astype('int')\n",
    "train_data = data[data.columns[:-1]]\n",
    "train_target = data[[data.columns[-1]]]\n",
    "\n",
    "\n",
    "X_train,X_test, y_train, y_test =train_test_split(train_data,train_target,test_size=.2, shuffle=False)\n",
    "# X_train_group = y_train.groupby(level=0).count()\n",
    "# X_train.nunique()\n",
    "X_train_group = y_train.index.get_level_values(0).strftime('%Y-%m-%d').tolist()\n",
    "y_test_group = y_test.index.get_level_values(0).strftime('%Y-%m-%d').tolist()"
   ]
  },
  {
   "cell_type": "code",
   "execution_count": 185,
   "id": "76b321ab-7efd-444f-9dfb-5654be3034eb",
   "metadata": {
    "execution": {
     "iopub.execute_input": "2023-07-21T02:20:00.183631Z",
     "iopub.status.busy": "2023-07-21T02:20:00.183226Z",
     "iopub.status.idle": "2023-07-21T02:20:00.186194Z",
     "shell.execute_reply": "2023-07-21T02:20:00.186194Z",
     "shell.execute_reply.started": "2023-07-21T02:20:00.183631Z"
    },
    "tags": []
   },
   "outputs": [],
   "source": [
    "# X_train"
   ]
  },
  {
   "cell_type": "code",
   "execution_count": 184,
   "id": "b24bdecc-2bb4-452c-882b-a1565cd673d8",
   "metadata": {
    "execution": {
     "iopub.execute_input": "2023-07-21T02:19:55.859686Z",
     "iopub.status.busy": "2023-07-21T02:19:55.859175Z",
     "iopub.status.idle": "2023-07-21T02:19:57.194996Z",
     "shell.execute_reply": "2023-07-21T02:19:57.194996Z",
     "shell.execute_reply.started": "2023-07-21T02:19:55.859686Z"
    },
    "tags": []
   },
   "outputs": [],
   "source": [
    "categorical_features_names = ['191_alpha004', 'industy']\n",
    "train_p = Pool(\n",
    "    data=X_train,\n",
    "    label=y_train,\n",
    "    group_id=X_train_group,\n",
    "    cat_features=categorical_features_names\n",
    ")\n",
    "\n",
    "test_p = Pool(\n",
    "    data=X_test,\n",
    "    label=y_test,\n",
    "    group_id=y_test_group,\n",
    "    cat_features=categorical_features_names\n",
    ")"
   ]
  },
  {
   "cell_type": "code",
   "execution_count": 341,
   "id": "7259b8f9-0835-4a8f-9e5d-f096cb658e6e",
   "metadata": {
    "execution": {
     "iopub.execute_input": "2023-07-21T10:01:42.686139Z",
     "iopub.status.busy": "2023-07-21T10:01:42.685071Z",
     "iopub.status.idle": "2023-07-21T10:01:42.699168Z",
     "shell.execute_reply": "2023-07-21T10:01:42.699085Z",
     "shell.execute_reply.started": "2023-07-21T10:01:42.686139Z"
    },
    "tags": []
   },
   "outputs": [],
   "source": [
    "default_parameters = {\n",
    "    'learning_rate': .05,\n",
    "    'iterations': 50,\n",
    "    'custom_metric': None,\n",
    "    'verbose': False,\n",
    "    'random_seed': 0,\n",
    "    'use_best_model':True,\n",
    "    'early_stopping_rounds': 10,\n",
    "}\n",
    "\n",
    "\n",
    "\n",
    "def fit_model(loss_function, train_pool, test_pool, additional_params=None, verbose=False):\n",
    "    parameters = copy.deepcopy(default_parameters)\n",
    "    parameters['loss_function'] = loss_function\n",
    "    parameters['train_dir'] = loss_function\n",
    "    parameters['verbose'] = verbose\n",
    "    \n",
    "    if additional_params is not None:\n",
    "        parameters.update(additional_params)\n",
    "        \n",
    "    # mod = CatBoostRanker(**parameters)\n",
    "    mod = CatBoost(parameters)\n",
    "    \n",
    "    mod.fit(train_pool, eval_set=test_pool, plot=True)\n",
    "    \n",
    "    return mod\n",
    "\n"
   ]
  },
  {
   "cell_type": "code",
   "execution_count": null,
   "id": "ee53e17d-a7e0-4326-ad74-ca9daefd956c",
   "metadata": {
    "tags": []
   },
   "outputs": [],
   "source": []
  },
  {
   "cell_type": "code",
   "execution_count": 346,
   "id": "51e4d983-8b7a-43e1-a0c9-34bc13b322b9",
   "metadata": {
    "execution": {
     "iopub.execute_input": "2023-07-21T10:02:50.003760Z",
     "iopub.status.busy": "2023-07-21T10:02:50.002762Z",
     "iopub.status.idle": "2023-07-21T10:02:56.182433Z",
     "shell.execute_reply": "2023-07-21T10:02:56.181488Z",
     "shell.execute_reply.started": "2023-07-21T10:02:50.003760Z"
    },
    "tags": []
   },
   "outputs": [
    {
     "data": {
      "application/vnd.jupyter.widget-view+json": {
       "model_id": "1f0b393d3c244757b0ae6bb8bb8ea50b",
       "version_major": 2,
       "version_minor": 0
      },
      "text/plain": [
       "MetricVisualizer(layout=Layout(align_self='stretch', height='500px'))"
      ]
     },
     "metadata": {},
     "output_type": "display_data"
    },
    {
     "name": "stdout",
     "output_type": "stream",
     "text": [
      "0:\tlearn: 0.0269222\ttest: 0.0271305\tbest: 0.0271305 (0)\ttotal: 230ms\tremaining: 11.3s\n",
      "1:\tlearn: 0.0268941\ttest: 0.0271136\tbest: 0.0271136 (1)\ttotal: 430ms\tremaining: 10.3s\n",
      "2:\tlearn: 0.0268680\ttest: 0.0270942\tbest: 0.0270942 (2)\ttotal: 608ms\tremaining: 9.52s\n",
      "3:\tlearn: 0.0268450\ttest: 0.0270809\tbest: 0.0270809 (3)\ttotal: 795ms\tremaining: 9.14s\n",
      "4:\tlearn: 0.0268259\ttest: 0.0270693\tbest: 0.0270693 (4)\ttotal: 983ms\tremaining: 8.84s\n",
      "5:\tlearn: 0.0268076\ttest: 0.0270572\tbest: 0.0270572 (5)\ttotal: 1.16s\tremaining: 8.54s\n",
      "6:\tlearn: 0.0267954\ttest: 0.0270527\tbest: 0.0270527 (6)\ttotal: 1.34s\tremaining: 8.26s\n",
      "7:\tlearn: 0.0267836\ttest: 0.0270462\tbest: 0.0270462 (7)\ttotal: 1.55s\tremaining: 8.14s\n",
      "8:\tlearn: 0.0267674\ttest: 0.0270366\tbest: 0.0270366 (8)\ttotal: 1.72s\tremaining: 7.85s\n",
      "9:\tlearn: 0.0267594\ttest: 0.0270335\tbest: 0.0270335 (9)\ttotal: 1.9s\tremaining: 7.61s\n",
      "10:\tlearn: 0.0267504\ttest: 0.0270226\tbest: 0.0270226 (10)\ttotal: 2.07s\tremaining: 7.35s\n",
      "11:\tlearn: 0.0267430\ttest: 0.0270213\tbest: 0.0270213 (11)\ttotal: 2.25s\tremaining: 7.14s\n",
      "12:\tlearn: 0.0267392\ttest: 0.0270153\tbest: 0.0270153 (12)\ttotal: 2.42s\tremaining: 6.89s\n",
      "13:\tlearn: 0.0267306\ttest: 0.0270099\tbest: 0.0270099 (13)\ttotal: 2.6s\tremaining: 6.68s\n",
      "14:\tlearn: 0.0267248\ttest: 0.0270058\tbest: 0.0270058 (14)\ttotal: 2.78s\tremaining: 6.48s\n",
      "15:\tlearn: 0.0267182\ttest: 0.0270028\tbest: 0.0270028 (15)\ttotal: 2.95s\tremaining: 6.27s\n",
      "16:\tlearn: 0.0267098\ttest: 0.0269987\tbest: 0.0269987 (16)\ttotal: 3.13s\tremaining: 6.08s\n",
      "17:\tlearn: 0.0267077\ttest: 0.0269983\tbest: 0.0269983 (17)\ttotal: 3.3s\tremaining: 5.87s\n",
      "18:\tlearn: 0.0267044\ttest: 0.0269970\tbest: 0.0269970 (18)\ttotal: 3.46s\tremaining: 5.64s\n",
      "19:\tlearn: 0.0266964\ttest: 0.0269926\tbest: 0.0269926 (19)\ttotal: 3.64s\tremaining: 5.46s\n",
      "20:\tlearn: 0.0266917\ttest: 0.0269942\tbest: 0.0269926 (19)\ttotal: 3.81s\tremaining: 5.26s\n",
      "21:\tlearn: 0.0266899\ttest: 0.0269952\tbest: 0.0269926 (19)\ttotal: 3.99s\tremaining: 5.07s\n",
      "22:\tlearn: 0.0266847\ttest: 0.0269949\tbest: 0.0269926 (19)\ttotal: 4.17s\tremaining: 4.9s\n",
      "23:\tlearn: 0.0266808\ttest: 0.0269961\tbest: 0.0269926 (19)\ttotal: 4.36s\tremaining: 4.73s\n",
      "24:\tlearn: 0.0266788\ttest: 0.0269962\tbest: 0.0269926 (19)\ttotal: 4.53s\tremaining: 4.53s\n",
      "25:\tlearn: 0.0266749\ttest: 0.0269998\tbest: 0.0269926 (19)\ttotal: 4.71s\tremaining: 4.35s\n",
      "26:\tlearn: 0.0266720\ttest: 0.0269985\tbest: 0.0269926 (19)\ttotal: 4.89s\tremaining: 4.17s\n",
      "27:\tlearn: 0.0266706\ttest: 0.0269996\tbest: 0.0269926 (19)\ttotal: 5.06s\tremaining: 3.98s\n",
      "28:\tlearn: 0.0266665\ttest: 0.0269989\tbest: 0.0269926 (19)\ttotal: 5.24s\tremaining: 3.8s\n",
      "29:\tlearn: 0.0266616\ttest: 0.0269955\tbest: 0.0269926 (19)\ttotal: 5.41s\tremaining: 3.61s\n",
      "Stopped by overfitting detector  (10 iterations wait)\n",
      "\n",
      "bestTest = 0.026992554\n",
      "bestIteration = 19\n",
      "\n",
      "Shrink model to first 20 iterations.\n"
     ]
    }
   ],
   "source": [
    "# parameters = {'custom_metric': ['PrecisionAt:top=10', 'RecallAt:top=10', 'MAP:top=10']}\n",
    "# parameters = {'custom_metric': ['PFound',  'AverageGain:top=10'],}\n",
    "# parameters = {'custom_metric': ['NDCG',  'AverageGain:top=100'],}\n",
    "# parameters={'learning_rate': .1,'custom_metric': ['NDCG:type=ranking',  'AverageGain:top=1000'],'eval_metric':'AUC:type=Ranking','one_hot_max_size': X_train['industy'].nunique()}\n",
    "parameters={'learning_rate': .1,'custom_metric': ['NDCG', 'AverageGain:top=1000'],'one_hot_max_size': 0}\n",
    "\n",
    "# 'YetiRank' 'RMSE'\n",
    "model = fit_model('RMSE', train_p, test_p, parameters, verbose=True)"
   ]
  },
  {
   "cell_type": "code",
   "execution_count": 363,
   "id": "63280ee5-4561-4be2-acb2-d34d2e56e173",
   "metadata": {
    "execution": {
     "iopub.execute_input": "2023-07-21T10:11:37.782695Z",
     "iopub.status.busy": "2023-07-21T10:11:37.781697Z",
     "iopub.status.idle": "2023-07-21T10:11:37.788811Z",
     "shell.execute_reply": "2023-07-21T10:11:37.788811Z",
     "shell.execute_reply.started": "2023-07-21T10:11:37.782695Z"
    },
    "tags": []
   },
   "outputs": [
    {
     "data": {
      "text/plain": [
       "array([[0.50029592, 0.49970408],\n",
       "       [0.49934333, 0.50065667],\n",
       "       [0.49997902, 0.50002098],\n",
       "       [0.49977523, 0.50022477],\n",
       "       [0.50007114, 0.49992886],\n",
       "       [0.4990494 , 0.5009506 ],\n",
       "       [0.50002603, 0.49997397],\n",
       "       [0.49933296, 0.50066704],\n",
       "       [0.49969648, 0.50030352],\n",
       "       [0.50009505, 0.49990495]])"
      ]
     },
     "execution_count": 363,
     "metadata": {},
     "output_type": "execute_result"
    }
   ],
   "source": [
    "# for i in range(10):\n",
    "#     print(model.predict(Pool(X_test.iloc[i], cat_features=categorical_features_names)),y_test.iloc[i].values[0])\n",
    "\n",
    "    \n",
    "    \n",
    "\n",
    "y_pred = model.predict(data=X_test.iloc[0:10],prediction_type='Probability')   #RawFormulaVal,Probability, LogProbability\n",
    "rank = y_pred.argsort()\n",
    "y_pred"
   ]
  },
  {
   "cell_type": "code",
   "execution_count": 349,
   "id": "d5b8ec53-e06b-499d-b244-179cbf7e72d5",
   "metadata": {
    "execution": {
     "iopub.execute_input": "2023-07-21T10:03:15.849714Z",
     "iopub.status.busy": "2023-07-21T10:03:15.849714Z",
     "iopub.status.idle": "2023-07-21T10:03:15.863406Z",
     "shell.execute_reply": "2023-07-21T10:03:15.863406Z",
     "shell.execute_reply.started": "2023-07-21T10:03:15.849714Z"
    },
    "tags": []
   },
   "outputs": [
    {
     "data": {
      "text/plain": [
       "array([0, 7, 4, 5, 2, 9, 3, 8, 6, 1], dtype=int64)"
      ]
     },
     "execution_count": 349,
     "metadata": {},
     "output_type": "execute_result"
    }
   ],
   "source": [
    "rank.argsort()"
   ]
  },
  {
   "cell_type": "code",
   "execution_count": 344,
   "id": "9f9f1889-6841-4eaf-a636-6e3c743e6fbf",
   "metadata": {
    "execution": {
     "iopub.execute_input": "2023-07-21T10:01:50.822921Z",
     "iopub.status.busy": "2023-07-21T10:01:50.822921Z",
     "iopub.status.idle": "2023-07-21T10:01:50.831897Z",
     "shell.execute_reply": "2023-07-21T10:01:50.831897Z",
     "shell.execute_reply.started": "2023-07-21T10:01:50.822921Z"
    },
    "tags": []
   },
   "outputs": [
    {
     "data": {
      "text/plain": [
       "array([0, 2, 3, 4, 6, 1, 9, 5, 7, 8], dtype=int64)"
      ]
     },
     "execution_count": 344,
     "metadata": {},
     "output_type": "execute_result"
    }
   ],
   "source": [
    "y_test.iloc[0:10].values.squeeze().argsort().argsort()"
   ]
  },
  {
   "cell_type": "code",
   "execution_count": 333,
   "id": "39317587-05d8-4b3d-bd2a-ec41deeb6bf8",
   "metadata": {
    "execution": {
     "iopub.execute_input": "2023-07-21T09:28:47.071825Z",
     "iopub.status.busy": "2023-07-21T09:28:47.071458Z",
     "iopub.status.idle": "2023-07-21T09:28:47.077506Z",
     "shell.execute_reply": "2023-07-21T09:28:47.077506Z",
     "shell.execute_reply.started": "2023-07-21T09:28:47.071825Z"
    },
    "tags": []
   },
   "outputs": [],
   "source": [
    "# model.get_feature_importance(train_p)\n",
    "# feature_importances = model.get_feature_importance(train_p)\n",
    "# for score, name in sorted(zip(feature_importances, X_train.columns), reverse=True):\n",
    "#     print('{}: {}'.format(name, score))\n",
    "######\n",
    "# widget = MetricVisualizer(['model_depth_5', 'model_depth_8']) #事后对比，model_depth_5是‘train_dir’\n",
    "# widget.start()\n",
    "####\n",
    "# model.save_model('catboost_model.dump')\n",
    "# model = CatBoostClassifier()\n",
    "# model.load_model('catboost_model.dump');\n"
   ]
  }
 ],
 "metadata": {
  "kernelspec": {
   "display_name": "Python 3 (ipykernel)",
   "language": "python",
   "name": "python3"
  },
  "language_info": {
   "codemirror_mode": {
    "name": "ipython",
    "version": 3
   },
   "file_extension": ".py",
   "mimetype": "text/x-python",
   "name": "python",
   "nbconvert_exporter": "python",
   "pygments_lexer": "ipython3",
   "version": "3.9.7"
  }
 },
 "nbformat": 4,
 "nbformat_minor": 5
}
