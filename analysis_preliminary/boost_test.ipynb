{
 "cells": [
  {
   "cell_type": "code",
   "execution_count": 35,
   "id": "6ad1e658-30c4-4e22-823f-c84fc2919017",
   "metadata": {
    "execution": {
     "iopub.execute_input": "2023-08-15T07:49:00.429376Z",
     "iopub.status.busy": "2023-08-15T07:49:00.429002Z",
     "iopub.status.idle": "2023-08-15T07:49:00.442867Z",
     "shell.execute_reply": "2023-08-15T07:49:00.442364Z",
     "shell.execute_reply.started": "2023-08-15T07:49:00.429376Z"
    },
    "tags": []
   },
   "outputs": [],
   "source": [
    "import sys\n",
    "import os \n",
    "module_path = os.path.abspath(os.path.join('..')) \n",
    "if module_path not in sys.path: \n",
    "    sys.path.append(module_path)\n",
    "\n",
    "import pandas as pd  \n",
    "import numpy as np  \n",
    "import copy\n",
    "\n",
    "import tools.Sample_Tools as smpl\n",
    "from tools.Cacher import (CACHE_TYPE, save_cache,load_cache_adv,load_cache)\n",
    "\n",
    "\n",
    "import matplotlib.pyplot as plt\n",
    "import seaborn as sns\n",
    "\n",
    "# from base.JuUnits import parallal_task,task_chunk_split\n",
    "from base.JuUnits import excute_for_multidates\n",
    "\n",
    "# from sklearn.decomposition import FactorAnalysis\n",
    "# from factor_analyzer import FactorAnalyzer\n",
    "# from factor_analyzer.factor_analyzer import calculate_bartlett_sphericity,calculate_kmo\n",
    "\n",
    "# import inspect\n",
    "import warnings\n",
    "from sklearn.model_selection import train_test_split\n",
    "\n",
    "from catboost import CatBoost\n",
    "from catboost import CatBoostRanker, Pool, MetricVisualizer,CatBoostRegressor,CatBoostClassifier\n"
   ]
  },
  {
   "cell_type": "code",
   "execution_count": 2,
   "id": "1dbb2b5b-92ee-4517-a192-669afb2ad20a",
   "metadata": {
    "execution": {
     "iopub.execute_input": "2023-08-15T07:23:51.888057Z",
     "iopub.status.busy": "2023-08-15T07:23:51.887401Z",
     "iopub.status.idle": "2023-08-15T07:24:23.935279Z",
     "shell.execute_reply": "2023-08-15T07:24:23.935279Z",
     "shell.execute_reply.started": "2023-08-15T07:23:51.888057Z"
    },
    "tags": []
   },
   "outputs": [
    {
     "name": "stdout",
     "output_type": "stream",
     "text": [
      "base10\n",
      "alpha42\n",
      "alpha54\n",
      "alpha60\n",
      "alpha77\n",
      "191_alpha004\n",
      "191_alpha010\n",
      "191_alpha021\n",
      "191_alpha070\n",
      "191_alpha095\n",
      "191_alpha115\n",
      "191_alpha124\n",
      "191_alpha126\n",
      "191_alpha129\n",
      "191_alpha132\n",
      "191_alpha143\n",
      "191_alpha144\n",
      "191_alpha146\n",
      "191_alpha150\n",
      "191_alpha153\n",
      "191_alpha160\n",
      "191_alpha161\n",
      "191_alpha173\n",
      "191_alpha187\n",
      "mom_effect_coin\n",
      "turn_Amihud_Pvc_2023\n"
     ]
    }
   ],
   "source": [
    "file_names = ['base10','alpha42','alpha54','alpha60','alpha77','191_alpha004', '191_alpha010', '191_alpha021', '191_alpha070', '191_alpha095', '191_alpha115', \n",
    " '191_alpha124', '191_alpha126', '191_alpha129', '191_alpha132', '191_alpha143', '191_alpha144', \n",
    "  '191_alpha146', '191_alpha150', '191_alpha153', '191_alpha160', '191_alpha161', '191_alpha173', '191_alpha187','mom_effect_coin','turn_Amihud_Pvc_2023']\n",
    "\n",
    "temp = []\n",
    "for file in file_names:\n",
    "    print(file)\n",
    "    temp.append(load_cache(file+'_train',cache_type=CACHE_TYPE.FACTOR)\n",
    ")\n",
    "\n",
    "data_all = pd.concat(temp,axis=1).sort_index()#.loc[(slice('2017-01-11','2020-12-24'),codes),:]\n",
    "\n"
   ]
  },
  {
   "cell_type": "code",
   "execution_count": 223,
   "id": "583029ae-aadd-42c5-a7a9-ace620f7999e",
   "metadata": {
    "execution": {
     "iopub.execute_input": "2023-08-15T16:10:47.713897Z",
     "iopub.status.busy": "2023-08-15T16:10:47.713897Z",
     "iopub.status.idle": "2023-08-15T16:10:47.721958Z",
     "shell.execute_reply": "2023-08-15T16:10:47.721958Z",
     "shell.execute_reply.started": "2023-08-15T16:10:47.713897Z"
    },
    "tags": []
   },
   "outputs": [],
   "source": [
    "data_slice = data_all.loc[(slice('2018-01-11','2020-12-24'),slice(None))]"
   ]
  },
  {
   "cell_type": "code",
   "execution_count": 218,
   "id": "5eb13201-c78a-4298-b234-66bfc8047d44",
   "metadata": {
    "execution": {
     "iopub.execute_input": "2023-08-15T16:06:20.397026Z",
     "iopub.status.busy": "2023-08-15T16:06:20.396693Z",
     "iopub.status.idle": "2023-08-15T16:06:40.979734Z",
     "shell.execute_reply": "2023-08-15T16:06:40.978801Z",
     "shell.execute_reply.started": "2023-08-15T16:06:20.397026Z"
    },
    "tags": []
   },
   "outputs": [],
   "source": [
    "codes = data_slice.index.get_level_values(1).unique()\n",
    "dates = data_slice.index.get_level_values(0).unique()\n",
    "data_replenish = load_cache_adv('all_train_qfq',\n",
    "                                dates.min().strftime('%Y-%m-%d'),\n",
    "                                dates.max().strftime('%Y-%m-%d'),\n",
    "                                cache_type=CACHE_TYPE.STOCK)\n",
    "\n",
    "data_replenish = data_replenish.loc[(slice(None),data_replenish.index.get_level_values(1).unique().intersection(codes)),]\n",
    "\n",
    "ret = smpl.get_forward_return(data_replenish,'close')\n",
    "ret.name = 'target'\n",
    "ret[np.abs(ret)>0.15]=np.nan\n",
    "\n",
    "## 未来5日总收益\n",
    "ret = np.exp(excute_for_multidates(np.log(ret+1).sort_index(level=0,ascending=False),lambda x:x.rolling(20).sum(),level='code'))-1\n",
    "ret = ret.sort_index(level=0,ascending=True)\n",
    "\n",
    "industy = data_replenish['industry']\n",
    "industy.name = 'industy'\n",
    "\n",
    "cap_log = np.log(data_replenish['market_value'])\n",
    "cap_log.name = 'cap_log'\n",
    "\n",
    "\n",
    "data = pd.concat([data_slice,industy,cap_log,ret],axis=1).sort_index().dropna()\n",
    "\n",
    "# data_invert = data[data.columns.difference(['191_alpha004','industy','cap_log'])]*-1\n",
    "# data_invert = pd.concat([data_invert,data[['191_alpha004','industy','cap_log']]],axis=1)\n",
    "# data_augmentation = pd.concat([data, data_invert],axis=0).sort_index()\n",
    "data_augmentation =data"
   ]
  },
  {
   "cell_type": "code",
   "execution_count": 219,
   "id": "867dbab8-0659-4480-86f5-516caeaa12b5",
   "metadata": {
    "execution": {
     "iopub.execute_input": "2023-08-15T16:06:40.981670Z",
     "iopub.status.busy": "2023-08-15T16:06:40.980801Z",
     "iopub.status.idle": "2023-08-15T16:06:41.556466Z",
     "shell.execute_reply": "2023-08-15T16:06:41.555584Z",
     "shell.execute_reply.started": "2023-08-15T16:06:40.981599Z"
    },
    "tags": []
   },
   "outputs": [],
   "source": [
    "data = data_augmentation\n",
    "data['industy'] = data['industy'].astype('string')\n",
    "data['191_alpha004'] = data['191_alpha004'].astype('int')\n",
    "train_data = data[data.columns.difference(['target'])]\n",
    "train_target = data[['target']]\n",
    "\n",
    "X_train,X_test, y_train, y_test =train_test_split(train_data,train_target,test_size=.1, shuffle=False)\n",
    "\n",
    "# X_train,X_keep, y_train, y_keep =train_test_split(train_data,train_target,test_size=.1, shuffle=False)\n",
    "# X_train,X_test, y_train, y_test =train_test_split(X_train,y_train,test_size=.1, shuffle=True)\n",
    "\n",
    "# X_train=X_train.sort_index()\n",
    "# X_test=X_test.sort_index()\n",
    "# y_train=y_train.sort_index()\n",
    "# y_test=y_test.sort_index()\n",
    "\n",
    "\n",
    "# y_train_group = y_train.index.get_level_values(0).strftime('%Y-%m-%d').tolist()\n",
    "# y_test_group = y_test.index.get_level_values(0).strftime('%Y-%m-%d').tolist()\n",
    "\n",
    "# X_train=X_train.sort_index(level='code')\n",
    "# X_test=X_test.sort_index(level='code')\n",
    "# y_train=y_train.sort_index(level='code')\n",
    "# y_test=y_test.sort_index(level='code')\n",
    "# y_train_group = y_train.index.get_level_values(1).tolist()\n",
    "# y_test_group = y_test.index.get_level_values(1).tolist()"
   ]
  },
  {
   "cell_type": "code",
   "execution_count": 214,
   "id": "76b321ab-7efd-444f-9dfb-5654be3034eb",
   "metadata": {
    "execution": {
     "iopub.execute_input": "2023-08-15T16:05:24.282716Z",
     "iopub.status.busy": "2023-08-15T16:05:24.282716Z",
     "iopub.status.idle": "2023-08-15T16:05:24.291691Z",
     "shell.execute_reply": "2023-08-15T16:05:24.291147Z",
     "shell.execute_reply.started": "2023-08-15T16:05:24.282716Z"
    },
    "tags": []
   },
   "outputs": [],
   "source": [
    "# y_train.groupby(level=0).count()\n",
    "# X_train.nunique()\n"
   ]
  },
  {
   "cell_type": "code",
   "execution_count": 220,
   "id": "b24bdecc-2bb4-452c-882b-a1565cd673d8",
   "metadata": {
    "execution": {
     "iopub.execute_input": "2023-08-15T16:06:41.557463Z",
     "iopub.status.busy": "2023-08-15T16:06:41.557463Z",
     "iopub.status.idle": "2023-08-15T16:06:42.521637Z",
     "shell.execute_reply": "2023-08-15T16:06:42.520872Z",
     "shell.execute_reply.started": "2023-08-15T16:06:41.557463Z"
    },
    "tags": []
   },
   "outputs": [],
   "source": [
    "categorical_features_names = ['191_alpha004', 'industy']\n",
    "# categorical_features_names = ['industy']\n",
    "train_p = Pool(\n",
    "    data=X_train,\n",
    "    label=np.sign(y_train['target']).map({-1:0,1:1,0:0}),\n",
    "    # label=y_train,\n",
    "    # group_id=y_train_group,\n",
    "    cat_features=categorical_features_names\n",
    ")\n",
    "\n",
    "test_p = Pool(\n",
    "    data=X_test,\n",
    "    label=np.sign(y_test['target']).map({-1:0,1:1,0:0}),\n",
    "    # label=y_test,\n",
    "    # group_id=y_test_group,\n",
    "    cat_features=categorical_features_names\n",
    ")"
   ]
  },
  {
   "cell_type": "code",
   "execution_count": null,
   "id": "daa4266d-cd97-499d-bf59-a7a7c7817ecc",
   "metadata": {},
   "outputs": [],
   "source": []
  },
  {
   "cell_type": "code",
   "execution_count": 153,
   "id": "7259b8f9-0835-4a8f-9e5d-f096cb658e6e",
   "metadata": {
    "execution": {
     "iopub.execute_input": "2023-08-15T11:05:11.871216Z",
     "iopub.status.busy": "2023-08-15T11:05:11.870219Z",
     "iopub.status.idle": "2023-08-15T11:05:11.885180Z",
     "shell.execute_reply": "2023-08-15T11:05:11.884395Z",
     "shell.execute_reply.started": "2023-08-15T11:05:11.871216Z"
    },
    "tags": []
   },
   "outputs": [],
   "source": [
    "default_parameters = {\n",
    "    'learning_rate': .05,\n",
    "    'iterations': 100,\n",
    "    'custom_metric': None,\n",
    "    'verbose': False,\n",
    "    'random_seed': 0,\n",
    "    'use_best_model':True,\n",
    "    'early_stopping_rounds': 10,\n",
    "}\n",
    "\n",
    "\n",
    "\n",
    "def fit_model(model_class ,loss_function, train_pool, test_pool, additional_params=None, verbose=False):\n",
    "    parameters = copy.deepcopy(default_parameters)\n",
    "    parameters['loss_function'] = loss_function\n",
    "    if type(loss_function) == str:\n",
    "        parameters['train_dir'] = loss_function.replace(':','_').replace('=','_')\n",
    "    else:\n",
    "        parameters['train_dir'] = loss_function.__class__.__name__\n",
    "        \n",
    "    parameters['verbose'] = verbose\n",
    "    \n",
    "    if additional_params is not None:\n",
    "        parameters.update(additional_params)\n",
    "        \n",
    "    \n",
    "    # print(parameters)\n",
    "    if model_class == CatBoost:\n",
    "        mod = model_class(parameters)\n",
    "    else:\n",
    "        mod = model_class(**parameters)\n",
    "        \n",
    "    mod.fit(train_pool, eval_set=test_pool, plot=True)\n",
    "    \n",
    "    return mod\n"
   ]
  },
  {
   "cell_type": "code",
   "execution_count": null,
   "id": "ee53e17d-a7e0-4326-ad74-ca9daefd956c",
   "metadata": {
    "tags": []
   },
   "outputs": [],
   "source": []
  },
  {
   "cell_type": "code",
   "execution_count": 210,
   "id": "51e4d983-8b7a-43e1-a0c9-34bc13b322b9",
   "metadata": {
    "execution": {
     "iopub.execute_input": "2023-08-15T16:02:02.831513Z",
     "iopub.status.busy": "2023-08-15T16:02:02.831513Z",
     "iopub.status.idle": "2023-08-15T16:02:02.835503Z",
     "shell.execute_reply": "2023-08-15T16:02:02.835277Z",
     "shell.execute_reply.started": "2023-08-15T16:02:02.831513Z"
    },
    "tags": []
   },
   "outputs": [],
   "source": [
    "# parameters = {'custom_metric': ['PrecisionAt:top=10', 'RecallAt:top=10', 'MAP:top=10']}\n",
    "# parameters = {'custom_metric': ['PFound',  'AverageGain:top=10'],}\n",
    "# parameters = {'custom_metric': ['NDCG',  'AverageGain:top=100'],}\n",
    "# parameters={'learning_rate': .1,'custom_metric': ['NDCG:type=ranking',  'AverageGain:top=1000'],'eval_metric':'AUC:type=Ranking','one_hot_max_size': X_train['industy'].nunique()}\n",
    "# parameters={'learning_rate': .1,'custom_metric': ['NDCG', 'AverageGain:top=1000'],'one_hot_max_size': 0}\n",
    "\n",
    "# parameters={'learning_rate': .3,'custom_metric': ['R2'],'one_hot_max_size': 0,'early_stopping_rounds':None,'iterations': 200,'use_best_model':False}\n",
    "\n",
    "# model = fit_model(CatBoostRegressor, 'RMSE', train_p, test_p, parameters, verbose=False)\n",
    "\n",
    "\n"
   ]
  },
  {
   "cell_type": "code",
   "execution_count": 221,
   "id": "1f365439-31a7-4ce1-a424-6aebdf6c3d59",
   "metadata": {
    "execution": {
     "iopub.execute_input": "2023-08-15T16:06:42.522632Z",
     "iopub.status.busy": "2023-08-15T16:06:42.522632Z",
     "iopub.status.idle": "2023-08-15T16:08:42.335408Z",
     "shell.execute_reply": "2023-08-15T16:08:42.334412Z",
     "shell.execute_reply.started": "2023-08-15T16:06:42.522632Z"
    },
    "tags": []
   },
   "outputs": [
    {
     "data": {
      "application/vnd.jupyter.widget-view+json": {
       "model_id": "43ca328c771c4254a00e2ac688daa993",
       "version_major": 2,
       "version_minor": 0
      },
      "text/plain": [
       "MetricVisualizer(layout=Layout(align_self='stretch', height='500px'))"
      ]
     },
     "metadata": {},
     "output_type": "display_data"
    }
   ],
   "source": [
    "parameters={'learning_rate': .3,'custom_metric': ['Precision','AUC'],'one_hot_max_size': 0,'early_stopping_rounds':None,'iterations': 200, 'use_best_model':False}\n",
    "model = fit_model(CatBoostClassifier, 'CrossEntropy', train_p, test_p, parameters, verbose=False)"
   ]
  },
  {
   "cell_type": "code",
   "execution_count": 222,
   "id": "49984d72-6f8a-4f33-b9fe-e14aeb61b1e2",
   "metadata": {
    "execution": {
     "iopub.execute_input": "2023-08-15T16:09:25.845894Z",
     "iopub.status.busy": "2023-08-15T16:09:25.845894Z",
     "iopub.status.idle": "2023-08-15T16:09:27.509276Z",
     "shell.execute_reply": "2023-08-15T16:09:27.508857Z",
     "shell.execute_reply.started": "2023-08-15T16:09:25.845894Z"
    },
    "tags": []
   },
   "outputs": [
    {
     "name": "stdout",
     "output_type": "stream",
     "text": [
      "0.7258981806405945\n",
      "0.5689488412880596\n"
     ]
    }
   ],
   "source": [
    "y_pred = model.predict(data=X_train,prediction_type='Class')   #'Class',RawFormulaVal,Probability, LogProbability\n",
    "y_data = np.sign(y_train['target']).map({-1:0,1:1,0:0}).values.squeeze()\n",
    "print((y_pred==y_data).sum()/len(y_pred))\n",
    "\n",
    "y_pred = model.predict(data=X_test,prediction_type='Class')   #Class,RawFormulaVal,Probability, LogProbability\n",
    "y_data = np.sign(y_test['target']).map({-1:0,1:1,0:0}).values.squeeze()\n",
    "print((y_pred==y_data).sum()/len(y_pred))\n",
    "\n",
    "# y_pred = model.predict(data=X_keep,prediction_type='Class')   #Class,RawFormulaVal,Probability, LogProbability\n",
    "# y_data = np.sign(y_keep['target']).map({-1:0,1:1,0:0}).values.squeeze()\n",
    "# print((y_pred==y_data).sum()/len(y_pred))"
   ]
  },
  {
   "cell_type": "code",
   "execution_count": 125,
   "id": "63280ee5-4561-4be2-acb2-d34d2e56e173",
   "metadata": {
    "execution": {
     "iopub.execute_input": "2023-08-15T10:24:24.315492Z",
     "iopub.status.busy": "2023-08-15T10:24:24.315492Z",
     "iopub.status.idle": "2023-08-15T10:24:24.324998Z",
     "shell.execute_reply": "2023-08-15T10:24:24.324998Z",
     "shell.execute_reply.started": "2023-08-15T10:24:24.315492Z"
    },
    "tags": []
   },
   "outputs": [],
   "source": [
    "# 未来1日\n",
    "# 0.5769210621568706\n",
    "# 0.5314988727614745\n",
    "\n",
    "# 未来5日\n",
    "# 0.6152764985650114\n",
    "# 0.5469538320324656\n",
    "\n",
    "\n",
    "# 未来10日\n",
    "# 0.6590015072246937\n",
    "# 0.5560097121538222\n",
    "\n",
    "# 未来20日\n",
    "# 0.7043004187617854\n",
    "# 0.5630177595870658\n",
    "\n",
    "# 未来20日 无增广  留10%回测试\n",
    "# 18-20                2018                 2019                2020\n",
    "# 0.7258981806405945   0.8321801284818323   0.8175722727363164  0.7891402019891709\n",
    "# 0.5689488412880596    0.6683329524680073  0.6072977597389678  0.574014115250291\n",
    "\n",
    "# 2020 dategroup       # 2020 codegroup\n",
    "# 0.7740708477926509   0.7834912152698478\n",
    "# 0.5848733993015134   0.5680296856810244\n",
    "\n",
    "\n",
    "# 未来20日 无增广 乱序训练， 留10%回测试\n",
    "# 18-20               2019                2020\n",
    "# 0.7220633200895725  0.816449446592355   0.7874404054785414\n",
    "# 0.571495815225101   0.6122518005650391  0.5769608556461001\n",
    " \n",
    "\n",
    "\n",
    "\n",
    "\n"
   ]
  },
  {
   "cell_type": "code",
   "execution_count": 39,
   "id": "9f9f1889-6841-4eaf-a636-6e3c743e6fbf",
   "metadata": {
    "execution": {
     "iopub.execute_input": "2023-07-31T09:56:01.944871Z",
     "iopub.status.busy": "2023-07-31T09:56:01.944871Z",
     "iopub.status.idle": "2023-07-31T09:56:04.651070Z",
     "shell.execute_reply": "2023-07-31T09:56:04.651070Z",
     "shell.execute_reply.started": "2023-07-31T09:56:01.944871Z"
    },
    "tags": []
   },
   "outputs": [
    {
     "name": "stdout",
     "output_type": "stream",
     "text": [
      "0.5346805168697931\n",
      "0.5053659428052885\n"
     ]
    }
   ],
   "source": [
    "# y_test.iloc[200:500].values.squeeze()\n",
    "y_pred = model.predict(data=X_train,prediction_type='RawFormulaVal')   #'Class',RawFormulaVal,Probability, LogProbability\n",
    "y_data = np.sign(y_train).values.squeeze()\n",
    "print((np.sign(y_pred)==y_data).sum()/len(y_pred))\n",
    "\n",
    "y_pred = model.predict(data=X_test,prediction_type='RawFormulaVal')   #Class,RawFormulaVal,Probability, LogProbability\n",
    "y_data = np.sign(y_test).values.squeeze()\n",
    "print((np.sign(y_pred)==y_data).sum()/len(y_pred))"
   ]
  },
  {
   "cell_type": "code",
   "execution_count": 175,
   "id": "90375b6a-a63e-4ec3-9a82-08bfbea7613c",
   "metadata": {
    "execution": {
     "iopub.execute_input": "2023-07-31T08:50:24.892749Z",
     "iopub.status.busy": "2023-07-31T08:50:24.892749Z",
     "iopub.status.idle": "2023-07-31T08:50:24.918694Z",
     "shell.execute_reply": "2023-07-31T08:50:24.917780Z",
     "shell.execute_reply.started": "2023-07-31T08:50:24.892749Z"
    },
    "tags": []
   },
   "outputs": [
    {
     "data": {
      "text/plain": [
       "(array([0, 1], dtype=int64), array([412175, 225071], dtype=int64))"
      ]
     },
     "execution_count": 175,
     "metadata": {},
     "output_type": "execute_result"
    }
   ],
   "source": [
    "# plt.figure(figsize=(1120/72,420/72))\n",
    "# plt.scatter(range(len(y_pred)), np.sign(y_pred),linewidths=4)\n",
    "# plt.scatter(range(len(y_pred)), np.sign(y_test.iloc[700:900].values.squeeze()))\n",
    "np.unique(y_pred,return_counts=True)"
   ]
  },
  {
   "cell_type": "code",
   "execution_count": 176,
   "id": "f969c41a-6fea-4b99-92c0-9e75ea4ac6ea",
   "metadata": {
    "execution": {
     "iopub.execute_input": "2023-07-31T08:50:26.317515Z",
     "iopub.status.busy": "2023-07-31T08:50:26.317345Z",
     "iopub.status.idle": "2023-07-31T08:50:26.353250Z",
     "shell.execute_reply": "2023-07-31T08:50:26.352557Z",
     "shell.execute_reply.started": "2023-07-31T08:50:26.317515Z"
    },
    "tags": []
   },
   "outputs": [
    {
     "data": {
      "text/plain": [
       "(array([0, 1], dtype=int64), array([330213, 307033], dtype=int64))"
      ]
     },
     "execution_count": 176,
     "metadata": {},
     "output_type": "execute_result"
    }
   ],
   "source": [
    "np.unique(np.sign(y_test['target']).map({-1:0,1:1,0:0}),return_counts=True)"
   ]
  },
  {
   "cell_type": "code",
   "execution_count": 333,
   "id": "39317587-05d8-4b3d-bd2a-ec41deeb6bf8",
   "metadata": {
    "execution": {
     "iopub.execute_input": "2023-07-21T09:28:47.071825Z",
     "iopub.status.busy": "2023-07-21T09:28:47.071458Z",
     "iopub.status.idle": "2023-07-21T09:28:47.077506Z",
     "shell.execute_reply": "2023-07-21T09:28:47.077506Z",
     "shell.execute_reply.started": "2023-07-21T09:28:47.071825Z"
    },
    "tags": []
   },
   "outputs": [],
   "source": [
    "# model.get_feature_importance(train_p)\n",
    "# feature_importances = model.get_feature_importance(train_p)\n",
    "# for score, name in sorted(zip(feature_importances, X_train.columns), reverse=True):\n",
    "#     print('{}: {}'.format(name, score))\n",
    "######\n",
    "# widget = MetricVisualizer(['model_depth_5', 'model_depth_8']) #事后对比，model_depth_5是‘train_dir’\n",
    "# widget.start()\n",
    "####\n",
    "# model.save_model('catboost_model.dump')\n",
    "# model = CatBoostClassifier()\n",
    "# model.load_model('catboost_model.dump');\n",
    "\n",
    "########Batch_training\n",
    "# model1 = CatBoostRegressor(**params)\n",
    "# batch1 = Pool(train_data1, label=train_labels1)\n",
    "# model1.fit(X=batch1)\n",
    "# # continue training with different portion of data\n",
    "# model2 = CatBoostRegressor(**params)\n",
    "# batch2 = Pool(train_data2, label=train_labels2)\n",
    "# batch2.set_baseline(model1.predict(batch2))\n",
    "# model2.fit(X=batch2)\n",
    "# # build resulting model\n",
    "# model = sum_models([model1, model2])\n",
    "\n"
   ]
  },
  {
   "cell_type": "code",
   "execution_count": null,
   "id": "3f86ce07-5a22-4938-9e13-3c75469f318f",
   "metadata": {
    "tags": []
   },
   "outputs": [],
   "source": [
    "# class LossObjective(object):\n",
    "#     # L​(θ;X,y)=1− 1/N​*∑​max(μi​−yi​,0)**2\n",
    "#     def calc_ders_range(self, approxes, targets, weights):\n",
    "#         result = []\n",
    "#         d = approxes*(-2) - targets*(-2)\n",
    "#         for index in range(len(targets)):\n",
    "#             if approxes[index]-targets[index] >0:\n",
    "#                 der1 = d[index]\n",
    "#                 der2 = -2\n",
    "#             else:\n",
    "#                 der1 = 1\n",
    "#                 der2 = 0\n",
    "\n",
    "#             if weights is not None:\n",
    "#                 der1 *= weights[index]\n",
    "#                 der2 *= weights[index]\n",
    "\n",
    "#             result.append((der1, der2))\n",
    "#         return result\n",
    "    \n",
    "\n",
    "# parameters={'learning_rate': .5,'eval_metric': 'RMSE','custom_metric': ['R2'],'one_hot_max_size': 0,'early_stopping_rounds':None,'iterations': 120,'use_best_model':False}\n",
    "# model = fit_model(CatBoostRegressor, LossObjective(), train_p, test_p, parameters, verbose=False)"
   ]
  },
  {
   "cell_type": "code",
   "execution_count": 224,
   "id": "21ceeee1-9175-4c55-a1d4-d427804b1072",
   "metadata": {
    "execution": {
     "iopub.execute_input": "2023-08-15T16:12:04.955837Z",
     "iopub.status.busy": "2023-08-15T16:12:04.955148Z",
     "iopub.status.idle": "2023-08-15T16:12:05.594089Z",
     "shell.execute_reply": "2023-08-15T16:12:05.593760Z",
     "shell.execute_reply.started": "2023-08-15T16:12:04.955837Z"
    },
    "tags": []
   },
   "outputs": [
    {
     "data": {
      "text/plain": [
       "<BarContainer object of 49 artists>"
      ]
     },
     "execution_count": 224,
     "metadata": {},
     "output_type": "execute_result"
    },
    {
     "data": {
      "image/png": "[encoded data removed]",
      "text/plain": [
       "<Figure size 420x840 with 1 Axes>"
      ]
     },
     "metadata": {
      "needs_background": "light"
     },
     "output_type": "display_data"
    }
   ],
   "source": [
    "plt.figure(figsize=(420/72,840/72))\n",
    "plt.barh(X_train.columns,model.feature_importances_)"
   ]
  }
 ],
 "metadata": {
  "kernelspec": {
   "display_name": "Python 3 (ipykernel)",
   "language": "python",
   "name": "python3"
  },
  "language_info": {
   "codemirror_mode": {
    "name": "ipython",
    "version": 3
   },
   "file_extension": ".py",
   "mimetype": "text/x-python",
   "name": "python",
   "nbconvert_exporter": "python",
   "pygments_lexer": "ipython3",
   "version": "3.9.7"
  }
 },
 "nbformat": 4,
 "nbformat_minor": 5
}
