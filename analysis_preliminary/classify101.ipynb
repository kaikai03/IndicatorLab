{
 "cells": [
  {
   "cell_type": "code",
   "execution_count": 144,
   "id": "b749366a-b3fd-4a85-b403-669c30c390d0",
   "metadata": {
    "execution": {
     "iopub.execute_input": "2023-07-03T14:54:04.915013Z",
     "iopub.status.busy": "2023-07-03T14:54:04.915013Z",
     "iopub.status.idle": "2023-07-03T14:54:04.927039Z",
     "shell.execute_reply": "2023-07-03T14:54:04.927039Z",
     "shell.execute_reply.started": "2023-07-03T14:54:04.915013Z"
    },
    "tags": []
   },
   "outputs": [],
   "source": [
    "import sys\n",
    "import os \n",
    "module_path = os.path.abspath(os.path.join('..')) \n",
    "if module_path not in sys.path: \n",
    "    sys.path.append(module_path)\n",
    "\n",
    "import pandas as pd  \n",
    "import numpy as np  \n",
    "\n",
    "# import tools.Sample_Tools as smpl\n",
    "# import tools.Pretreat_Tools as pretreat\n",
    "from tools.Cacher import (CACHE_TYPE, save_cache,load_cache_adv,load_cache)\n",
    "\n",
    "\n",
    "\n",
    "import matplotlib.pyplot as plt\n",
    "# import seaborn as sns\n",
    "\n",
    "from base.JuUnits import parallal_task,task_chunk_split\n",
    "from base.JuUnits import excute_for_multidates\n",
    "\n",
    "# import statsmodels.api as sm\n",
    "from sklearn.decomposition import FactorAnalysis\n",
    "\n",
    "# from scipy.optimize import minimize\n",
    "\n",
    "# from QUANTAXIS.QAUtil import DATABASE\n",
    "# from QUANTAXIS.QAUtil import  trade_date_sse\n",
    "# from QUANTAXIS.QAUtil.QADate_trade import (\n",
    "#     QA_util_get_pre_trade_date,\n",
    "#     QA_util_get_next_trade_date,\n",
    "#     QA_util_if_tradetime\n",
    "# )\n",
    "\n",
    "# import inspect\n",
    "\n",
    "# from sklearn import linear_model\n",
    "# import ind.alpha101 as a101\n"
   ]
  },
  {
   "cell_type": "code",
   "execution_count": 8,
   "id": "0e90ea6a-ba6e-4f85-97d9-3218b9222ec3",
   "metadata": {
    "execution": {
     "iopub.execute_input": "2023-07-03T10:40:57.851021Z",
     "iopub.status.busy": "2023-07-03T10:40:57.851021Z",
     "iopub.status.idle": "2023-07-03T10:41:47.205204Z",
     "shell.execute_reply": "2023-07-03T10:41:47.205002Z",
     "shell.execute_reply.started": "2023-07-03T10:40:57.851021Z"
    },
    "tags": []
   },
   "outputs": [
    {
     "name": "stdout",
     "output_type": "stream",
     "text": [
      "Now in the main code. Process name is: base.JuUnits\n",
      "base.JuUnits, subpid:8020  pid:6004\n"
     ]
    },
    {
     "data": {
      "application/vnd.jupyter.widget-view+json": {
       "model_id": "3b09947c246e41cd91e3c63b8b8a7d1c",
       "version_major": 2,
       "version_minor": 0
      },
      "text/plain": [
       "  0%|          | 0/6 [00:00<?, ?it/s]"
      ]
     },
     "metadata": {},
     "output_type": "display_data"
    }
   ],
   "source": [
    "###加载数据\n",
    "\n",
    "ids = np.arange(1,101)\n",
    "# np.random.shuffle(ids)\n",
    "files = list(map(lambda x:'alpha'+str(x)+'_train',ids))\n",
    "\n",
    "def load_alpha_factors(file_names):\n",
    "    from tools.Cacher import (CACHE_TYPE, save_cache,load_cache_adv,load_cache)\n",
    "    from base.JuUnits import excute_for_multidates\n",
    "    import numpy as np\n",
    "    import pandas as pd \n",
    "    \n",
    "    temp = []\n",
    "    for file in file_names:\n",
    "        print(file)\n",
    "        temp.append(load_cache(file, cache_type=CACHE_TYPE.FACTOR))\n",
    "    \n",
    "    return pd.concat(temp,axis=1)\n",
    "        \n",
    "worker=6\n",
    "task = task_chunk_split(files, worker)\n",
    "results = parallal_task(worker, load_alpha_factors, task)\n",
    "a101 = pd.concat(results,axis=1)"
   ]
  },
  {
   "cell_type": "code",
   "execution_count": 134,
   "id": "b854e463-5c2d-4dbc-afc7-e12925c3ef3c",
   "metadata": {
    "execution": {
     "iopub.execute_input": "2023-07-03T13:48:43.744612Z",
     "iopub.status.busy": "2023-07-03T13:48:43.744059Z",
     "iopub.status.idle": "2023-07-03T13:48:43.844472Z",
     "shell.execute_reply": "2023-07-03T13:48:43.844472Z",
     "shell.execute_reply.started": "2023-07-03T13:48:43.744612Z"
    },
    "tags": []
   },
   "outputs": [],
   "source": [
    "# removed = a101.columns.difference(['alpha61', 'alpha75','alpha95'],sort=False)\n",
    "tmp = a101.loc[(slice('2018-01-04','2018-12-24'),'000001'),:][removed].dropna()\n"
   ]
  },
  {
   "cell_type": "code",
   "execution_count": 135,
   "id": "94bb4037-56a0-4179-9cfa-63189b4d4a0d",
   "metadata": {
    "execution": {
     "iopub.execute_input": "2023-07-03T13:48:46.254062Z",
     "iopub.status.busy": "2023-07-03T13:48:46.254062Z",
     "iopub.status.idle": "2023-07-03T13:48:46.285045Z",
     "shell.execute_reply": "2023-07-03T13:48:46.285045Z",
     "shell.execute_reply.started": "2023-07-03T13:48:46.254062Z"
    },
    "tags": []
   },
   "outputs": [
    {
     "data": {
      "text/html": [
       "<div>\n",
       "<style scoped>\n",
       "    .dataframe tbody tr th:only-of-type {\n",
       "        vertical-align: middle;\n",
       "    }\n",
       "\n",
       "    .dataframe tbody tr th {\n",
       "        vertical-align: top;\n",
       "    }\n",
       "\n",
       "    .dataframe thead th {\n",
       "        text-align: right;\n",
       "    }\n",
       "</style>\n",
       "<table border=\"1\" class=\"dataframe\">\n",
       "  <thead>\n",
       "    <tr style=\"text-align: right;\">\n",
       "      <th></th>\n",
       "      <th>alpha1</th>\n",
       "      <th>alpha2</th>\n",
       "      <th>alpha3</th>\n",
       "      <th>alpha4</th>\n",
       "      <th>alpha5</th>\n",
       "      <th>alpha6</th>\n",
       "      <th>alpha7</th>\n",
       "      <th>alpha8</th>\n",
       "      <th>alpha9</th>\n",
       "      <th>alpha10</th>\n",
       "    </tr>\n",
       "    <tr>\n",
       "      <th>date</th>\n",
       "      <th></th>\n",
       "      <th></th>\n",
       "      <th></th>\n",
       "      <th></th>\n",
       "      <th></th>\n",
       "      <th></th>\n",
       "      <th></th>\n",
       "      <th></th>\n",
       "      <th></th>\n",
       "      <th></th>\n",
       "    </tr>\n",
       "  </thead>\n",
       "  <tbody>\n",
       "    <tr>\n",
       "      <th>2018-02-27</th>\n",
       "      <td>0.516515</td>\n",
       "      <td>1.308599</td>\n",
       "      <td>-0.984439</td>\n",
       "      <td>-0.132326</td>\n",
       "      <td>1.178833</td>\n",
       "      <td>-1.373379</td>\n",
       "      <td>0.085631</td>\n",
       "      <td>0.096772</td>\n",
       "      <td>1.437566</td>\n",
       "      <td>1.328143</td>\n",
       "    </tr>\n",
       "    <tr>\n",
       "      <th>2018-02-28</th>\n",
       "      <td>-0.144630</td>\n",
       "      <td>1.125771</td>\n",
       "      <td>0.086604</td>\n",
       "      <td>-0.132326</td>\n",
       "      <td>1.362434</td>\n",
       "      <td>0.205447</td>\n",
       "      <td>0.085631</td>\n",
       "      <td>-1.343060</td>\n",
       "      <td>0.916932</td>\n",
       "      <td>1.164145</td>\n",
       "    </tr>\n",
       "    <tr>\n",
       "      <th>2018-03-01</th>\n",
       "      <td>-0.753131</td>\n",
       "      <td>1.374152</td>\n",
       "      <td>0.534158</td>\n",
       "      <td>0.210165</td>\n",
       "      <td>1.418514</td>\n",
       "      <td>0.671252</td>\n",
       "      <td>0.085631</td>\n",
       "      <td>-1.271859</td>\n",
       "      <td>-0.037557</td>\n",
       "      <td>0.060161</td>\n",
       "    </tr>\n",
       "    <tr>\n",
       "      <th>2018-03-02</th>\n",
       "      <td>-1.330665</td>\n",
       "      <td>1.642982</td>\n",
       "      <td>-0.277188</td>\n",
       "      <td>0.552656</td>\n",
       "      <td>1.400273</td>\n",
       "      <td>-0.142587</td>\n",
       "      <td>0.085631</td>\n",
       "      <td>-1.493372</td>\n",
       "      <td>0.309528</td>\n",
       "      <td>-0.850493</td>\n",
       "    </tr>\n",
       "    <tr>\n",
       "      <th>2018-03-05</th>\n",
       "      <td>-0.753131</td>\n",
       "      <td>2.053894</td>\n",
       "      <td>-0.795275</td>\n",
       "      <td>0.895146</td>\n",
       "      <td>1.428326</td>\n",
       "      <td>-0.714004</td>\n",
       "      <td>0.085631</td>\n",
       "      <td>-1.511831</td>\n",
       "      <td>-0.471421</td>\n",
       "      <td>-0.857160</td>\n",
       "    </tr>\n",
       "    <tr>\n",
       "      <th>...</th>\n",
       "      <td>...</td>\n",
       "      <td>...</td>\n",
       "      <td>...</td>\n",
       "      <td>...</td>\n",
       "      <td>...</td>\n",
       "      <td>...</td>\n",
       "      <td>...</td>\n",
       "      <td>...</td>\n",
       "      <td>...</td>\n",
       "      <td>...</td>\n",
       "    </tr>\n",
       "    <tr>\n",
       "      <th>2018-12-18</th>\n",
       "      <td>-0.753131</td>\n",
       "      <td>0.445496</td>\n",
       "      <td>0.117329</td>\n",
       "      <td>1.066392</td>\n",
       "      <td>-0.384570</td>\n",
       "      <td>0.083661</td>\n",
       "      <td>0.085631</td>\n",
       "      <td>1.011830</td>\n",
       "      <td>0.668222</td>\n",
       "      <td>1.014814</td>\n",
       "    </tr>\n",
       "    <tr>\n",
       "      <th>2018-12-19</th>\n",
       "      <td>-1.330665</td>\n",
       "      <td>0.382575</td>\n",
       "      <td>0.797451</td>\n",
       "      <td>1.237637</td>\n",
       "      <td>-0.198343</td>\n",
       "      <td>0.788963</td>\n",
       "      <td>1.093049</td>\n",
       "      <td>0.953815</td>\n",
       "      <td>0.712292</td>\n",
       "      <td>1.041480</td>\n",
       "    </tr>\n",
       "    <tr>\n",
       "      <th>2018-12-20</th>\n",
       "      <td>-0.753131</td>\n",
       "      <td>0.897619</td>\n",
       "      <td>2.435159</td>\n",
       "      <td>1.237637</td>\n",
       "      <td>0.233126</td>\n",
       "      <td>2.415233</td>\n",
       "      <td>1.898983</td>\n",
       "      <td>1.172690</td>\n",
       "      <td>0.932633</td>\n",
       "      <td>1.172145</td>\n",
       "    </tr>\n",
       "    <tr>\n",
       "      <th>2018-12-21</th>\n",
       "      <td>-1.330665</td>\n",
       "      <td>2.305627</td>\n",
       "      <td>2.675228</td>\n",
       "      <td>1.237637</td>\n",
       "      <td>0.621565</td>\n",
       "      <td>2.612340</td>\n",
       "      <td>2.241505</td>\n",
       "      <td>1.104127</td>\n",
       "      <td>1.064838</td>\n",
       "      <td>-1.325153</td>\n",
       "    </tr>\n",
       "    <tr>\n",
       "      <th>2018-12-24</th>\n",
       "      <td>0.516515</td>\n",
       "      <td>2.271830</td>\n",
       "      <td>1.895204</td>\n",
       "      <td>1.237637</td>\n",
       "      <td>0.963489</td>\n",
       "      <td>1.440560</td>\n",
       "      <td>0.085631</td>\n",
       "      <td>0.940629</td>\n",
       "      <td>-0.213150</td>\n",
       "      <td>-0.425166</td>\n",
       "    </tr>\n",
       "  </tbody>\n",
       "</table>\n",
       "<p>132 rows × 10 columns</p>\n",
       "</div>"
      ],
      "text/plain": [
       "              alpha1    alpha2    alpha3    alpha4    alpha5    alpha6  \\\n",
       "date                                                                     \n",
       "2018-02-27  0.516515  1.308599 -0.984439 -0.132326  1.178833 -1.373379   \n",
       "2018-02-28 -0.144630  1.125771  0.086604 -0.132326  1.362434  0.205447   \n",
       "2018-03-01 -0.753131  1.374152  0.534158  0.210165  1.418514  0.671252   \n",
       "2018-03-02 -1.330665  1.642982 -0.277188  0.552656  1.400273 -0.142587   \n",
       "2018-03-05 -0.753131  2.053894 -0.795275  0.895146  1.428326 -0.714004   \n",
       "...              ...       ...       ...       ...       ...       ...   \n",
       "2018-12-18 -0.753131  0.445496  0.117329  1.066392 -0.384570  0.083661   \n",
       "2018-12-19 -1.330665  0.382575  0.797451  1.237637 -0.198343  0.788963   \n",
       "2018-12-20 -0.753131  0.897619  2.435159  1.237637  0.233126  2.415233   \n",
       "2018-12-21 -1.330665  2.305627  2.675228  1.237637  0.621565  2.612340   \n",
       "2018-12-24  0.516515  2.271830  1.895204  1.237637  0.963489  1.440560   \n",
       "\n",
       "              alpha7    alpha8    alpha9   alpha10  \n",
       "date                                                \n",
       "2018-02-27  0.085631  0.096772  1.437566  1.328143  \n",
       "2018-02-28  0.085631 -1.343060  0.916932  1.164145  \n",
       "2018-03-01  0.085631 -1.271859 -0.037557  0.060161  \n",
       "2018-03-02  0.085631 -1.493372  0.309528 -0.850493  \n",
       "2018-03-05  0.085631 -1.511831 -0.471421 -0.857160  \n",
       "...              ...       ...       ...       ...  \n",
       "2018-12-18  0.085631  1.011830  0.668222  1.014814  \n",
       "2018-12-19  1.093049  0.953815  0.712292  1.041480  \n",
       "2018-12-20  1.898983  1.172690  0.932633  1.172145  \n",
       "2018-12-21  2.241505  1.104127  1.064838 -1.325153  \n",
       "2018-12-24  0.085631  0.940629 -0.213150 -0.425166  \n",
       "\n",
       "[132 rows x 10 columns]"
      ]
     },
     "execution_count": 135,
     "metadata": {},
     "output_type": "execute_result"
    }
   ],
   "source": [
    "tmp2 = tmp[tmp.columns[0:10]].reset_index('code',drop=True)\n",
    "tmp2 = (tmp2 - tmp2.mean())/tmp2.std()\n",
    "tmp2"
   ]
  },
  {
   "cell_type": "code",
   "execution_count": 139,
   "id": "a80f7c77-207f-4411-81ba-28eb1aff041f",
   "metadata": {
    "execution": {
     "iopub.execute_input": "2023-07-03T14:39:07.942822Z",
     "iopub.status.busy": "2023-07-03T14:39:07.942532Z",
     "iopub.status.idle": "2023-07-03T14:39:22.992532Z",
     "shell.execute_reply": "2023-07-03T14:39:22.992532Z",
     "shell.execute_reply.started": "2023-07-03T14:39:07.942822Z"
    },
    "tags": []
   },
   "outputs": [
    {
     "name": "stderr",
     "output_type": "stream",
     "text": [
      "D:\\Anaconda3\\lib\\site-packages\\statsmodels\\tsa\\base\\tsa_model.py:471: ValueWarning: A date index has been provided, but it has no associated frequency information and so will be ignored when e.g. forecasting.\n",
      "  self._init_dates(dates, freq)\n"
     ]
    },
    {
     "name": "stdout",
     "output_type": "stream",
     "text": [
      "Optimization terminated successfully.\n",
      "         Current function value: 11.259671\n",
      "         Iterations: 44\n",
      "         Function evaluations: 20844\n"
     ]
    },
    {
     "name": "stderr",
     "output_type": "stream",
     "text": [
      "D:\\Anaconda3\\lib\\site-packages\\statsmodels\\base\\model.py:604: ConvergenceWarning: Maximum Likelihood optimization failed to converge. Check mle_retvals\n",
      "  warnings.warn(\"Maximum Likelihood optimization failed to \"\n"
     ]
    }
   ],
   "source": [
    "mod = sm.tsa.DynamicFactor(tmp2, k_factors=2, factor_order=2)\n",
    "initial_res = mod.fit(method='powell', disp=True)\n",
    "res = mod.fit(initial_res.params, disp=True)\n",
    "\n",
    "print(res.summary(separate_params=False))\n",
    "np.round((res.params[0:10*k_factors].values).reshape(-1,k_factors),2)\n",
    "res.plot_coefficients_of_determination(figsize=(8,8));"
   ]
  },
  {
   "cell_type": "code",
   "execution_count": 129,
   "id": "e06881ec-72ca-4663-b36e-b4447abb818d",
   "metadata": {
    "collapsed": true,
    "execution": {
     "iopub.execute_input": "2023-07-03T13:47:45.534473Z",
     "iopub.status.busy": "2023-07-03T13:47:45.534473Z",
     "iopub.status.idle": "2023-07-03T13:47:45.580351Z",
     "shell.execute_reply": "2023-07-03T13:47:45.579246Z",
     "shell.execute_reply.started": "2023-07-03T13:47:45.534473Z"
    },
    "jupyter": {
     "outputs_hidden": true
    },
    "tags": []
   },
   "outputs": [
    {
     "name": "stdout",
     "output_type": "stream",
     "text": [
      "                                                                     Statespace Model Results                                                                    \n",
      "=================================================================================================================================================================\n",
      "Dep. Variable:     ['alpha1', 'alpha2', 'alpha3', 'alpha4', 'alpha5', 'alpha6', 'alpha7', 'alpha8', 'alpha9', 'alpha10']   No. Observations:                  186\n",
      "Model:                                                                                 DynamicFactor(factors=4, order=2)   Log Likelihood               -2411.398\n",
      "Date:                                                                                                   Mon, 03 Jul 2023   AIC                           4986.796\n",
      "Time:                                                                                                           21:47:45   BIC                           5251.307\n",
      "Sample:                                                                                                                0   HQIC                          5093.986\n",
      "                                                                                                                   - 186                                         \n",
      "Covariance Type:                                                                                                     opg                                         \n",
      "======================================================================================\n",
      "                         coef    std err          z      P>|z|      [0.025      0.975]\n",
      "--------------------------------------------------------------------------------------\n",
      "loading.f1.alpha1      1.5958      5.338      0.299      0.765      -8.866      12.058\n",
      "loading.f2.alpha1      1.3058      4.855      0.269      0.788      -8.209      10.821\n",
      "loading.f3.alpha1      0.4207      0.441      0.955      0.340      -0.443       1.284\n",
      "loading.f4.alpha1      0.3553      1.489      0.239      0.811      -2.563       3.274\n",
      "loading.f1.alpha2      2.9372      5.041      0.583      0.560      -6.944      12.818\n",
      "loading.f2.alpha2      2.6468      4.946      0.535      0.593      -7.047      12.340\n",
      "loading.f3.alpha2     -0.2038      0.653     -0.312      0.755      -1.484       1.076\n",
      "loading.f4.alpha2      0.6361      1.404      0.453      0.651      -2.117       3.389\n",
      "loading.f1.alpha3      3.2209      5.371      0.600      0.549      -7.306      13.748\n",
      "loading.f2.alpha3      3.7149      5.254      0.707      0.479      -6.582      14.012\n",
      "loading.f3.alpha3      0.3744      0.803      0.466      0.641      -1.199       1.948\n",
      "loading.f4.alpha3      0.8599      2.081      0.413      0.679      -3.218       4.938\n",
      "loading.f1.alpha4     -1.0694      5.819     -0.184      0.854     -12.475      10.336\n",
      "loading.f2.alpha4     -0.9359      5.299     -0.177      0.860     -11.322       9.450\n",
      "loading.f3.alpha4     -0.3667      0.282     -1.302      0.193      -0.918       0.185\n",
      "loading.f4.alpha4     -0.2989      1.635     -0.183      0.855      -3.504       2.906\n",
      "loading.f1.alpha5    -28.6736      5.824     -4.923      0.000     -40.089     -17.258\n",
      "loading.f2.alpha5    -27.2392      4.722     -5.769      0.000     -36.493     -17.985\n",
      "loading.f3.alpha5     -0.9376      6.262     -0.150      0.881     -13.211      11.336\n",
      "loading.f4.alpha5     -6.8094      5.403     -1.260      0.208     -17.398       3.779\n",
      "loading.f1.alpha6      6.2640      5.305      1.181      0.238      -4.134      16.662\n",
      "loading.f2.alpha6      6.6259      5.425      1.221      0.222      -4.008      17.259\n",
      "loading.f3.alpha6      0.4390      1.425      0.308      0.758      -2.354       3.232\n",
      "loading.f4.alpha6      1.5866      2.377      0.668      0.504      -3.072       6.245\n",
      "loading.f1.alpha7      8.3986      5.180      1.621      0.105      -1.755      18.552\n",
      "loading.f2.alpha7      8.3622      6.215      1.345      0.178      -3.819      20.543\n",
      "loading.f3.alpha7     -0.1045      1.811     -0.058      0.954      -3.654       3.445\n",
      "loading.f4.alpha7      2.0142      1.431      1.408      0.159      -0.791       4.819\n",
      "loading.f1.alpha8      7.0962      5.300      1.339      0.181      -3.293      17.485\n",
      "loading.f2.alpha8      6.8595      5.816      1.179      0.238      -4.540      18.259\n",
      "loading.f3.alpha8     -0.1096      1.541     -0.071      0.943      -3.130       2.911\n",
      "loading.f4.alpha8      1.6367      1.500      1.091      0.275      -1.304       4.577\n",
      "loading.f1.alpha9      3.1285      9.376      0.334      0.739     -15.247      21.504\n",
      "loading.f2.alpha9      3.7464      9.711      0.386      0.700     -15.288      22.780\n",
      "loading.f3.alpha9     -0.7245      0.660     -1.098      0.272      -2.017       0.568\n",
      "loading.f4.alpha9      0.8960      2.028      0.442      0.659      -3.078       4.870\n",
      "loading.f1.alpha10     0.8178      8.173      0.100      0.920     -15.202      16.837\n",
      "loading.f2.alpha10     1.4499      8.126      0.178      0.858     -14.476      17.376\n",
      "loading.f3.alpha10    -0.6461      0.364     -1.774      0.076      -1.360       0.068\n",
      "loading.f4.alpha10     0.3418      1.795      0.190      0.849      -3.176       3.860\n",
      "sigma2.alpha1          0.7520      0.159      4.717      0.000       0.440       1.064\n",
      "sigma2.alpha2          0.5857      0.085      6.913      0.000       0.420       0.752\n",
      "sigma2.alpha3       6.492e-11      0.016   4.08e-09      1.000      -0.031       0.031\n",
      "sigma2.alpha4          0.2867      0.045      6.357      0.000       0.198       0.375\n",
      "sigma2.alpha5          0.4027      0.333      1.208      0.227      -0.251       1.056\n",
      "sigma2.alpha6          0.0526      0.017      3.127      0.002       0.020       0.086\n",
      "sigma2.alpha7          0.5215      0.097      5.358      0.000       0.331       0.712\n",
      "sigma2.alpha8          0.2415      0.046      5.308      0.000       0.152       0.331\n",
      "sigma2.alpha9       3.433e-11      0.068   5.03e-10      1.000      -0.134       0.134\n",
      "sigma2.alpha10         0.2610      0.062      4.183      0.000       0.139       0.383\n",
      "L1.f1.f1               2.1512     13.932      0.154      0.877     -25.156      29.458\n",
      "L1.f2.f1               1.6437      9.505      0.173      0.863     -16.986      20.273\n",
      "L1.f3.f1              -0.5745      6.869     -0.084      0.933     -14.037      12.888\n",
      "L1.f4.f1               0.3508      3.350      0.105      0.917      -6.215       6.916\n",
      "L2.f1.f1              -2.0921     13.362     -0.157      0.876     -28.281      24.097\n",
      "L2.f2.f1              -1.9630     10.015     -0.196      0.845     -21.591      17.665\n",
      "L2.f3.f1               0.1706      5.163      0.033      0.974      -9.949      10.290\n",
      "L2.f4.f1              -0.4579      3.464     -0.132      0.895      -7.246       6.331\n",
      "L1.f1.f2              -4.4488     21.676     -0.205      0.837     -46.934      38.036\n",
      "L1.f2.f2              -2.9492     14.523     -0.203      0.839     -31.415      25.516\n",
      "L1.f3.f2              -0.6480      7.578     -0.086      0.932     -15.501      14.205\n",
      "L1.f4.f2              -1.1646      5.422     -0.215      0.830     -11.792       9.462\n",
      "L2.f1.f2               4.3446     18.311      0.237      0.812     -31.543      40.233\n",
      "L2.f2.f2               3.4280     13.325      0.257      0.797     -22.688      29.544\n",
      "L2.f3.f2               0.8391      5.850      0.143      0.886     -10.626      12.305\n",
      "L2.f4.f2               1.0867      4.760      0.228      0.819      -8.244      10.417\n",
      "L1.f1.f3              -4.2550     23.419     -0.182      0.856     -50.156      41.646\n",
      "L1.f2.f3              -3.5020     16.342     -0.214      0.830     -35.531      28.527\n",
      "L1.f3.f3               0.2440      7.671      0.032      0.975     -14.790      15.278\n",
      "L1.f4.f3              -0.9250      5.846     -0.158      0.874     -12.383      10.533\n",
      "L2.f1.f3               3.6852     13.422      0.275      0.784     -22.622      29.992\n",
      "L2.f2.f3               3.2235      9.122      0.353      0.724     -14.656      21.103\n",
      "L2.f3.f3               0.1917      5.627      0.034      0.973     -10.836      11.219\n",
      "L2.f4.f3               0.8382      3.507      0.239      0.811      -6.034       7.711\n",
      "L1.f1.f4              11.9938     49.840      0.241      0.810     -85.691     109.679\n",
      "L1.f2.f4               7.4749     43.654      0.171      0.864     -78.085      93.035\n",
      "L1.f3.f4               4.7013      3.666      1.282      0.200      -2.484      11.886\n",
      "L1.f4.f4               3.7622     12.761      0.295      0.768     -21.249      28.774\n",
      "L2.f1.f4              -7.1667     37.630     -0.190      0.849     -80.919      66.586\n",
      "L2.f2.f4              -4.2518     33.408     -0.127      0.899     -69.730      61.226\n",
      "L2.f3.f4              -3.3156      2.184     -1.518      0.129      -7.596       0.964\n",
      "L2.f4.f4              -2.0145      9.955     -0.202      0.840     -21.526      17.497\n",
      "===============================================================================================================================================================================\n",
      "Ljung-Box (L1) (Q):     26.23, 23.31, 26.89, 21.30, 6.41, 116.55, 4.42, 40.52, 0.27, 0.09   Jarque-Bera (JB):    10.96, 4.63, 1.47, 3.90, 2.03, 13.97, 2.56, 0.04, 7.01, 132.49\n",
      "Prob(Q):                       0.00, 0.00, 0.00, 0.00, 0.01, 0.00, 0.04, 0.00, 0.60, 0.76   Prob(JB):                0.00, 0.10, 0.48, 0.14, 0.36, 0.00, 0.28, 0.98, 0.03, 0.00\n",
      "Heteroskedasticity (H):        1.08, 1.22, 1.10, 0.97, 1.20, 0.54, 0.93, 0.49, 0.81, 0.97   Skew:               0.11, -0.24, -0.08, 0.04, 0.24, 0.66, -0.09, 0.02, -0.34, -0.30\n",
      "Prob(H) (two-sided):           0.76, 0.43, 0.71, 0.90, 0.48, 0.02, 0.77, 0.01, 0.42, 0.92   Kurtosis:                1.83, 2.40, 2.59, 3.70, 3.19, 3.21, 2.45, 2.93, 3.67, 7.09\n",
      "===============================================================================================================================================================================\n",
      "\n",
      "Warnings:\n",
      "[1] Covariance matrix calculated using the outer product of gradients (complex-step).\n",
      "[2] Covariance matrix is singular or near-singular, with condition number 5.56e+18. Standard errors may be unstable.\n"
     ]
    }
   ],
   "source": []
  },
  {
   "cell_type": "code",
   "execution_count": 143,
   "id": "dcdda22b-fad8-40e6-9999-dd4bd5240c41",
   "metadata": {
    "execution": {
     "iopub.execute_input": "2023-07-03T14:40:52.427190Z",
     "iopub.status.busy": "2023-07-03T14:40:52.427190Z",
     "iopub.status.idle": "2023-07-03T14:40:52.436923Z",
     "shell.execute_reply": "2023-07-03T14:40:52.436107Z",
     "shell.execute_reply.started": "2023-07-03T14:40:52.427190Z"
    },
    "tags": []
   },
   "outputs": [
    {
     "data": {
      "text/plain": [
       "array([[-0.04,  0.08],\n",
       "       [-0.05, -0.23],\n",
       "       [ 0.61,  0.26],\n",
       "       [ 0.04, -0.19],\n",
       "       [ 0.17, -0.07],\n",
       "       [ 0.57,  0.25],\n",
       "       [ 0.22, -0.07],\n",
       "       [ 0.12, -0.11],\n",
       "       [ 0.01, -0.03],\n",
       "       [ 0.01, -0.01]])"
      ]
     },
     "execution_count": 143,
     "metadata": {},
     "output_type": "execute_result"
    }
   ],
   "source": [
    "k_factors=2\n"
   ]
  },
  {
   "cell_type": "code",
   "execution_count": 141,
   "id": "f58ec1ed-b470-4a79-b360-5fb3ecc80427",
   "metadata": {
    "execution": {
     "iopub.execute_input": "2023-07-03T14:39:23.009394Z",
     "iopub.status.busy": "2023-07-03T14:39:23.009394Z",
     "iopub.status.idle": "2023-07-03T14:39:23.192023Z",
     "shell.execute_reply": "2023-07-03T14:39:23.191520Z",
     "shell.execute_reply.started": "2023-07-03T14:39:23.009394Z"
    },
    "tags": []
   },
   "outputs": [
    {
     "data": {
      "image/png": "[encoded data removed]",
      "text/plain": [
       "<Figure size 576x576 with 2 Axes>"
      ]
     },
     "metadata": {
      "needs_background": "light"
     },
     "output_type": "display_data"
    }
   ],
   "source": []
  }
 ],
 "metadata": {
  "kernelspec": {
   "display_name": "Python 3 (ipykernel)",
   "language": "python",
   "name": "python3"
  },
  "language_info": {
   "codemirror_mode": {
    "name": "ipython",
    "version": 3
   },
   "file_extension": ".py",
   "mimetype": "text/x-python",
   "name": "python",
   "nbconvert_exporter": "python",
   "pygments_lexer": "ipython3",
   "version": "3.9.7"
  }
 },
 "nbformat": 4,
 "nbformat_minor": 5
}
