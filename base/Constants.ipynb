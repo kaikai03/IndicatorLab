{
 "cells": [
  {
   "cell_type": "code",
   "execution_count": 45,
   "metadata": {},
   "outputs": [
    {
     "name": "stdout",
     "output_type": "stream",
     "text": [
      "Overwriting Constants.py\n"
     ]
    }
   ],
   "source": [
    "%%writefile Constants.py\n",
    "\n",
    "import QUANTAXIS as QA\n",
    "from QUANTAXIS.QAUtil import trade_date_sse\n",
    "import os\n",
    "\n",
    "LOW_FREQUENCE = [QA.FREQUENCE.YEAR, QA.FREQUENCE.QUARTER, QA.FREQUENCE.MONTH, QA.FREQUENCE.WEEK, QA.FREQUENCE.DAY]   \n",
    "PLOT_TITLE = dict(x=0, fontsize='xx-large',fontweight='black',horizontalalignment='left',bbox=dict(boxstyle='roundtooth',fc='lavenderblush', pad=0.25))\n",
    "\n",
    "CUR_PATH = os.path.abspath(os.path.dirname('.'))\n",
    "ROOT_PATH = CUR_PATH[:CUR_PATH.find(\"IndicatorLab\")+len(\"IndicatorLab\")] \n",
    "BAES_PATH = os.path.abspath(ROOT_PATH + '\\\\base')\n",
    "\n",
    "DC_FILEPATH = os.path.join(BAES_PATH, \"dcp\")\n",
    "DK_FILEPATH = os.path.join(BAES_PATH, \"dkp\")\n",
    "DASK_HOST = '106.14.20.200:7353'"
   ]
  }
 ],
 "metadata": {
  "kernelspec": {
   "display_name": "Python 3",
   "language": "python",
   "name": "python3"
  },
  "language_info": {
   "codemirror_mode": {
    "name": "ipython",
    "version": 3
   },
   "file_extension": ".py",
   "mimetype": "text/x-python",
   "name": "python",
   "nbconvert_exporter": "python",
   "pygments_lexer": "ipython3",
   "version": "3.8.8"
  }
 },
 "nbformat": 4,
 "nbformat_minor": 4
}
