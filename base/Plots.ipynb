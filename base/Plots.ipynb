{
 "cells": [
  {
   "cell_type": "code",
   "execution_count": 9,
   "id": "aware-treasurer",
   "metadata": {},
   "outputs": [
    {
     "name": "stdout",
     "output_type": "stream",
     "text": [
      "Overwriting Plots.py\n"
     ]
    }
   ],
   "source": [
    "%%writefile Plots.py\n",
    "\n",
    "import numpy as np\n",
    "import mpl_finance as mpf\n",
    "import matplotlib.pyplot as plt\n",
    "from matplotlib.pylab import date2num, num2date\n",
    "import matplotlib.ticker as ticker\n",
    "\n",
    "class base_formatter(ticker.Formatter):\n",
    "    ''' 不在图表上直接使用时间。\n",
    "        对位将xaxis换成对应的时间。\n",
    "    '''\n",
    "    def __init__(self, dates, fre_type='day'):\n",
    "        self.dates = dates\n",
    "        if 'min' in fre_type:\n",
    "            self.fmt = '%m%d %H:%M'\n",
    "        else:\n",
    "            self.fmt = '%m%d'\n",
    "    \n",
    "    def __call__(self, x, pos=0):\n",
    "        'Return the label for time x at position pos'\n",
    "        if x < 0 :\n",
    "            return '-'\n",
    "        dates_len = len(self.dates)\n",
    "        if x >= dates_len:\n",
    "            if dates_len < 2:\n",
    "                return '-'\n",
    "            return (self.dates[dates_len-1]+(self.dates[1]-self.dates[0])*(x-dates_len)).strftime(self.fmt)\n",
    "        \n",
    "        ind = int(np.round(x))\n",
    "        #ind就是x轴的刻度数值，不是日期的下标\n",
    "        return self.dates[ind].strftime(self.fmt)\n",
    "    \n",
    "def base_plot(code, stock_struct):\n",
    "    date_descript = 'date'\n",
    "    if 'min' in stock_struct.type :\n",
    "        date_descript = 'datetime'\n",
    "        \n",
    "    fig,(ax1,ax2)=plt.subplots(2,sharex=True,figsize=(1120/72,420/72),\n",
    "                               gridspec_kw={\n",
    "                                   'width_ratios': [1],\n",
    "                                   'height_ratios': [3, 1]})\n",
    "    data_code = stock_struct.data.loc[(slice(None), code), :]\n",
    "    a = data_code.reset_index()[[date_descript,'open','close','high','low','volume']]\n",
    "\n",
    "    ax1.xaxis.set_major_locator(ticker.MaxNLocator(10))\n",
    "    formatter = base_formatter(a[date_descript],stock_struct.type)\n",
    "    ax1.xaxis.set_major_formatter(formatter)\n",
    "\n",
    "    p = mpf.candlestick2_ohlc( ax1, a['open'].values,a['high'].values,a['low'].values,a['close'].values, \n",
    "                              colordown='#53c156', colorup='#ff1717',width=0.7,alpha=1)\n",
    "\n",
    "    grey_pred = np.where(a[\"close\"] == a[\"open\"], a['volume'], 0)\n",
    "    red_pred = np.where(a[\"close\"] > a[\"open\"], a['volume'], 0)\n",
    "    green_pred = np.where(a[\"close\"] < a[\"open\"], a['volume'], 0)\n",
    "\n",
    "    ax2.bar(list(np.arange(len(a[date_descript]))), grey_pred, facecolor=\"grey\",width=0.7)\n",
    "    ax2.bar(list(np.arange(len(a[date_descript]))), red_pred, facecolor=\"#ff1717\",width=0.7)\n",
    "    ax2.bar(list(np.arange(len(a[date_descript]))), green_pred, facecolor=\"#53c156\",width=0.7)\n",
    "\n",
    "    ax2.set_ylabel('Volume')\n",
    "    ax2.autoscale_view()"
   ]
  }
 ],
 "metadata": {
  "kernelspec": {
   "display_name": "Python 3",
   "language": "python",
   "name": "python3"
  },
  "language_info": {
   "codemirror_mode": {
    "name": "ipython",
    "version": 3
   },
   "file_extension": ".py",
   "mimetype": "text/x-python",
   "name": "python",
   "nbconvert_exporter": "python",
   "pygments_lexer": "ipython3",
   "version": "3.6.10"
  }
 },
 "nbformat": 4,
 "nbformat_minor": 5
}
