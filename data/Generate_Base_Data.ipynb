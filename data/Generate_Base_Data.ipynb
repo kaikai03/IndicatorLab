{
 "cells": [
  {
   "cell_type": "code",
   "execution_count": 1,
   "id": "46cc5a85-1564-4f7b-a9e9-b5eb88519cf4",
   "metadata": {
    "execution": {
     "iopub.execute_input": "2023-04-18T03:19:18.531944Z",
     "iopub.status.busy": "2023-04-18T03:19:18.531944Z",
     "iopub.status.idle": "2023-04-18T03:19:21.083305Z",
     "shell.execute_reply": "2023-04-18T03:19:21.083305Z",
     "shell.execute_reply.started": "2023-04-18T03:19:18.531944Z"
    },
    "tags": []
   },
   "outputs": [],
   "source": [
    "# %%writefile Generate_Base_Data.py\n",
    "\n",
    "import sys\n",
    "import os \n",
    "module_path = os.path.abspath(os.path.join('..')) \n",
    "if module_path not in sys.path: \n",
    "    sys.path.append(module_path)\n",
    "\n",
    "import pandas as pd  \n",
    "import numpy as np  \n",
    "\n",
    "import tools.Sample_Tools as smpl\n",
    "from tools.Cacher import (CACHE_TYPE, save_cache,load_cache_adv,load_cache)\n",
    "import warnings\n",
    "\n",
    "from base.JuUnits import parallal_task,task_chunk_split\n",
    "from base.JuUnits import excute_for_multidates\n",
    "\n",
    "\n",
    "from QUANTAXIS.QAUtil import DATABASE\n",
    "from QUANTAXIS.QAUtil import  trade_date_sse\n",
    "from QUANTAXIS.QAUtil.QADate_trade import (\n",
    "    QA_util_get_pre_trade_date,\n",
    "    QA_util_get_next_trade_date,\n",
    "    QA_util_if_tradetime\n",
    ")\n",
    "\n",
    "%load_ext autoreload\n",
    "%autoreload 2\n",
    "%aimport tools.Cacher,tools.Sample_Tools\n",
    "\n",
    "def cache_single_stock_qfq(codes,self_obj=None):\n",
    "    import tools.Sample_Tools as smpl\n",
    "    from tools.Cacher import (CACHE_TYPE, save_cache,load_cache_adv,load_cache)\n",
    "    import warnings\n",
    "    \n",
    "    for code in codes:\n",
    "        try:\n",
    "            stock_df = smpl.get_data([code], start='2000-01-01', end='2023-01-01').to_qfq().data\n",
    "            stock_df = smpl.add_marketvalue_industry(stock_df)\n",
    "            dt_index = stock_df.index.get_level_values(0)\n",
    "        except:\n",
    "            # warnings.warn('get \"{}\" error'.format(code))\n",
    "            continue\n",
    "\n",
    "        try:\n",
    "            save_cache('{}_train_qfq'.format(code) ,stock_df.loc[(dt_index >= '2016') & (dt_index < '2021')], cache_type=CACHE_TYPE.STOCK)\n",
    "            save_cache('{}_tail_qfq'.format(code), stock_df.loc[(dt_index >= '2021')], cache_type=CACHE_TYPE.STOCK)\n",
    "        except:\n",
    "            warnings.warn('1.save_cache \"{}\" error'.format(code))\n",
    "            continue\n",
    "\n",
    "        try:\n",
    "            save_cache('{}_older_qfq'.format(code), stock_df.loc[dt_index < '2016'],cache_type=CACHE_TYPE.STOCK)\n",
    "        except:\n",
    "            warnings.warn('2.save_cache \"{}\" error'.format(code))\n",
    "            continue\n",
    "        # print('{} saved'.format(code))\n",
    "    \n",
    "\n",
    "def generate_single_stock_qfq(codes, worker=6):\n",
    "    task = task_chunk_split(codes, worker)\n",
    "    results = parallal_task(worker, cache_stock_qfq, task)\n",
    "    \n",
    "    \n",
    "\n",
    "def cache_all_stock_qfq(codes,self_obj=None):\n",
    "    import tools.Sample_Tools as smpl\n",
    "    import warnings\n",
    "    \n",
    "    try:\n",
    "        stock_df = smpl.get_data(codes, start='2010-01-01', end='2023-01-01').to_qfq().data\n",
    "        stock_df = smpl.add_marketvalue_industry(stock_df)\n",
    "        dt_index = stock_df.index.get_level_values(0)\n",
    "    except:\n",
    "        warnings.warn('get \"{}\" error'.format(codes[0]))\n",
    "        \n",
    "    return stock_df\n",
    "\n",
    "    \n",
    "def generate_all_stock_qfq(codes, worker=6):\n",
    "    task = task_chunk_split(codes, worker)\n",
    "    results = parallal_task(worker, cache_all_stock_qfq, task)\n",
    "    results = pd.concat(results).sort_index()\n",
    "    dt_index = results.index.get_level_values(0)\n",
    "    # try:\n",
    "    save_cache('all_train_qfq' ,results.loc[(dt_index >= '2016') & (dt_index < '2021')], cache_type=CACHE_TYPE.STOCK)\n",
    "    save_cache('all_tail_qfq', results.loc[(dt_index >= '2021')], cache_type=CACHE_TYPE.STOCK)\n",
    "    # except:\n",
    "    #     warnings.warn('1.save_cache error')\n",
    "\n",
    "    # try:\n",
    "    save_cache('all_older_qfq', results.loc[dt_index < '2016'],cache_type=CACHE_TYPE.STOCK)\n",
    "    # except:\n",
    "    #     warnings.warn('2.save_cache error')\n",
    "\n"
   ]
  },
  {
   "cell_type": "code",
   "execution_count": 2,
   "id": "c5973547-3725-45e0-9dd1-add368486ae6",
   "metadata": {
    "execution": {
     "iopub.execute_input": "2023-04-18T03:19:21.085270Z",
     "iopub.status.busy": "2023-04-18T03:19:21.084290Z",
     "iopub.status.idle": "2023-04-18T03:21:00.489315Z",
     "shell.execute_reply": "2023-04-18T03:21:00.489315Z",
     "shell.execute_reply.started": "2023-04-18T03:19:21.085270Z"
    },
    "tags": []
   },
   "outputs": [
    {
     "name": "stdout",
     "output_type": "stream",
     "text": [
      "Now in the main code. Process name is: base.JuUnits\n",
      "base.JuUnits, subpid:5332  pid:3432\n"
     ]
    },
    {
     "data": {
      "application/vnd.jupyter.widget-view+json": {
       "model_id": "ab950a4242c54d60b0d7859d9dfaecbf",
       "version_major": 2,
       "version_minor": 0
      },
      "text/plain": [
       "  0%|          | 0/10 [00:00<?, ?it/s]"
      ]
     },
     "metadata": {},
     "output_type": "display_data"
    }
   ],
   "source": [
    "# codes = smpl.get_codes_from_blockname('沪深300', sse='all')\n",
    "codes = smpl.get_codes_by_market(sse='all',only_main=True,filter_st=True)\n",
    "generate_all_stock_qfq(codes,worker=10)\n"
   ]
  },
  {
   "cell_type": "code",
   "execution_count": 11,
   "id": "b4f75a92-13ef-4047-8f2e-13347feb19a6",
   "metadata": {
    "execution": {
     "iopub.execute_input": "2023-02-03T06:37:01.697455Z",
     "iopub.status.busy": "2023-02-03T06:37:01.696459Z",
     "iopub.status.idle": "2023-02-03T06:37:02.766663Z",
     "shell.execute_reply": "2023-02-03T06:37:02.765388Z",
     "shell.execute_reply.started": "2023-02-03T06:37:01.697455Z"
    },
    "tags": []
   },
   "outputs": [
    {
     "name": "stdout",
     "output_type": "stream",
     "text": [
      "<class 'pandas.core.frame.DataFrame'>\n",
      "MultiIndex: 7081385 entries, (Timestamp('2010-01-04 00:00:00'), '000001') to (Timestamp('2022-12-30 00:00:00'), '605599')\n",
      "Data columns (total 12 columns):\n",
      " #   Column                  Dtype  \n",
      "---  ------                  -----  \n",
      " 0   open                    float32\n",
      " 1   high                    float32\n",
      " 2   low                     float32\n",
      " 3   close                   float32\n",
      " 4   volume                  int32  \n",
      " 5   amount                  int64  \n",
      " 6   adj                     float32\n",
      " 7   shares                  float64\n",
      " 8   lshares                 float64\n",
      " 9   totalCapital            float64\n",
      " 10  liquidity_totalCapital  float64\n",
      " 11  industry                object \n",
      "dtypes: float32(5), float64(4), int32(1), int64(1), object(1)\n",
      "memory usage: 513.5+ MB\n"
     ]
    }
   ],
   "source": [
    "df_all = pd.concat(list(map(lambda file:load_cache(file,cache_type=CACHE_TYPE.STOCK),['all_train_qfq','all_tail_qfq','all_older_qfq']))).sort_index()\n",
    "df_all.info()\n",
    "# 7081385 "
   ]
  }
 ],
 "metadata": {
  "kernelspec": {
   "display_name": "Python 3 (ipykernel)",
   "language": "python",
   "name": "python3"
  },
  "language_info": {
   "codemirror_mode": {
    "name": "ipython",
    "version": 3
   },
   "file_extension": ".py",
   "mimetype": "text/x-python",
   "name": "python",
   "nbconvert_exporter": "python",
   "pygments_lexer": "ipython3",
   "version": "3.9.7"
  }
 },
 "nbformat": 4,
 "nbformat_minor": 5
}
