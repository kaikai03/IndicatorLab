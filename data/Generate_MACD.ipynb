{
 "cells": [
  {
   "cell_type": "code",
   "execution_count": 2,
   "id": "46cc5a85-1564-4f7b-a9e9-b5eb88519cf4",
   "metadata": {
    "execution": {
     "iopub.execute_input": "2023-08-19T15:17:24.548326Z",
     "iopub.status.busy": "2023-08-19T15:17:24.548326Z",
     "iopub.status.idle": "2023-08-19T15:17:27.010681Z",
     "shell.execute_reply": "2023-08-19T15:17:27.009680Z",
     "shell.execute_reply.started": "2023-08-19T15:17:24.548326Z"
    },
    "tags": []
   },
   "outputs": [],
   "source": [
    "import sys\n",
    "import os \n",
    "module_path = os.path.abspath(os.path.join('..')) \n",
    "if module_path not in sys.path: \n",
    "    sys.path.append(module_path)\n",
    "\n",
    "import pandas as pd  \n",
    "import numpy as np  \n",
    "\n",
    "import tools.Sample_Tools as smpl\n",
    "import tools.Pretreat_Tools as pretreat\n",
    "from tools.Cacher import (CACHE_TYPE, save_cache,load_cache_adv,load_cache)\n",
    "\n",
    "from base.JuUnits import parallal_task,task_chunk_split\n",
    "from base.JuUnits import excute_for_multidates\n",
    "\n",
    "import ind.Ind_MACD_TRE as macd\n",
    "\n",
    "\n",
    "%load_ext autoreload\n",
    "%autoreload 2\n",
    "%aimport ind.Ind_MACD_TRE\n",
    "\n"
   ]
  },
  {
   "cell_type": "code",
   "execution_count": 5,
   "id": "02158dab-f12a-46e2-a05b-3f22e14a7040",
   "metadata": {
    "execution": {
     "iopub.execute_input": "2023-08-19T18:55:57.159869Z",
     "iopub.status.busy": "2023-08-19T18:55:57.159869Z",
     "iopub.status.idle": "2023-08-19T19:10:25.229957Z",
     "shell.execute_reply": "2023-08-19T19:10:25.228941Z",
     "shell.execute_reply.started": "2023-08-19T18:55:57.159869Z"
    },
    "tags": []
   },
   "outputs": [
    {
     "name": "stdout",
     "output_type": "stream",
     "text": [
      "Now in the main code. Process name is: base.JuUnits\n",
      "base.JuUnits, subpid:18716  pid:9696\n"
     ]
    },
    {
     "data": {
      "application/vnd.jupyter.widget-view+json": {
       "model_id": "b31fa4c56c0f4b7faeccbea909a86598",
       "version_major": 2,
       "version_minor": 0
      },
      "text/plain": [
       "  0%|          | 0/6 [00:00<?, ?it/s]"
      ]
     },
     "metadata": {},
     "output_type": "display_data"
    }
   ],
   "source": [
    "#读取已经缓存的复权数据，并预处理\n",
    "tail = True\n",
    "origin_start = None\n",
    "if tail:\n",
    "    df_tail = load_cache('all_tail_qfq',cache_type=CACHE_TYPE.STOCK).sort_index()\n",
    "    df_train = load_cache('all_train_qfq',cache_type=CACHE_TYPE.STOCK).sort_index()\n",
    "    origin_start = df_tail.index.get_level_values(0).min()\n",
    "    year_data_reserve = origin_start.year - 2\n",
    "    stock_df = pd.concat([df_train.loc[df_train.index.get_level_values(0) >= str(year_data_reserve)],df_tail],axis=0)\n",
    "else:\n",
    "    stock_df = load_cache('all_train_qfq',cache_type=CACHE_TYPE.STOCK).sort_index()\n",
    "smpl.optimize_data_type(stock_df)\n",
    "df_tail = None\n",
    "df_train = None\n",
    "\n",
    "\n",
    "#############测试#######################\n",
    "# ['000001','000008','600600','000729']\n",
    "# stock_df = stock_df.loc[(slice(None),stock_df.index.get_level_values(1).unique().to_list()[0:6]),:]\n",
    "\n",
    "stock_codes = stock_df.index.get_level_values(1).unique().to_list()\n",
    "np.random.shuffle(stock_codes)\n",
    "\n",
    "\n",
    "def generate_macd_factors(data_df):\n",
    "    import ind.Ind_MACD_TRE as macd\n",
    "    import numpy as np\n",
    "\n",
    "    df = data_df.close\n",
    "    res = macd.MACD_JCSC(df)\n",
    "\n",
    "    return res\n",
    "\n",
    "worker=6\n",
    "task = task_chunk_split(stock_codes, worker)\n",
    "task_dfs=[]\n",
    "for codes in task:\n",
    "    task_dfs.append(stock_df.loc[(slice(None),codes),])\n",
    "\n",
    "results = parallal_task(worker, generate_macd_factors, task_dfs)\n",
    "results = pd.concat(results).sort_index()\n",
    "results.index.names=['date','code']\n",
    "\n",
    "\n",
    "\n",
    "final = results[['MACD','MACD_CROSS','DEVIATE']]\n",
    "if tail:\n",
    "    save_cache('macd_tail', final.loc[origin_start:], cache_type=CACHE_TYPE.FACTOR)\n",
    "else:\n",
    "    save_cache('macd_train', final, cache_type=CACHE_TYPE.FACTOR)"
   ]
  },
  {
   "cell_type": "code",
   "execution_count": 6,
   "id": "34752a24-d504-4e24-b3d2-b7b8376ecbe7",
   "metadata": {
    "execution": {
     "iopub.execute_input": "2023-04-19T01:17:30.710482Z",
     "iopub.status.busy": "2023-04-19T01:17:30.710482Z",
     "iopub.status.idle": "2023-04-19T01:17:30.854307Z",
     "shell.execute_reply": "2023-04-19T01:17:30.854307Z",
     "shell.execute_reply.started": "2023-04-19T01:17:30.710482Z"
    },
    "tags": []
   },
   "outputs": [
    {
     "data": {
      "text/plain": [
       "(1218, 12)"
      ]
     },
     "execution_count": 6,
     "metadata": {},
     "output_type": "execute_result"
    }
   ],
   "source": [
    "# load_cache('base10_train',cache_type=CACHE_TYPE.FACTOR).dropna()\n",
    "# stock_df.loc[(slice(None),['000001','000002']),:][['close']]\n",
    "stock_df.loc[(slice(None),['000001']),:].shape"
   ]
  },
  {
   "cell_type": "code",
   "execution_count": 7,
   "id": "3472d99f-7757-4ade-bea7-37325595c1c2",
   "metadata": {
    "execution": {
     "iopub.execute_input": "2023-08-19T15:11:06.569012Z",
     "iopub.status.busy": "2023-08-19T15:11:06.568417Z",
     "iopub.status.idle": "2023-08-19T15:11:06.709032Z",
     "shell.execute_reply": "2023-08-19T15:11:06.709032Z",
     "shell.execute_reply.started": "2023-08-19T15:11:06.569012Z"
    },
    "tags": []
   },
   "outputs": [
    {
     "name": "stdout",
     "output_type": "stream",
     "text": [
      "<class 'pandas.core.frame.DataFrame'>\n",
      "MultiIndex: 3009425 entries, (Timestamp('2016-01-04 00:00:00'), '000001') to (Timestamp('2020-12-31 00:00:00'), '605500')\n",
      "Data columns (total 3 columns):\n",
      " #   Column   Dtype  \n",
      "---  ------   -----  \n",
      " 0   MACD     float64\n",
      " 1   CROSS    int64  \n",
      " 2   DEVIATE  float64\n",
      "dtypes: float64(2), int64(1)\n",
      "memory usage: 80.5+ MB\n"
     ]
    }
   ],
   "source": [
    "final.info()"
   ]
  },
  {
   "cell_type": "code",
   "execution_count": 4,
   "id": "7abd5c3a-c0a5-43b0-91b3-5f982dcc0dc8",
   "metadata": {
    "execution": {
     "iopub.execute_input": "2023-08-19T18:55:41.168644Z",
     "iopub.status.busy": "2023-08-19T18:55:41.168046Z",
     "iopub.status.idle": "2023-08-19T18:55:41.883332Z",
     "shell.execute_reply": "2023-08-19T18:55:41.882412Z",
     "shell.execute_reply.started": "2023-08-19T18:55:41.168644Z"
    },
    "tags": []
   },
   "outputs": [
    {
     "data": {
      "text/html": [
       "<div>\n",
       "<style scoped>\n",
       "    .dataframe tbody tr th:only-of-type {\n",
       "        vertical-align: middle;\n",
       "    }\n",
       "\n",
       "    .dataframe tbody tr th {\n",
       "        vertical-align: top;\n",
       "    }\n",
       "\n",
       "    .dataframe thead th {\n",
       "        text-align: right;\n",
       "    }\n",
       "</style>\n",
       "<table border=\"1\" class=\"dataframe\">\n",
       "  <thead>\n",
       "    <tr style=\"text-align: right;\">\n",
       "      <th></th>\n",
       "      <th></th>\n",
       "      <th>MACD</th>\n",
       "      <th>CROSS</th>\n",
       "      <th>DEVIATE</th>\n",
       "    </tr>\n",
       "    <tr>\n",
       "      <th>date</th>\n",
       "      <th>code</th>\n",
       "      <th></th>\n",
       "      <th></th>\n",
       "      <th></th>\n",
       "    </tr>\n",
       "  </thead>\n",
       "  <tbody>\n",
       "    <tr>\n",
       "      <th rowspan=\"5\" valign=\"top\">2016-01-04</th>\n",
       "      <th>000001</th>\n",
       "      <td>NaN</td>\n",
       "      <td>0</td>\n",
       "      <td>NaN</td>\n",
       "    </tr>\n",
       "    <tr>\n",
       "      <th>000004</th>\n",
       "      <td>NaN</td>\n",
       "      <td>0</td>\n",
       "      <td>NaN</td>\n",
       "    </tr>\n",
       "    <tr>\n",
       "      <th>000006</th>\n",
       "      <td>NaN</td>\n",
       "      <td>0</td>\n",
       "      <td>NaN</td>\n",
       "    </tr>\n",
       "    <tr>\n",
       "      <th>000008</th>\n",
       "      <td>NaN</td>\n",
       "      <td>0</td>\n",
       "      <td>NaN</td>\n",
       "    </tr>\n",
       "    <tr>\n",
       "      <th>000009</th>\n",
       "      <td>NaN</td>\n",
       "      <td>0</td>\n",
       "      <td>NaN</td>\n",
       "    </tr>\n",
       "    <tr>\n",
       "      <th>...</th>\n",
       "      <th>...</th>\n",
       "      <td>...</td>\n",
       "      <td>...</td>\n",
       "      <td>...</td>\n",
       "    </tr>\n",
       "    <tr>\n",
       "      <th rowspan=\"5\" valign=\"top\">2020-12-31</th>\n",
       "      <th>605376</th>\n",
       "      <td>NaN</td>\n",
       "      <td>0</td>\n",
       "      <td>NaN</td>\n",
       "    </tr>\n",
       "    <tr>\n",
       "      <th>605377</th>\n",
       "      <td>NaN</td>\n",
       "      <td>0</td>\n",
       "      <td>NaN</td>\n",
       "    </tr>\n",
       "    <tr>\n",
       "      <th>605388</th>\n",
       "      <td>-0.389375</td>\n",
       "      <td>0</td>\n",
       "      <td>0.0</td>\n",
       "    </tr>\n",
       "    <tr>\n",
       "      <th>605399</th>\n",
       "      <td>-0.179166</td>\n",
       "      <td>0</td>\n",
       "      <td>9.0</td>\n",
       "    </tr>\n",
       "    <tr>\n",
       "      <th>605500</th>\n",
       "      <td>NaN</td>\n",
       "      <td>0</td>\n",
       "      <td>NaN</td>\n",
       "    </tr>\n",
       "  </tbody>\n",
       "</table>\n",
       "<p>3009425 rows × 3 columns</p>\n",
       "</div>"
      ],
      "text/plain": [
       "                       MACD  CROSS  DEVIATE\n",
       "date       code                            \n",
       "2016-01-04 000001       NaN      0      NaN\n",
       "           000004       NaN      0      NaN\n",
       "           000006       NaN      0      NaN\n",
       "           000008       NaN      0      NaN\n",
       "           000009       NaN      0      NaN\n",
       "...                     ...    ...      ...\n",
       "2020-12-31 605376       NaN      0      NaN\n",
       "           605377       NaN      0      NaN\n",
       "           605388 -0.389375      0      0.0\n",
       "           605399 -0.179166      0      9.0\n",
       "           605500       NaN      0      NaN\n",
       "\n",
       "[3009425 rows x 3 columns]"
      ]
     },
     "execution_count": 4,
     "metadata": {},
     "output_type": "execute_result"
    }
   ],
   "source": [
    "x = load_cache('macd_train', cache_type=CACHE_TYPE.FACTOR)\n",
    "x"
   ]
  }
 ],
 "metadata": {
  "kernelspec": {
   "display_name": "Python 3 (ipykernel)",
   "language": "python",
   "name": "python3"
  },
  "language_info": {
   "codemirror_mode": {
    "name": "ipython",
    "version": 3
   },
   "file_extension": ".py",
   "mimetype": "text/x-python",
   "name": "python",
   "nbconvert_exporter": "python",
   "pygments_lexer": "ipython3",
   "version": "3.9.7"
  }
 },
 "nbformat": 4,
 "nbformat_minor": 5
}
