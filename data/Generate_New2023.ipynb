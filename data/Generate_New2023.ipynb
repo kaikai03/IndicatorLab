{
 "cells": [
  {
   "cell_type": "code",
   "execution_count": 2,
   "id": "4c758a8d-412b-444d-9be5-097e5b9706d5",
   "metadata": {
    "execution": {
     "iopub.execute_input": "2023-05-18T16:48:58.322397Z",
     "iopub.status.busy": "2023-05-18T16:48:58.322397Z",
     "iopub.status.idle": "2023-05-18T16:49:00.882726Z",
     "shell.execute_reply": "2023-05-18T16:49:00.881721Z",
     "shell.execute_reply.started": "2023-05-18T16:48:58.322397Z"
    },
    "tags": []
   },
   "outputs": [],
   "source": [
    "import sys\n",
    "import os \n",
    "module_path = os.path.abspath(os.path.join('..')) \n",
    "if module_path not in sys.path: \n",
    "    sys.path.append(module_path)\n",
    "\n",
    "import pandas as pd  \n",
    "import numpy as np  \n",
    "\n",
    "import tools.Sample_Tools as smpl\n",
    "# import tools.Pretreat_Tools as pretreat\n",
    "from tools.Cacher import (CACHE_TYPE, save_cache,load_cache_adv,load_cache)\n",
    "\n",
    "from base.JuUnits import parallal_task,task_chunk_split\n",
    "from base.JuUnits import excute_for_multidates\n",
    "\n",
    "\n",
    "# import inspect\n",
    "import ind.Ind_New_Tech_2023 as new2023\n",
    "\n",
    "%load_ext autoreload\n",
    "%autoreload 2\n",
    "%aimport ind.Ind_New_Tech_2023"
   ]
  },
  {
   "cell_type": "code",
   "execution_count": 3,
   "id": "d49b11c3-41c6-472a-847f-faa468ee4b44",
   "metadata": {
    "execution": {
     "iopub.execute_input": "2023-05-18T16:49:00.883715Z",
     "iopub.status.busy": "2023-05-18T16:49:00.883715Z",
     "iopub.status.idle": "2023-05-18T16:49:02.848220Z",
     "shell.execute_reply": "2023-05-18T16:49:02.848220Z",
     "shell.execute_reply.started": "2023-05-18T16:49:00.883715Z"
    },
    "tags": []
   },
   "outputs": [],
   "source": [
    "# #读取已经缓存的复权数据，并预处理\n",
    "tail = False\n",
    "if tail:\n",
    "    stock_df = load_cache('all_tail_qfq',cache_type=CACHE_TYPE.STOCK).sort_index()\n",
    "else:\n",
    "    stock_df = load_cache('all_train_qfq',cache_type=CACHE_TYPE.STOCK).sort_index()\n",
    "smpl.optimize_data_type(stock_df)\n"
   ]
  },
  {
   "cell_type": "code",
   "execution_count": 5,
   "id": "b66f8f64-aaad-4610-b11a-e294bc84129f",
   "metadata": {
    "execution": {
     "iopub.execute_input": "2023-05-18T16:52:22.217024Z",
     "iopub.status.busy": "2023-05-18T16:52:22.217024Z",
     "iopub.status.idle": "2023-05-18T17:20:16.062541Z",
     "shell.execute_reply": "2023-05-18T17:20:16.061552Z",
     "shell.execute_reply.started": "2023-05-18T16:52:22.217024Z"
    },
    "tags": []
   },
   "outputs": [
    {
     "name": "stdout",
     "output_type": "stream",
     "text": [
      "turn_cv\n",
      "2023-05-19 00:52:22.477522\n",
      "Now in the main code. Process name is: base.JuUnits\n",
      "base.JuUnits, subpid:28244  pid:3432\n"
     ]
    },
    {
     "data": {
      "application/vnd.jupyter.widget-view+json": {
       "model_id": "59b42eadae334fbc812257cb72c37284",
       "version_major": 2,
       "version_minor": 0
      },
      "text/plain": [
       "  0%|          | 0/4 [00:00<?, ?it/s]"
      ]
     },
     "metadata": {},
     "output_type": "display_data"
    },
    {
     "name": "stdout",
     "output_type": "stream",
     "text": [
      "amihud\n",
      "2023-05-19 00:53:12.422763\n",
      "Now in the main code. Process name is: base.JuUnits\n",
      "base.JuUnits, subpid:28244  pid:3432\n"
     ]
    },
    {
     "data": {
      "application/vnd.jupyter.widget-view+json": {
       "model_id": "aaeecb00c3184e098e5c40e8e47e1190",
       "version_major": 2,
       "version_minor": 0
      },
      "text/plain": [
       "  0%|          | 0/4 [00:00<?, ?it/s]"
      ]
     },
     "metadata": {},
     "output_type": "display_data"
    },
    {
     "name": "stdout",
     "output_type": "stream",
     "text": [
      "amihud_adv\n",
      "2023-05-19 00:53:50.803587\n",
      "Now in the main code. Process name is: base.JuUnits\n",
      "base.JuUnits, subpid:28244  pid:3432\n"
     ]
    },
    {
     "data": {
      "application/vnd.jupyter.widget-view+json": {
       "model_id": "b101ad999c83433d9ac445abb8cfaaa1",
       "version_major": 2,
       "version_minor": 0
      },
      "text/plain": [
       "  0%|          | 0/4 [00:00<?, ?it/s]"
      ]
     },
     "metadata": {},
     "output_type": "display_data"
    },
    {
     "name": "stdout",
     "output_type": "stream",
     "text": [
      "amihud_negative\n",
      "2023-05-19 00:54:40.291926\n",
      "Now in the main code. Process name is: base.JuUnits\n",
      "base.JuUnits, subpid:28244  pid:3432\n"
     ]
    },
    {
     "data": {
      "application/vnd.jupyter.widget-view+json": {
       "model_id": "748765aef676427397497970223348e0",
       "version_major": 2,
       "version_minor": 0
      },
      "text/plain": [
       "  0%|          | 0/4 [00:00<?, ?it/s]"
      ]
     },
     "metadata": {},
     "output_type": "display_data"
    },
    {
     "name": "stdout",
     "output_type": "stream",
     "text": [
      "amihud_cv\n",
      "2023-05-19 00:55:36.231192\n",
      "Now in the main code. Process name is: base.JuUnits\n",
      "base.JuUnits, subpid:28244  pid:3432\n"
     ]
    },
    {
     "data": {
      "application/vnd.jupyter.widget-view+json": {
       "model_id": "d8510a3f370943919cc51047b06736b7",
       "version_major": 2,
       "version_minor": 0
      },
      "text/plain": [
       "  0%|          | 0/4 [00:00<?, ?it/s]"
      ]
     },
     "metadata": {},
     "output_type": "display_data"
    },
    {
     "name": "stdout",
     "output_type": "stream",
     "text": [
      "obv\n",
      "2023-05-19 00:56:36.414581\n",
      "Now in the main code. Process name is: base.JuUnits\n",
      "base.JuUnits, subpid:28244  pid:3432\n"
     ]
    },
    {
     "data": {
      "application/vnd.jupyter.widget-view+json": {
       "model_id": "120d22c9153944e5b351b573f29d4b44",
       "version_major": 2,
       "version_minor": 0
      },
      "text/plain": [
       "  0%|          | 0/4 [00:00<?, ?it/s]"
      ]
     },
     "metadata": {},
     "output_type": "display_data"
    },
    {
     "name": "stdout",
     "output_type": "stream",
     "text": [
      "pvc_optimize\n",
      "2023-05-19 00:57:14.807204\n",
      "Now in the main code. Process name is: base.JuUnits\n",
      "base.JuUnits, subpid:28244  pid:3432\n"
     ]
    },
    {
     "data": {
      "application/vnd.jupyter.widget-view+json": {
       "model_id": "47c30db9595542cea1ee96f6f66956ff",
       "version_major": 2,
       "version_minor": 0
      },
      "text/plain": [
       "  0%|          | 0/4 [00:00<?, ?it/s]"
      ]
     },
     "metadata": {},
     "output_type": "display_data"
    }
   ],
   "source": [
    "#############测试#######################\n",
    "# ['000001','000008','600600','000729']\n",
    "# stock_df___ = stock_df.loc[(slice(None),stock_df.index.get_level_values(1).unique().to_list()[0:8]),:]\n",
    "\n",
    "stock_codes = stock_df.index.get_level_values(1).unique().to_list()\n",
    "np.random.shuffle(stock_codes)\n",
    "\n",
    "\n",
    "def generate_factors(codes, name=None, data_df=None):\n",
    "    import ind.Ind_New_Tech_2023 as new2023\n",
    "    from base.JuUnits import excute_for_multidates\n",
    "    import numpy as np\n",
    "    import pandas as pd\n",
    "\n",
    "    df = data_df.loc[(slice(None),codes),:]\n",
    "    cur_ret = new2023.get_cur_ret(df)\n",
    "    \n",
    "    if name == 'turn_cv':\n",
    "        factor = new2023.get_turn_cv(df)\n",
    "    elif name == 'amihud':\n",
    "        factor = new2023.get_amihud(df, cur_ret)\n",
    "    elif name == 'amihud_adv':\n",
    "        factor = new2023.get_amihud_adv(df, cur_ret)\n",
    "    elif name == 'amihud_negative':\n",
    "        factor = new2023.get_amihud_negative(df)\n",
    "    elif name == 'amihud_cv':\n",
    "        factor = new2023.get_amihud_cv(df, cur_ret)\n",
    "    elif name == 'obv':\n",
    "        factor = new2023.get_obv(df, cur_ret)\n",
    "    elif name == 'pvc_optimize':\n",
    "        pvc = new2023.get_pvc(df)\n",
    "        pvc_optimize = new2023.get_pvc_optimize(df,cur_ret,pvc)\n",
    "        factor = pd.concat([pvc, pvc_optimize],axis=1).sort_index()\n",
    "    return factor\n",
    "\n",
    "worker=4\n",
    "task = task_chunk_split(stock_codes, worker)\n",
    "\n",
    "import datetime \n",
    "\n",
    "for factor_name in ['turn_cv', 'amihud', 'amihud_adv', 'amihud_negative', 'amihud_cv', 'obv', 'pvc_optimize']:\n",
    "    print(factor_name)\n",
    "    print(datetime.datetime.now()) \n",
    "    results = parallal_task(worker, generate_factors, task, name=factor_name, data_df=stock_df)\n",
    "    results = pd.concat(results).sort_index()\n",
    "\n",
    "    if tail:\n",
    "        save_cache(factor_name+'_newtech2023_tail', results, cache_type=CACHE_TYPE.FACTOR)\n",
    "    else:\n",
    "        save_cache(factor_name+'_newtech2023_train', results, cache_type=CACHE_TYPE.FACTOR)"
   ]
  }
 ],
 "metadata": {
  "kernelspec": {
   "display_name": "Python 3 (ipykernel)",
   "language": "python",
   "name": "python3"
  },
  "language_info": {
   "codemirror_mode": {
    "name": "ipython",
    "version": 3
   },
   "file_extension": ".py",
   "mimetype": "text/x-python",
   "name": "python",
   "nbconvert_exporter": "python",
   "pygments_lexer": "ipython3",
   "version": "3.9.7"
  }
 },
 "nbformat": 4,
 "nbformat_minor": 5
}
