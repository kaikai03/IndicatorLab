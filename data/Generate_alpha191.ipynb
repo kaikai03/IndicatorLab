{
 "cells": [
  {
   "cell_type": "code",
   "execution_count": 1,
   "id": "46cc5a85-1564-4f7b-a9e9-b5eb88519cf4",
   "metadata": {
    "execution": {
     "iopub.execute_input": "2023-04-18T07:07:38.463765Z",
     "iopub.status.busy": "2023-04-18T07:07:38.463765Z",
     "iopub.status.idle": "2023-04-18T07:07:48.858886Z",
     "shell.execute_reply": "2023-04-18T07:07:48.858886Z",
     "shell.execute_reply.started": "2023-04-18T07:07:38.463765Z"
    },
    "tags": []
   },
   "outputs": [],
   "source": [
    "import sys\n",
    "import os \n",
    "module_path = os.path.abspath(os.path.join('..')) \n",
    "if module_path not in sys.path: \n",
    "    sys.path.append(module_path)\n",
    "\n",
    "import pandas as pd  \n",
    "import numpy as np  \n",
    "\n",
    "import tools.Sample_Tools as smpl\n",
    "import tools.Pretreat_Tools as pretreat\n",
    "from tools.Cacher import (CACHE_TYPE, save_cache,load_cache_adv,load_cache)\n",
    "\n",
    "from base.JuUnits import parallal_task,task_chunk_split\n",
    "from base.JuUnits import excute_for_multidates\n",
    "\n",
    "\n",
    "\n",
    "import ind.Alpha191 as a191\n",
    "from scipy import stats\n",
    "import statsmodels.api as sm\n",
    "\n",
    "# import cpuinfo\n",
    "# if 'ntel' in cpuinfo.get_cpu_info()['brand_raw']:\n",
    "# from sklearnex import patch_sklearn, unpatch_sklearn\n",
    "# unpatch_sklearn() ##注意，少量数据的线性回归没有优势。慎用，存在内存泄露\n",
    "\n",
    "from sklearn import linear_model\n",
    "\n",
    "\n",
    "%load_ext autoreload\n",
    "%autoreload 2\n",
    "%aimport ind.Alpha191\n",
    "\n",
    "def pretreate_data(data):\n",
    "    returns = smpl.get_current_return(data,'close')\n",
    "    returns.name = 'returns'\n",
    "    ret_forward = smpl.get_forward_return(data,'close')\n",
    "    ret_forward.name = 'ret_forward'\n",
    "    # {'Open', 'cap', 'close', 'high', 'ind', 'low', 'returns', 'volume', 'vwap'}\n",
    "    data = pd.concat([data, returns, ret_forward], axis=1)\n",
    "    data = data.assign(vwap=data.amount/(data.volume*100))\n",
    "    data.rename(columns = {\"open\":\"Open\",'market_value':'cap','industry':'ind'}, inplace=True)\n",
    "    data = smpl.add_report_inds(data,'netAssetsPerShare')\n",
    "    data['pb']=data['close']/data['netAssetsPerShare']\n",
    "    \n",
    "    df_ids = data.index.get_level_values(0)\n",
    "    \n",
    "    benchmark = smpl.get_benchmark('沪深300', start=df_ids.min(), end=df_ids.max()).data\n",
    "    benchmark = benchmark[['open','close']].reset_index('code',drop=True)\n",
    "    data['bm_index_open'] = df_ids.map(benchmark['open'])\n",
    "    data['bm_index_close'] = df_ids.map(benchmark['close'])\n",
    "    return data\n",
    "    # return pd.concat([data, close_ind, vwap_ind, low_ind, high_ind, volume_ind, adv20_ind, adv40_ind, adv81_ind, co_mixed_ind, oh_mixed_ind, lv_mixed_ind], axis=1)\n",
    "\n",
    "def assemble_stocks_by_codes(codes):\n",
    "    files = list(map(lambda x:x+'_train_qfq',codes))\n",
    "    return pd.concat(list(map(lambda file:load_cache(file,cache_type=CACHE_TYPE.STOCK),files))).sort_index(level=0)\n"
   ]
  },
  {
   "cell_type": "code",
   "execution_count": 2,
   "id": "02158dab-f12a-46e2-a05b-3f22e14a7040",
   "metadata": {
    "execution": {
     "iopub.execute_input": "2023-04-18T07:07:52.849826Z",
     "iopub.status.busy": "2023-04-18T07:07:52.849826Z",
     "iopub.status.idle": "2023-04-18T07:10:35.270725Z",
     "shell.execute_reply": "2023-04-18T07:10:35.270725Z",
     "shell.execute_reply.started": "2023-04-18T07:07:52.849826Z"
    },
    "tags": []
   },
   "outputs": [],
   "source": [
    "# #读取已经缓存的复权数据，并预处理\n",
    "# l = smpl.get_codes_from_blockname('沪深300', sse='all')\n",
    "# df_all =  assemble_stocks_by_codes(l)\n",
    "# df_treated = pretreate_data(df_all)\n",
    "\n",
    "tail = False\n",
    "if tail:\n",
    "    df_all = load_cache('all_tail_qfq',cache_type=CACHE_TYPE.STOCK).sort_index()\n",
    "else:\n",
    "    df_all = load_cache('all_train_qfq',cache_type=CACHE_TYPE.STOCK).sort_index()\n",
    "smpl.optimize_data_type(df_all)\n",
    "df_treated = pretreate_data(df_all)"
   ]
  },
  {
   "cell_type": "code",
   "execution_count": 5,
   "id": "34752a24-d504-4e24-b3d2-b7b8376ecbe7",
   "metadata": {
    "execution": {
     "iopub.execute_input": "2023-04-18T07:45:48.786084Z",
     "iopub.status.busy": "2023-04-18T07:45:48.785551Z",
     "iopub.status.idle": "2023-04-18T11:26:14.831373Z",
     "shell.execute_reply": "2023-04-18T11:26:14.830375Z",
     "shell.execute_reply.started": "2023-04-18T07:45:48.786084Z"
    },
    "tags": []
   },
   "outputs": [
    {
     "name": "stdout",
     "output_type": "stream",
     "text": [
      "Now in the main code. Process name is: base.JuUnits\n",
      "base.JuUnits, subpid:11568  pid:3432\n"
     ]
    },
    {
     "data": {
      "application/vnd.jupyter.widget-view+json": {
       "model_id": "4737b0c8d42643e48dd858beb670c202",
       "version_major": 2,
       "version_minor": 0
      },
      "text/plain": [
       "  0%|          | 0/6 [00:00<?, ?it/s]"
      ]
     },
     "metadata": {},
     "output_type": "display_data"
    }
   ],
   "source": [
    "# ids = [11,24,38,41,42,47,57,69,80,82,83,88,93,97]\n",
    "# ids = [92,157,149,191]\n",
    "# ['000001','601728','000002','601825', '601868']\n",
    "\n",
    "ids = np.arange(1,192)\n",
    "np.random.shuffle(ids)\n",
    "\n",
    "def generate_alpha_factors(fun_ids, df=None, type_tail=False):\n",
    "    import ind.Alpha191 as a191\n",
    "    from tools.Cacher import (CACHE_TYPE, save_cache,load_cache_adv,load_cache)\n",
    "    from base.JuUnits import excute_for_multidates\n",
    "    import numpy as np\n",
    "\n",
    "    for i in fun_ids:\n",
    "    # for i in ids:\n",
    "        fun_name = 'alpha'+ '0'*(3- int(np.log10(i)+1)) +str(i)\n",
    "        if fun_name != 'alpha030':\n",
    "            indx = excute_for_multidates(df, lambda x: getattr(a191, fun_name)(x) ,level=1)\n",
    "        else:\n",
    "            indx = getattr(a191, fun_name)(df)\n",
    "        # indx = excute_for_multidates(df_treated.loc[(slice(None),['000001','601728','000002','601825', '601868']),:], lambda x: getattr(a191, fun_name)(x) ,level=1)\n",
    "        indx.name = '191_'+fun_name\n",
    "        if type_tail:\n",
    "            save_cache('{}_tail'.format(indx.name), indx, cache_type=CACHE_TYPE.FACTOR)\n",
    "        else:\n",
    "            save_cache('{}_train'.format(indx.name), indx, cache_type=CACHE_TYPE.FACTOR)\n",
    "        # print(indx)\n",
    "\n",
    "worker=6\n",
    "task = task_chunk_split(ids, worker)\n",
    "results = parallal_task(worker, generate_alpha_factors, task, df=df_treated, type_tail=tail)\n"
   ]
  },
  {
   "cell_type": "code",
   "execution_count": 58,
   "id": "014267e5-32c8-435f-b912-859c2fa265ab",
   "metadata": {
    "execution": {
     "iopub.execute_input": "2022-12-20T09:18:18.608612Z",
     "iopub.status.busy": "2022-12-20T09:18:18.608612Z",
     "iopub.status.idle": "2022-12-20T09:18:18.679422Z",
     "shell.execute_reply": "2022-12-20T09:18:18.678531Z",
     "shell.execute_reply.started": "2022-12-20T09:18:18.608612Z"
    },
    "tags": []
   },
   "outputs": [],
   "source": [
    "# def alpha181_(data, dependencies=['close', 'bm_index_close'], max_window=40):\n",
    "#     # SUM(RET-MEAN(RET,20)-(BANCHMARK_INDEX_CLOSE-MEAN(BANCHMARK_INDEX_CLOSE,20))^2,20)/SUM((BANCHMARK_INDEX_CLOSE-MEAN(BANCHMARK_INDEX_CLOSE,20))^3)\n",
    "#     # 优化：数值取对数，否则ret 跟 index 可能不在一个量级上，导致全部结果趋同。\n",
    "#     bm = np.log(data['bm_index_close'])\n",
    "#     bm_mean = bm - bm.rolling(window=20, min_periods=20).mean()\n",
    "#     # print(bm_mean)\n",
    "#     # bm_mean = pd.DataFrame(data=np.repeat(bm_mean.values.reshape(len(bm_mean.values),1), len(data['close'].columns), axis=1), index=data['close'].index, columns=data['close'].columns)\n",
    "#     ret = np.log(data['close']).pct_change(periods=1)\n",
    "#     part1 = (ret-ret.rolling(window=20,min_periods=20).mean()-bm_mean**2).rolling(window=20,min_periods=20).sum()\n",
    "#     part2 = (bm_mean ** 3).rolling(window=20,min_periods=20).sum()\n",
    "\n",
    "#     return part1 / part2"
   ]
  },
  {
   "cell_type": "code",
   "execution_count": 60,
   "id": "686defaf-6a37-47fd-93e2-5eb2b86217f4",
   "metadata": {
    "execution": {
     "iopub.execute_input": "2022-12-20T09:18:25.871617Z",
     "iopub.status.busy": "2022-12-20T09:18:25.871617Z",
     "iopub.status.idle": "2022-12-20T09:18:25.937619Z",
     "shell.execute_reply": "2022-12-20T09:18:25.936762Z",
     "shell.execute_reply.started": "2022-12-20T09:18:25.871617Z"
    },
    "tags": []
   },
   "outputs": [],
   "source": [
    "# with pd.option_context(\"display.max_rows\", None, \"display.max_columns\", None):\n",
    "#     display(excute_for_multidates(df_treated.loc[(slice(None),['000001','601728','000002','601825', '601868']),], lambda x: alpha181_(x) ,level=1).sort_index())\n",
    "\n",
    "# excute_for_multidates(df_treated.loc[(slice(None),['000001','601728', '601868']),], lambda x: alpha181_(x) ,level=1).sort_index()"
   ]
  }
 ],
 "metadata": {
  "kernelspec": {
   "display_name": "Python 3 (ipykernel)",
   "language": "python",
   "name": "python3"
  },
  "language_info": {
   "codemirror_mode": {
    "name": "ipython",
    "version": 3
   },
   "file_extension": ".py",
   "mimetype": "text/x-python",
   "name": "python",
   "nbconvert_exporter": "python",
   "pygments_lexer": "ipython3",
   "version": "3.9.7"
  }
 },
 "nbformat": 4,
 "nbformat_minor": 5
}
