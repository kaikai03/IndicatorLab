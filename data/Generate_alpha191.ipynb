{
 "cells": [
  {
   "cell_type": "code",
   "execution_count": 248,
   "id": "46cc5a85-1564-4f7b-a9e9-b5eb88519cf4",
   "metadata": {
    "execution": {
     "iopub.execute_input": "2022-10-30T13:25:44.187090Z",
     "iopub.status.busy": "2022-10-30T13:25:44.187090Z",
     "iopub.status.idle": "2022-10-30T13:25:44.262778Z",
     "shell.execute_reply": "2022-10-30T13:25:44.262415Z",
     "shell.execute_reply.started": "2022-10-30T13:25:44.187090Z"
    },
    "tags": []
   },
   "outputs": [
    {
     "name": "stdout",
     "output_type": "stream",
     "text": [
      "The autoreload extension is already loaded. To reload it, use:\n",
      "  %reload_ext autoreload\n"
     ]
    }
   ],
   "source": [
    "import sys\n",
    "import os \n",
    "module_path = os.path.abspath(os.path.join('..')) \n",
    "if module_path not in sys.path: \n",
    "    sys.path.append(module_path)\n",
    "\n",
    "import pandas as pd  \n",
    "import numpy as np  \n",
    "\n",
    "import tools.Sample_Tools as smpl\n",
    "import tools.Pretreat_Tools as pretreat\n",
    "from tools.Cacher import (CACHE_TYPE, save_cache,load_cache_adv,load_cache)\n",
    "\n",
    "from base.JuUnits import parallal_task,task_chunk_split\n",
    "from base.JuUnits import excute_for_multidates\n",
    "\n",
    "\n",
    "from QUANTAXIS.QAUtil import DATABASE\n",
    "from QUANTAXIS.QAUtil import  trade_date_sse\n",
    "from QUANTAXIS.QAUtil.QADate_trade import (\n",
    "    QA_util_get_pre_trade_date,\n",
    "    QA_util_get_next_trade_date,\n",
    "    QA_util_if_tradetime\n",
    ")\n",
    "\n",
    "import ind.alpha191 as a191\n",
    "from scipy import stats\n",
    "import statsmodels.api as sm\n",
    "\n",
    "# import cpuinfo\n",
    "# if 'ntel' in cpuinfo.get_cpu_info()['brand_raw']:\n",
    "# from sklearnex import patch_sklearn, unpatch_sklearn\n",
    "# unpatch_sklearn() ##注意，少量数据的线性回归没有优势。慎用，存在内存泄露\n",
    "\n",
    "from sklearn import linear_model\n",
    "\n",
    "\n",
    "%load_ext autoreload\n",
    "%autoreload 2\n",
    "%aimport ind.alpha191\n"
   ]
  },
  {
   "cell_type": "code",
   "execution_count": 238,
   "id": "706af604-5dac-4107-8117-d6a83c75ff04",
   "metadata": {
    "execution": {
     "iopub.execute_input": "2022-10-30T12:54:56.165336Z",
     "iopub.status.busy": "2022-10-30T12:54:56.165336Z",
     "iopub.status.idle": "2022-10-30T12:54:56.269056Z",
     "shell.execute_reply": "2022-10-30T12:54:56.269056Z",
     "shell.execute_reply.started": "2022-10-30T12:54:56.165336Z"
    },
    "tags": []
   },
   "outputs": [],
   "source": [
    "def pretreate_data(data):\n",
    "    returns = smpl.get_current_return(data,'close')\n",
    "    returns.name = 'returns'\n",
    "    ret_forward = smpl.get_forward_return(data,'close')\n",
    "    ret_forward.name = 'ret_forward'\n",
    "    # {'Open', 'cap', 'close', 'high', 'ind', 'low', 'returns', 'volume', 'vwap'}\n",
    "    data = pd.concat([data, returns, ret_forward], axis=1)\n",
    "    data = data.assign(vwap=data.amount/(data.volume*100))\n",
    "    data = smpl.add_marketvalue_industry(data)\n",
    "    data.rename(columns = {\"open\":\"Open\",'totalCapital':'cap','industry':'ind'}, inplace=True)\n",
    "    data = smpl.add_report_inds(data,'netAssetsPerShare')\n",
    "    data['pb']=data['close']/data['netAssetsPerShare']\n",
    "    \n",
    "    df_ids = df_treated.index.get_level_values(0)\n",
    "    \n",
    "    benchmark = smpl.get_benchmark('沪深300', start=df_ids.min(), end=df_ids.max()).data\n",
    "    benchmark = benchmark[['open','close']].reset_index('code',drop=True)\n",
    "    data['bm_index_open'] = df_ids.map(benchmark['open'])\n",
    "    data['bm_index_close'] = df_ids.map(benchmark['close'])\n",
    "    return data\n",
    "    # return pd.concat([data, close_ind, vwap_ind, low_ind, high_ind, volume_ind, adv20_ind, adv40_ind, adv81_ind, co_mixed_ind, oh_mixed_ind, lv_mixed_ind], axis=1)\n"
   ]
  },
  {
   "cell_type": "code",
   "execution_count": 239,
   "id": "02158dab-f12a-46e2-a05b-3f22e14a7040",
   "metadata": {
    "execution": {
     "iopub.execute_input": "2022-10-30T12:54:57.501683Z",
     "iopub.status.busy": "2022-10-30T12:54:57.501683Z",
     "iopub.status.idle": "2022-10-30T12:55:01.661869Z",
     "shell.execute_reply": "2022-10-30T12:55:01.659634Z",
     "shell.execute_reply.started": "2022-10-30T12:54:57.501683Z"
    },
    "tags": []
   },
   "outputs": [],
   "source": [
    "def assemble_stocks_by_codes(codes):\n",
    "    files = list(map(lambda x:x+'_train_qfq',l))\n",
    "    return pd.concat(list(map(lambda file:load_cache(file,cache_type=CACHE_TYPE.STOCK),files))).sort_index(level=0)\n",
    "\n",
    "l = smpl.get_codes_from_blockname('沪深300', sse='all')\n",
    "df_all =  assemble_stocks_by_codes(l)"
   ]
  },
  {
   "cell_type": "code",
   "execution_count": 240,
   "id": "f45982ae-740c-4726-8571-59aec054f097",
   "metadata": {
    "execution": {
     "iopub.execute_input": "2022-10-30T12:55:01.662636Z",
     "iopub.status.busy": "2022-10-30T12:55:01.662636Z",
     "iopub.status.idle": "2022-10-30T12:55:38.311597Z",
     "shell.execute_reply": "2022-10-30T12:55:38.309857Z",
     "shell.execute_reply.started": "2022-10-30T12:55:01.662636Z"
    },
    "tags": []
   },
   "outputs": [],
   "source": [
    "df_treated = pretreate_data(df_all)"
   ]
  },
  {
   "cell_type": "code",
   "execution_count": 257,
   "id": "34752a24-d504-4e24-b3d2-b7b8376ecbe7",
   "metadata": {
    "execution": {
     "iopub.execute_input": "2022-10-30T13:43:42.421689Z",
     "iopub.status.busy": "2022-10-30T13:43:42.421689Z",
     "iopub.status.idle": "2022-10-30T13:57:25.806627Z",
     "shell.execute_reply": "2022-10-30T13:57:25.805663Z",
     "shell.execute_reply.started": "2022-10-30T13:43:42.421689Z"
    },
    "tags": []
   },
   "outputs": [
    {
     "name": "stdout",
     "output_type": "stream",
     "text": [
      "Now in the main code. Process name is: base.JuUnits\n",
      "base.JuUnits, subpid:10728  pid:23192\n"
     ]
    },
    {
     "data": {
      "application/vnd.jupyter.widget-view+json": {
       "model_id": "21ef4d625485458f9aab1ae2bce8e6ce",
       "version_major": 2,
       "version_minor": 0
      },
      "text/plain": [
       "  0%|          | 0/5 [00:00<?, ?it/s]"
      ]
     },
     "metadata": {},
     "output_type": "display_data"
    }
   ],
   "source": [
    "# ids = [11,24,38,41,42,47,57,69,80,82,83,88,93,97]\n",
    "# ids = [92,157,149,191]\n",
    "\n",
    "# ['000001','601728','000002','601825', '601868']\n",
    "ids = np.arange(1,192)\n",
    "np.random.shuffle(ids)\n",
    "\n",
    "def generate_alpha_factors(fun_ids, df=None):\n",
    "    import ind.alpha191 as a191\n",
    "    from tools.Cacher import (CACHE_TYPE, save_cache,load_cache_adv,load_cache)\n",
    "    from base.JuUnits import excute_for_multidates\n",
    "    import numpy as np\n",
    "\n",
    "    for i in fun_ids:\n",
    "    # for i in ids:\n",
    "        fun_name = 'alpha'+ '0'*(3- int(np.log10(i)+1)) +str(i)\n",
    "        indx = excute_for_multidates(df, lambda x: getattr(a191, fun_name)(x) ,level=1)\n",
    "        # indx = excute_for_multidates(df_treated.loc[(slice(None),['000001','601728','000002','601825', '601868']),:], lambda x: getattr(a191, fun_name)(x) ,level=1)\n",
    "        indx.name = '191_'+fun_name\n",
    "        save_cache('{}_train'.format(indx.name), indx, cache_type=CACHE_TYPE.FACTOR)\n",
    "        # print(indx)\n",
    "\n",
    "worker=6\n",
    "task = task_chunk_split(ids, worker)\n",
    "results = parallal_task(worker, generate_alpha_factors, task, df=df_treated)\n"
   ]
  },
  {
   "cell_type": "code",
   "execution_count": 200,
   "id": "ee532e13-0455-4fc2-9ea4-102daec3c77e",
   "metadata": {
    "execution": {
     "iopub.execute_input": "2022-10-28T09:44:07.018303Z",
     "iopub.status.busy": "2022-10-28T09:44:07.018303Z",
     "iopub.status.idle": "2022-10-28T09:44:07.094861Z",
     "shell.execute_reply": "2022-10-28T09:44:07.094021Z",
     "shell.execute_reply.started": "2022-10-28T09:44:07.018303Z"
    },
    "tags": []
   },
   "outputs": [],
   "source": [
    "# excute_for_multidates(df_treated.sort_index(), lambda x: a191.alpha011(x) ,level=1)\n",
    "def STD(data, windows):\n",
    "    return data.rolling(window=windows, min_periods=windows).std()\n",
    "def MEAN(data, windows):\n",
    "    return data.rolling(window=windows, min_periods=windows).mean()\n",
    "def DELTA(data, windows):\n",
    "    return data.diff(4)\n",
    "def SEQUENCE(n):\n",
    "    return pd.Series(np.arange(1,n+1))\n",
    "\n",
    "def SMA(data,windows,alpha):\n",
    "    return data.ewm(adjust=False, alpha=float(alpha)/windows, min_periods=windows, ignore_na=False).mean()\n",
    "\n",
    "def REGBETA(xs, y, n):\n",
    "    assert len(y)>=n,  'len(y)!>=n !!!'+ str(y.index[0])\n",
    "    regress = linear_model.LinearRegression(fit_intercept=False)\n",
    "    def reg(X,Y):\n",
    "        try:\n",
    "            if len(Y)>len(X):\n",
    "                Y_ =  Y[X.index]\n",
    "                if Y_.isnull().any():\n",
    "                    return np.nan\n",
    "                res = regress.fit(X.values.reshape(-1, 1), Y_.values.reshape(-1, 1)).coef_[0]\n",
    "            else:\n",
    "                # if Y.isnull().any():\n",
    "                #     return np.nan\n",
    "                res = regress.fit(X.values.reshape(-1, 1), Y.values.reshape(-1, 1)).coef_[0]\n",
    "        except Exception as e:\n",
    "            print(e)\n",
    "            return np.nan\n",
    "        return res\n",
    "    return xs.rolling(window=n, min_periods=n).apply(lambda x:reg(x,y))\n",
    "\n",
    "\n",
    "def COVIANCE(A,B,d):\n",
    "    se = pd.Series(np.arange(len(A.index)),index=A.index)\n",
    "    se = se.rolling(5).apply(lambda x: A.iloc[x].cov(B.iloc[x]))\n",
    "    return se\n",
    "\n",
    "def CORR(A,B,d):\n",
    "    se = pd.Series(np.arange(len(A.index)),index=A.index)\n",
    "    se = se.rolling(5).apply(lambda x: A.iloc[x].corr(B.iloc[x]))\n",
    "    return se\n",
    "\n",
    "\n",
    "def alpha149(data, dependencies=['close', 'bm_index_close'], max_window=253):\n",
    "    # REGBETA(FILTER(RET,BANCHMARK_INDEX_CLOSE<DELAY(BANCHMARK_INDEX_CLOSE,1)),\n",
    "    # FILTER(BANCHMARK_INDEX_CLOSE/DELAY(BANCHMARK_INDEX_CLOSE,1)-1,BANCHMARK_INDEX_CLOSE<DELAY(BANCHMARK_INDEX_CLOSE,1)),252)\n",
    "    if len(data)< max_window:\n",
    "        return pd.Series(np.nan,index=data.index)\n",
    "    bm = data['bm_index_close']\n",
    "    bm = (bm.diff(1) < 0.0)\n",
    "    part1 = data['close'].pct_change(periods=1)[bm]\n",
    "    part2 = data['close'].rolling(252).mean().pct_change(periods=1)[bm]\n",
    "    try:\n",
    "        alpha = REGBETA(part1,part2,252)\n",
    "    except Exception as e:\n",
    "        print(e)\n",
    "        return pd.Series(np.nan,index=data.index)\n",
    "    return alpha\n",
    "\n",
    "# print(alpha181(df_treated.loc[(slice(None),['000001']),:]).to_list())\n"
   ]
  },
  {
   "cell_type": "code",
   "execution_count": 249,
   "id": "4a34ce6b-49d9-48da-bb31-a59115bc316d",
   "metadata": {
    "execution": {
     "iopub.execute_input": "2022-10-30T13:25:56.219669Z",
     "iopub.status.busy": "2022-10-30T13:25:56.219669Z",
     "iopub.status.idle": "2022-10-30T13:25:57.542042Z",
     "shell.execute_reply": "2022-10-30T13:25:57.540132Z",
     "shell.execute_reply.started": "2022-10-30T13:25:56.219669Z"
    },
    "tags": []
   },
   "outputs": [
    {
     "data": {
      "text/plain": [
       "date        code  \n",
       "2017-01-04  000001         NaN\n",
       "2017-01-05  000001         NaN\n",
       "2017-01-06  000001         NaN\n",
       "2017-01-09  000001         NaN\n",
       "2017-01-10  000001         NaN\n",
       "                        ...   \n",
       "2021-12-24  000002    0.188497\n",
       "2021-12-27  000002    0.188512\n",
       "2021-12-28  000002    0.188190\n",
       "2021-12-29  000002    0.188088\n",
       "2021-12-30  000002    0.188264\n",
       "Name: close, Length: 2425, dtype: float64"
      ]
     },
     "execution_count": 249,
     "metadata": {},
     "output_type": "execute_result"
    }
   ],
   "source": [
    "# a = df_treated.loc[(slice(None),['000001']),:]\n",
    "# excute_for_multidates(df_treated, lambda x: getattr(a191, 'alpha149')(x) ,level=1)\n",
    "# x = excute_for_multidates(df_treated, lambda x: alpha149(x) ,level=1)\n",
    "# x = excute_for_multidates(df_treated.loc[(slice(None),['000001','605499','601728','601825','601868']),:], lambda x: alpha149(x) ,level=1)\n",
    "# x.sort_index()\n",
    "\n",
    "# with pd.option_context('display.max_rows', None): \n",
    "#     print(x.sort_index())\n",
    "\n",
    "def alpha030(data, dependencies=['ADXR'], max_window=1):\n",
    "    return None\n",
    "\n",
    "def alpha186(data, dependencies=['ADXR'], max_window=1):\n",
    "    return None\n",
    "    # \\u5c31\\u662fADXR\n",
    "#     (MEAN(ABS(SUM((LD>0  &  LD>HD)?LD:0,14)*100/SUM(TR,14)-SUM((HD>0  &\n",
    "# HD>LD)?HD:0,14)*100/SUM(TR,14))/(SUM((LD>0  &  LD>HD)?LD:0,14)*100/SUM(TR,14)+SUM((HD>0  &\n",
    "# HD>LD)?HD:0,14)*100/SUM(TR,14))*100,6)+DELAY(MEAN(ABS(SUM((LD>0  &\n",
    "# LD>HD)?LD:0,14)*100/SUM(TR,14)-SUM((HD>0  &  HD>LD)?HD:0,14)*100/SUM(TR,14))/(SUM((LD>0  &\n",
    "# LD>HD)?LD:0,14)*100/SUM(TR,14)+SUM((HD>0 & HD>LD)?HD:0,14)*100/SUM(TR,14))*100,6),6))/2\n",
    "    return data['ADXR'].iloc[-1]\n",
    "\n",
    "excute_for_multidates(df_treated.loc[(slice(None),['000001','000002']),:], lambda x: a191.alpha021(x) ,level=1)\n"
   ]
  },
  {
   "cell_type": "code",
   "execution_count": 195,
   "id": "71c978b0-5e14-4ec8-909a-9d02acdaaaf4",
   "metadata": {
    "execution": {
     "iopub.execute_input": "2022-10-28T09:39:39.868937Z",
     "iopub.status.busy": "2022-10-28T09:39:39.868418Z",
     "iopub.status.idle": "2022-10-28T09:39:39.951790Z",
     "shell.execute_reply": "2022-10-28T09:39:39.950792Z",
     "shell.execute_reply.started": "2022-10-28T09:39:39.868937Z"
    },
    "tags": []
   },
   "outputs": [
    {
     "data": {
      "text/plain": [
       "nan"
      ]
     },
     "execution_count": 195,
     "metadata": {},
     "output_type": "execute_result"
    }
   ],
   "source": [
    "# df_treated.index.get_level_values(1).unique().to_list()\n",
    "# '601728',\n",
    "#  '601825',\n",
    "#  '601868']\n",
    "alpha149(df_treated.loc[(slice(None),['601825']),:])"
   ]
  },
  {
   "cell_type": "code",
   "execution_count": 93,
   "id": "b1f7cda8-2ab9-4d4f-9ef8-f0d5c2ea2c4a",
   "metadata": {
    "execution": {
     "iopub.execute_input": "2022-10-26T14:47:48.392436Z",
     "iopub.status.busy": "2022-10-26T14:47:48.392436Z",
     "iopub.status.idle": "2022-10-26T14:47:48.467072Z",
     "shell.execute_reply": "2022-10-26T14:47:48.466277Z",
     "shell.execute_reply.started": "2022-10-26T14:47:48.392436Z"
    },
    "tags": []
   },
   "outputs": [
    {
     "name": "stdout",
     "output_type": "stream",
     "text": [
      "Wall time: 0 ns\n"
     ]
    }
   ],
   "source": [
    "%%time\n",
    "# df_all.loc[(slice('2017-01-10'),['000001','000002','000063']),:]\n",
    "# pd.concat(indxes,axis=1).sort_index().loc[(slice('2017-01-15'),['000001','000002','000063']),:]\n",
    "\n",
    "# # a = load_cache('alpha11_train', cache_type=CACHE_TYPE.FACTOR)\n",
    "# # b = load_cache('alpha24_train', cache_type=CACHE_TYPE.FACTOR)\n",
    "# pd.concat([a,b],axis=1).sort_index().loc[(slice('2017-01-20'),['000001','000002']),:]\n",
    "# pd.Series(-1,index=df_treated.loc[(slice(None),['000001']),:].index,dtype=np.dtype('int8'))\n",
    "\n",
    "# a=alpha004(df_treated.loc[(slice(None),['000001']),:])\n",
    "# a.rolling(window=5, min_periods=5).corr(a).to_list()\n",
    "# a.to_list()\n",
    "# a.rolling(window=5, min_periods=5).apply(lambda x:x.corr(a[x.index])).to_list()\n",
    "# a[0:50].rolling(window=5, min_periods=5).apply(lambda x:print(x.corr(a[x.index])))\n",
    "\n",
    "\n",
    "# def alpha083(data, dependencies=['high', 'volume'], max_window=5):\n",
    "#     # (-1*RANK(COVIANCE(RANK(HIGH),RANK(VOLUME),5)))\n",
    "#     alpha = COVIANCE(data['high'].rank(pct=True),data['volume'].rank(pct=True),5)*-1\n",
    "#     return alpha\n",
    "\n",
    "# print(alpha083(df_treated.loc[(slice(None),['000001']),:]).to_list()[0:100])\n",
    "\n",
    "# import matplotlib.pyplot as plt\n",
    "# plt.plot(np.arange(100),alpha083(df_treated.loc[(slice(None),['000001']),:]).to_list()[0:100])\n",
    "# plt.show()\n",
    "# plt.plot(np.arange(100),alpha090(df_treated.loc[(slice(None),['000001']),:]).to_list()[0:100])\n",
    "# plt.show()\n",
    "\n",
    "\n",
    "# X = df_treated.loc[(slice(None),['000001']),:]['close']\n",
    "# Y = pd.Series(np.random.rand(1215),index=X.index)\n",
    "# X = pd.Series(np.random.rand(10000000))\n",
    "# Y = pd.Series(np.random.rand(10000000))\n",
    "\n",
    "# x=np.array(range(1, 10))\n",
    "# w = np.array(range(1, 10))\n"
   ]
  }
 ],
 "metadata": {
  "kernelspec": {
   "display_name": "Python 3 (ipykernel)",
   "language": "python",
   "name": "python3"
  },
  "language_info": {
   "codemirror_mode": {
    "name": "ipython",
    "version": 3
   },
   "file_extension": ".py",
   "mimetype": "text/x-python",
   "name": "python",
   "nbconvert_exporter": "python",
   "pygments_lexer": "ipython3",
   "version": "3.9.7"
  }
 },
 "nbformat": 4,
 "nbformat_minor": 5
}
