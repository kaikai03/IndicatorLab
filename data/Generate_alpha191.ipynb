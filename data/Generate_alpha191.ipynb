{
 "cells": [
  {
   "cell_type": "code",
   "execution_count": 1,
   "id": "46cc5a85-1564-4f7b-a9e9-b5eb88519cf4",
   "metadata": {
    "execution": {
     "iopub.execute_input": "2022-11-01T13:19:08.180556Z",
     "iopub.status.busy": "2022-11-01T13:19:08.180556Z",
     "iopub.status.idle": "2022-11-01T13:19:33.535465Z",
     "shell.execute_reply": "2022-11-01T13:19:33.534679Z",
     "shell.execute_reply.started": "2022-11-01T13:19:08.180556Z"
    },
    "tags": []
   },
   "outputs": [],
   "source": [
    "import sys\n",
    "import os \n",
    "module_path = os.path.abspath(os.path.join('..')) \n",
    "if module_path not in sys.path: \n",
    "    sys.path.append(module_path)\n",
    "\n",
    "import pandas as pd  \n",
    "import numpy as np  \n",
    "\n",
    "import tools.Sample_Tools as smpl\n",
    "import tools.Pretreat_Tools as pretreat\n",
    "from tools.Cacher import (CACHE_TYPE, save_cache,load_cache_adv,load_cache)\n",
    "\n",
    "from base.JuUnits import parallal_task,task_chunk_split\n",
    "from base.JuUnits import excute_for_multidates\n",
    "\n",
    "\n",
    "from QUANTAXIS.QAUtil import DATABASE\n",
    "from QUANTAXIS.QAUtil import  trade_date_sse\n",
    "from QUANTAXIS.QAUtil.QADate_trade import (\n",
    "    QA_util_get_pre_trade_date,\n",
    "    QA_util_get_next_trade_date,\n",
    "    QA_util_if_tradetime\n",
    ")\n",
    "\n",
    "import ind.alpha191 as a191\n",
    "from scipy import stats\n",
    "import statsmodels.api as sm\n",
    "\n",
    "# import cpuinfo\n",
    "# if 'ntel' in cpuinfo.get_cpu_info()['brand_raw']:\n",
    "# from sklearnex import patch_sklearn, unpatch_sklearn\n",
    "# unpatch_sklearn() ##注意，少量数据的线性回归没有优势。慎用，存在内存泄露\n",
    "\n",
    "from sklearn import linear_model\n",
    "\n",
    "\n",
    "%load_ext autoreload\n",
    "%autoreload 2\n",
    "%aimport ind.alpha191\n"
   ]
  },
  {
   "cell_type": "code",
   "execution_count": 2,
   "id": "706af604-5dac-4107-8117-d6a83c75ff04",
   "metadata": {
    "execution": {
     "iopub.execute_input": "2022-11-01T13:19:33.537204Z",
     "iopub.status.busy": "2022-11-01T13:19:33.536555Z",
     "iopub.status.idle": "2022-11-01T13:19:33.629250Z",
     "shell.execute_reply": "2022-11-01T13:19:33.628253Z",
     "shell.execute_reply.started": "2022-11-01T13:19:33.536555Z"
    },
    "tags": []
   },
   "outputs": [],
   "source": [
    "def pretreate_data(data):\n",
    "    returns = smpl.get_current_return(data,'close')\n",
    "    returns.name = 'returns'\n",
    "    ret_forward = smpl.get_forward_return(data,'close')\n",
    "    ret_forward.name = 'ret_forward'\n",
    "    # {'Open', 'cap', 'close', 'high', 'ind', 'low', 'returns', 'volume', 'vwap'}\n",
    "    data = pd.concat([data, returns, ret_forward], axis=1)\n",
    "    data = data.assign(vwap=data.amount/(data.volume*100))\n",
    "    data = smpl.add_marketvalue_industry(data)\n",
    "    data.rename(columns = {\"open\":\"Open\",'totalCapital':'cap','industry':'ind'}, inplace=True)\n",
    "    data = smpl.add_report_inds(data,'netAssetsPerShare')\n",
    "    data['pb']=data['close']/data['netAssetsPerShare']\n",
    "    \n",
    "    df_ids = data.index.get_level_values(0)\n",
    "    \n",
    "    benchmark = smpl.get_benchmark('沪深300', start=df_ids.min(), end=df_ids.max()).data\n",
    "    benchmark = benchmark[['open','close']].reset_index('code',drop=True)\n",
    "    data['bm_index_open'] = df_ids.map(benchmark['open'])\n",
    "    data['bm_index_close'] = df_ids.map(benchmark['close'])\n",
    "    return data\n",
    "    # return pd.concat([data, close_ind, vwap_ind, low_ind, high_ind, volume_ind, adv20_ind, adv40_ind, adv81_ind, co_mixed_ind, oh_mixed_ind, lv_mixed_ind], axis=1)\n"
   ]
  },
  {
   "cell_type": "code",
   "execution_count": 3,
   "id": "02158dab-f12a-46e2-a05b-3f22e14a7040",
   "metadata": {
    "execution": {
     "iopub.execute_input": "2022-11-01T13:19:33.630248Z",
     "iopub.status.busy": "2022-11-01T13:19:33.630248Z",
     "iopub.status.idle": "2022-11-01T13:19:37.036881Z",
     "shell.execute_reply": "2022-11-01T13:19:37.035872Z",
     "shell.execute_reply.started": "2022-11-01T13:19:33.630248Z"
    },
    "tags": []
   },
   "outputs": [],
   "source": [
    "def assemble_stocks_by_codes(codes):\n",
    "    files = list(map(lambda x:x+'_train_qfq',codes))\n",
    "    return pd.concat(list(map(lambda file:load_cache(file,cache_type=CACHE_TYPE.STOCK),files))).sort_index(level=0)\n",
    "\n",
    "l = smpl.get_codes_from_blockname('沪深300', sse='all')\n",
    "df_all =  assemble_stocks_by_codes(l)"
   ]
  },
  {
   "cell_type": "code",
   "execution_count": 4,
   "id": "f45982ae-740c-4726-8571-59aec054f097",
   "metadata": {
    "execution": {
     "iopub.execute_input": "2022-11-01T13:19:37.038872Z",
     "iopub.status.busy": "2022-11-01T13:19:37.038872Z",
     "iopub.status.idle": "2022-11-01T13:20:02.835693Z",
     "shell.execute_reply": "2022-11-01T13:20:02.834682Z",
     "shell.execute_reply.started": "2022-11-01T13:19:37.038872Z"
    },
    "tags": []
   },
   "outputs": [],
   "source": [
    "df_treated = pretreate_data(df_all)"
   ]
  },
  {
   "cell_type": "code",
   "execution_count": 258,
   "id": "34752a24-d504-4e24-b3d2-b7b8376ecbe7",
   "metadata": {
    "execution": {
     "iopub.execute_input": "2022-10-30T14:31:47.368893Z",
     "iopub.status.busy": "2022-10-30T14:31:47.367704Z",
     "iopub.status.idle": "2022-10-30T14:31:47.449722Z",
     "shell.execute_reply": "2022-10-30T14:31:47.449722Z",
     "shell.execute_reply.started": "2022-10-30T14:31:47.368893Z"
    },
    "tags": []
   },
   "outputs": [],
   "source": [
    "# ids = [11,24,38,41,42,47,57,69,80,82,83,88,93,97]\n",
    "# ids = [92,157,149,191]\n",
    "\n",
    "# ['000001','601728','000002','601825', '601868']\n",
    "ids = np.arange(1,192)\n",
    "np.random.shuffle(ids)\n",
    "\n",
    "def generate_alpha_factors(fun_ids, df=None):\n",
    "    import ind.alpha191 as a191\n",
    "    from tools.Cacher import (CACHE_TYPE, save_cache,load_cache_adv,load_cache)\n",
    "    from base.JuUnits import excute_for_multidates\n",
    "    import numpy as np\n",
    "\n",
    "    for i in fun_ids:\n",
    "    # for i in ids:\n",
    "        fun_name = 'alpha'+ '0'*(3- int(np.log10(i)+1)) +str(i)\n",
    "        if fun_name != 'alpha030':\n",
    "            indx = excute_for_multidates(df, lambda x: getattr(a191, fun_name)(x) ,level=1)\n",
    "        else:\n",
    "            indx = getattr(a191, fun_name)(df)\n",
    "        # indx = excute_for_multidates(df_treated.loc[(slice(None),['000001','601728','000002','601825', '601868']),:], lambda x: getattr(a191, fun_name)(x) ,level=1)\n",
    "        indx.name = '191_'+fun_name\n",
    "        save_cache('{}_train'.format(indx.name), indx, cache_type=CACHE_TYPE.FACTOR)\n",
    "        # print(indx)\n",
    "\n",
    "# worker=6\n",
    "# task = task_chunk_split(ids, worker)\n",
    "# results = parallal_task(worker, generate_alpha_factors, task, df=df_treated)\n"
   ]
  },
  {
   "cell_type": "code",
   "execution_count": 5,
   "id": "ee532e13-0455-4fc2-9ea4-102daec3c77e",
   "metadata": {
    "execution": {
     "iopub.execute_input": "2022-11-01T13:22:07.166316Z",
     "iopub.status.busy": "2022-11-01T13:22:07.165185Z",
     "iopub.status.idle": "2022-11-01T13:22:08.981234Z",
     "shell.execute_reply": "2022-11-01T13:22:08.981234Z",
     "shell.execute_reply.started": "2022-11-01T13:22:07.166316Z"
    },
    "tags": []
   },
   "outputs": [
    {
     "name": "stdout",
     "output_type": "stream",
     "text": [
      "[nan, nan, nan, nan, nan, nan, nan, nan, nan, nan, nan, nan, nan, nan, nan, nan, nan, nan, nan, nan, nan, nan, nan, nan, nan, nan, nan, nan, nan, nan, nan, nan, nan, nan, nan, nan, nan, nan, nan, nan, nan, nan, nan, nan, nan, nan, nan, nan, nan, nan, nan, nan, nan, nan, nan, nan, nan, nan, nan, nan, nan, nan, nan, nan, nan, nan, nan, nan, nan, nan, nan, nan, nan, nan, nan, nan, nan, nan, nan, nan, nan, nan, nan, nan, nan, nan, nan, nan, nan, nan, nan, nan, nan, nan, nan, nan, nan, nan, nan, nan, nan, nan, nan, nan, nan, nan, nan, nan, nan, nan, nan, nan, nan, nan, nan, nan, nan, nan, nan, nan, nan, nan, nan, nan, nan, nan, nan, nan, nan, nan, nan, nan, nan, nan, nan, nan, nan, nan, nan, nan, nan, nan, nan, nan, nan, nan, nan, nan, nan, nan, nan, nan, nan, nan, nan, nan, nan, nan, nan, nan, nan, nan, nan, nan, nan, nan, nan, nan, nan, nan, nan, nan, nan, nan, nan, nan, nan, nan, nan, nan, nan, nan, nan, nan, nan, nan, nan, nan, nan, nan, nan, nan, nan, nan, nan, nan, nan, nan, nan, nan, nan, nan, nan, nan, nan, nan, nan, nan, nan, nan, nan, nan, nan, nan, nan, nan, nan, nan, nan, nan, nan, nan, nan, nan, nan, nan, nan, nan, nan, nan, nan, nan, nan, nan, nan, nan, nan, nan, nan, nan, nan, nan, nan, nan, nan, nan, nan, nan, nan, nan, nan, nan, nan, nan, nan, nan, nan, nan, nan, nan, nan, nan, nan, nan, nan, nan, nan, nan, nan, nan, nan, nan, nan, nan, nan, nan, nan, nan, nan, nan, nan, nan, nan, nan, nan, nan, nan, nan, nan, nan, nan, nan, nan, nan, nan, nan, nan, nan, nan, nan, nan, nan, nan, nan, nan, nan, nan, nan, nan, nan, nan, nan, nan, nan, nan, nan, nan, nan, nan, nan, nan, nan, nan, nan, nan, nan, nan, nan, nan, nan, nan, nan, nan, nan, nan, nan, nan, nan, nan, nan, nan, nan, nan, nan, nan, nan, nan, nan, nan, nan, nan, nan, nan, nan, nan, nan, nan, nan, nan, -0.012628986626041548, -0.013085237071176257, -0.012990094313336848, -0.01251141514075835, -0.012493810861677236, -0.012582886467474543, -0.012073067039691346, -0.011912290164595456, -0.011765892174314951, -0.011710842380294899, -0.011722110481248781, -0.011743163272009804, -0.011720381250668219, -0.0117105751637449, -0.011706794304306621, -0.011676365854631976, -0.011423101793425622, -0.011456225928076732, -0.010984654054567545, -0.010672877935474882, -0.010511225561988071, -0.010431565401196767, -0.01033965524620569, -0.010275043118818371, -0.010486151051748226, -0.010616294556079597, -0.010439611359262326, -0.010451046114938497, -0.01033121561128554, -0.010306422953075826, -0.010230585512757896, -0.010106360209054857, -0.009953284213674803, -0.009916248538055743, -0.009787301021552248, -0.009777637907453689, -0.009610893381164071, -0.009580593642210106, -0.00943356542583191, -0.00932970972813507, -0.009296350974528876, -0.009320776516361482, -0.009252438102038055, -0.009211471404569136, -0.009217163640196443, -0.009174614084868556, -0.009350665282603586, -0.009270283260125148, -0.009244150067268751, -0.009285432857451351, -0.009231071121123618, -0.009206089872898598, -0.009177051153699283, -0.009222501669153858, -0.009198387343113266, -0.009214356663016015, -0.009244892923772568, -0.009602486190008197, -0.00963683845675621, -0.00964734721614143, -0.00969706788833433, -0.009750317040172233, -0.009730141193293842, -0.009723046123440151, -0.009718999707492012, -0.009753515168703875, -0.009795254658605378, -0.009769352006382728, -0.009679132854041867, -0.009952968601649221, -0.010182330317853807, -0.01016856725048332, -0.010017006006855858, -0.010110531194549082, -0.01007359316245139, -0.00985965944849959, -0.009933993291475856, -0.009785988067192717, -0.009808314288417315, -0.009512299437558712, -0.009548642222471348, -0.009552875405892947, -0.00949158669140459, -0.009516459117602544, -0.009525043269491657, -0.009611293851502374, -0.009388426533576192, -0.009562747783664751, -0.009648815396406633, -0.009642032120780323, -0.00980281382665804, -0.009951894589698959, -0.010065473445858874, -0.01006266243209863, -0.010479214494941621, -0.010525071369663222, -0.010722253125807178, -0.011452608474344494, -0.011409191465946737, -0.011267435014878917, -0.011424983634908372, -0.011187649161638839, -0.011349356564284421, -0.011798172814013783, -0.011166133418103508, -0.011379836350948198, -0.011457445349865833, -0.011632553190536998, -0.011599873338825095, -0.009445019855708222, -0.009912534052576149, -0.009431300612980843, -0.010477298861093278, -0.010766569271096676, -0.010724408892586914, -0.011184284854175695, -0.011213010058779055, -0.011579025568137023, -0.011879623960080373, -0.012381101987175737, -0.012967016540795252, -0.012783350843815192, -0.013284186200855858, -0.013662011767809566, -0.014255850340972735, -0.014520980814576742, -0.01455426383427763, -0.014425782009709356, -0.014484202333925127, -0.014987815427302575, -0.015227617095668266, -0.015261234580338588, -0.015345526654151509, -0.014885269414695592, -0.015177870592858555, -0.015522542219095955, -0.015711355015095883, -0.015566188488280341, -0.015038695580600218, -0.015551679600544611, -0.015953328286462953, -0.016220091739792598, -0.016720956650661423, -0.016985932303353622, -0.017012978615688148, -0.017173443560886063, -0.01757727727128847, -0.017348286166757237, -0.01786353710576555, -0.01796505250965413, -0.01792414844841433, -0.018404364082665582, -0.01869017285348312, -0.019096242979025308, -0.018432715748359627, -0.018883554164070327, -0.018936546845491144, -0.019050475643649065, -0.01940757868074201, -0.019509557429032237, -0.019497939286211952, -0.01924911672160172, -0.01899641646364128, -0.018919272815343814, -0.019410178720082102, -0.01932868040655152, -0.01942782147060536, -0.01942773721143423, -0.019556508462439854, -0.01949913881695312, -0.01958942843663238, -0.019678993223255826, -0.01973754515377067, -0.01973781807751018, -0.01964625259004137, -0.019609698742936582, -0.019266654661738974, -0.019385743242262204, -0.019373969275775532, -0.019390206912368365, -0.019501635766350577, -0.019456535119883548, -0.01953418046637424, -0.01946476373483147, -0.01952563907149201, -0.0195971899084212, -0.019405176051607367, -0.019400788579833243, -0.019240140327002456, -0.019309434166082547, -0.01935568754812885, -0.01935569430357018, -0.019166641939706866, -0.019138856430473115, -0.019130027427640618, -0.018497012893447635, -0.018558330869768044, -0.018315888093109037, -0.018280073283289008, -0.01803445203265155, -0.01783634655233254, -0.017830142006259996, -0.017966040579460378, -0.0181084586392341, -0.017911081588994866, -0.017988349658813095, -0.01763304905045898, -0.017309356355913658, -0.017197717804951676, -0.0167435762586758, -0.016641163376527407, -0.016619432441964066, -0.016464124149477753, -0.01633286476485908, -0.016355285568059246, -0.016961963530369578]\n"
     ]
    }
   ],
   "source": [
    "# excute_for_multidates(df_treated.sort_index(), lambda x: a191.alpha011(x) ,level=1)\n",
    "def STD(data, windows):\n",
    "    return data.rolling(window=windows, min_periods=windows).std()\n",
    "def MEAN(data, windows):\n",
    "    return data.rolling(window=windows, min_periods=windows).mean()\n",
    "def DELTA(data, windows):\n",
    "    return data.diff(4)\n",
    "def SEQUENCE(n):\n",
    "    return pd.Series(np.arange(1,n+1))\n",
    "\n",
    "def SMA(data,windows,alpha):\n",
    "    return data.ewm(adjust=False, alpha=float(alpha)/windows, min_periods=windows, ignore_na=False).mean()\n",
    "\n",
    "def REGBETA(xs, y, n):\n",
    "    assert len(y)>=n,  'len(y)!>=n !!!'+ str(y.index[0])\n",
    "    regress = linear_model.LinearRegression(fit_intercept=False)\n",
    "    def reg(X,Y):\n",
    "        try:\n",
    "            if len(Y)>len(X):\n",
    "                Y_ =  Y[X.index]\n",
    "                if Y_.isnull().any():\n",
    "                    return np.nan\n",
    "                res = regress.fit(X.values.reshape(-1, 1), Y_.values.reshape(-1, 1)).coef_[0]\n",
    "            else:\n",
    "                # if Y.isnull().any():\n",
    "                #     return np.nan\n",
    "                res = regress.fit(X.values.reshape(-1, 1), Y.values.reshape(-1, 1)).coef_[0]\n",
    "        except Exception as e:\n",
    "            print(e)\n",
    "            return np.nan\n",
    "        return res\n",
    "    return xs.rolling(window=n, min_periods=n).apply(lambda x:reg(x,y))\n",
    "\n",
    "\n",
    "def COVIANCE(A,B,d):\n",
    "    se = pd.Series(np.arange(len(A.index)),index=A.index)\n",
    "    se = se.rolling(5).apply(lambda x: A.iloc[x].cov(B.iloc[x]))\n",
    "    return se\n",
    "\n",
    "def CORR(A,B,d):\n",
    "    se = pd.Series(np.arange(len(A.index)),index=A.index)\n",
    "    se = se.rolling(5).apply(lambda x: A.iloc[x].corr(B.iloc[x]))\n",
    "    return se\n",
    "\n",
    "\n",
    "def alpha149(data, dependencies=['close', 'bm_index_close'], max_window=253):\n",
    "    # REGBETA(FILTER(RET,BANCHMARK_INDEX_CLOSE<DELAY(BANCHMARK_INDEX_CLOSE,1)),\n",
    "    # FILTER(BANCHMARK_INDEX_CLOSE/DELAY(BANCHMARK_INDEX_CLOSE,1)-1,BANCHMARK_INDEX_CLOSE<DELAY(BANCHMARK_INDEX_CLOSE,1)),252)\n",
    "    if len(data)< max_window:\n",
    "        return pd.Series(np.nan,index=data.index)\n",
    "    bm = data['bm_index_close']\n",
    "    bm = (bm.diff(1) < 0.0)\n",
    "    part1 = data['close'].pct_change(periods=1)[bm]\n",
    "    part2 = data['close'].rolling(252).mean().pct_change(periods=1)[bm]\n",
    "    try:\n",
    "        alpha = REGBETA(part1,part2,252)\n",
    "    except Exception as e:\n",
    "        print(e)\n",
    "        return pd.Series(np.nan,index=data.index)\n",
    "    return alpha\n",
    "\n",
    "print(alpha149(df_treated.loc[(slice(None),['000001']),:]).to_list())\n"
   ]
  },
  {
   "cell_type": "code",
   "execution_count": 35,
   "id": "4a34ce6b-49d9-48da-bb31-a59115bc316d",
   "metadata": {
    "execution": {
     "iopub.execute_input": "2022-10-31T09:57:07.622091Z",
     "iopub.status.busy": "2022-10-31T09:57:07.619018Z",
     "iopub.status.idle": "2022-10-31T09:57:07.790111Z",
     "shell.execute_reply": "2022-10-31T09:57:07.789185Z",
     "shell.execute_reply.started": "2022-10-31T09:57:07.622091Z"
    },
    "tags": []
   },
   "outputs": [],
   "source": [
    "# a = df_treated.loc[(slice(None),['000001']),:]\n",
    "# excute_for_multidates(df_treated, lambda x: getattr(a191, 'alpha149')(x) ,level=1)\n",
    "# x = excute_for_multidates(df_treated, lambda x: alpha149(x) ,level=1)\n",
    "# x = excute_for_multidates(df_treated.loc[(slice(None),['000001','605499','601728','601825','601868']),:], lambda x: alpha149(x) ,level=1)\n",
    "# x.sort_index()\n",
    "\n",
    "# with pd.option_context('display.max_rows', None): \n",
    "#     print(x.sort_index())\n",
    "\n",
    "\n",
    "\n",
    "# alpha030(df_treated.loc[(slice(None),['000001','000002']),:])\n",
    "\n",
    "# def alpha186(data, dependencies=['ADXR'], max_window=1):\n",
    "#     return None\n",
    "#     # \\u5c31\\u662fADXR\n",
    "# #     (MEAN(ABS(SUM((LD>0  &  LD>HD)?LD:0,14)*100/SUM(TR,14)-SUM((HD>0  &\n",
    "# # HD>LD)?HD:0,14)*100/SUM(TR,14))/(SUM((LD>0  &  LD>HD)?LD:0,14)*100/SUM(TR,14)+SUM((HD>0  &\n",
    "# # HD>LD)?HD:0,14)*100/SUM(TR,14))*100,6)+DELAY(MEAN(ABS(SUM((LD>0  &\n",
    "# # LD>HD)?LD:0,14)*100/SUM(TR,14)-SUM((HD>0  &  HD>LD)?HD:0,14)*100/SUM(TR,14))/(SUM((LD>0  &\n",
    "# # LD>HD)?LD:0,14)*100/SUM(TR,14)+SUM((HD>0 & HD>LD)?HD:0,14)*100/SUM(TR,14))*100,6),6))/2\n",
    "#     return data['ADXR'].iloc[-1]\n",
    "\n",
    "# excute_for_multidates(df_treated.loc[(slice(None),['000001','000002']),:], lambda x: a191.alpha021(x) ,level=1)\n"
   ]
  },
  {
   "cell_type": "code",
   "execution_count": 50,
   "id": "71c978b0-5e14-4ec8-909a-9d02acdaaaf4",
   "metadata": {
    "execution": {
     "iopub.execute_input": "2022-11-04T10:33:20.890022Z",
     "iopub.status.busy": "2022-11-04T10:33:20.889023Z",
     "iopub.status.idle": "2022-11-04T10:33:21.290767Z",
     "shell.execute_reply": "2022-11-04T10:33:21.290767Z",
     "shell.execute_reply.started": "2022-11-04T10:33:20.890022Z"
    },
    "tags": []
   },
   "outputs": [
    {
     "data": {
      "text/plain": [
       "date        code  \n",
       "2017-01-04  000001          NaN\n",
       "2017-01-05  000001          NaN\n",
       "2017-01-06  000001          NaN\n",
       "2017-01-09  000001          NaN\n",
       "2017-01-10  000001          NaN\n",
       "                        ...    \n",
       "2021-12-24  000333    13.081014\n",
       "2021-12-27  000333    13.642905\n",
       "2021-12-28  000333    15.457109\n",
       "2021-12-29  000333    14.600930\n",
       "2021-12-30  000333    11.121865\n",
       "Length: 11792, dtype: float64"
      ]
     },
     "metadata": {},
     "output_type": "display_data"
    }
   ],
   "source": [
    "# df_treated.index.get_level_values(1).unique().to_list()\n",
    "# '601728',\n",
    "#  '601825',\n",
    "#  '601868']\n",
    "# alpha149(df_treated.loc[(slice(None),['601825']),:])\n",
    "\n",
    "a = df_treated#.loc[(slice(None),['000001','000002']),:]\n",
    "# a = df_treated.loc[(pd.Timestamp('2017-01-05'),['000001','000002']),:]\n",
    "# a = df_treated.loc[([pd.Timestamp('2017-01-05'),pd.Timestamp('2017-01-06')],['000001', '000002', '000063', '000066', '000069', '000100', '000157','000166', '000301', '000333']),:]\n",
    "# a = df_treated.loc[([pd.Timestamp('2017-01-05'),pd.Timestamp('2017-01-06')],['000001', '000002', '000063', '000066', '000069', '000100', '000157','000166', '000301', '000333']),:]\n",
    "\n",
    "# d_ = d.dropna(subset=['returns'],axis=0)\n",
    "\n",
    "def alpha186(data, dependencies=['low','high','close'], max_window=20):\n",
    "    # 就是ADXR\n",
    "#     (MEAN(ABS(SUM((LD>0 & LD>HD)?LD:0,14)*100/SUM(TR,14) - SUM((HD>0 & HD>LD)?HD:0,14)*100/SUM(TR,14)) \n",
    "#     /\n",
    "#     (SUM((LD>0  &  LD>HD)?LD:0,14)*100/SUM(TR,14) + SUM((HD>0 & HD>LD)?HD:0,14)*100/SUM(TR,14))*100,6)\n",
    "#     +\n",
    "#     DELAY(MEAN(ABS(SUM((LD>0 & LD>HD)?LD:0,14)*100/SUM(TR,14) - SUM((HD>0 & HD>LD)?HD:0,14)*100/SUM(TR,14)) \n",
    "#            / (SUM((LD>0 & LD>HD)?LD:0,14)*100/SUM(TR,14) + SUM((HD>0 & HD>LD)?HD:0,14)*100/SUM(TR,14))*100,6)\n",
    "#          ,6))/2\n",
    "    dm_plus = data['close'].diff(1).fillna(0)\n",
    "    dm_subtract = data['low'].diff(1).fillna(0)\n",
    "    condition_plus = (dm_plus<dm_subtract) | (dm_plus<0)\n",
    "    condition_sub = (dm_subtract < dm_plus) | (dm_subtract<0)\n",
    "    dm_plus[condition_plus] = 0\n",
    "    dm_subtract[condition_sub] = 0\n",
    "    \n",
    "    close_delay = data['close'].shift(1)\n",
    "    tr_a = data['high'] - data['low']\n",
    "    tr_b = data['high'] - close_delay\n",
    "    tr_c = data['low'] - close_delay\n",
    "    tr = pd.concat([tr_a,tr_b,tr_c],axis=1).max(axis=1)\n",
    "    \n",
    "    tr_sum = tr.rolling(14).sum()\n",
    "    \n",
    "    PDI = dm_plus.rolling(14).sum() * 100 / tr_sum\n",
    "    MDI = dm_subtract.rolling(14).sum() * 100 / tr_sum\n",
    "    DX = np.abs(PDI-MDI)/(PDI+MDI) * 100\n",
    "    ADX = MEAN(DX,6)\n",
    "    ADXR =(ADX+ADX.shift(1))/2\n",
    "    \n",
    "    return ADXR\n",
    "\n",
    "\n",
    "# with pd.option_context('display.max_rows', None): \n",
    "display(excute_for_multidates(df_treated.loc[(slice(None),['000001', '000002', '000063', '000066', '000069', '000100', '000157','000166', '000301', '000333']),:], lambda x: alpha186(x) ,level=1))\n"
   ]
  },
  {
   "cell_type": "code",
   "execution_count": 39,
   "id": "b1f7cda8-2ab9-4d4f-9ef8-f0d5c2ea2c4a",
   "metadata": {
    "execution": {
     "iopub.execute_input": "2022-11-04T06:59:38.101782Z",
     "iopub.status.busy": "2022-11-04T06:59:38.101294Z",
     "iopub.status.idle": "2022-11-04T06:59:38.186785Z",
     "shell.execute_reply": "2022-11-04T06:59:38.186785Z",
     "shell.execute_reply.started": "2022-11-04T06:59:38.101782Z"
    },
    "tags": []
   },
   "outputs": [
    {
     "name": "stdout",
     "output_type": "stream",
     "text": [
      "Wall time: 1.86 ms\n"
     ]
    },
    {
     "data": {
      "text/plain": [
       "0    8.0\n",
       "1    2.0\n",
       "2    3.0\n",
       "3    4.0\n",
       "4    5.0\n",
       "dtype: float64"
      ]
     },
     "execution_count": 39,
     "metadata": {},
     "output_type": "execute_result"
    }
   ],
   "source": [
    "%%time\n",
    "# df_all.loc[(slice('2017-01-10'),['000001','000002','000063']),:]\n",
    "# pd.concat(indxes,axis=1).sort_index().loc[(slice('2017-01-15'),['000001','000002','000063']),:]\n",
    "\n",
    "# # a = load_cache('alpha11_train', cache_type=CACHE_TYPE.FACTOR)\n",
    "# # b = load_cache('alpha24_train', cache_type=CACHE_TYPE.FACTOR)\n",
    "# pd.concat([a,b],axis=1).sort_index().loc[(slice('2017-01-20'),['000001','000002']),:]\n",
    "# pd.Series(-1,index=df_treated.loc[(slice(None),['000001']),:].index,dtype=np.dtype('int8'))\n",
    "\n",
    "# a=alpha004(df_treated.loc[(slice(None),['000001']),:])\n",
    "# a.rolling(window=5, min_periods=5).corr(a).to_list()\n",
    "# a.to_list()\n",
    "# a.rolling(window=5, min_periods=5).apply(lambda x:x.corr(a[x.index])).to_list()\n",
    "# a[0:50].rolling(window=5, min_periods=5).apply(lambda x:print(x.corr(a[x.index])))\n",
    "\n",
    "# df_treated.sort_index()\n",
    "\n",
    "# regress = linear_model.LinearRegression(fit_intercept=True)\n",
    "# x1=np.random.rand(50).reshape(-1, 1)\n",
    "# y1=np.random.rand(50).reshape(-1, 1)\n",
    "# residual_ = y1-regress.fit(x1,y1).predict(x1)\n",
    "# residual_\n",
    "l1 = pd.Series([8,2,3,4,5])\n",
    "l2 = pd.Series([4,2,3,2,1])\n",
    "l3 = pd.Series([6,1,3,2,np.nan])\n",
    "\n",
    "pd.concat([l1,l2,l3],axis=1).max(axis=1)"
   ]
  }
 ],
 "metadata": {
  "kernelspec": {
   "display_name": "Python 3 (ipykernel)",
   "language": "python",
   "name": "python3"
  },
  "language_info": {
   "codemirror_mode": {
    "name": "ipython",
    "version": 3
   },
   "file_extension": ".py",
   "mimetype": "text/x-python",
   "name": "python",
   "nbconvert_exporter": "python",
   "pygments_lexer": "ipython3",
   "version": "3.9.7"
  }
 },
 "nbformat": 4,
 "nbformat_minor": 5
}
