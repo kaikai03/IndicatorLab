{
 "cells": [
  {
   "cell_type": "code",
   "execution_count": 283,
   "id": "46cc5a85-1564-4f7b-a9e9-b5eb88519cf4",
   "metadata": {
    "execution": {
     "iopub.execute_input": "2022-10-20T07:53:33.684932Z",
     "iopub.status.busy": "2022-10-20T07:53:33.684932Z",
     "iopub.status.idle": "2022-10-20T07:53:33.766440Z",
     "shell.execute_reply": "2022-10-20T07:53:33.766266Z",
     "shell.execute_reply.started": "2022-10-20T07:53:33.684932Z"
    },
    "tags": []
   },
   "outputs": [
    {
     "name": "stdout",
     "output_type": "stream",
     "text": [
      "The autoreload extension is already loaded. To reload it, use:\n",
      "  %reload_ext autoreload\n"
     ]
    }
   ],
   "source": [
    "import sys\n",
    "import os \n",
    "module_path = os.path.abspath(os.path.join('..')) \n",
    "if module_path not in sys.path: \n",
    "    sys.path.append(module_path)\n",
    "\n",
    "import pandas as pd  \n",
    "import numpy as np  \n",
    "\n",
    "import tools.Sample_Tools as smpl\n",
    "import tools.Pretreat_Tools as pretreat\n",
    "from tools.Cacher import (CACHE_TYPE, save_cache,load_cache_adv,load_cache)\n",
    "\n",
    "from base.JuUnits import parallal_task,task_chunk_split\n",
    "from base.JuUnits import excute_for_multidates\n",
    "\n",
    "\n",
    "from QUANTAXIS.QAUtil import DATABASE\n",
    "from QUANTAXIS.QAUtil import  trade_date_sse\n",
    "from QUANTAXIS.QAUtil.QADate_trade import (\n",
    "    QA_util_get_pre_trade_date,\n",
    "    QA_util_get_next_trade_date,\n",
    "    QA_util_if_tradetime\n",
    ")\n",
    "\n",
    "import ind.alpha191 as a191\n",
    "from scipy import stats\n",
    "from sklearn import preprocessing\n",
    "import statsmodels.api as sm\n",
    "\n",
    "\n",
    "\n",
    "%load_ext autoreload\n",
    "%autoreload 2\n",
    "%aimport tools.Cacher\n"
   ]
  },
  {
   "cell_type": "code",
   "execution_count": null,
   "id": "28a6e241-ba38-4310-ab60-05491637e7d5",
   "metadata": {
    "tags": []
   },
   "outputs": [],
   "source": []
  },
  {
   "cell_type": "code",
   "execution_count": 357,
   "id": "706af604-5dac-4107-8117-d6a83c75ff04",
   "metadata": {
    "execution": {
     "iopub.execute_input": "2022-10-20T08:45:13.970242Z",
     "iopub.status.busy": "2022-10-20T08:45:13.969806Z",
     "iopub.status.idle": "2022-10-20T08:45:14.040612Z",
     "shell.execute_reply": "2022-10-20T08:45:14.039612Z",
     "shell.execute_reply.started": "2022-10-20T08:45:13.970242Z"
    },
    "tags": []
   },
   "outputs": [],
   "source": [
    "def pretreate_data(data):\n",
    "    returns = smpl.get_current_return(data,'close')\n",
    "    returns.name = 'returns'\n",
    "    ret_forward = smpl.get_forward_return(data,'close')\n",
    "    ret_forward.name = 'ret_forward'\n",
    "    # {'Open', 'cap', 'close', 'high', 'ind', 'low', 'returns', 'volume', 'vwap'}\n",
    "    data = pd.concat([data, returns, ret_forward], axis=1)\n",
    "    data = data.assign(vwap=data.amount/(data.volume*100))\n",
    "    data = smpl.add_marketvalue_industry(data)\n",
    "    data.rename(columns = {\"open\":\"Open\",'totalCapital':'cap','industry':'ind'}, inplace=True)\n",
    "    \n",
    "    data.rename(columns = {\"open\":\"Open\"}, inplace=True)\n",
    "    data = smpl.add_report_inds(data,'netAssetsPerShare')\n",
    "    data['pb']=data['close']/data['netAssetsPerShare']\n",
    "    return data\n",
    "    # return pd.concat([data, close_ind, vwap_ind, low_ind, high_ind, volume_ind, adv20_ind, adv40_ind, adv81_ind, co_mixed_ind, oh_mixed_ind, lv_mixed_ind], axis=1)\n",
    "\n",
    "\n"
   ]
  },
  {
   "cell_type": "code",
   "execution_count": 16,
   "id": "02158dab-f12a-46e2-a05b-3f22e14a7040",
   "metadata": {
    "execution": {
     "iopub.execute_input": "2022-10-19T10:05:38.349062Z",
     "iopub.status.busy": "2022-10-19T10:05:38.349062Z",
     "iopub.status.idle": "2022-10-19T10:05:43.409479Z",
     "shell.execute_reply": "2022-10-19T10:05:43.407724Z",
     "shell.execute_reply.started": "2022-10-19T10:05:38.349062Z"
    },
    "tags": []
   },
   "outputs": [],
   "source": [
    "def assemble_stocks_by_codes(codes):\n",
    "    files = list(map(lambda x:x+'_train_qfq',l))\n",
    "    return pd.concat(list(map(lambda file:load_cache(file,cache_type=CACHE_TYPE.STOCK),files))).sort_index(level=0)\n",
    "\n",
    "l = smpl.get_codes_from_blockname('沪深300', sse='all')\n",
    "df_all =  assemble_stocks_by_codes(l)"
   ]
  },
  {
   "cell_type": "code",
   "execution_count": 358,
   "id": "f45982ae-740c-4726-8571-59aec054f097",
   "metadata": {
    "execution": {
     "iopub.execute_input": "2022-10-20T08:45:16.914248Z",
     "iopub.status.busy": "2022-10-20T08:45:16.914248Z",
     "iopub.status.idle": "2022-10-20T08:45:41.708140Z",
     "shell.execute_reply": "2022-10-20T08:45:41.707198Z",
     "shell.execute_reply.started": "2022-10-20T08:45:16.914248Z"
    },
    "tags": []
   },
   "outputs": [],
   "source": [
    "df_treated = pretreate_data(df_all)"
   ]
  },
  {
   "cell_type": "code",
   "execution_count": 20,
   "id": "34752a24-d504-4e24-b3d2-b7b8376ecbe7",
   "metadata": {
    "execution": {
     "iopub.execute_input": "2022-10-19T10:20:20.894041Z",
     "iopub.status.busy": "2022-10-19T10:20:20.894041Z",
     "iopub.status.idle": "2022-10-19T10:20:21.278587Z",
     "shell.execute_reply": "2022-10-19T10:20:21.277791Z",
     "shell.execute_reply.started": "2022-10-19T10:20:20.894041Z"
    },
    "tags": []
   },
   "outputs": [
    {
     "name": "stdout",
     "output_type": "stream",
     "text": [
      "code\n",
      "000001   -4.506804e+07\n",
      "000002    1.596329e+07\n",
      "000063   -3.630724e+07\n",
      "000066    3.796777e+06\n",
      "000069    2.500154e+07\n",
      "              ...     \n",
      "603882   -1.483158e+05\n",
      "603899   -2.834211e+06\n",
      "603986    1.431323e+05\n",
      "603993   -1.358729e+08\n",
      "605499   -4.952623e+05\n",
      "Name: alpha011, Length: 248, dtype: float64\n",
      "code\n",
      "000001   -0.406365\n",
      "000002   -0.211400\n",
      "000063    0.276363\n",
      "000066    0.133742\n",
      "000069    0.348468\n",
      "            ...   \n",
      "603882    1.635349\n",
      "603899    1.838936\n",
      "603986    0.895157\n",
      "603993   -0.114700\n",
      "605499   -1.127755\n",
      "Name: alpha024, Length: 248, dtype: float64\n"
     ]
    }
   ],
   "source": [
    "# ids = [11,24,38,41,42,47,57,69,80,82,83,88,93,97]\n",
    "ids = [11,24]\n",
    "\n",
    "# ids = np.arange(1,101)\n",
    "# np.random.shuffle(ids)\n",
    "\n",
    "# def generate_alpha_factors(fun_ids, df=None):\n",
    "#     import ind.alpha191 as a191\n",
    "#     from tools.Cacher import (CACHE_TYPE, save_cache,load_cache_adv,load_cache)\n",
    "#     from base.JuUnits import excute_for_multidates\n",
    "\n",
    "# for i in fun_ids:\n",
    "for i in ids:\n",
    "    fun_name = 'alpha'+ '0'*(3- int(np.log10(i)+1)) +str(i)\n",
    "    # indx = excute_for_multidates(df, lambda x: getattr(a191, fun_name)(x) ,level=1)\n",
    "    indx = excute_for_multidates(df_treated, lambda x: getattr(a191, fun_name)(x) ,level=1)\n",
    "    indx.name = fun_name\n",
    "    # save_cache('{}_train'.format(fun_name), indx, cache_type=CACHE_TYPE.FACTOR)\n",
    "    print(indx)\n",
    "# worker=6\n",
    "# task = task_chunk_split(ids, worker)\n",
    "# results = parallal_task(worker, generate_alpha_factors, task, df=df_treated)\n"
   ]
  },
  {
   "cell_type": "code",
   "execution_count": 692,
   "id": "ee532e13-0455-4fc2-9ea4-102daec3c77e",
   "metadata": {
    "execution": {
     "iopub.execute_input": "2022-10-22T17:23:13.621509Z",
     "iopub.status.busy": "2022-10-22T17:23:13.620515Z",
     "iopub.status.idle": "2022-10-22T17:23:14.258806Z",
     "shell.execute_reply": "2022-10-22T17:23:14.257804Z",
     "shell.execute_reply.started": "2022-10-22T17:23:13.621509Z"
    },
    "tags": []
   },
   "outputs": [
    {
     "name": "stdout",
     "output_type": "stream",
     "text": [
      "[nan, nan, nan, nan, -0.6977407183259708, -0.6495725101600099, -0.5167825923634336, -0.7495483759906155, 0.28333086907104904, 0.6108316679677247, 0.46281994189363906, 0.7250257546025772, 0.8209514978525327, 0.7803961764631745, 0.7402118616328145, 0.04931237523317875, -0.20497294314787756, 0.3180272553654844, 0.0058393368825910025, -0.22825300005477153, 0.09516665667622837, 0.20221677463985033, -0.37884971275054025, -0.9712307678067038, -0.7093332057122299, -0.899688717375226, -0.5222269834711215, -0.38382809838946585, -0.7821534170467566, -0.7165715700808901, -0.6736395595766456, -0.4902484553180352, -0.6453889077154285, -0.6720805648109706, -0.10449417396613438, 0.8003427633057172, 0.5239323170588175, -0.3878030442960804, -0.18222208000316145, -0.2931082007865443, -0.6146248016165031, -0.05367806720901446, 0.2721742320451014, 0.0004530990711832015, -0.22054073232371713, -0.6419915317074526, -0.7821249962968652, 0.04575177096120491, 0.0697339707329557, -0.2457300316609612, -0.533921249449325, -0.9659833181282442, -0.5007262944212248, 0.7756537693751044, 0.04704433594338492, -0.07577663313980056, -0.36204416333074607, -0.3838314764953455, 0.6844522718052288, 0.879778841789726, 0.9234388970647198, 0.6921054525215974, 0.4690411035160949, 0.007707398455907317, -0.5466865757873093, -0.3511371438905062, -0.49990768940044017, 0.03732016387747755, 0.7857323806569625, 0.04388839261384232, -0.14349292587147866, -0.19657872342672017, -0.5643734049999402, 0.808462958152624, 0.3048965637148203, 0.23349533708812165, -0.3898416009901662, -0.5507821732909903, 0.7370286458907953, 0.7181004535554519, 0.3206136392829397, -0.1828814013126901, -0.8745569271397787, -0.7770676495931611, -0.9709867464676426, -0.5858268705639441, -0.38122814238643304, -0.43870587799916305, -0.5822971746059787, -0.9004159462127224, 0.16135804079821256, -0.39887053983074333, -0.40380290002530445, -0.906851199114459, -0.8185345758970172, -0.5887615876457895, -0.1207104947286223, 0.5993231576418402, 0.09115098876918581, -0.70962090725091]\n"
     ]
    }
   ],
   "source": [
    "# excute_for_multidates(df_treated.sort_index(), lambda x: a191.alpha011(x) ,level=1)\n",
    "def STD(data, windows):\n",
    "    return data.rolling(window=windows, min_periods=windows).std()\n",
    "def MEAN(data, windows):\n",
    "    return data.rolling(window=windows, min_periods=windows).mean()\n",
    "def DELTA(data, windows):\n",
    "    return data.diff(4)\n",
    "def SEQUENCE(n):\n",
    "    return np.arange(1,n+1)\n",
    "\n",
    "def SMA(data,windows,alpha):\n",
    "    return data.ewm(adjust=False, alpha=float(alpha)/windows, min_periods=windows, ignore_na=False).mean()\n",
    "\n",
    "def REGBETA(xs, y, n):\n",
    "    assert len(y)==n,  'len(y)!=n !!!'\n",
    "    def reg(X,Y):\n",
    "        try:\n",
    "            res = sm.OLS(Y, X).fit().params\n",
    "        except Exception as e:\n",
    "            return np.nan\n",
    "        return res\n",
    "    return xs.rolling(window=n, min_periods=n).apply(lambda x:reg(x,y))\n",
    "\n",
    "def COVIANCE(A,B,d):\n",
    "    se = pd.Series(np.arange(len(A.index)),index=A.index)\n",
    "    se = se.rolling(5).apply(lambda x: A.iloc[x].cov(B.iloc[x]))\n",
    "    return se\n",
    "\n",
    "def CORR(A,B,d):\n",
    "    se = pd.Series(np.arange(len(A.index)),index=A.index)\n",
    "    se = se.rolling(5).apply(lambda x: A.iloc[x].corr(B.iloc[x]))\n",
    "    return se\n",
    "\n",
    "\n",
    "def alpha090(data, dependencies=['amount', 'volume'], max_window=5):\n",
    "    # (RANK(CORR(RANK(VWAP),RANK(VOLUME),5))*-1)\n",
    "    return CORR(data['high'].rank(pct=True),data['volume'].rank(pct=True),5)*-1\n",
    "\n",
    "print(alpha090(df_treated.loc[(slice(None),['000001']),:]).to_list()[0:100])\n",
    "# df_treated.index.get_level_values(1).unique()"
   ]
  },
  {
   "cell_type": "code",
   "execution_count": 696,
   "id": "b1f7cda8-2ab9-4d4f-9ef8-f0d5c2ea2c4a",
   "metadata": {
    "execution": {
     "iopub.execute_input": "2022-10-22T17:27:16.679733Z",
     "iopub.status.busy": "2022-10-22T17:27:16.679733Z",
     "iopub.status.idle": "2022-10-22T17:27:17.942600Z",
     "shell.execute_reply": "2022-10-22T17:27:17.941596Z",
     "shell.execute_reply.started": "2022-10-22T17:27:16.679733Z"
    },
    "tags": []
   },
   "outputs": [
    {
     "data": {
      "image/png": "[encoded data removed]",
      "text/plain": [
       "<Figure size 432x288 with 1 Axes>"
      ]
     },
     "metadata": {
      "needs_background": "light"
     },
     "output_type": "display_data"
    },
    {
     "data": {
      "image/png": "[encoded data removed]",
      "text/plain": [
       "<Figure size 432x288 with 1 Axes>"
      ]
     },
     "metadata": {
      "needs_background": "light"
     },
     "output_type": "display_data"
    }
   ],
   "source": [
    "# df_all.loc[(slice('2017-01-10'),['000001','000002','000063']),:]\n",
    "# pd.concat(indxes,axis=1).sort_index().loc[(slice('2017-01-15'),['000001','000002','000063']),:]\n",
    "\n",
    "# # a = load_cache('alpha11_train', cache_type=CACHE_TYPE.FACTOR)\n",
    "# # b = load_cache('alpha24_train', cache_type=CACHE_TYPE.FACTOR)\n",
    "# pd.concat([a,b],axis=1).sort_index().loc[(slice('2017-01-20'),['000001','000002']),:]\n",
    "# pd.Series(-1,index=df_treated.loc[(slice(None),['000001']),:].index,dtype=np.dtype('int8'))\n",
    "\n",
    "# a=alpha004(df_treated.loc[(slice(None),['000001']),:])\n",
    "# a.rolling(window=5, min_periods=5).corr(a).to_list()\n",
    "# a.to_list()\n",
    "# a.rolling(window=5, min_periods=5).apply(lambda x:x.corr(a[x.index])).to_list()\n",
    "# a[0:50].rolling(window=5, min_periods=5).apply(lambda x:print(x.corr(a[x.index])))\n",
    "\n",
    "\n",
    "# def alpha083(data, dependencies=['high', 'volume'], max_window=5):\n",
    "#     # (-1*RANK(COVIANCE(RANK(HIGH),RANK(VOLUME),5)))\n",
    "#     alpha = COVIANCE(data['high'].rank(pct=True),data['volume'].rank(pct=True),5)*-1\n",
    "#     return alpha\n",
    "\n",
    "# print(alpha083(df_treated.loc[(slice(None),['000001']),:]).to_list()[0:100])\n",
    "\n",
    "import matplotlib.pyplot as plt\n",
    "plt.plot(np.arange(100),alpha083(df_treated.loc[(slice(None),['000001']),:]).to_list()[0:100])\n",
    "plt.show()\n",
    "plt.plot(np.arange(100),alpha090(df_treated.loc[(slice(None),['000001']),:]).to_list()[0:100])\n",
    "plt.show()"
   ]
  }
 ],
 "metadata": {
  "kernelspec": {
   "display_name": "Python 3 (ipykernel)",
   "language": "python",
   "name": "python3"
  },
  "language_info": {
   "codemirror_mode": {
    "name": "ipython",
    "version": 3
   },
   "file_extension": ".py",
   "mimetype": "text/x-python",
   "name": "python",
   "nbconvert_exporter": "python",
   "pygments_lexer": "ipython3",
   "version": "3.9.7"
  }
 },
 "nbformat": 4,
 "nbformat_minor": 5
}
