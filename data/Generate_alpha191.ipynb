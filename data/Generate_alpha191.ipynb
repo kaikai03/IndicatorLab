{
 "cells": [
  {
   "cell_type": "code",
   "execution_count": 1,
   "id": "46cc5a85-1564-4f7b-a9e9-b5eb88519cf4",
   "metadata": {
    "execution": {
     "iopub.execute_input": "2022-11-15T07:26:54.038271Z",
     "iopub.status.busy": "2022-11-15T07:26:54.037901Z",
     "iopub.status.idle": "2022-11-15T07:27:09.799497Z",
     "shell.execute_reply": "2022-11-15T07:27:09.797768Z",
     "shell.execute_reply.started": "2022-11-15T07:26:54.038271Z"
    },
    "tags": []
   },
   "outputs": [],
   "source": [
    "import sys\n",
    "import os \n",
    "module_path = os.path.abspath(os.path.join('..')) \n",
    "if module_path not in sys.path: \n",
    "    sys.path.append(module_path)\n",
    "\n",
    "import pandas as pd  \n",
    "import numpy as np  \n",
    "\n",
    "import tools.Sample_Tools as smpl\n",
    "import tools.Pretreat_Tools as pretreat\n",
    "from tools.Cacher import (CACHE_TYPE, save_cache,load_cache_adv,load_cache)\n",
    "\n",
    "from base.JuUnits import parallal_task,task_chunk_split\n",
    "from base.JuUnits import excute_for_multidates\n",
    "\n",
    "\n",
    "from QUANTAXIS.QAUtil import DATABASE\n",
    "from QUANTAXIS.QAUtil import  trade_date_sse\n",
    "from QUANTAXIS.QAUtil.QADate_trade import (\n",
    "    QA_util_get_pre_trade_date,\n",
    "    QA_util_get_next_trade_date,\n",
    "    QA_util_if_tradetime\n",
    ")\n",
    "\n",
    "import ind.alpha191 as a191\n",
    "from scipy import stats\n",
    "import statsmodels.api as sm\n",
    "\n",
    "# import cpuinfo\n",
    "# if 'ntel' in cpuinfo.get_cpu_info()['brand_raw']:\n",
    "# from sklearnex import patch_sklearn, unpatch_sklearn\n",
    "# unpatch_sklearn() ##注意，少量数据的线性回归没有优势。慎用，存在内存泄露\n",
    "\n",
    "from sklearn import linear_model\n",
    "\n",
    "\n",
    "%load_ext autoreload\n",
    "%autoreload 2\n",
    "%aimport ind.alpha191\n",
    "\n",
    "def pretreate_data(data):\n",
    "    returns = smpl.get_current_return(data,'close')\n",
    "    returns.name = 'returns'\n",
    "    ret_forward = smpl.get_forward_return(data,'close')\n",
    "    ret_forward.name = 'ret_forward'\n",
    "    # {'Open', 'cap', 'close', 'high', 'ind', 'low', 'returns', 'volume', 'vwap'}\n",
    "    data = pd.concat([data, returns, ret_forward], axis=1)\n",
    "    data = data.assign(vwap=data.amount/(data.volume*100))\n",
    "    data = smpl.add_marketvalue_industry(data)\n",
    "    data.rename(columns = {\"open\":\"Open\",'totalCapital':'cap','industry':'ind'}, inplace=True)\n",
    "    data = smpl.add_report_inds(data,'netAssetsPerShare')\n",
    "    data['pb']=data['close']/data['netAssetsPerShare']\n",
    "    \n",
    "    df_ids = data.index.get_level_values(0)\n",
    "    \n",
    "    benchmark = smpl.get_benchmark('沪深300', start=df_ids.min(), end=df_ids.max()).data\n",
    "    benchmark = benchmark[['open','close']].reset_index('code',drop=True)\n",
    "    data['bm_index_open'] = df_ids.map(benchmark['open'])\n",
    "    data['bm_index_close'] = df_ids.map(benchmark['close'])\n",
    "    return data\n",
    "    # return pd.concat([data, close_ind, vwap_ind, low_ind, high_ind, volume_ind, adv20_ind, adv40_ind, adv81_ind, co_mixed_ind, oh_mixed_ind, lv_mixed_ind], axis=1)\n",
    "\n",
    "def assemble_stocks_by_codes(codes):\n",
    "    files = list(map(lambda x:x+'_train_qfq',codes))\n",
    "    return pd.concat(list(map(lambda file:load_cache(file,cache_type=CACHE_TYPE.STOCK),files))).sort_index(level=0)\n"
   ]
  },
  {
   "cell_type": "code",
   "execution_count": 2,
   "id": "02158dab-f12a-46e2-a05b-3f22e14a7040",
   "metadata": {
    "execution": {
     "iopub.execute_input": "2022-11-15T07:27:09.804423Z",
     "iopub.status.busy": "2022-11-15T07:27:09.804423Z",
     "iopub.status.idle": "2022-11-15T07:27:21.736310Z",
     "shell.execute_reply": "2022-11-15T07:27:21.735405Z",
     "shell.execute_reply.started": "2022-11-15T07:27:09.804423Z"
    },
    "tags": []
   },
   "outputs": [],
   "source": [
    "l = smpl.get_codes_from_blockname('沪深300', sse='all')\n",
    "df_all =  assemble_stocks_by_codes(l)\n",
    "df_treated = pretreate_data(df_all)"
   ]
  },
  {
   "cell_type": "code",
   "execution_count": 3,
   "id": "34752a24-d504-4e24-b3d2-b7b8376ecbe7",
   "metadata": {
    "execution": {
     "iopub.execute_input": "2022-11-15T07:27:21.737404Z",
     "iopub.status.busy": "2022-11-15T07:27:21.737404Z",
     "iopub.status.idle": "2022-11-15T07:42:09.727991Z",
     "shell.execute_reply": "2022-11-15T07:42:09.726860Z",
     "shell.execute_reply.started": "2022-11-15T07:27:21.737404Z"
    },
    "tags": []
   },
   "outputs": [
    {
     "name": "stdout",
     "output_type": "stream",
     "text": [
      "Now in the main code. Process name is: base.JuUnits\n",
      "base.JuUnits, subpid:23376  pid:25024\n"
     ]
    },
    {
     "data": {
      "application/vnd.jupyter.widget-view+json": {
       "model_id": "408c873bdc5148978ff641f4248d5241",
       "version_major": 2,
       "version_minor": 0
      },
      "text/plain": [
       "  0%|          | 0/6 [00:00<?, ?it/s]"
      ]
     },
     "metadata": {},
     "output_type": "display_data"
    }
   ],
   "source": [
    "# ids = [11,24,38,41,42,47,57,69,80,82,83,88,93,97]\n",
    "# ids = [92,157,149,191]\n",
    "# ['000001','601728','000002','601825', '601868']\n",
    "\n",
    "ids = np.arange(1,192)\n",
    "np.random.shuffle(ids)\n",
    "\n",
    "def generate_alpha_factors(fun_ids, df=None):\n",
    "    import ind.alpha191 as a191\n",
    "    from tools.Cacher import (CACHE_TYPE, save_cache,load_cache_adv,load_cache)\n",
    "    from base.JuUnits import excute_for_multidates\n",
    "    import numpy as np\n",
    "\n",
    "    for i in fun_ids:\n",
    "    # for i in ids:\n",
    "        fun_name = 'alpha'+ '0'*(3- int(np.log10(i)+1)) +str(i)\n",
    "        if fun_name != 'alpha030':\n",
    "            indx = excute_for_multidates(df, lambda x: getattr(a191, fun_name)(x) ,level=1)\n",
    "        else:\n",
    "            indx = getattr(a191, fun_name)(df)\n",
    "        # indx = excute_for_multidates(df_treated.loc[(slice(None),['000001','601728','000002','601825', '601868']),:], lambda x: getattr(a191, fun_name)(x) ,level=1)\n",
    "        indx.name = '191_'+fun_name\n",
    "        save_cache('{}_train'.format(indx.name), indx, cache_type=CACHE_TYPE.FACTOR)\n",
    "        # print(indx)\n",
    "\n",
    "worker=6\n",
    "task = task_chunk_split(ids, worker)\n",
    "results = parallal_task(worker, generate_alpha_factors, task, df=df_treated)\n"
   ]
  }
 ],
 "metadata": {
  "kernelspec": {
   "display_name": "Python 3 (ipykernel)",
   "language": "python",
   "name": "python3"
  },
  "language_info": {
   "codemirror_mode": {
    "name": "ipython",
    "version": 3
   },
   "file_extension": ".py",
   "mimetype": "text/x-python",
   "name": "python",
   "nbconvert_exporter": "python",
   "pygments_lexer": "ipython3",
   "version": "3.9.7"
  }
 },
 "nbformat": 4,
 "nbformat_minor": 5
}
