{
 "cells": [
  {
   "cell_type": "code",
   "execution_count": 283,
   "id": "46cc5a85-1564-4f7b-a9e9-b5eb88519cf4",
   "metadata": {
    "execution": {
     "iopub.execute_input": "2022-10-20T07:53:33.684932Z",
     "iopub.status.busy": "2022-10-20T07:53:33.684932Z",
     "iopub.status.idle": "2022-10-20T07:53:33.766440Z",
     "shell.execute_reply": "2022-10-20T07:53:33.766266Z",
     "shell.execute_reply.started": "2022-10-20T07:53:33.684932Z"
    },
    "tags": []
   },
   "outputs": [
    {
     "name": "stdout",
     "output_type": "stream",
     "text": [
      "The autoreload extension is already loaded. To reload it, use:\n",
      "  %reload_ext autoreload\n"
     ]
    }
   ],
   "source": [
    "import sys\n",
    "import os \n",
    "module_path = os.path.abspath(os.path.join('..')) \n",
    "if module_path not in sys.path: \n",
    "    sys.path.append(module_path)\n",
    "\n",
    "import pandas as pd  \n",
    "import numpy as np  \n",
    "\n",
    "import tools.Sample_Tools as smpl\n",
    "import tools.Pretreat_Tools as pretreat\n",
    "from tools.Cacher import (CACHE_TYPE, save_cache,load_cache_adv,load_cache)\n",
    "\n",
    "from base.JuUnits import parallal_task,task_chunk_split\n",
    "from base.JuUnits import excute_for_multidates\n",
    "\n",
    "\n",
    "from QUANTAXIS.QAUtil import DATABASE\n",
    "from QUANTAXIS.QAUtil import  trade_date_sse\n",
    "from QUANTAXIS.QAUtil.QADate_trade import (\n",
    "    QA_util_get_pre_trade_date,\n",
    "    QA_util_get_next_trade_date,\n",
    "    QA_util_if_tradetime\n",
    ")\n",
    "\n",
    "import ind.alpha191 as a191\n",
    "from scipy import stats\n",
    "from sklearn import preprocessing\n",
    "import statsmodels.api as sm\n",
    "\n",
    "\n",
    "\n",
    "%load_ext autoreload\n",
    "%autoreload 2\n",
    "%aimport tools.Cacher\n"
   ]
  },
  {
   "cell_type": "code",
   "execution_count": null,
   "id": "28a6e241-ba38-4310-ab60-05491637e7d5",
   "metadata": {
    "tags": []
   },
   "outputs": [],
   "source": []
  },
  {
   "cell_type": "code",
   "execution_count": 357,
   "id": "706af604-5dac-4107-8117-d6a83c75ff04",
   "metadata": {
    "execution": {
     "iopub.execute_input": "2022-10-20T08:45:13.970242Z",
     "iopub.status.busy": "2022-10-20T08:45:13.969806Z",
     "iopub.status.idle": "2022-10-20T08:45:14.040612Z",
     "shell.execute_reply": "2022-10-20T08:45:14.039612Z",
     "shell.execute_reply.started": "2022-10-20T08:45:13.970242Z"
    },
    "tags": []
   },
   "outputs": [],
   "source": [
    "def pretreate_data(data):\n",
    "    returns = smpl.get_current_return(data,'close')\n",
    "    returns.name = 'returns'\n",
    "    ret_forward = smpl.get_forward_return(data,'close')\n",
    "    ret_forward.name = 'ret_forward'\n",
    "    # {'Open', 'cap', 'close', 'high', 'ind', 'low', 'returns', 'volume', 'vwap'}\n",
    "    data = pd.concat([data, returns, ret_forward], axis=1)\n",
    "    data = data.assign(vwap=data.amount/(data.volume*100))\n",
    "    data = smpl.add_marketvalue_industry(data)\n",
    "    data.rename(columns = {\"open\":\"Open\",'totalCapital':'cap','industry':'ind'}, inplace=True)\n",
    "    \n",
    "    data.rename(columns = {\"open\":\"Open\"}, inplace=True)\n",
    "    data = smpl.add_report_inds(data,'netAssetsPerShare')\n",
    "    data['pb']=data['close']/data['netAssetsPerShare']\n",
    "    return data\n",
    "    # return pd.concat([data, close_ind, vwap_ind, low_ind, high_ind, volume_ind, adv20_ind, adv40_ind, adv81_ind, co_mixed_ind, oh_mixed_ind, lv_mixed_ind], axis=1)\n",
    "\n",
    "\n"
   ]
  },
  {
   "cell_type": "code",
   "execution_count": 16,
   "id": "02158dab-f12a-46e2-a05b-3f22e14a7040",
   "metadata": {
    "execution": {
     "iopub.execute_input": "2022-10-19T10:05:38.349062Z",
     "iopub.status.busy": "2022-10-19T10:05:38.349062Z",
     "iopub.status.idle": "2022-10-19T10:05:43.409479Z",
     "shell.execute_reply": "2022-10-19T10:05:43.407724Z",
     "shell.execute_reply.started": "2022-10-19T10:05:38.349062Z"
    },
    "tags": []
   },
   "outputs": [],
   "source": [
    "def assemble_stocks_by_codes(codes):\n",
    "    files = list(map(lambda x:x+'_train_qfq',l))\n",
    "    return pd.concat(list(map(lambda file:load_cache(file,cache_type=CACHE_TYPE.STOCK),files))).sort_index(level=0)\n",
    "\n",
    "l = smpl.get_codes_from_blockname('沪深300', sse='all')\n",
    "df_all =  assemble_stocks_by_codes(l)"
   ]
  },
  {
   "cell_type": "code",
   "execution_count": 358,
   "id": "f45982ae-740c-4726-8571-59aec054f097",
   "metadata": {
    "execution": {
     "iopub.execute_input": "2022-10-20T08:45:16.914248Z",
     "iopub.status.busy": "2022-10-20T08:45:16.914248Z",
     "iopub.status.idle": "2022-10-20T08:45:41.708140Z",
     "shell.execute_reply": "2022-10-20T08:45:41.707198Z",
     "shell.execute_reply.started": "2022-10-20T08:45:16.914248Z"
    },
    "tags": []
   },
   "outputs": [],
   "source": [
    "df_treated = pretreate_data(df_all)"
   ]
  },
  {
   "cell_type": "code",
   "execution_count": 20,
   "id": "34752a24-d504-4e24-b3d2-b7b8376ecbe7",
   "metadata": {
    "execution": {
     "iopub.execute_input": "2022-10-19T10:20:20.894041Z",
     "iopub.status.busy": "2022-10-19T10:20:20.894041Z",
     "iopub.status.idle": "2022-10-19T10:20:21.278587Z",
     "shell.execute_reply": "2022-10-19T10:20:21.277791Z",
     "shell.execute_reply.started": "2022-10-19T10:20:20.894041Z"
    },
    "tags": []
   },
   "outputs": [
    {
     "name": "stdout",
     "output_type": "stream",
     "text": [
      "code\n",
      "000001   -4.506804e+07\n",
      "000002    1.596329e+07\n",
      "000063   -3.630724e+07\n",
      "000066    3.796777e+06\n",
      "000069    2.500154e+07\n",
      "              ...     \n",
      "603882   -1.483158e+05\n",
      "603899   -2.834211e+06\n",
      "603986    1.431323e+05\n",
      "603993   -1.358729e+08\n",
      "605499   -4.952623e+05\n",
      "Name: alpha011, Length: 248, dtype: float64\n",
      "code\n",
      "000001   -0.406365\n",
      "000002   -0.211400\n",
      "000063    0.276363\n",
      "000066    0.133742\n",
      "000069    0.348468\n",
      "            ...   \n",
      "603882    1.635349\n",
      "603899    1.838936\n",
      "603986    0.895157\n",
      "603993   -0.114700\n",
      "605499   -1.127755\n",
      "Name: alpha024, Length: 248, dtype: float64\n"
     ]
    }
   ],
   "source": [
    "# ids = [11,24,38,41,42,47,57,69,80,82,83,88,93,97]\n",
    "ids = [11,24]\n",
    "\n",
    "# ids = np.arange(1,101)\n",
    "# np.random.shuffle(ids)\n",
    "\n",
    "# def generate_alpha_factors(fun_ids, df=None):\n",
    "#     import ind.alpha191 as a191\n",
    "#     from tools.Cacher import (CACHE_TYPE, save_cache,load_cache_adv,load_cache)\n",
    "#     from base.JuUnits import excute_for_multidates\n",
    "\n",
    "# for i in fun_ids:\n",
    "for i in ids:\n",
    "    fun_name = 'alpha'+ '0'*(3- int(np.log10(i)+1)) +str(i)\n",
    "    # indx = excute_for_multidates(df, lambda x: getattr(a191, fun_name)(x) ,level=1)\n",
    "    indx = excute_for_multidates(df_treated, lambda x: getattr(a191, fun_name)(x) ,level=1)\n",
    "    indx.name = fun_name\n",
    "    # save_cache('{}_train'.format(fun_name), indx, cache_type=CACHE_TYPE.FACTOR)\n",
    "    print(indx)\n",
    "# worker=6\n",
    "# task = task_chunk_split(ids, worker)\n",
    "# results = parallal_task(worker, generate_alpha_factors, task, df=df_treated)\n"
   ]
  },
  {
   "cell_type": "code",
   "execution_count": 533,
   "id": "ee532e13-0455-4fc2-9ea4-102daec3c77e",
   "metadata": {
    "execution": {
     "iopub.execute_input": "2022-10-21T08:39:43.310855Z",
     "iopub.status.busy": "2022-10-21T08:39:43.309859Z",
     "iopub.status.idle": "2022-10-21T08:39:43.402350Z",
     "shell.execute_reply": "2022-10-21T08:39:43.401487Z",
     "shell.execute_reply.started": "2022-10-21T08:39:43.309859Z"
    },
    "tags": []
   },
   "outputs": [
    {
     "ename": "AttributeError",
     "evalue": "'numpy.float64' object has no attribute 'to_list'",
     "output_type": "error",
     "traceback": [
      "\u001b[1;31m---------------------------------------------------------------------------\u001b[0m",
      "\u001b[1;31mAttributeError\u001b[0m                            Traceback (most recent call last)",
      "\u001b[1;32m~\\AppData\\Local\\Temp/ipykernel_25524/1760467625.py\u001b[0m in \u001b[0;36m<module>\u001b[1;34m\u001b[0m\n\u001b[0;32m     39\u001b[0m     \u001b[1;32melse\u001b[0m\u001b[1;33m:\u001b[0m\u001b[1;32mreturn\u001b[0m \u001b[1;33m(\u001b[0m\u001b[0mdtm_sum\u001b[0m\u001b[1;33m-\u001b[0m\u001b[0mdbm_sum\u001b[0m\u001b[1;33m)\u001b[0m\u001b[1;33m/\u001b[0m\u001b[0mdbm_sum\u001b[0m\u001b[1;33m\u001b[0m\u001b[1;33m\u001b[0m\u001b[0m\n\u001b[0;32m     40\u001b[0m \u001b[1;33m\u001b[0m\u001b[0m\n\u001b[1;32m---> 41\u001b[1;33m \u001b[0malpha069\u001b[0m\u001b[1;33m(\u001b[0m\u001b[0mdf_treated\u001b[0m\u001b[1;33m.\u001b[0m\u001b[0mloc\u001b[0m\u001b[1;33m[\u001b[0m\u001b[1;33m(\u001b[0m\u001b[0mslice\u001b[0m\u001b[1;33m(\u001b[0m\u001b[1;32mNone\u001b[0m\u001b[1;33m)\u001b[0m\u001b[1;33m,\u001b[0m\u001b[1;33m[\u001b[0m\u001b[1;34m'000001'\u001b[0m\u001b[1;33m]\u001b[0m\u001b[1;33m)\u001b[0m\u001b[1;33m,\u001b[0m\u001b[1;33m:\u001b[0m\u001b[1;33m]\u001b[0m\u001b[1;33m)\u001b[0m\u001b[1;33m.\u001b[0m\u001b[0mto_list\u001b[0m\u001b[1;33m(\u001b[0m\u001b[1;33m)\u001b[0m\u001b[1;33m\u001b[0m\u001b[1;33m\u001b[0m\u001b[0m\n\u001b[0m\u001b[0;32m     42\u001b[0m \u001b[1;31m# df_treated.index.get_level_values(1).unique()\u001b[0m\u001b[1;33m\u001b[0m\u001b[1;33m\u001b[0m\u001b[0m\n",
      "\u001b[1;31mAttributeError\u001b[0m: 'numpy.float64' object has no attribute 'to_list'"
     ]
    }
   ],
   "source": [
    "# excute_for_multidates(df_treated.sort_index(), lambda x: a191.alpha011(x) ,level=1)\n",
    "def STD(data, windows):\n",
    "    return data.rolling(window=windows, min_periods=windows).std()\n",
    "def MEAN(data, windows):\n",
    "    return data.rolling(window=windows, min_periods=windows).mean()\n",
    "def DELTA(data, windows):\n",
    "    return data.diff(4)\n",
    "def SEQUENCE(n):\n",
    "    return np.arange(1,n+1)\n",
    "\n",
    "def SMA(data,windows,alpha):\n",
    "    return data.ewm(adjust=False, alpha=float(alpha)/windows, min_periods=windows, ignore_na=False).mean()\n",
    "\n",
    "def REGBETA(xs, y, n):\n",
    "    assert len(y)==n,  'len(y)!=n !!!'\n",
    "    def reg(X,Y):\n",
    "        try:\n",
    "            res = sm.OLS(Y, X).fit().params\n",
    "        except Exception as e:\n",
    "            return np.nan\n",
    "        return res\n",
    "    return xs.rolling(window=n, min_periods=n).apply(lambda x:reg(x,y))\n",
    "\n",
    "\n",
    "def alpha069(data, dependencies=['Open', 'high', 'low'], max_window=21):\n",
    "    # (SUM(DTM,20)>SUM(DBM,20)?\n",
    "        #(SUM(DTM,20)-SUM(DBM,20))/SUM(DTM,20):\n",
    "        #(SUM(DTM,20)=SUM(DBM,20)?0:\n",
    "            #(SUM(DTM,20)-SUM(DBM,20))/SUM(DBM,20)))\n",
    "    # DTM: (OPEN<=DELAY(OPEN,1)?0:MAX((HIGH-OPEN),(OPEN-DELAY(OPEN,1))))\n",
    "    # DBM: (OPEN>=DELAY(OPEN,1)?0:MAX((OPEN-LOW),(OPEN-DELAY(OPEN,1))))\n",
    "    dtm=(data['Open'].diff(1) <= 0) * np.maximum(data['high']-data['Open'],data['Open'].diff(1))\n",
    "    dbm=(data['Open'].diff(1) >= 0) * np.maximum(data['Open']-data['low'],data['Open'].diff(1))\n",
    "    dtm_sum = dtm.rolling(window=20, min_periods=20).sum()\n",
    "    dbm_sum = dbm.rolling(window=20, min_periods=20).sum()\n",
    "    if dtm_sum>dbm_sum:\n",
    "        return (dtm_sum-dbm_sum)/dtm_sum\n",
    "    elif dtm_sum==dbm_sum:return 0\n",
    "    else:return (dtm_sum-dbm_sum)/dbm_sum\n",
    "\n",
    "alpha069(df_treated.loc[(slice(None),['000001']),:]).to_list()\n",
    "# df_treated.index.get_level_values(1).unique()"
   ]
  },
  {
   "cell_type": "code",
   "execution_count": 190,
   "id": "b1f7cda8-2ab9-4d4f-9ef8-f0d5c2ea2c4a",
   "metadata": {
    "execution": {
     "iopub.execute_input": "2022-10-20T06:30:06.159606Z",
     "iopub.status.busy": "2022-10-20T06:30:06.159606Z",
     "iopub.status.idle": "2022-10-20T06:30:06.228200Z",
     "shell.execute_reply": "2022-10-20T06:30:06.228200Z",
     "shell.execute_reply.started": "2022-10-20T06:30:06.159606Z"
    },
    "tags": []
   },
   "outputs": [
    {
     "data": {
      "text/plain": [
       "array([ 2,  2,  3,  8,  5, 16,  7])"
      ]
     },
     "execution_count": 190,
     "metadata": {},
     "output_type": "execute_result"
    }
   ],
   "source": [
    "# df_all.loc[(slice('2017-01-10'),['000001','000002','000063']),:]\n",
    "# pd.concat(indxes,axis=1).sort_index().loc[(slice('2017-01-15'),['000001','000002','000063']),:]\n",
    "\n",
    "# # a = load_cache('alpha11_train', cache_type=CACHE_TYPE.FACTOR)\n",
    "# # b = load_cache('alpha24_train', cache_type=CACHE_TYPE.FACTOR)\n",
    "# pd.concat([a,b],axis=1).sort_index().loc[(slice('2017-01-20'),['000001','000002']),:]\n",
    "# pd.Series(-1,index=df_treated.loc[(slice(None),['000001']),:].index,dtype=np.dtype('int8'))\n",
    "\n",
    "# a=alpha004(df_treated.loc[(slice(None),['000001']),:])\n",
    "# a.rolling(window=5, min_periods=5).corr(a).to_list()\n",
    "# a.to_list()\n",
    "# a.rolling(window=5, min_periods=5).apply(lambda x:x.corr(a[x.index])).to_list()\n",
    "# a[0:50].rolling(window=5, min_periods=5).apply(lambda x:print(x.corr(a[x.index])))\n",
    "\n",
    "\n"
   ]
  }
 ],
 "metadata": {
  "kernelspec": {
   "display_name": "Python 3 (ipykernel)",
   "language": "python",
   "name": "python3"
  },
  "language_info": {
   "codemirror_mode": {
    "name": "ipython",
    "version": 3
   },
   "file_extension": ".py",
   "mimetype": "text/x-python",
   "name": "python",
   "nbconvert_exporter": "python",
   "pygments_lexer": "ipython3",
   "version": "3.9.7"
  }
 },
 "nbformat": 4,
 "nbformat_minor": 5
}
