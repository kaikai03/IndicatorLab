{
 "cells": [
  {
   "cell_type": "code",
   "execution_count": 3,
   "id": "46cc5a85-1564-4f7b-a9e9-b5eb88519cf4",
   "metadata": {
    "execution": {
     "iopub.execute_input": "2023-04-18T18:30:03.568576Z",
     "iopub.status.busy": "2023-04-18T18:30:03.565584Z",
     "iopub.status.idle": "2023-04-18T18:30:03.898693Z",
     "shell.execute_reply": "2023-04-18T18:30:03.897797Z",
     "shell.execute_reply.started": "2023-04-18T18:30:03.568576Z"
    },
    "tags": []
   },
   "outputs": [
    {
     "name": "stdout",
     "output_type": "stream",
     "text": [
      "The autoreload extension is already loaded. To reload it, use:\n",
      "  %reload_ext autoreload\n"
     ]
    }
   ],
   "source": [
    "import sys\n",
    "import os \n",
    "module_path = os.path.abspath(os.path.join('..')) \n",
    "if module_path not in sys.path: \n",
    "    sys.path.append(module_path)\n",
    "\n",
    "import pandas as pd  \n",
    "import numpy as np  \n",
    "\n",
    "import tools.Sample_Tools as smpl\n",
    "import tools.Pretreat_Tools as pretreat\n",
    "from tools.Cacher import (CACHE_TYPE, save_cache,load_cache_adv,load_cache)\n",
    "\n",
    "from base.JuUnits import parallal_task,task_chunk_split\n",
    "from base.JuUnits import excute_for_multidates\n",
    "\n",
    "import ind.Alpha_base10 as base10\n",
    "\n",
    "\n",
    "%load_ext autoreload\n",
    "%autoreload 2\n",
    "%aimport ind.alpha_base10,tools.Sample_Tools\n",
    "\n"
   ]
  },
  {
   "cell_type": "code",
   "execution_count": 4,
   "id": "02158dab-f12a-46e2-a05b-3f22e14a7040",
   "metadata": {
    "execution": {
     "iopub.execute_input": "2023-04-18T18:30:11.546404Z",
     "iopub.status.busy": "2023-04-18T18:30:11.546404Z",
     "iopub.status.idle": "2023-04-18T19:37:31.580806Z",
     "shell.execute_reply": "2023-04-18T19:37:31.580806Z",
     "shell.execute_reply.started": "2023-04-18T18:30:11.546404Z"
    },
    "tags": []
   },
   "outputs": [
    {
     "name": "stdout",
     "output_type": "stream",
     "text": [
      "Now in the main code. Process name is: base.JuUnits\n",
      "base.JuUnits, subpid:15416  pid:3432\n"
     ]
    },
    {
     "data": {
      "application/vnd.jupyter.widget-view+json": {
       "model_id": "89db3aa5dffd43af8ee4c45c97c17287",
       "version_major": 2,
       "version_minor": 0
      },
      "text/plain": [
       "  0%|          | 0/6 [00:00<?, ?it/s]"
      ]
     },
     "metadata": {},
     "output_type": "display_data"
    },
    {
     "name": "stdout",
     "output_type": "stream",
     "text": [
      "earnings_yield\n",
      "liquidity\n",
      "resvol\n"
     ]
    }
   ],
   "source": [
    "# #读取已经缓存的复权数据，并预处理\n",
    "tail = False\n",
    "if tail:\n",
    "    stock_df = load_cache('all_tail_qfq',cache_type=CACHE_TYPE.STOCK).sort_index()\n",
    "else:\n",
    "    stock_df = load_cache('all_train_qfq',cache_type=CACHE_TYPE.STOCK).sort_index()\n",
    "smpl.optimize_data_type(stock_df)\n",
    "## 日无风险回报\n",
    "ret_fs_data = pd.read_csv(module_path+'/data/static/china10yearbond.csv').set_index('date').sort_index()\n",
    "ret_fs_data = (ret_fs_data['high'].astype(np.float32)+ret_fs_data['low'].astype(np.float32))/2 * 0.01\n",
    "ret_fs_daily = ret_fs_data/252\n",
    "\n",
    "ret_t, ret_t_excess, market_value_t, ret_excess_market_t = base10.prepare_data(stock_df,ret_fs_daily)\n",
    "\n",
    "\n",
    "#############测试#######################\n",
    "# ['000001','000008','600600','000729']\n",
    "# stock_df = stock_df.loc[(slice(None),stock_df.index.get_level_values(1).unique().to_list()[0:11]),:]\n",
    "# ret_t, ret_t_excess, market_value_t, ret_excess_market_t = base10.prepare_data(stock_df,ret_fs_daily)\n",
    "\n",
    "stock_codes = stock_df.index.get_level_values(1).unique().to_list()\n",
    "np.random.shuffle(stock_codes)\n",
    "\n",
    "\n",
    "def generate_alpha_factors(codes, data_df=None, ret_fs=None, ret=None, ret_excess=None, market_value=None, ret_excess_market=None):\n",
    "    import ind.alpha_base10 as base10\n",
    "    from base.JuUnits import excute_for_multidates\n",
    "    import numpy as np\n",
    "    import pandas as pd\n",
    "\n",
    "    df = data_df.loc[(slice(None),codes),:]\n",
    "    ret_ = ret.loc[(slice(None),codes)]\n",
    "    ret_excess_ = ret_excess.loc[(slice(None),codes)]\n",
    "    \n",
    "\n",
    "    alpha_beta = base10.camp_beta_alpha(ret_excess_,ret_excess_market)\n",
    "    mom = base10.momentum(ret_,ret_fs)\n",
    "    size_lg = base10.sizelg(df)\n",
    "    bp = base10.bp(df)\n",
    "    \n",
    "    return pd.concat([alpha_beta, mom, size_lg, bp], axis=1).loc[(slice(None),codes),:]\n",
    "\n",
    "worker=6\n",
    "task = task_chunk_split(stock_codes, worker)\n",
    "results = parallal_task(worker, generate_alpha_factors, task, \n",
    "                        data_df=stock_df, ret_fs=ret_fs_daily, ret=ret_t, \n",
    "                        ret_excess=ret_t_excess, market_value=market_value_t,\n",
    "                        ret_excess_market=ret_excess_market_t)\n",
    "results = pd.concat(results).sort_index()\n",
    "\n",
    "####使用全局数据的项目，注意不要分步计算\n",
    "earnings_yield = base10.earnings_yield(ret_t,market_value_t,stock_df['industry']) \n",
    "print('earnings_yield')\n",
    "liquidity = base10.liquidity(stock_df)\n",
    "print('liquidity')\n",
    "resvol = base10.resvol(ret_t, ret_fs_daily, ret_t_excess, results['sizelg'], results['beta'], results['residual'])\n",
    "print('resvol')\n",
    "sizenl = base10.sizenl(results['sizelg'])\n",
    "\n",
    "final = pd.concat([results, earnings_yield, liquidity, resvol, sizenl],axis=1).sort_index()\n",
    "if tail:\n",
    "    save_cache('base10_tail', final, cache_type=CACHE_TYPE.FACTOR)\n",
    "else:\n",
    "    save_cache('base10_train', final, cache_type=CACHE_TYPE.FACTOR)"
   ]
  },
  {
   "cell_type": "code",
   "execution_count": 6,
   "id": "34752a24-d504-4e24-b3d2-b7b8376ecbe7",
   "metadata": {
    "execution": {
     "iopub.execute_input": "2023-04-19T01:17:30.710482Z",
     "iopub.status.busy": "2023-04-19T01:17:30.710482Z",
     "iopub.status.idle": "2023-04-19T01:17:30.854307Z",
     "shell.execute_reply": "2023-04-19T01:17:30.854307Z",
     "shell.execute_reply.started": "2023-04-19T01:17:30.710482Z"
    },
    "tags": []
   },
   "outputs": [
    {
     "data": {
      "text/plain": [
       "(1218, 12)"
      ]
     },
     "execution_count": 6,
     "metadata": {},
     "output_type": "execute_result"
    }
   ],
   "source": [
    "# load_cache('base10_train',cache_type=CACHE_TYPE.FACTOR).dropna()\n",
    "# stock_df.loc[(slice(None),['000001','000002']),:][['close']]\n",
    "stock_df.loc[(slice(None),['000001']),:].shape"
   ]
  },
  {
   "cell_type": "code",
   "execution_count": 5,
   "id": "3472d99f-7757-4ade-bea7-37325595c1c2",
   "metadata": {
    "execution": {
     "iopub.execute_input": "2023-04-19T01:17:21.890840Z",
     "iopub.status.busy": "2023-04-19T01:17:21.890840Z",
     "iopub.status.idle": "2023-04-19T01:17:22.086945Z",
     "shell.execute_reply": "2023-04-19T01:17:22.086845Z",
     "shell.execute_reply.started": "2023-04-19T01:17:21.890840Z"
    },
    "tags": []
   },
   "outputs": [
    {
     "name": "stdout",
     "output_type": "stream",
     "text": [
      "<class 'pandas.core.frame.DataFrame'>\n",
      "MultiIndex: 3022939 entries, (Timestamp('2016-01-04 00:00:00'), '000001') to (Timestamp('2020-12-31 00:00:00'), '605500')\n",
      "Data columns (total 10 columns):\n",
      " #   Column          Dtype  \n",
      "---  ------          -----  \n",
      " 0   beta            float64\n",
      " 1   alpha           float64\n",
      " 2   residual        float64\n",
      " 3   momentum        float64\n",
      " 4   sizelg          float64\n",
      " 5   bp              float64\n",
      " 6   earnings_yield  float64\n",
      " 7   liquidity       float64\n",
      " 8   resvol          float64\n",
      " 9   sizenl          float64\n",
      "dtypes: float64(10)\n",
      "memory usage: 242.3+ MB\n"
     ]
    }
   ],
   "source": [
    "final.info()"
   ]
  }
 ],
 "metadata": {
  "kernelspec": {
   "display_name": "Python 3 (ipykernel)",
   "language": "python",
   "name": "python3"
  },
  "language_info": {
   "codemirror_mode": {
    "name": "ipython",
    "version": 3
   },
   "file_extension": ".py",
   "mimetype": "text/x-python",
   "name": "python",
   "nbconvert_exporter": "python",
   "pygments_lexer": "ipython3",
   "version": "3.9.7"
  }
 },
 "nbformat": 4,
 "nbformat_minor": 5
}
