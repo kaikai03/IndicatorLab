{
 "cells": [
  {
   "cell_type": "code",
   "execution_count": 42,
   "id": "46cc5a85-1564-4f7b-a9e9-b5eb88519cf4",
   "metadata": {
    "execution": {
     "iopub.execute_input": "2023-02-10T01:53:19.200846Z",
     "iopub.status.busy": "2023-02-10T01:53:19.200846Z",
     "iopub.status.idle": "2023-02-10T01:53:19.278716Z",
     "shell.execute_reply": "2023-02-10T01:53:19.278716Z",
     "shell.execute_reply.started": "2023-02-10T01:53:19.200846Z"
    },
    "tags": []
   },
   "outputs": [
    {
     "name": "stdout",
     "output_type": "stream",
     "text": [
      "The autoreload extension is already loaded. To reload it, use:\n",
      "  %reload_ext autoreload\n"
     ]
    }
   ],
   "source": [
    "import sys\n",
    "import os \n",
    "module_path = os.path.abspath(os.path.join('..')) \n",
    "if module_path not in sys.path: \n",
    "    sys.path.append(module_path)\n",
    "\n",
    "import pandas as pd  \n",
    "import numpy as np  \n",
    "\n",
    "import tools.Sample_Tools as smpl\n",
    "import tools.Pretreat_Tools as pretreat\n",
    "from tools.Cacher import (CACHE_TYPE, save_cache,load_cache_adv,load_cache)\n",
    "\n",
    "from base.JuUnits import parallal_task,task_chunk_split\n",
    "from base.JuUnits import excute_for_multidates\n",
    "\n",
    "import ind.alpha_base10 as base10\n",
    "\n",
    "\n",
    "%load_ext autoreload\n",
    "%autoreload 2\n",
    "%aimport ind.alpha_base10\n",
    "\n"
   ]
  },
  {
   "cell_type": "code",
   "execution_count": 44,
   "id": "02158dab-f12a-46e2-a05b-3f22e14a7040",
   "metadata": {
    "execution": {
     "iopub.execute_input": "2023-02-10T01:53:58.915176Z",
     "iopub.status.busy": "2023-02-10T01:53:58.915176Z",
     "iopub.status.idle": "2023-02-10T02:38:50.965712Z",
     "shell.execute_reply": "2023-02-10T02:38:50.964772Z",
     "shell.execute_reply.started": "2023-02-10T01:53:58.915176Z"
    },
    "tags": []
   },
   "outputs": [
    {
     "name": "stdout",
     "output_type": "stream",
     "text": [
      "earnings_yield\n",
      "liquidity\n",
      "resvol\n"
     ]
    }
   ],
   "source": [
    "# #读取已经缓存的复权数据，并预处理\n",
    "stock_df = load_cache('all_train_qfq',cache_type=CACHE_TYPE.STOCK).sort_index()\n",
    "smpl.optimize_data_type(stock_df)\n",
    "## 日无风险回报\n",
    "ret_fs_data = pd.read_csv(module_path+'/data/static/china10yearbond.csv').set_index('date').sort_index()\n",
    "ret_fs_data = (ret_fs_data['high'].astype(np.float32)+ret_fs_data['low'].astype(np.float32))/2 * 0.01\n",
    "ret_fs_daily = ret_fs_data/252\n",
    "\n",
    "ret_t, ret_t_excess, market_value_t, ret_excess_market_t = base10.prepare_data(stock_df,ret_fs_daily)\n",
    "\n",
    "\n",
    "#############测试#######################\n",
    "# ['000001','000008','600600','000729']\n",
    "# stock_df = stock_df_full.loc[(slice(None),stock_df_full.index.get_level_values(1).unique().to_list()[0:22]),:]\n",
    "# ret_t, ret_t_excess, market_value_t, ret_excess_market_t = base10.prepare_data(stock_df,ret_fs_daily)\n",
    "\n",
    "stock_codes = stock_df.index.get_level_values(1).unique().to_list()\n",
    "np.random.shuffle(stock_codes)\n",
    "\n",
    "\n",
    "# def generate_alpha_factors(codes, data_df=None, ret_fs=None, ret=None, ret_excess=None, market_value=None, ret_excess_market=None):\n",
    "#     import ind.alpha_base10 as base10\n",
    "#     from base.JuUnits import excute_for_multidates\n",
    "#     import numpy as np\n",
    "#     import pandas as pd\n",
    "\n",
    "#     df = data_df.loc[(slice(None),codes),:]\n",
    "#     ret_ = ret.loc[(slice(None),codes)]\n",
    "#     ret_excess_ = ret_excess.loc[(slice(None),codes)]\n",
    "    \n",
    "\n",
    "#     alpha_beta = base10.camp_beta_alpha(ret_excess_,ret_excess_market)\n",
    "#     mom = base10.momentum(ret_,ret_fs)\n",
    "#     size_lg = base10.sizelg(df)\n",
    "#     bp = base10.bp(df)\n",
    "    \n",
    "#     return pd.concat([alpha_beta, mom, size_lg, bp], axis=1).loc[(slice(None),codes),:]\n",
    "\n",
    "\n",
    "# worker=6\n",
    "# task = task_chunk_split(stock_codes, worker)\n",
    "# results = parallal_task(worker, generate_alpha_factors, task, \n",
    "#                         data_df=stock_df, ret_fs=ret_fs_daily, ret=ret_t, \n",
    "#                         ret_excess=ret_t_excess, market_value=market_value_t,\n",
    "#                         ret_excess_market=ret_excess_market_t)\n",
    "# results = pd.concat(results).sort_index()\n",
    "\n",
    "####使用全局数据的项目，注意不要分步计算\n",
    "earnings_yield = base10.earnings_yield(ret_t,market_value_t,stock_df['industry']) \n",
    "print('earnings_yield')\n",
    "liquidity = base10.liquidity(stock_df)\n",
    "print('liquidity')\n",
    "resvol = base10.resvol(ret_t, ret_fs_daily, ret_t_excess, results['sizelg'], results['beta'], results['residual'])\n",
    "print('resvol')\n",
    "sizenl = base10.sizenl(results['sizelg'])\n",
    "\n",
    "final = pd.concat([results, earnings_yield, liquidity, resvol, sizenl],axis=1).sort_index()\n",
    "save_cache('base10_train', final, cache_type=CACHE_TYPE.FACTOR)"
   ]
  },
  {
   "cell_type": "code",
   "execution_count": 45,
   "id": "34752a24-d504-4e24-b3d2-b7b8376ecbe7",
   "metadata": {
    "execution": {
     "iopub.execute_input": "2023-02-10T02:55:35.110937Z",
     "iopub.status.busy": "2023-02-10T02:55:35.110937Z",
     "iopub.status.idle": "2023-02-10T02:55:35.253745Z",
     "shell.execute_reply": "2023-02-10T02:55:35.252944Z",
     "shell.execute_reply.started": "2023-02-10T02:55:35.110937Z"
    },
    "tags": []
   },
   "outputs": [
    {
     "data": {
      "text/html": [
       "<div>\n",
       "<style scoped>\n",
       "    .dataframe tbody tr th:only-of-type {\n",
       "        vertical-align: middle;\n",
       "    }\n",
       "\n",
       "    .dataframe tbody tr th {\n",
       "        vertical-align: top;\n",
       "    }\n",
       "\n",
       "    .dataframe thead th {\n",
       "        text-align: right;\n",
       "    }\n",
       "</style>\n",
       "<table border=\"1\" class=\"dataframe\">\n",
       "  <thead>\n",
       "    <tr style=\"text-align: right;\">\n",
       "      <th></th>\n",
       "      <th></th>\n",
       "      <th>beta</th>\n",
       "      <th>alpha</th>\n",
       "      <th>residual</th>\n",
       "      <th>momentum</th>\n",
       "      <th>sizelg</th>\n",
       "      <th>bp</th>\n",
       "      <th>earnings_yield</th>\n",
       "      <th>liquidity</th>\n",
       "      <th>resvol</th>\n",
       "      <th>sizenl</th>\n",
       "    </tr>\n",
       "    <tr>\n",
       "      <th>date</th>\n",
       "      <th>code</th>\n",
       "      <th></th>\n",
       "      <th></th>\n",
       "      <th></th>\n",
       "      <th></th>\n",
       "      <th></th>\n",
       "      <th></th>\n",
       "      <th></th>\n",
       "      <th></th>\n",
       "      <th></th>\n",
       "      <th></th>\n",
       "    </tr>\n",
       "  </thead>\n",
       "  <tbody>\n",
       "    <tr>\n",
       "      <th rowspan=\"5\" valign=\"top\">2021-12-31</th>\n",
       "      <th>000026</th>\n",
       "      <td>1.143621</td>\n",
       "      <td>-0.001795</td>\n",
       "      <td>0.010491</td>\n",
       "      <td>-0.000362</td>\n",
       "      <td>22.313660</td>\n",
       "      <td>1.628039</td>\n",
       "      <td>0.041158</td>\n",
       "      <td>0.126414</td>\n",
       "      <td>-0.023644</td>\n",
       "      <td>-0.413896</td>\n",
       "    </tr>\n",
       "    <tr>\n",
       "      <th>000027</th>\n",
       "      <td>1.032228</td>\n",
       "      <td>-0.001094</td>\n",
       "      <td>-0.002058</td>\n",
       "      <td>0.000339</td>\n",
       "      <td>24.165215</td>\n",
       "      <td>1.373038</td>\n",
       "      <td>0.079392</td>\n",
       "      <td>0.447063</td>\n",
       "      <td>-0.020278</td>\n",
       "      <td>-0.495062</td>\n",
       "    </tr>\n",
       "    <tr>\n",
       "      <th>000028</th>\n",
       "      <td>0.386453</td>\n",
       "      <td>-0.000264</td>\n",
       "      <td>0.042254</td>\n",
       "      <td>-0.000486</td>\n",
       "      <td>23.464885</td>\n",
       "      <td>1.039340</td>\n",
       "      <td>0.057565</td>\n",
       "      <td>-0.465150</td>\n",
       "      <td>-0.010124</td>\n",
       "      <td>-1.013241</td>\n",
       "    </tr>\n",
       "    <tr>\n",
       "      <th>000030</th>\n",
       "      <td>1.189952</td>\n",
       "      <td>0.000042</td>\n",
       "      <td>0.008494</td>\n",
       "      <td>-0.001542</td>\n",
       "      <td>23.268340</td>\n",
       "      <td>1.705557</td>\n",
       "      <td>0.024221</td>\n",
       "      <td>-0.138011</td>\n",
       "      <td>0.026394</td>\n",
       "      <td>-1.037021</td>\n",
       "    </tr>\n",
       "    <tr>\n",
       "      <th>000031</th>\n",
       "      <td>0.706616</td>\n",
       "      <td>-0.000466</td>\n",
       "      <td>0.009315</td>\n",
       "      <td>-0.000593</td>\n",
       "      <td>23.495101</td>\n",
       "      <td>0.848692</td>\n",
       "      <td>-0.071913</td>\n",
       "      <td>-0.597536</td>\n",
       "      <td>-0.000199</td>\n",
       "      <td>-1.004902</td>\n",
       "    </tr>\n",
       "  </tbody>\n",
       "</table>\n",
       "</div>"
      ],
      "text/plain": [
       "                       beta     alpha  residual  momentum     sizelg  \\\n",
       "date       code                                                        \n",
       "2021-12-31 000026  1.143621 -0.001795  0.010491 -0.000362  22.313660   \n",
       "           000027  1.032228 -0.001094 -0.002058  0.000339  24.165215   \n",
       "           000028  0.386453 -0.000264  0.042254 -0.000486  23.464885   \n",
       "           000030  1.189952  0.000042  0.008494 -0.001542  23.268340   \n",
       "           000031  0.706616 -0.000466  0.009315 -0.000593  23.495101   \n",
       "\n",
       "                         bp  earnings_yield  liquidity    resvol    sizenl  \n",
       "date       code                                                             \n",
       "2021-12-31 000026  1.628039        0.041158   0.126414 -0.023644 -0.413896  \n",
       "           000027  1.373038        0.079392   0.447063 -0.020278 -0.495062  \n",
       "           000028  1.039340        0.057565  -0.465150 -0.010124 -1.013241  \n",
       "           000030  1.705557        0.024221  -0.138011  0.026394 -1.037021  \n",
       "           000031  0.848692       -0.071913  -0.597536 -0.000199 -1.004902  "
      ]
     },
     "execution_count": 45,
     "metadata": {},
     "output_type": "execute_result"
    }
   ],
   "source": [
    "# load_cache('base10_train',cache_type=CACHE_TYPE.FACTOR)\n"
   ]
  },
  {
   "cell_type": "code",
   "execution_count": 61,
   "id": "3472d99f-7757-4ade-bea7-37325595c1c2",
   "metadata": {
    "execution": {
     "iopub.execute_input": "2023-02-10T10:20:26.745125Z",
     "iopub.status.busy": "2023-02-10T10:20:26.745125Z",
     "iopub.status.idle": "2023-02-10T10:20:26.857337Z",
     "shell.execute_reply": "2023-02-10T10:20:26.857337Z",
     "shell.execute_reply.started": "2023-02-10T10:20:26.745125Z"
    },
    "tags": []
   },
   "outputs": [
    {
     "name": "stdout",
     "output_type": "stream",
     "text": [
      "<class 'pandas.core.frame.DataFrame'>\n",
      "MultiIndex: 3247889 entries, (Timestamp('2017-01-03 00:00:00'), '000001') to (Timestamp('2021-12-31 00:00:00'), '605599')\n",
      "Data columns (total 10 columns):\n",
      " #   Column          Dtype  \n",
      "---  ------          -----  \n",
      " 0   beta            float64\n",
      " 1   alpha           float64\n",
      " 2   residual        float64\n",
      " 3   momentum        float64\n",
      " 4   sizelg          float64\n",
      " 5   bp              float64\n",
      " 6   earnings_yield  float64\n",
      " 7   liquidity       float64\n",
      " 8   resvol          float64\n",
      " 9   sizenl          float64\n",
      "dtypes: float64(10)\n",
      "memory usage: 389.3+ MB\n"
     ]
    }
   ],
   "source": [
    "final.info()"
   ]
  }
 ],
 "metadata": {
  "kernelspec": {
   "display_name": "Python 3 (ipykernel)",
   "language": "python",
   "name": "python3"
  },
  "language_info": {
   "codemirror_mode": {
    "name": "ipython",
    "version": 3
   },
   "file_extension": ".py",
   "mimetype": "text/x-python",
   "name": "python",
   "nbconvert_exporter": "python",
   "pygments_lexer": "ipython3",
   "version": "3.9.7"
  }
 },
 "nbformat": 4,
 "nbformat_minor": 5
}
