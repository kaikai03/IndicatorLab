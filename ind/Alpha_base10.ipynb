{
 "cells": [
  {
   "cell_type": "code",
   "execution_count": 7,
   "id": "0b720cd8-d774-4160-b4bd-23b1b4611908",
   "metadata": {
    "execution": {
     "iopub.execute_input": "2023-01-29T16:08:26.521408Z",
     "iopub.status.busy": "2023-01-29T16:08:26.521408Z",
     "iopub.status.idle": "2023-01-29T16:08:29.590940Z",
     "shell.execute_reply": "2023-01-29T16:08:29.589984Z",
     "shell.execute_reply.started": "2023-01-29T16:08:26.521408Z"
    },
    "tags": []
   },
   "outputs": [],
   "source": [
    "# %%writefile alpha_base10.py\n",
    "\n",
    "import sys\n",
    "import os \n",
    "module_path = os.path.abspath(os.path.join('..')) \n",
    "if module_path not in sys.path: \n",
    "    sys.path.append(module_path)\n",
    "    \n",
    "import numpy as np\n",
    "import pandas as pd\n",
    "from scipy import stats\n",
    "from sklearn import preprocessing\n",
    "from sklearn import linear_model\n",
    "import tools.Pretreat_Tools as pretreat\n",
    "\n",
    "\n",
    "def STD(data, windows):\n",
    "    return data.rolling(window=windows, min_periods=windows).std()\n",
    "def MEAN(data, windows):\n",
    "    return data.rolling(window=windows, min_periods=windows).mean()\n",
    "def DELTA(data, windows):\n",
    "    return data.diff(4)\n",
    "def SEQUENCE(n):\n",
    "    return pd.Series(np.arange(1,n+1))\n",
    "\n",
    "def SMA(data,windows,alpha):\n",
    "    return data.ewm(adjust=False, alpha=float(alpha)/windows, min_periods=windows, ignore_na=False).mean()\n",
    "\n",
    "def REGBETA(xs, y, n):\n",
    "    assert len(y)>=n,  'len(y)!>=n !!!'+ str(y.index[0])\n",
    "    regress = linear_model.LinearRegression(fit_intercept=False)\n",
    "    def reg(X,Y):\n",
    "        try:\n",
    "            if len(Y)>len(X):\n",
    "                Y_ =  Y[X.index]\n",
    "                if Y_.isnull().any():\n",
    "                    return np.nan\n",
    "                res = regress.fit(X.values.reshape(-1, 1), Y_.values.reshape(-1, 1)).coef_[0]\n",
    "            else:\n",
    "                # if Y.isnull().any():\n",
    "                #     return np.nan\n",
    "                res = regress.fit(X.values.reshape(-1, 1), Y.values.reshape(-1, 1)).coef_[0]\n",
    "        except Exception as e:\n",
    "            print(e)\n",
    "            return np.nan\n",
    "        return res\n",
    "    return xs.rolling(window=n, min_periods=n).apply(lambda x:reg(x,y))\n",
    "\n",
    "\n",
    "def COVIANCE(A,B,d):\n",
    "    se = pd.Series(np.arange(len(A.index)),index=A.index)\n",
    "    se = se.rolling(5).apply(lambda x: A.iloc[x].cov(B.iloc[x]))\n",
    "    return se\n",
    "\n",
    "def CORR(A,B,d):\n",
    "    se = pd.Series(np.arange(len(A.index)),index=A.index)\n",
    "    se = se.rolling(5).apply(lambda x: A.iloc[x].corr(B.iloc[x]))\n",
    "    return se\n",
    "\n",
    "def excute_for_multidates(data, func, level=0, **pramas):\n",
    "    return data.groupby(level=level, group_keys=False).apply(func,**pramas)\n",
    "\n"
   ]
  },
  {
   "cell_type": "code",
   "execution_count": 8,
   "id": "e2332f31-3c6b-4f1a-b68f-6c512b884864",
   "metadata": {
    "execution": {
     "iopub.execute_input": "2023-01-29T16:08:29.592893Z",
     "iopub.status.busy": "2023-01-29T16:08:29.592660Z",
     "iopub.status.idle": "2023-01-29T16:08:32.265168Z",
     "shell.execute_reply": "2023-01-29T16:08:32.265004Z",
     "shell.execute_reply.started": "2023-01-29T16:08:29.592893Z"
    },
    "tags": []
   },
   "outputs": [
    {
     "data": {
      "text/plain": [
       "date\n",
       "2002-07    0.000114\n",
       "2002-08    0.000113\n",
       "2002-09    0.000122\n",
       "2002-10    0.000122\n",
       "2002-11    0.000132\n",
       "             ...   \n",
       "2022-09    0.000108\n",
       "2022-10    0.000109\n",
       "2022-11    0.000111\n",
       "2022-12    0.000116\n",
       "2023-01    0.000116\n",
       "Length: 247, dtype: float64"
      ]
     },
     "execution_count": 8,
     "metadata": {},
     "output_type": "execute_result"
    }
   ],
   "source": [
    "from tools.Cacher import (CACHE_TYPE, load_cache,load_caches_adv)\n",
    "import tools.Sample_Tools as smpl\n",
    "import tools.Pretreat_Tools as pretreat\n",
    "\n",
    "%load_ext autoreload\n",
    "%autoreload 2\n",
    "%aimport tools.Cacher\n",
    "\n",
    "stock_df = load_cache('all_train_qfq',cache_type=CACHE_TYPE.STOCK).sort_index()\n",
    "# stock_df = pd.concat(list(map(lambda file:load_cache(file,cache_type=CACHE_TYPE.STOCK),['all_train_qfq','all_tail_qfq','all_older_qfq']))).sort_index()\n",
    "ret_fs = pd.read_csv(module_path+'/data/static/china10yearbond.csv').set_index('date').sort_index()\n",
    "ret_fs = (ret_fs['high']+ret_fs['low'])/2 * 0.01\n",
    "ret_fs_daily = ret_fs/252\n",
    "ret_fs_daily"
   ]
  },
  {
   "cell_type": "code",
   "execution_count": 10,
   "id": "1381190d-62f5-4668-a11e-17be8d68bc88",
   "metadata": {
    "execution": {
     "iopub.execute_input": "2023-01-29T16:08:51.974900Z",
     "iopub.status.busy": "2023-01-29T16:08:51.974421Z",
     "iopub.status.idle": "2023-01-29T16:09:34.657403Z",
     "shell.execute_reply": "2023-01-29T16:09:34.656436Z",
     "shell.execute_reply.started": "2023-01-29T16:08:51.974900Z"
    },
    "tags": []
   },
   "outputs": [],
   "source": [
    "# codes = smpl.get_codes_by_market(sse='all',only_main=True,filter_st=True)\n",
    "# \n",
    "\n",
    "ret_t = smpl.get_current_return(stock_df,'close')\n",
    "ret_t_excess = ret_t.groupby(pd.Grouper(level='date', freq='1M')).apply(lambda x:x-ret_fs_daily.get(x.index[0][0].strftime('%Y-%m')))\n",
    "\n",
    "def cal_ret_markey_daily(stock_daily_df,ret_t_excess_daily):\n",
    "    ##  不取对数有时候有精度问题,权重不是精确1\n",
    "    market_value_log = np.log(stock_daily_df['totalCapital'])\n",
    "    market_value = market_value_log.sum()\n",
    "    weight = market_value_log / market_value\n",
    "    ret_market_f = (ret_t_excess_daily * weight).sum()\n",
    "    return ret_market_f\n",
    "\n",
    "ret_market_t = ret_t_excess.groupby(level=0, group_keys=False).apply(lambda ret: cal_ret_markey_daily(stock_df.loc[ret.index[0][0]],ret))\n",
    "\n",
    "window=252\n",
    "half_life_window = 63\n",
    "half_life = list(map(lambda n:0.5**(n/half_life_window),range(0,window)))\n",
    "half_life_weight = half_life/np.sum(half_life)\n",
    "\n",
    "\n",
    "def beta():\n",
    "    pass\n",
    "\n",
    "# ret_t.loc[('2017-01',slice(None))]\n",
    "# data.groupby(level=level, group_keys=False).apply(func,**pramas)\n",
    "\n",
    "\n",
    "\n",
    "# model = linear_model.LinearRegression(fit_intercept=True).fit(X, factor,sample_weight=half_life_weight)\n",
    "# neutralize_factor = factor - model.predict(X)"
   ]
  },
  {
   "cell_type": "code",
   "execution_count": 16,
   "id": "bad09a4e-e6b4-4afb-ae94-1fec9ce43bf0",
   "metadata": {
    "execution": {
     "iopub.execute_input": "2023-01-29T16:12:22.348234Z",
     "iopub.status.busy": "2023-01-29T16:12:22.348234Z",
     "iopub.status.idle": "2023-01-29T16:12:22.423151Z",
     "shell.execute_reply": "2023-01-29T16:12:22.422421Z",
     "shell.execute_reply.started": "2023-01-29T16:12:22.348234Z"
    },
    "tags": []
   },
   "outputs": [
    {
     "data": {
      "text/plain": [
       "date        code  \n",
       "2017-01-03  000001         NaN\n",
       "            000002         NaN\n",
       "            000006         NaN\n",
       "            000007         NaN\n",
       "            000008         NaN\n",
       "                        ...   \n",
       "2021-12-31  605580   -0.000113\n",
       "            605588    0.000140\n",
       "            605589   -0.031474\n",
       "            605598   -0.021011\n",
       "            605599    0.026584\n",
       "Name: ret, Length: 3247889, dtype: float64"
      ]
     },
     "execution_count": 16,
     "metadata": {},
     "output_type": "execute_result"
    }
   ],
   "source": [
    "# ret_t_excess.index#.loc[(slice(None),'000001')].iloc[1:253]\n",
    "ret_t_excess.dropna()"
   ]
  },
  {
   "cell_type": "code",
   "execution_count": 6,
   "id": "03f2ed72-8d6c-4522-acc4-7001c3a9df12",
   "metadata": {
    "execution": {
     "iopub.execute_input": "2023-01-29T16:08:21.873702Z",
     "iopub.status.busy": "2023-01-29T16:08:21.872704Z",
     "iopub.status.idle": "2023-01-29T16:08:21.894425Z",
     "shell.execute_reply": "2023-01-29T16:08:21.893195Z",
     "shell.execute_reply.started": "2023-01-29T16:08:21.872704Z"
    },
    "tags": []
   },
   "outputs": [
    {
     "ename": "NameError",
     "evalue": "name 'ret_market_t' is not defined",
     "output_type": "error",
     "traceback": [
      "\u001b[1;31m---------------------------------------------------------------------------\u001b[0m",
      "\u001b[1;31mNameError\u001b[0m                                 Traceback (most recent call last)",
      "\u001b[1;32m~\\AppData\\Local\\Temp/ipykernel_24960/2788928299.py\u001b[0m in \u001b[0;36m<module>\u001b[1;34m\u001b[0m\n\u001b[1;32m----> 1\u001b[1;33m \u001b[0mret_market_t\u001b[0m\u001b[1;33m.\u001b[0m\u001b[0miloc\u001b[0m\u001b[1;33m[\u001b[0m\u001b[1;36m1\u001b[0m\u001b[1;33m:\u001b[0m\u001b[1;36m252\u001b[0m\u001b[1;33m]\u001b[0m\u001b[1;33m\u001b[0m\u001b[1;33m\u001b[0m\u001b[0m\n\u001b[0m",
      "\u001b[1;31mNameError\u001b[0m: name 'ret_market_t' is not defined"
     ]
    }
   ],
   "source": [
    "ret_market_t.iloc[1:252]"
   ]
  },
  {
   "cell_type": "code",
   "execution_count": 114,
   "id": "246d3bfb-50d5-483d-a656-bc7f8f22daa5",
   "metadata": {
    "execution": {
     "iopub.execute_input": "2023-01-29T18:03:37.622768Z",
     "iopub.status.busy": "2023-01-29T18:03:37.621770Z",
     "iopub.status.idle": "2023-01-29T18:03:39.439553Z",
     "shell.execute_reply": "2023-01-29T18:03:39.439553Z",
     "shell.execute_reply.started": "2023-01-29T18:03:37.622768Z"
    },
    "tags": []
   },
   "outputs": [],
   "source": [
    "# model = linear_model.LinearRegression(fit_intercept=True).fit(ret_t_excess.loc[(slice(None),'000006')].iloc[1:253].values.reshape(-1, 1), ret_market_t.iloc[1:253].values.reshape(-1, 1),sample_weight=half_life_weight)\n",
    "# float(model.coef_),float(model.intercept_)\n",
    "\n",
    "model = linear_model.LinearRegression(fit_intercept=True)\n",
    "res_tmp = []\n",
    "def reg(ret_t_ex):\n",
    "    # print()\n",
    "    # assert False,None\n",
    "    res = model.fit(ret_t_ex.values.reshape(-1, 1), ret_market_t[ret_t_ex.index.get_level_values(0)].values.reshape(-1, 1),sample_weight=half_life_weight)\n",
    "    res_tmp.append({'date':ret_t_ex.index[-1][0],'code':ret_t_ex.index[-1][1], 'beta':float(res.coef_), 'alpha':float(res.intercept_)})\n",
    "    return 0\n",
    "# ret_t_excess.dropna().loc[(slice(None),'000001')].rolling(window).apply(reg)\n",
    "ret_t_excess.loc[(slice(None),['000001','000002'])].dropna().groupby(level=1,group_keys=False).apply(lambda x:x.rolling(window).apply(reg))\n",
    "\n",
    "res_final = pd.DataFrame(res_tmp)\n",
    "res_final.set_index(['date', 'code'], inplace=True)\n",
    "res_final = res_final.sort_index()\n",
    "pd.DataFrame(res_final['beta']).reset_index().to_feather('./beta_camp.feather')\n",
    "pd.DataFrame(res_final['alpha']).reset_index().to_feather('./alpha_camp.feather')"
   ]
  }
 ],
 "metadata": {
  "kernelspec": {
   "display_name": "Python 3 (ipykernel)",
   "language": "python",
   "name": "python3"
  },
  "language_info": {
   "codemirror_mode": {
    "name": "ipython",
    "version": 3
   },
   "file_extension": ".py",
   "mimetype": "text/x-python",
   "name": "python",
   "nbconvert_exporter": "python",
   "pygments_lexer": "ipython3",
   "version": "3.9.7"
  }
 },
 "nbformat": 4,
 "nbformat_minor": 5
}
