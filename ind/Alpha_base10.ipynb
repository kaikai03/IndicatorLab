{
 "cells": [
  {
   "cell_type": "code",
   "execution_count": 4,
   "id": "0b720cd8-d774-4160-b4bd-23b1b4611908",
   "metadata": {
    "execution": {
     "iopub.execute_input": "2023-01-29T05:56:55.717248Z",
     "iopub.status.busy": "2023-01-29T05:56:55.717248Z",
     "iopub.status.idle": "2023-01-29T05:57:13.306145Z",
     "shell.execute_reply": "2023-01-29T05:57:13.305133Z",
     "shell.execute_reply.started": "2023-01-29T05:56:55.717248Z"
    },
    "tags": []
   },
   "outputs": [],
   "source": [
    "# %%writefile alpha_base10.py\n",
    "\n",
    "import sys\n",
    "import os \n",
    "module_path = os.path.abspath(os.path.join('..')) \n",
    "if module_path not in sys.path: \n",
    "    sys.path.append(module_path)\n",
    "    \n",
    "import numpy as np\n",
    "import pandas as pd\n",
    "from scipy import stats\n",
    "from sklearn import preprocessing\n",
    "from sklearn import linear_model\n",
    "import tools.Pretreat_Tools as pretreat\n",
    "\n",
    "\n",
    "def STD(data, windows):\n",
    "    return data.rolling(window=windows, min_periods=windows).std()\n",
    "def MEAN(data, windows):\n",
    "    return data.rolling(window=windows, min_periods=windows).mean()\n",
    "def DELTA(data, windows):\n",
    "    return data.diff(4)\n",
    "def SEQUENCE(n):\n",
    "    return pd.Series(np.arange(1,n+1))\n",
    "\n",
    "def SMA(data,windows,alpha):\n",
    "    return data.ewm(adjust=False, alpha=float(alpha)/windows, min_periods=windows, ignore_na=False).mean()\n",
    "\n",
    "def REGBETA(xs, y, n):\n",
    "    assert len(y)>=n,  'len(y)!>=n !!!'+ str(y.index[0])\n",
    "    regress = linear_model.LinearRegression(fit_intercept=False)\n",
    "    def reg(X,Y):\n",
    "        try:\n",
    "            if len(Y)>len(X):\n",
    "                Y_ =  Y[X.index]\n",
    "                if Y_.isnull().any():\n",
    "                    return np.nan\n",
    "                res = regress.fit(X.values.reshape(-1, 1), Y_.values.reshape(-1, 1)).coef_[0]\n",
    "            else:\n",
    "                # if Y.isnull().any():\n",
    "                #     return np.nan\n",
    "                res = regress.fit(X.values.reshape(-1, 1), Y.values.reshape(-1, 1)).coef_[0]\n",
    "        except Exception as e:\n",
    "            print(e)\n",
    "            return np.nan\n",
    "        return res\n",
    "    return xs.rolling(window=n, min_periods=n).apply(lambda x:reg(x,y))\n",
    "\n",
    "\n",
    "def COVIANCE(A,B,d):\n",
    "    se = pd.Series(np.arange(len(A.index)),index=A.index)\n",
    "    se = se.rolling(5).apply(lambda x: A.iloc[x].cov(B.iloc[x]))\n",
    "    return se\n",
    "\n",
    "def CORR(A,B,d):\n",
    "    se = pd.Series(np.arange(len(A.index)),index=A.index)\n",
    "    se = se.rolling(5).apply(lambda x: A.iloc[x].corr(B.iloc[x]))\n",
    "    return se\n",
    "\n",
    "def excute_for_multidates(data, func, level=0, **pramas):\n",
    "    return data.groupby(level=level, group_keys=False).apply(func,**pramas)\n",
    "\n"
   ]
  },
  {
   "cell_type": "code",
   "execution_count": 31,
   "id": "e2332f31-3c6b-4f1a-b68f-6c512b884864",
   "metadata": {
    "execution": {
     "iopub.execute_input": "2023-01-29T06:26:54.305178Z",
     "iopub.status.busy": "2023-01-29T06:26:54.305106Z",
     "iopub.status.idle": "2023-01-29T06:26:56.173835Z",
     "shell.execute_reply": "2023-01-29T06:26:56.173835Z",
     "shell.execute_reply.started": "2023-01-29T06:26:54.305178Z"
    },
    "tags": []
   },
   "outputs": [
    {
     "name": "stdout",
     "output_type": "stream",
     "text": [
      "The autoreload extension is already loaded. To reload it, use:\n",
      "  %reload_ext autoreload\n"
     ]
    },
    {
     "data": {
      "text/plain": [
       "date\n",
       "2002-07    0.000114\n",
       "2002-08    0.000113\n",
       "2002-09    0.000122\n",
       "2002-10    0.000122\n",
       "2002-11    0.000132\n",
       "             ...   \n",
       "2022-09    0.000108\n",
       "2022-10    0.000109\n",
       "2022-11    0.000111\n",
       "2022-12    0.000116\n",
       "2023-01    0.000116\n",
       "Length: 247, dtype: float64"
      ]
     },
     "execution_count": 31,
     "metadata": {},
     "output_type": "execute_result"
    }
   ],
   "source": [
    "from tools.Cacher import (CACHE_TYPE, load_cache,load_caches_adv)\n",
    "import tools.Sample_Tools as smpl\n",
    "import tools.Pretreat_Tools as pretreat\n",
    "\n",
    "%load_ext autoreload\n",
    "%autoreload 2\n",
    "%aimport tools.Cacher\n",
    "\n",
    "stock_df = load_cache('all_train_qfq',cache_type=CACHE_TYPE.STOCK).sort_index()\n",
    "# stock_df = pd.concat(list(map(lambda file:load_cache(file,cache_type=CACHE_TYPE.STOCK),['all_train_qfq','all_tail_qfq','all_older_qfq']))).sort_index()\n",
    "ret_fs = pd.read_csv(module_path+'/data/static/china10yearbond.csv').set_index('date').sort_index()\n",
    "ret_fs = (ret_fs['high']+ret_fs['low'])/2 * 0.01\n",
    "ret_fs_daily = ret_fs/252\n",
    "ret_fs_daily"
   ]
  },
  {
   "cell_type": "code",
   "execution_count": 73,
   "id": "1381190d-62f5-4668-a11e-17be8d68bc88",
   "metadata": {
    "execution": {
     "iopub.execute_input": "2023-01-29T07:26:04.487224Z",
     "iopub.status.busy": "2023-01-29T07:26:04.486227Z",
     "iopub.status.idle": "2023-01-29T07:26:25.767207Z",
     "shell.execute_reply": "2023-01-29T07:26:25.766205Z",
     "shell.execute_reply.started": "2023-01-29T07:26:04.487224Z"
    },
    "tags": []
   },
   "outputs": [],
   "source": [
    "# codes = smpl.get_codes_by_market(sse='all',only_main=True,filter_st=True)\n",
    "# \n",
    "# test = stock_df.loc[(stock_df.index.get_level_values(0).unique()[0:3],slice(None)),:]\n",
    "# ret_f = ret_fs_daily.get(test.index[0][0].strftime('%Y-%m'), default=ret_fs_daily[-1])\n",
    "# ret_t = smpl.get_current_return(stock_df,'close')\n",
    "# ret_t_excess = ret_t.groupby(pd.Grouper(level='date', freq='1M')).apply(lambda x:x-ret_fs_daily.get(x.index[0][0].strftime('%Y-%m')))\n",
    "\n",
    "def cal_ret_markey_daily(stock_daily_df,ret_t_excess_daily):\n",
    "    ##  不取对数有时候有精度问题,权重不是精确1\n",
    "    market_value_log = np.log(stock_daily_df['totalCapital'])\n",
    "    market_value = market_value_log.sum()\n",
    "    weight = market_value_log / market_value\n",
    "    ret_market_f = (ret_t_excess_daily * weight).sum()\n",
    "    return ret_market_f\n",
    "\n",
    "ret_market_t = ret_t_excess.groupby(level=0, group_keys=False).apply(lambda ret: cal_ret_markey_daily(stock_df.loc[ret.index[0][0]],ret))\n",
    "\n",
    "window=252\n",
    "half_life_window = 63\n",
    "half_life = list(map(lambda n:0.5**(n/half_life_window),range(1,window)))\n",
    "half_life_weight = half_life/np.sum(half_life)\n",
    "\n",
    "\n",
    "def beta():\n",
    "    pass\n",
    "\n",
    "# ret_t.loc[('2017-01',slice(None))]\n",
    "# data.groupby(level=level, group_keys=False).apply(func,**pramas)\n",
    "\n",
    "\n",
    "\n",
    "model = linear_model.LinearRegression(fit_intercept=True).fit(X, factor,sample_weight=half_life_weight)\n",
    "# neutralize_factor = factor - model.predict(X)"
   ]
  },
  {
   "cell_type": "code",
   "execution_count": 120,
   "id": "bad09a4e-e6b4-4afb-ae94-1fec9ce43bf0",
   "metadata": {
    "execution": {
     "iopub.execute_input": "2023-01-29T10:26:57.383869Z",
     "iopub.status.busy": "2023-01-29T10:26:57.382867Z",
     "iopub.status.idle": "2023-01-29T10:26:57.446694Z",
     "shell.execute_reply": "2023-01-29T10:26:57.445889Z",
     "shell.execute_reply.started": "2023-01-29T10:26:57.383869Z"
    },
    "tags": []
   },
   "outputs": [
    {
     "data": {
      "text/plain": [
       "MultiIndex([('2017-01-03', '000001'),\n",
       "            ('2017-01-03', '000002'),\n",
       "            ('2017-01-03', '000006'),\n",
       "            ('2017-01-03', '000007'),\n",
       "            ('2017-01-03', '000008'),\n",
       "            ('2017-01-03', '000009'),\n",
       "            ('2017-01-03', '000010'),\n",
       "            ('2017-01-03', '000011'),\n",
       "            ('2017-01-03', '000012'),\n",
       "            ('2017-01-03', '000014'),\n",
       "            ...\n",
       "            ('2021-12-31', '605507'),\n",
       "            ('2021-12-31', '605555'),\n",
       "            ('2021-12-31', '605566'),\n",
       "            ('2021-12-31', '605567'),\n",
       "            ('2021-12-31', '605577'),\n",
       "            ('2021-12-31', '605580'),\n",
       "            ('2021-12-31', '605588'),\n",
       "            ('2021-12-31', '605589'),\n",
       "            ('2021-12-31', '605598'),\n",
       "            ('2021-12-31', '605599')],\n",
       "           names=['date', 'code'], length=3247889)"
      ]
     },
     "execution_count": 120,
     "metadata": {},
     "output_type": "execute_result"
    }
   ],
   "source": [
    "ret_t_excess.index#.loc[(slice(None),'000001')].iloc[1:252]"
   ]
  },
  {
   "cell_type": "code",
   "execution_count": 103,
   "id": "03f2ed72-8d6c-4522-acc4-7001c3a9df12",
   "metadata": {
    "execution": {
     "iopub.execute_input": "2023-01-29T10:12:27.527428Z",
     "iopub.status.busy": "2023-01-29T10:12:27.526430Z",
     "iopub.status.idle": "2023-01-29T10:12:27.600313Z",
     "shell.execute_reply": "2023-01-29T10:12:27.599553Z",
     "shell.execute_reply.started": "2023-01-29T10:12:27.527428Z"
    },
    "tags": []
   },
   "outputs": [
    {
     "data": {
      "text/plain": [
       "date\n",
       "2017-01-04    0.011551\n",
       "2017-01-05    0.001280\n",
       "2017-01-06   -0.006829\n",
       "2017-01-09    0.006490\n",
       "2017-01-10   -0.002299\n",
       "                ...   \n",
       "2018-01-05    0.001047\n",
       "2018-01-08    0.003275\n",
       "2018-01-09    0.000214\n",
       "2018-01-10   -0.008277\n",
       "2018-01-11    0.005182\n",
       "Name: ret, Length: 251, dtype: float64"
      ]
     },
     "execution_count": 103,
     "metadata": {},
     "output_type": "execute_result"
    }
   ],
   "source": [
    "ret_market_t.iloc[1:252]"
   ]
  },
  {
   "cell_type": "code",
   "execution_count": 130,
   "id": "246d3bfb-50d5-483d-a656-bc7f8f22daa5",
   "metadata": {
    "execution": {
     "iopub.execute_input": "2023-01-29T10:30:59.584724Z",
     "iopub.status.busy": "2023-01-29T10:30:59.584724Z",
     "iopub.status.idle": "2023-01-29T10:30:59.657655Z",
     "shell.execute_reply": "2023-01-29T10:30:59.657526Z",
     "shell.execute_reply.started": "2023-01-29T10:30:59.584724Z"
    },
    "tags": []
   },
   "outputs": [
    {
     "data": {
      "text/plain": [
       "(array([[0.1484555]]), array([-0.00037754]))"
      ]
     },
     "execution_count": 130,
     "metadata": {},
     "output_type": "execute_result"
    }
   ],
   "source": [
    "# model = linear_model.LinearRegression(fit_intercept=True).fit(ret_t_excess.loc[(slice(None),'000006')].iloc[1:252].values.reshape(-1, 1), ret_market_t.iloc[1:252].values.reshape(-1, 1),sample_weight=half_life_weight)\n",
    "# model.coef_,model.intercept_\n",
    "# x = linear_model.LinearRegression(fit_intercept=True)\n",
    "model = x.fit(ret_t_excess.loc[(slice(None),'000001')].iloc[1:252].values.reshape(-1, 1), ret_market_t.iloc[1:252].values.reshape(-1, 1),sample_weight=half_life_weight)\n",
    "model.coef_,model.intercept_\n",
    "alpha_camp_tmp\n",
    "beta_camp_tmp\n",
    "# (array([[0.1484555]]), array([-0.00037754]))\n",
    "ret_t_excess.loc[(slice(None),'000001')].rolling(window)."
   ]
  }
 ],
 "metadata": {
  "kernelspec": {
   "display_name": "Python 3 (ipykernel)",
   "language": "python",
   "name": "python3"
  },
  "language_info": {
   "codemirror_mode": {
    "name": "ipython",
    "version": 3
   },
   "file_extension": ".py",
   "mimetype": "text/x-python",
   "name": "python",
   "nbconvert_exporter": "python",
   "pygments_lexer": "ipython3",
   "version": "3.9.7"
  }
 },
 "nbformat": 4,
 "nbformat_minor": 5
}
