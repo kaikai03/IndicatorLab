{
 "cells": [
  {
   "cell_type": "code",
   "execution_count": 132,
   "id": "0b720cd8-d774-4160-b4bd-23b1b4611908",
   "metadata": {
    "execution": {
     "iopub.execute_input": "2023-02-05T10:38:14.270652Z",
     "iopub.status.busy": "2023-02-05T10:38:14.270345Z",
     "iopub.status.idle": "2023-02-05T10:38:14.334174Z",
     "shell.execute_reply": "2023-02-05T10:38:14.334174Z",
     "shell.execute_reply.started": "2023-02-05T10:38:14.270652Z"
    },
    "tags": []
   },
   "outputs": [],
   "source": [
    "# %%writefile alpha_base10.py\n",
    "\n",
    "import sys\n",
    "import os \n",
    "module_path = os.path.abspath(os.path.join('..')) \n",
    "if module_path not in sys.path: \n",
    "    sys.path.append(module_path)\n",
    "    \n",
    "import numpy as np\n",
    "import pandas as pd\n",
    "from scipy import stats\n",
    "from sklearn import preprocessing\n",
    "from sklearn import linear_model\n",
    "import tools.Pretreat_Tools as pretreat\n",
    "import tools.Sample_Tools as smpl\n",
    "\n",
    "from base.JuUnits import excute_for_multidates\n",
    "\n"
   ]
  },
  {
   "cell_type": "code",
   "execution_count": 212,
   "id": "e2332f31-3c6b-4f1a-b68f-6c512b884864",
   "metadata": {
    "execution": {
     "iopub.execute_input": "2023-02-05T14:29:37.083972Z",
     "iopub.status.busy": "2023-02-05T14:29:37.083972Z",
     "iopub.status.idle": "2023-02-05T14:29:41.098791Z",
     "shell.execute_reply": "2023-02-05T14:29:41.098791Z",
     "shell.execute_reply.started": "2023-02-05T14:29:37.083972Z"
    },
    "tags": []
   },
   "outputs": [
    {
     "name": "stdout",
     "output_type": "stream",
     "text": [
      "The autoreload extension is already loaded. To reload it, use:\n",
      "  %reload_ext autoreload\n"
     ]
    },
    {
     "data": {
      "text/plain": [
       "date\n",
       "2002-07    0.000114\n",
       "2002-08    0.000113\n",
       "2002-09    0.000122\n",
       "2002-10    0.000122\n",
       "2002-11    0.000132\n",
       "             ...   \n",
       "2022-09    0.000108\n",
       "2022-10    0.000109\n",
       "2022-11    0.000111\n",
       "2022-12    0.000116\n",
       "2023-01    0.000116\n",
       "Length: 247, dtype: float32"
      ]
     },
     "execution_count": 212,
     "metadata": {},
     "output_type": "execute_result"
    }
   ],
   "source": [
    "from tools.Cacher import (CACHE_TYPE, load_cache,load_caches_adv)\n",
    "import tools.Pretreat_Tools as pretreat\n",
    "import QUANTAXIS as QA\n",
    "\n",
    "\n",
    "%load_ext autoreload\n",
    "%autoreload 2\n",
    "%aimport tools.Cacher,tools.Sample_Tools\n",
    "\n",
    "stock_df = load_cache('all_train_qfq',cache_type=CACHE_TYPE.STOCK).sort_index()\n",
    "smpl.optimize_data_type(stock_df)\n",
    "# stock_df = pd.concat(list(map(lambda file:load_cache(file,cache_type=CACHE_TYPE.STOCK),['all_train_qfq','all_tail_qfq','all_older_qfq']))).sort_index()\n",
    "ret_fs_data = pd.read_csv(module_path+'/data/static/china10yearbond.csv').set_index('date').sort_index()\n",
    "ret_fs_data = (ret_fs_data['high'].astype(np.float32)+ret_fs_data['low'].astype(np.float32))/2 * 0.01\n",
    "ret_fs_daily = ret_fs_data/252\n",
    "# ## 日无风险回报\n",
    "ret_fs_daily\n"
   ]
  },
  {
   "cell_type": "code",
   "execution_count": null,
   "id": "d1a00810-8774-47dd-b3a4-131f401f0a9d",
   "metadata": {},
   "outputs": [],
   "source": [
    "ret_t = smpl.get_current_return(stock_df,'close')\n",
    "\n",
    "# 超额回报\n",
    "ret_t_excess = ret_t.groupby(pd.Grouper(level='date', freq='1M')).apply(\n",
    "        lambda x:(x-ret_fs_daily.get(x.index[0][0].strftime('%Y-%m'),default=ret_fs_daily[-1])))\n",
    "\n",
    "# 市值\n",
    "market_value_t = stock_df['totalCapital']*stock_df['close']\n",
    "market_value_t.name='market_value'\n",
    "\n",
    "# 计算市场（平均）收益\n",
    "def cal_ret_market(market_value,ret_excess_data):\n",
    "    ##  不取对数有时候有精度问题,权重不是精确1\n",
    "    market_value_log = np.log(market_value)\n",
    "    weight = market_value_log / market_value_log.sum()\n",
    "    ret_market_f = (ret_excess_data * weight).sum()\n",
    "    return ret_market_f\n",
    "\n",
    "# 市场收益，全市场收益加权平均\n",
    "ret_excess_market_t = excute_for_multidates(ret_t_excess,\n",
    "                                     lambda ret: cal_ret_market(market_value_t.loc[ret.index[0][0]],ret), \n",
    "                                     level=0)"
   ]
  },
  {
   "cell_type": "code",
   "execution_count": 205,
   "id": "1381190d-62f5-4668-a11e-17be8d68bc88",
   "metadata": {
    "execution": {
     "iopub.execute_input": "2023-02-05T14:20:33.036262Z",
     "iopub.status.busy": "2023-02-05T14:20:33.036262Z",
     "iopub.status.idle": "2023-02-05T14:20:33.099108Z",
     "shell.execute_reply": "2023-02-05T14:20:33.098352Z",
     "shell.execute_reply.started": "2023-02-05T14:20:33.036262Z"
    },
    "tags": []
   },
   "outputs": [],
   "source": [
    "def camp_beta_alpha(ret_excess,ret_excess_market):\n",
    "    # 5年daily单核执行约35分钟\n",
    "    window=252\n",
    "    half_life_window = 63\n",
    "    half_life_ = list(map(lambda n:0.5**(n/half_life_window),range(1,window+1)))[::-1]\n",
    "    half_life_weight = half_life_/np.sum(half_life_)\n",
    "\n",
    "    model = linear_model.LinearRegression(fit_intercept=True)\n",
    "    res_tmp = []\n",
    "    def reg(ret_t_ex):\n",
    "        # print()\n",
    "        # assert False,None\n",
    "        X = ret_excess_market[ret_t_ex.index.get_level_values(0)]\n",
    "        res = model.fit(X.values.reshape(-1, 1),\n",
    "                        ret_t_ex.values.reshape(-1, 1), \n",
    "                        sample_weight=half_life_weight)\n",
    "        \n",
    "        predict = model.predict([[X[-1]]])\n",
    "        residual = ret_t_ex[-1] - float(predict)\n",
    "        \n",
    "        res_tmp.append({'date':ret_t_ex.index[-1][0],\n",
    "                        'code':ret_t_ex.index[-1][1], \n",
    "                        'beta':float(res.coef_), \n",
    "                        'alpha':float(res.intercept_),\n",
    "                        'residual':residual\n",
    "                       })\n",
    "        return 0\n",
    "    \n",
    "    ret_excess.dropna().groupby(level=1,group_keys=False).apply(\n",
    "            lambda x:x.rolling(window).apply(reg))\n",
    "\n",
    "    res_final = pd.DataFrame(res_tmp)\n",
    "    res_final.set_index(['date', 'code'], inplace=True)\n",
    "    res_final = res_final.sort_index()\n",
    "    return res_final\n",
    "\n",
    "# camp_beta_alpha(ret_t_excess.loc[(slice(None),['000001','000002'])],ret_market_t)\n",
    "\n",
    "def generat_tmpxxxxxxxxxxxxxxxxxxxxxxxxxxxxxxxxxxxxxxxxxxxxxxxxxxxxxxxxxxxxxxxxxxxxxxxx():\n",
    "    pd.DataFrame(res_final['beta']).reset_index().to_feather('./beta_camp.feather')\n",
    "    pd.DataFrame(res_final['alpha']).reset_index().to_feather('./alpha_camp.feather')\n"
   ]
  },
  {
   "cell_type": "code",
   "execution_count": null,
   "id": "a7542bd9-3664-41e4-8ef3-6dc2ef50e5e1",
   "metadata": {},
   "outputs": [],
   "source": [
    "def momentum(ret,ret_fs):\n",
    "    ret_excess = ret.groupby(pd.Grouper(level='date', freq='1M')).apply(\n",
    "            lambda x:np.log(1+x)-np.log(1+ret_fs.get(x.index[0][0].strftime('%Y-%m'),default=ret_fs[-1])))\n",
    "\n",
    "    def calc_(data,window=252,half_life_window=126):\n",
    "        if len(data) < 253:\n",
    "            return None\n",
    "        ewma = data.rolling(window).apply(\n",
    "                        lambda xx:(xx.ewm(adjust=False,halflife=126).mean()[-1]))\n",
    "        return ewma.rolling(11).mean().shift(11)\n",
    "\n",
    "    mom = excute_for_multidates(ret_excess.dropna(), lambda x:calc_(x), level='code')\n",
    "          \n",
    "    return mom\n",
    "\n",
    "def size(stock_data):\n",
    "    mv = np.log(stock_data['totalCapital']*stock_data['close'])\n",
    "    return mv\n",
    "\n",
    "def bp(stock_data):\n",
    "    data = smpl.add_report_inds(stock_data[['close']],'netAssetsPerShare')\n",
    "    bp = data['close']/data['netAssetsPerShare']\n",
    "    return bp"
   ]
  },
  {
   "cell_type": "code",
   "execution_count": 78,
   "id": "bad09a4e-e6b4-4afb-ae94-1fec9ce43bf0",
   "metadata": {
    "execution": {
     "iopub.execute_input": "2023-02-03T08:35:22.569137Z",
     "iopub.status.busy": "2023-02-03T08:35:22.569137Z",
     "iopub.status.idle": "2023-02-03T08:35:22.647082Z",
     "shell.execute_reply": "2023-02-03T08:35:22.646411Z",
     "shell.execute_reply.started": "2023-02-03T08:35:22.569137Z"
    },
    "tags": []
   },
   "outputs": [],
   "source": [
    "def earnings_yield(ret,market_value,stock_industry):\n",
    "    # Earnings Yield 收益因子\n",
    "    # EARNYILD = 0.68*EPIBS + 0.11*ETOP + 0.21*CETOP\n",
    "    # EPIBS ：分析师预测的 EP （ earnings to price ）。\n",
    "    # ETOP ： ttm-ep ，最近 12 个月的总盈利除以当前总市值。\n",
    "    # CETOP ：最近 12 个月的运营现金流处于当前总市值。\n",
    "    \n",
    "    mv = market_value#_t.loc[(slice(None),['000001','000008','600600','000729'])]\n",
    "    codes = mv.index.get_level_values(1).unique().tolist()\n",
    "    date_ = mv.index.get_level_values(0)\n",
    "    date_start = str(int(date_.min().strftime(\"%Y\"))-1)\n",
    "    date_end = date_.max().strftime(\"%Y\")\n",
    "\n",
    "    # # 利润总额  经营活动产生的现金流量净额  \n",
    "    report_df = QA.QA_fetch_financial_report_adv(codes, date_start, date_end,ltype='EN').data[['totalProfit','netCashFlowsFromOperatingActivities']]\n",
    "\n",
    "\n",
    "    # 年报转累进转当季\n",
    "    report_df = excute_for_multidates(report_df,\n",
    "                                      lambda stock:stock.groupby(pd.Grouper(level='report_date', freq='1Y')).apply(\n",
    "                                      lambda x:x.diff(1).fillna(x)),level='code')\n",
    "\n",
    "    # 四季（年）滚动加总，“最近12个月”\n",
    "    report_df = excute_for_multidates(report_df,lambda x:x.rolling(4).sum(),level='code')\n",
    "\n",
    "    data_ = excute_for_multidates(pd.concat([mv,report_df], axis=1),lambda x:x.fillna(method='ffill'),level='code').loc[mv.index].sort_index()\n",
    "    \n",
    "    ETOP = data_['totalProfit']/data_['market_value']\n",
    "    CETOP = data_['netCashFlowsFromOperatingActivities']/data_['market_value']\n",
    "\n",
    "\n",
    "    # # EPIBS 分析师的期望暂时用季度收益斜率+行业季度收益斜率来代表。\n",
    "    m = linear_model.LinearRegression(fit_intercept=True)\n",
    "    def ret_cum_reg(ret,window=63):\n",
    "            # print()\n",
    "            # assert False,None\n",
    "            def reg(window_slice):\n",
    "                res = m.fit(np.arange(0.01,0.01*window+0.01,0.01).reshape(-1, 1), \n",
    "                            window_slice.values.reshape(-1, 1)\n",
    "                           )\n",
    "                # print(window_slice.index[-1],float(res.coef_),float(res.intercept_))\n",
    "                return float(res.coef_)\n",
    "\n",
    "            k = np.log(1+ret).rolling(window).apply(lambda x:reg(x))\n",
    "            return k\n",
    "\n",
    "    # ret_expect = excute_for_multidates(ret.loc[(slice(None),['000001','000008','600600','000729'])], lambda x:ret_cum_reg(x),level='code').sort_index()\n",
    "    ret_expect = excute_for_multidates(ret, lambda x:ret_cum_reg(x),level='code').sort_index()\n",
    "\n",
    "    # ret_industry = pd.concat([ret,stock_industry], axis=1).loc[(slice(None),['000001','000008','600600','000729']),:].sort_index()\n",
    "    ret_industry = pd.concat([ret,stock_industry], axis=1).sort_index()\n",
    "    ret_industry_meam = ret_industry.reset_index().set_index(['date','industry']).groupby(level=[0,1]).mean()\n",
    "    ret_industry_expect = excute_for_multidates(ret_industry_meam, lambda x:ret_cum_reg(x),level='industry')\n",
    "\n",
    "    EPIBS = ret_expect + ret_industry_expect.loc[list(zip(ret_industry.index.get_level_values(0),ret_industry['industry']))]['ret'].values\n",
    "\n",
    "    # # # 测试\n",
    "    # with pd.option_context(\"display.max_rows\", None, \"display.max_columns\", None):\n",
    "    #     x = pd.DataFrame(ret_industry_expect.loc[list(zip(ret_industry.index.get_level_values(0),ret_industry['industry']))].values,index=ret_industry.index)\n",
    "    #     display(pd.concat([ret_industry,ret_expect,x],axis=1))\n",
    "\n",
    "    EARNYILD = 0.68*EPIBS + 0.11*ETOP + 0.21*CETOP\n",
    "    \n",
    "    return EARNYILD\n",
    "\n",
    "# x = earnings_yield(ret_t.loc[(slice(None),['000001','000002'])],market_value_t.loc[(slice(None),['000001','000002'])],stock_df['industry'].loc[(slice(None),['000001','000002'])])"
   ]
  },
  {
   "cell_type": "code",
   "execution_count": 70,
   "id": "03f2ed72-8d6c-4522-acc4-7001c3a9df12",
   "metadata": {
    "execution": {
     "iopub.execute_input": "2023-02-03T08:30:52.064317Z",
     "iopub.status.busy": "2023-02-03T08:30:52.063765Z",
     "iopub.status.idle": "2023-02-03T08:30:52.131584Z",
     "shell.execute_reply": "2023-02-03T08:30:52.129778Z",
     "shell.execute_reply.started": "2023-02-03T08:30:52.064317Z"
    },
    "tags": []
   },
   "outputs": [],
   "source": [
    "# def liquidity():\n",
    "\n",
    "# Liquidity 因子是三个子因子的简单加权：\n",
    "# LIQUIDTY = 0.35*STOM + 0.35*STOQ + 0.30*STOA \n",
    "# STOM: 月换手率：ST(1)\n",
    "# STOQ ：三个月的平均月换手率：ST(3)\n",
    "# STOA ：十二个月的平均月换手率：ST(12)\n"
   ]
  },
  {
   "cell_type": "code",
   "execution_count": 213,
   "id": "1a9dcb57-a58a-46ca-906d-5bbbafe37727",
   "metadata": {
    "execution": {
     "iopub.execute_input": "2023-02-05T14:29:58.435185Z",
     "iopub.status.busy": "2023-02-05T14:29:58.435185Z",
     "iopub.status.idle": "2023-02-05T14:29:59.465040Z",
     "shell.execute_reply": "2023-02-05T14:29:59.465040Z",
     "shell.execute_reply.started": "2023-02-05T14:29:58.435185Z"
    },
    "tags": []
   },
   "outputs": [
    {
     "data": {
      "text/plain": [
       "date        code  \n",
       "2017-01-03  000001         NaN\n",
       "            000002         NaN\n",
       "2017-01-04  000001         NaN\n",
       "            000002         NaN\n",
       "2017-01-05  000001         NaN\n",
       "                        ...   \n",
       "2021-12-29  000002    0.039945\n",
       "2021-12-30  000001    0.036797\n",
       "            000002    0.039833\n",
       "2021-12-31  000001    0.039599\n",
       "            000002    0.039984\n",
       "Length: 2429, dtype: float64"
      ]
     },
     "execution_count": 213,
     "metadata": {},
     "output_type": "execute_result"
    }
   ],
   "source": [
    "def resvol(ret,ret_fs,ret_excess,beta_residual):\n",
    "    # RESVOL 波动因子 = 0.74*DASTD + 0.16 *CMRA + 0.10*HSIGMA\n",
    "    # DASTD ： Daily std：日标准差。超额收益率序列半衰加权标准差，T=252，半衰期为42天。\n",
    "    # CMRA ： Cumulative range：累积收益范围。表示过去12个月的波动率幅度。每21天计算一个Z(T)。\n",
    "    # HSIGMA ： Hist sigma：历史sigma，在计算Beta所进行的时间序列回归中，取回归残差收益率的波动率。\n",
    "    # 最后RESVOL对beta做正交化\n",
    "    window=252\n",
    "    half_life_window = 42\n",
    "    half_life_ = list(map(lambda n:0.5**(n/half_life_window),range(1,window+1)))[::-1]\n",
    "    half_life_weight = half_life_/np.sum(half_life_)\n",
    "\n",
    "    DASTD = excute_for_multidates(ret_excess, \n",
    "                                  lambda stock:stock.rolling(window).apply(\n",
    "                                      lambda x:((x-x.mean())**2).dot(half_life_weight)**(0.5)\n",
    "                                  ) ,level='code')\n",
    "\n",
    "    ret_excess_log = excute_for_multidates(ret,\n",
    "                                           lambda x:np.log(1+x)-np.log(1+ret_fs.get(x.index[0][0].strftime('%Y-%m'),default=ret_fs[-1])),\n",
    "                                           level='code')\n",
    "\n",
    "    Z = excute_for_multidates(ret_excess_log,\n",
    "                              lambda x:x.rolling(21).sum(),\n",
    "                              level='code')\n",
    "\n",
    "    CMRA = excute_for_multidates(Z,\n",
    "                              lambda x:x.rolling(21).apply(lambda x:x.max()-x.min()),\n",
    "                              level='code')\n",
    "\n",
    "    HSIGMA = excute_for_multidates(beta_residual,\n",
    "                                  lambda x:x.rolling(252).std(),\n",
    "                                  level='code')\n",
    "\n",
    "    RESVOL = 0.74*DASTD + 0.16 *CMRA + 0.10*HSIGMA\n",
    "    return RESVOL\n",
    "\n",
    "# testtttttt = camp_beta_alpha(ret_t_excess.loc[(slice(None),['000001','000002'])],ret_excess_market_t)\n",
    "# resvol(ret_t.loc[(slice(None),['000001','000002'])] ,ret_fs_daily,ret_t_excess.loc[(slice(None),['000001','000002'])] ,testtttttt['residual'])\n"
   ]
  },
  {
   "cell_type": "code",
   "execution_count": 69,
   "id": "0dd11210-3255-4d96-be3c-b6294fc5ea72",
   "metadata": {
    "execution": {
     "iopub.execute_input": "2023-02-03T05:58:18.951211Z",
     "iopub.status.busy": "2023-02-03T05:58:18.951211Z",
     "iopub.status.idle": "2023-02-03T05:58:19.024016Z",
     "shell.execute_reply": "2023-02-03T05:58:19.023115Z",
     "shell.execute_reply.started": "2023-02-03T05:58:18.951211Z"
    },
    "tags": []
   },
   "outputs": [
    {
     "data": {
      "text/plain": [
       "(28, 24, 32, 28, 26, 28, 32)"
      ]
     },
     "execution_count": 69,
     "metadata": {},
     "output_type": "execute_result"
    }
   ],
   "source": [
    "\n",
    "sys.getsizeof(int(1)),sys.getsizeof(float(1)),sys.getsizeof(np.float64(1)),sys.getsizeof(np.float32(1)),sys.getsizeof(np.float16(1)),sys.getsizeof(np.int32(1)),sys.getsizeof(np.int64(1))"
   ]
  },
  {
   "cell_type": "code",
   "execution_count": 188,
   "id": "246d3bfb-50d5-483d-a656-bc7f8f22daa5",
   "metadata": {
    "execution": {
     "iopub.execute_input": "2023-02-05T12:46:58.946659Z",
     "iopub.status.busy": "2023-02-05T12:46:58.946659Z",
     "iopub.status.idle": "2023-02-05T12:46:59.022450Z",
     "shell.execute_reply": "2023-02-05T12:46:59.021650Z",
     "shell.execute_reply.started": "2023-02-05T12:46:58.946659Z"
    },
    "tags": []
   },
   "outputs": [
    {
     "data": {
      "text/plain": [
       "date        code  \n",
       "2018-01-12  000001    0.094098\n",
       "2018-01-15  000001    0.026095\n",
       "2018-01-16  000001    0.024547\n",
       "2018-01-17  000001    0.024459\n",
       "2018-01-18  000001    0.028328\n",
       "                        ...   \n",
       "2021-12-29  000002    0.259874\n",
       "2021-12-30  000001    0.295442\n",
       "            000002    0.243542\n",
       "2021-12-31  000001    0.277089\n",
       "            000002    0.267609\n",
       "Name: beta, Length: 1925, dtype: float64"
      ]
     },
     "execution_count": 188,
     "metadata": {},
     "output_type": "execute_result"
    }
   ],
   "source": [
    "# sys.getsizeof(ret_fs_daily)/1024/1024\n",
    "# 732.7092390060425\n",
    "# (test['beta']**2)**(0.5)\n",
    "np.square(test['beta'])"
   ]
  },
  {
   "cell_type": "code",
   "execution_count": 136,
   "id": "1e5e8eed-6f8a-4ad5-960d-0ac78df3262d",
   "metadata": {
    "execution": {
     "iopub.execute_input": "2023-02-05T10:40:05.041190Z",
     "iopub.status.busy": "2023-02-05T10:40:05.041190Z",
     "iopub.status.idle": "2023-02-05T10:40:05.234398Z",
     "shell.execute_reply": "2023-02-05T10:40:05.233969Z",
     "shell.execute_reply.started": "2023-02-05T10:40:05.041190Z"
    },
    "tags": []
   },
   "outputs": [
    {
     "name": "stdout",
     "output_type": "stream",
     "text": [
      "<class 'pandas.core.frame.DataFrame'>\n",
      "MultiIndex: 3247889 entries, (Timestamp('2017-01-03 00:00:00'), '000001') to (Timestamp('2021-12-31 00:00:00'), '605599')\n",
      "Data columns (total 12 columns):\n",
      " #   Column                  Dtype  \n",
      "---  ------                  -----  \n",
      " 0   open                    float32\n",
      " 1   high                    float32\n",
      " 2   low                     float32\n",
      " 3   close                   float32\n",
      " 4   volume                  int32  \n",
      " 5   amount                  float64\n",
      " 6   adj                     float32\n",
      " 7   shares                  float64\n",
      " 8   lshares                 float64\n",
      " 9   totalCapital            float64\n",
      " 10  liquidity_totalCapital  float64\n",
      " 11  industry                object \n",
      "dtypes: float32(5), float64(5), int32(1), object(1)\n",
      "memory usage: 235.5+ MB\n"
     ]
    }
   ],
   "source": [
    "stock_df.info()\n",
    "# memory usage: 438.9+ MB\n",
    "\n"
   ]
  },
  {
   "cell_type": "code",
   "execution_count": null,
   "id": "f58048db-7b69-4cea-b9f9-54cba6868e25",
   "metadata": {},
   "outputs": [],
   "source": []
  }
 ],
 "metadata": {
  "kernelspec": {
   "display_name": "Python 3 (ipykernel)",
   "language": "python",
   "name": "python3"
  },
  "language_info": {
   "codemirror_mode": {
    "name": "ipython",
    "version": 3
   },
   "file_extension": ".py",
   "mimetype": "text/x-python",
   "name": "python",
   "nbconvert_exporter": "python",
   "pygments_lexer": "ipython3",
   "version": "3.9.7"
  }
 },
 "nbformat": 4,
 "nbformat_minor": 5
}
