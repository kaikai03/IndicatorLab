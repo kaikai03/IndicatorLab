{
 "cells": [
  {
   "cell_type": "code",
   "execution_count": 131,
   "id": "0b720cd8-d774-4160-b4bd-23b1b4611908",
   "metadata": {
    "execution": {
     "iopub.execute_input": "2023-01-29T18:06:22.914109Z",
     "iopub.status.busy": "2023-01-29T18:06:22.895149Z",
     "iopub.status.idle": "2023-01-29T18:06:23.623237Z",
     "shell.execute_reply": "2023-01-29T18:06:23.622345Z",
     "shell.execute_reply.started": "2023-01-29T18:06:22.914109Z"
    },
    "tags": []
   },
   "outputs": [],
   "source": [
    "# %%writefile alpha_base10.py\n",
    "\n",
    "import sys\n",
    "import os \n",
    "module_path = os.path.abspath(os.path.join('..')) \n",
    "if module_path not in sys.path: \n",
    "    sys.path.append(module_path)\n",
    "    \n",
    "import numpy as np\n",
    "import pandas as pd\n",
    "from scipy import stats\n",
    "from sklearn import preprocessing\n",
    "from sklearn import linear_model\n",
    "import tools.Pretreat_Tools as pretreat\n",
    "\n",
    "\n",
    "def STD(data, windows):\n",
    "    return data.rolling(window=windows, min_periods=windows).std()\n",
    "def MEAN(data, windows):\n",
    "    return data.rolling(window=windows, min_periods=windows).mean()\n",
    "def DELTA(data, windows):\n",
    "    return data.diff(4)\n",
    "def SEQUENCE(n):\n",
    "    return pd.Series(np.arange(1,n+1))\n",
    "\n",
    "def SMA(data,windows,alpha):\n",
    "    return data.ewm(adjust=False, alpha=float(alpha)/windows, min_periods=windows, ignore_na=False).mean()\n",
    "\n",
    "def REGBETA(xs, y, n):\n",
    "    assert len(y)>=n,  'len(y)!>=n !!!'+ str(y.index[0])\n",
    "    regress = linear_model.LinearRegression(fit_intercept=False)\n",
    "    def reg(X,Y):\n",
    "        try:\n",
    "            if len(Y)>len(X):\n",
    "                Y_ =  Y[X.index]\n",
    "                if Y_.isnull().any():\n",
    "                    return np.nan\n",
    "                res = regress.fit(X.values.reshape(-1, 1), Y_.values.reshape(-1, 1)).coef_[0]\n",
    "            else:\n",
    "                # if Y.isnull().any():\n",
    "                #     return np.nan\n",
    "                res = regress.fit(X.values.reshape(-1, 1), Y.values.reshape(-1, 1)).coef_[0]\n",
    "        except Exception as e:\n",
    "            print(e)\n",
    "            return np.nan\n",
    "        return res\n",
    "    return xs.rolling(window=n, min_periods=n).apply(lambda x:reg(x,y))\n",
    "\n",
    "\n",
    "def COVIANCE(A,B,d):\n",
    "    se = pd.Series(np.arange(len(A.index)),index=A.index)\n",
    "    se = se.rolling(5).apply(lambda x: A.iloc[x].cov(B.iloc[x]))\n",
    "    return se\n",
    "\n",
    "def CORR(A,B,d):\n",
    "    se = pd.Series(np.arange(len(A.index)),index=A.index)\n",
    "    se = se.rolling(5).apply(lambda x: A.iloc[x].corr(B.iloc[x]))\n",
    "    return se\n",
    "\n",
    "def excute_for_multidates(data, func, level=0, **pramas):\n",
    "    return data.groupby(level=level, group_keys=False).apply(func,**pramas)\n",
    "\n"
   ]
  },
  {
   "cell_type": "code",
   "execution_count": 132,
   "id": "e2332f31-3c6b-4f1a-b68f-6c512b884864",
   "metadata": {
    "execution": {
     "iopub.execute_input": "2023-01-29T18:06:38.725719Z",
     "iopub.status.busy": "2023-01-29T18:06:38.724721Z",
     "iopub.status.idle": "2023-01-29T18:06:42.639654Z",
     "shell.execute_reply": "2023-01-29T18:06:42.639215Z",
     "shell.execute_reply.started": "2023-01-29T18:06:38.725719Z"
    },
    "tags": []
   },
   "outputs": [
    {
     "name": "stdout",
     "output_type": "stream",
     "text": [
      "The autoreload extension is already loaded. To reload it, use:\n",
      "  %reload_ext autoreload\n"
     ]
    },
    {
     "data": {
      "text/plain": [
       "date\n",
       "2002-07    0.000114\n",
       "2002-08    0.000113\n",
       "2002-09    0.000122\n",
       "2002-10    0.000122\n",
       "2002-11    0.000132\n",
       "             ...   \n",
       "2022-09    0.000108\n",
       "2022-10    0.000109\n",
       "2022-11    0.000111\n",
       "2022-12    0.000116\n",
       "2023-01    0.000116\n",
       "Length: 247, dtype: float64"
      ]
     },
     "execution_count": 132,
     "metadata": {},
     "output_type": "execute_result"
    }
   ],
   "source": [
    "from tools.Cacher import (CACHE_TYPE, load_cache,load_caches_adv)\n",
    "import tools.Sample_Tools as smpl\n",
    "import tools.Pretreat_Tools as pretreat\n",
    "\n",
    "%load_ext autoreload\n",
    "%autoreload 2\n",
    "%aimport tools.Cacher\n",
    "\n",
    "stock_df = load_cache('all_train_qfq',cache_type=CACHE_TYPE.STOCK).sort_index()\n",
    "# stock_df = pd.concat(list(map(lambda file:load_cache(file,cache_type=CACHE_TYPE.STOCK),['all_train_qfq','all_tail_qfq','all_older_qfq']))).sort_index()\n",
    "ret_fs = pd.read_csv(module_path+'/data/static/china10yearbond.csv').set_index('date').sort_index()\n",
    "ret_fs = (ret_fs['high']+ret_fs['low'])/2 * 0.01\n",
    "ret_fs_daily = ret_fs/252\n",
    "ret_fs_daily"
   ]
  },
  {
   "cell_type": "code",
   "execution_count": 133,
   "id": "1381190d-62f5-4668-a11e-17be8d68bc88",
   "metadata": {
    "execution": {
     "iopub.execute_input": "2023-01-29T18:06:54.750139Z",
     "iopub.status.busy": "2023-01-29T18:06:54.749141Z",
     "iopub.status.idle": "2023-01-29T18:07:47.749438Z",
     "shell.execute_reply": "2023-01-29T18:07:47.749438Z",
     "shell.execute_reply.started": "2023-01-29T18:06:54.749141Z"
    },
    "tags": []
   },
   "outputs": [],
   "source": [
    "# codes = smpl.get_codes_by_market(sse='all',only_main=True,filter_st=True)\n",
    "# \n",
    "\n",
    "ret_t = smpl.get_current_return(stock_df,'close')\n",
    "# 超额回报\n",
    "ret_t_excess = ret_t.groupby(pd.Grouper(level='date', freq='1M')).apply(\n",
    "        lambda x:x-ret_fs_daily.get(x.index[0][0].strftime('%Y-%m'),default=ret_fs_daily[-1]))\n",
    "\n",
    "def cal_ret_market_daily(stock_daily_df,ret_t_excess_daily):\n",
    "    ##  不取对数有时候有精度问题,权重不是精确1\n",
    "    market_value_log = np.log(stock_daily_df['totalCapital'])\n",
    "    market_value = market_value_log.sum()\n",
    "    weight = market_value_log / market_value\n",
    "    ret_market_f = (ret_t_excess_daily * weight).sum()\n",
    "    return ret_market_f\n",
    "\n",
    "# 市场收益，全市场收益加权平均\n",
    "ret_market_t = ret_t_excess.groupby(level=0, group_keys=False).apply(\n",
    "        lambda ret: cal_ret_market_daily(stock_df.loc[ret.index[0][0]],ret))\n",
    "\n",
    "\n",
    "def camp_beta_alpha(ret_excess,ret_market):\n",
    "    # 5年daily单核执行约35分钟\n",
    "    \n",
    "    window=252\n",
    "    half_life_window = 63\n",
    "    half_life_ = list(map(lambda n:0.5**(n/half_life_window),range(1,window+1)))[::-1]\n",
    "    half_life_weight = half_life/np.sum(half_life)\n",
    "\n",
    "    model = linear_model.LinearRegression(fit_intercept=True)\n",
    "    res_tmp = []\n",
    "    def reg(ret_t_ex):\n",
    "        # print()\n",
    "        # assert False,None\n",
    "        res = model.fit(ret_t_ex.values.reshape(-1, 1), \n",
    "                        ret_market[ret_t_ex.index.get_level_values(0)].values.reshape(-1, 1),\n",
    "                        sample_weight=half_life_weight)\n",
    "        \n",
    "        res_tmp.append({'date':ret_t_ex.index[-1][0],\n",
    "                        'code':ret_t_ex.index[-1][1], \n",
    "                        'beta':float(res.coef_), \n",
    "                        'alpha':float(res.intercept_)})\n",
    "        return 0\n",
    "    \n",
    "    ret_excess.dropna().groupby(level=1,group_keys=False).apply(\n",
    "            lambda x:x.rolling(window).apply(reg))\n",
    "\n",
    "    res_final = pd.DataFrame(res_tmp)\n",
    "    res_final.set_index(['date', 'code'], inplace=True)\n",
    "    res_final = res_final.sort_index()\n",
    "    return res_final\n",
    "\n",
    "def generat_tmpxxxxxxxxxxxxxxxxxxxxxxxxxxxxxxxxxxxxxxxxxxxxxxxxxxxxxxxxxxxxxxxxxxxxxxxx():\n",
    "    pd.DataFrame(res_final['beta']).reset_index().to_feather('./beta_camp.feather')\n",
    "    pd.DataFrame(res_final['alpha']).reset_index().to_feather('./alpha_camp.feather')\n",
    "\n",
    "def momentum(ret,ret_fs):\n",
    "    ret_excess = ret.groupby(pd.Grouper(level='date', freq='1M')).apply(\n",
    "            lambda x:np.log(1+x)-np.log(1+ret_fs.get(x.index[0][0].strftime('%Y-%m'),default=ret_fs[-1])))\n",
    "\n",
    "    def calc_(data,window=252,half_life_window=126):\n",
    "        if len(data) < 253:\n",
    "            return None\n",
    "        ewma = data.rolling(window).apply(\n",
    "                        lambda xx:(xx.ewm(adjust=False,halflife=126).mean()[-1]))\n",
    "        return ewma.rolling(11).mean().shift(11)\n",
    "\n",
    "    mom = ret_excess.dropna().groupby(level=1,group_keys=False).apply(\n",
    "                    lambda x:calc_(x))\n",
    "\n",
    "    return mom"
   ]
  },
  {
   "cell_type": "code",
   "execution_count": 354,
   "id": "bad09a4e-e6b4-4afb-ae94-1fec9ce43bf0",
   "metadata": {
    "execution": {
     "iopub.execute_input": "2023-01-30T13:48:26.348758Z",
     "iopub.status.busy": "2023-01-30T13:48:26.348758Z",
     "iopub.status.idle": "2023-01-30T13:54:52.760023Z",
     "shell.execute_reply": "2023-01-30T13:54:52.759058Z",
     "shell.execute_reply.started": "2023-01-30T13:48:26.348758Z"
    },
    "tags": []
   },
   "outputs": [
    {
     "data": {
      "text/plain": [
       "date        code  \n",
       "2017-01-04  000001         NaN\n",
       "2017-01-05  000001         NaN\n",
       "2017-01-06  000001         NaN\n",
       "2017-01-09  000001         NaN\n",
       "2017-01-10  000001         NaN\n",
       "                        ...   \n",
       "2021-12-27  605399    0.006346\n",
       "2021-12-28  605399    0.005309\n",
       "2021-12-29  605399    0.003428\n",
       "2021-12-30  605399    0.001277\n",
       "2021-12-31  605399    0.002521\n",
       "Name: ret, Length: 3225766, dtype: float64"
      ]
     },
     "execution_count": 354,
     "metadata": {},
     "output_type": "execute_result"
    }
   ],
   "source": [
    "\n",
    "\n",
    "# .loc[(slice(None),ret_t.index.get_level_values(1).unique()[20:40])]\n",
    "x = momentum(ret_t, ret_fs_daily)\n",
    "# momentum(ret_t, ret_fs_daily)\n",
    "x"
   ]
  },
  {
   "cell_type": "code",
   "execution_count": 359,
   "id": "03f2ed72-8d6c-4522-acc4-7001c3a9df12",
   "metadata": {
    "execution": {
     "iopub.execute_input": "2023-01-30T14:05:00.462453Z",
     "iopub.status.busy": "2023-01-30T14:05:00.461651Z",
     "iopub.status.idle": "2023-01-30T14:05:00.734094Z",
     "shell.execute_reply": "2023-01-30T14:05:00.734094Z",
     "shell.execute_reply.started": "2023-01-30T14:05:00.462453Z"
    },
    "tags": []
   },
   "outputs": [
    {
     "data": {
      "text/plain": [
       "<AxesSubplot:xlabel='date'>"
      ]
     },
     "execution_count": 359,
     "metadata": {},
     "output_type": "execute_result"
    },
    {
     "data": {
      "image/png": "[encoded data removed]",
      "text/plain": [
       "<Figure size 432x288 with 1 Axes>"
      ]
     },
     "metadata": {
      "needs_background": "light"
     },
     "output_type": "display_data"
    }
   ],
   "source": [
    "x.loc[(slice(None),'000008')].plot()"
   ]
  },
  {
   "cell_type": "code",
   "execution_count": 376,
   "id": "246d3bfb-50d5-483d-a656-bc7f8f22daa5",
   "metadata": {
    "execution": {
     "iopub.execute_input": "2023-01-30T14:09:12.338041Z",
     "iopub.status.busy": "2023-01-30T14:09:12.338041Z",
     "iopub.status.idle": "2023-01-30T14:09:12.456304Z",
     "shell.execute_reply": "2023-01-30T14:09:12.456304Z",
     "shell.execute_reply.started": "2023-01-30T14:09:12.338041Z"
    },
    "tags": []
   },
   "outputs": [
    {
     "data": {
      "text/plain": [
       "0.0039938178695502445"
      ]
     },
     "execution_count": 376,
     "metadata": {},
     "output_type": "execute_result"
    }
   ],
   "source": [
    "\n"
   ]
  },
  {
   "cell_type": "code",
   "execution_count": 139,
   "id": "1ddc2ea7-eda2-4bc3-981b-bd488cac470e",
   "metadata": {
    "execution": {
     "iopub.execute_input": "2023-01-30T02:07:29.698045Z",
     "iopub.status.busy": "2023-01-30T02:07:29.697548Z",
     "iopub.status.idle": "2023-01-30T02:07:29.793575Z",
     "shell.execute_reply": "2023-01-30T02:07:29.792666Z",
     "shell.execute_reply.started": "2023-01-30T02:07:29.698045Z"
    },
    "tags": []
   },
   "outputs": [
    {
     "data": {
      "text/html": [
       "<div>\n",
       "<style scoped>\n",
       "    .dataframe tbody tr th:only-of-type {\n",
       "        vertical-align: middle;\n",
       "    }\n",
       "\n",
       "    .dataframe tbody tr th {\n",
       "        vertical-align: top;\n",
       "    }\n",
       "\n",
       "    .dataframe thead th {\n",
       "        text-align: right;\n",
       "    }\n",
       "</style>\n",
       "<table border=\"1\" class=\"dataframe\">\n",
       "  <thead>\n",
       "    <tr style=\"text-align: right;\">\n",
       "      <th></th>\n",
       "      <th></th>\n",
       "      <th>open</th>\n",
       "      <th>high</th>\n",
       "      <th>low</th>\n",
       "      <th>close</th>\n",
       "      <th>volume</th>\n",
       "      <th>amount</th>\n",
       "      <th>adj</th>\n",
       "      <th>shares</th>\n",
       "      <th>lshares</th>\n",
       "      <th>totalCapital</th>\n",
       "      <th>liquidity_totalCapital</th>\n",
       "      <th>industry</th>\n",
       "    </tr>\n",
       "    <tr>\n",
       "      <th>date</th>\n",
       "      <th>code</th>\n",
       "      <th></th>\n",
       "      <th></th>\n",
       "      <th></th>\n",
       "      <th></th>\n",
       "      <th></th>\n",
       "      <th></th>\n",
       "      <th></th>\n",
       "      <th></th>\n",
       "      <th></th>\n",
       "      <th></th>\n",
       "      <th></th>\n",
       "      <th></th>\n",
       "    </tr>\n",
       "  </thead>\n",
       "  <tbody>\n",
       "    <tr>\n",
       "      <th rowspan=\"5\" valign=\"top\">2017-01-03</th>\n",
       "      <th>000001</th>\n",
       "      <td>8.381056</td>\n",
       "      <td>8.445455</td>\n",
       "      <td>8.362656</td>\n",
       "      <td>8.427055</td>\n",
       "      <td>459840.0</td>\n",
       "      <td>420595168.0</td>\n",
       "      <td>0.919984</td>\n",
       "      <td>1.430868e+06</td>\n",
       "      <td>1.219265e+06</td>\n",
       "      <td>1.205800e+11</td>\n",
       "      <td>1.027481e+11</td>\n",
       "      <td>股份制银行</td>\n",
       "    </tr>\n",
       "    <tr>\n",
       "      <th>000002</th>\n",
       "      <td>15.787499</td>\n",
       "      <td>16.041021</td>\n",
       "      <td>15.787499</td>\n",
       "      <td>15.925784</td>\n",
       "      <td>217016.0</td>\n",
       "      <td>449757472.0</td>\n",
       "      <td>0.768248</td>\n",
       "      <td>1.103915e+06</td>\n",
       "      <td>9.709068e+05</td>\n",
       "      <td>1.758072e+11</td>\n",
       "      <td>1.546245e+11</td>\n",
       "      <td>住宅开发</td>\n",
       "    </tr>\n",
       "    <tr>\n",
       "      <th>000006</th>\n",
       "      <td>7.927441</td>\n",
       "      <td>8.161091</td>\n",
       "      <td>7.902406</td>\n",
       "      <td>8.069300</td>\n",
       "      <td>251674.0</td>\n",
       "      <td>243074080.0</td>\n",
       "      <td>0.834467</td>\n",
       "      <td>1.349995e+05</td>\n",
       "      <td>1.344884e+05</td>\n",
       "      <td>1.089351e+10</td>\n",
       "      <td>1.085227e+10</td>\n",
       "      <td>住宅开发</td>\n",
       "    </tr>\n",
       "    <tr>\n",
       "      <th>000007</th>\n",
       "      <td>17.400000</td>\n",
       "      <td>17.533333</td>\n",
       "      <td>17.173333</td>\n",
       "      <td>17.400000</td>\n",
       "      <td>17278.0</td>\n",
       "      <td>44872752.0</td>\n",
       "      <td>0.666667</td>\n",
       "      <td>2.309654e+04</td>\n",
       "      <td>2.059654e+04</td>\n",
       "      <td>4.018797e+09</td>\n",
       "      <td>3.583797e+09</td>\n",
       "      <td>商业物业经营</td>\n",
       "    </tr>\n",
       "    <tr>\n",
       "      <th>000008</th>\n",
       "      <td>9.168714</td>\n",
       "      <td>9.208023</td>\n",
       "      <td>9.129406</td>\n",
       "      <td>9.178541</td>\n",
       "      <td>47814.0</td>\n",
       "      <td>44600660.0</td>\n",
       "      <td>0.982713</td>\n",
       "      <td>2.809078e+05</td>\n",
       "      <td>1.495229e+05</td>\n",
       "      <td>2.578324e+10</td>\n",
       "      <td>1.372402e+10</td>\n",
       "      <td>轨交设备</td>\n",
       "    </tr>\n",
       "    <tr>\n",
       "      <th>...</th>\n",
       "      <th>...</th>\n",
       "      <td>...</td>\n",
       "      <td>...</td>\n",
       "      <td>...</td>\n",
       "      <td>...</td>\n",
       "      <td>...</td>\n",
       "      <td>...</td>\n",
       "      <td>...</td>\n",
       "      <td>...</td>\n",
       "      <td>...</td>\n",
       "      <td>...</td>\n",
       "      <td>...</td>\n",
       "      <td>...</td>\n",
       "    </tr>\n",
       "    <tr>\n",
       "      <th rowspan=\"5\" valign=\"top\">2021-12-31</th>\n",
       "      <th>605580</th>\n",
       "      <td>15.584498</td>\n",
       "      <td>15.776900</td>\n",
       "      <td>15.584498</td>\n",
       "      <td>15.613359</td>\n",
       "      <td>14436.0</td>\n",
       "      <td>23503120.0</td>\n",
       "      <td>0.962006</td>\n",
       "      <td>2.000000e+04</td>\n",
       "      <td>5.000000e+03</td>\n",
       "      <td>3.122672e+09</td>\n",
       "      <td>7.806679e+08</td>\n",
       "      <td>热力服务</td>\n",
       "    </tr>\n",
       "    <tr>\n",
       "      <th>605588</th>\n",
       "      <td>39.434130</td>\n",
       "      <td>39.573543</td>\n",
       "      <td>38.946182</td>\n",
       "      <td>39.244926</td>\n",
       "      <td>3613.0</td>\n",
       "      <td>14250400.0</td>\n",
       "      <td>0.995811</td>\n",
       "      <td>7.309956e+03</td>\n",
       "      <td>1.827500e+03</td>\n",
       "      <td>2.868787e+09</td>\n",
       "      <td>7.172010e+08</td>\n",
       "      <td>光学元件</td>\n",
       "    </tr>\n",
       "    <tr>\n",
       "      <th>605589</th>\n",
       "      <td>39.430112</td>\n",
       "      <td>40.054257</td>\n",
       "      <td>37.478420</td>\n",
       "      <td>37.944052</td>\n",
       "      <td>75049.0</td>\n",
       "      <td>289382592.0</td>\n",
       "      <td>0.990706</td>\n",
       "      <td>7.747768e+04</td>\n",
       "      <td>8.106000e+03</td>\n",
       "      <td>2.939817e+10</td>\n",
       "      <td>3.075745e+09</td>\n",
       "      <td>合成树脂</td>\n",
       "    </tr>\n",
       "    <tr>\n",
       "      <th>605598</th>\n",
       "      <td>16.275216</td>\n",
       "      <td>16.394960</td>\n",
       "      <td>15.876069</td>\n",
       "      <td>15.896026</td>\n",
       "      <td>38016.0</td>\n",
       "      <td>61316020.0</td>\n",
       "      <td>0.997867</td>\n",
       "      <td>1.727435e+04</td>\n",
       "      <td>4.319347e+03</td>\n",
       "      <td>2.745935e+09</td>\n",
       "      <td>6.866045e+08</td>\n",
       "      <td>其他专业工程</td>\n",
       "    </tr>\n",
       "    <tr>\n",
       "      <th>605599</th>\n",
       "      <td>12.685502</td>\n",
       "      <td>13.170052</td>\n",
       "      <td>12.569210</td>\n",
       "      <td>13.044069</td>\n",
       "      <td>80530.0</td>\n",
       "      <td>107791760.0</td>\n",
       "      <td>0.969099</td>\n",
       "      <td>7.777778e+04</td>\n",
       "      <td>7.777780e+03</td>\n",
       "      <td>1.014539e+10</td>\n",
       "      <td>1.014539e+09</td>\n",
       "      <td>钟表珠宝</td>\n",
       "    </tr>\n",
       "  </tbody>\n",
       "</table>\n",
       "<p>3247889 rows × 12 columns</p>\n",
       "</div>"
      ],
      "text/plain": [
       "                        open       high        low      close    volume  \\\n",
       "date       code                                                           \n",
       "2017-01-03 000001   8.381056   8.445455   8.362656   8.427055  459840.0   \n",
       "           000002  15.787499  16.041021  15.787499  15.925784  217016.0   \n",
       "           000006   7.927441   8.161091   7.902406   8.069300  251674.0   \n",
       "           000007  17.400000  17.533333  17.173333  17.400000   17278.0   \n",
       "           000008   9.168714   9.208023   9.129406   9.178541   47814.0   \n",
       "...                      ...        ...        ...        ...       ...   \n",
       "2021-12-31 605580  15.584498  15.776900  15.584498  15.613359   14436.0   \n",
       "           605588  39.434130  39.573543  38.946182  39.244926    3613.0   \n",
       "           605589  39.430112  40.054257  37.478420  37.944052   75049.0   \n",
       "           605598  16.275216  16.394960  15.876069  15.896026   38016.0   \n",
       "           605599  12.685502  13.170052  12.569210  13.044069   80530.0   \n",
       "\n",
       "                        amount       adj        shares       lshares  \\\n",
       "date       code                                                        \n",
       "2017-01-03 000001  420595168.0  0.919984  1.430868e+06  1.219265e+06   \n",
       "           000002  449757472.0  0.768248  1.103915e+06  9.709068e+05   \n",
       "           000006  243074080.0  0.834467  1.349995e+05  1.344884e+05   \n",
       "           000007   44872752.0  0.666667  2.309654e+04  2.059654e+04   \n",
       "           000008   44600660.0  0.982713  2.809078e+05  1.495229e+05   \n",
       "...                        ...       ...           ...           ...   \n",
       "2021-12-31 605580   23503120.0  0.962006  2.000000e+04  5.000000e+03   \n",
       "           605588   14250400.0  0.995811  7.309956e+03  1.827500e+03   \n",
       "           605589  289382592.0  0.990706  7.747768e+04  8.106000e+03   \n",
       "           605598   61316020.0  0.997867  1.727435e+04  4.319347e+03   \n",
       "           605599  107791760.0  0.969099  7.777778e+04  7.777780e+03   \n",
       "\n",
       "                   totalCapital  liquidity_totalCapital industry  \n",
       "date       code                                                   \n",
       "2017-01-03 000001  1.205800e+11            1.027481e+11    股份制银行  \n",
       "           000002  1.758072e+11            1.546245e+11     住宅开发  \n",
       "           000006  1.089351e+10            1.085227e+10     住宅开发  \n",
       "           000007  4.018797e+09            3.583797e+09   商业物业经营  \n",
       "           000008  2.578324e+10            1.372402e+10     轨交设备  \n",
       "...                         ...                     ...      ...  \n",
       "2021-12-31 605580  3.122672e+09            7.806679e+08     热力服务  \n",
       "           605588  2.868787e+09            7.172010e+08     光学元件  \n",
       "           605589  2.939817e+10            3.075745e+09     合成树脂  \n",
       "           605598  2.745935e+09            6.866045e+08   其他专业工程  \n",
       "           605599  1.014539e+10            1.014539e+09     钟表珠宝  \n",
       "\n",
       "[3247889 rows x 12 columns]"
      ]
     },
     "execution_count": 139,
     "metadata": {},
     "output_type": "execute_result"
    }
   ],
   "source": [
    "stock_df"
   ]
  },
  {
   "cell_type": "code",
   "execution_count": 273,
   "id": "bece6f00-1773-436e-8c76-156a0bf0f433",
   "metadata": {
    "execution": {
     "iopub.execute_input": "2023-01-30T08:49:33.781766Z",
     "iopub.status.busy": "2023-01-30T08:49:33.781362Z",
     "iopub.status.idle": "2023-01-30T08:49:33.848852Z",
     "shell.execute_reply": "2023-01-30T08:49:33.847920Z",
     "shell.execute_reply.started": "2023-01-30T08:49:33.781766Z"
    },
    "tags": []
   },
   "outputs": [
    {
     "data": {
      "text/plain": [
       "[0.8705505632961241,\n",
       " 0.757858283255199,\n",
       " 0.6597539553864471,\n",
       " 0.5743491774985174,\n",
       " 0.5,\n",
       " 0.43527528164806206,\n",
       " 0.37892914162759955,\n",
       " 0.32987697769322355,\n",
       " 0.2871745887492587,\n",
       " 0.25,\n",
       " 0.217637640824031,\n",
       " 0.18946457081379978,\n",
       " 0.16493848884661177,\n",
       " 0.1435872943746294,\n",
       " 0.125,\n",
       " 0.1088188204120155,\n",
       " 0.09473228540689989,\n",
       " 0.08246924442330589,\n",
       " 0.0717936471873147,\n",
       " 0.0625]"
      ]
     },
     "execution_count": 273,
     "metadata": {},
     "output_type": "execute_result"
    }
   ],
   "source": [
    "a_l = list(range(1,21))\n",
    "a = list(map(lambda n:0.5**(n/5),range(1,20+1)))#[::-1]\n",
    "a_w = a/np.sum(a)\n",
    "a_w\n",
    "a"
   ]
  },
  {
   "cell_type": "code",
   "execution_count": 256,
   "id": "1abced29-5a27-4152-9d52-373f38693389",
   "metadata": {
    "execution": {
     "iopub.execute_input": "2023-01-30T08:40:37.595333Z",
     "iopub.status.busy": "2023-01-30T08:40:37.595333Z",
     "iopub.status.idle": "2023-01-30T08:40:37.661289Z",
     "shell.execute_reply": "2023-01-30T08:40:37.661289Z",
     "shell.execute_reply.started": "2023-01-30T08:40:37.595333Z"
    },
    "tags": []
   },
   "outputs": [
    {
     "data": {
      "text/plain": [
       "9.80643659"
      ]
     },
     "execution_count": 256,
     "metadata": {},
     "output_type": "execute_result"
    }
   ],
   "source": []
  },
  {
   "cell_type": "code",
   "execution_count": 301,
   "id": "6d4c9d8c-fae6-49cf-8212-484faa158c4c",
   "metadata": {
    "execution": {
     "iopub.execute_input": "2023-01-30T10:24:16.899309Z",
     "iopub.status.busy": "2023-01-30T10:24:16.899309Z",
     "iopub.status.idle": "2023-01-30T10:24:17.083741Z",
     "shell.execute_reply": "2023-01-30T10:24:17.082745Z",
     "shell.execute_reply.started": "2023-01-30T10:24:16.899309Z"
    },
    "tags": []
   },
   "outputs": [
    {
     "data": {
      "text/plain": [
       "code\n",
       "000001    0.000406\n",
       "000006   -0.000694\n",
       "Name: ret, dtype: float64"
      ]
     },
     "execution_count": 301,
     "metadata": {},
     "output_type": "execute_result"
    }
   ],
   "source": [
    "# 2021-12-30  000001    0.004057\n",
    "#             000006   -0.002394\n",
    "# 2021-12-31  000001   -0.020534\n",
    "#             000006    0.017987\n",
    "ret_t_excess.loc[(slice(None),['000001','000006'])].groupby(level=1,group_keys=False).apply(lambda x:x.mean())"
   ]
  }
 ],
 "metadata": {
  "kernelspec": {
   "display_name": "Python 3 (ipykernel)",
   "language": "python",
   "name": "python3"
  },
  "language_info": {
   "codemirror_mode": {
    "name": "ipython",
    "version": 3
   },
   "file_extension": ".py",
   "mimetype": "text/x-python",
   "name": "python",
   "nbconvert_exporter": "python",
   "pygments_lexer": "ipython3",
   "version": "3.9.7"
  }
 },
 "nbformat": 4,
 "nbformat_minor": 5
}
