{
 "cells": [
  {
   "cell_type": "code",
   "execution_count": 1,
   "id": "0172a37e-c749-4a53-8d43-2e2898c18b1c",
   "metadata": {
    "execution": {
     "iopub.execute_input": "2023-06-25T03:12:23.391256Z",
     "iopub.status.busy": "2023-06-25T03:12:23.390316Z",
     "iopub.status.idle": "2023-06-25T03:12:34.347226Z",
     "shell.execute_reply": "2023-06-25T03:12:34.347226Z",
     "shell.execute_reply.started": "2023-06-25T03:12:23.390316Z"
    },
    "tags": []
   },
   "outputs": [],
   "source": [
    "# %%writefile Ind_Behavior.py\n",
    "\n",
    "import sys\n",
    "import os \n",
    "module_path = os.path.abspath(os.path.join('..')) \n",
    "if module_path not in sys.path: \n",
    "    sys.path.append(module_path)\n",
    "\n",
    "\n",
    "import numpy as np\n",
    "import pandas as pd\n",
    "\n",
    "import matplotlib.pyplot as plt\n",
    "\n",
    "import tools.Sample_Tools as smpl\n",
    "\n",
    "from base.JuUnits import excute_for_multidates\n",
    "\n",
    "from sklearn import linear_model\n"
   ]
  },
  {
   "cell_type": "code",
   "execution_count": 58,
   "id": "de7f773b-cbb7-4cc8-b7c0-6d7dded5942c",
   "metadata": {
    "execution": {
     "iopub.execute_input": "2023-06-25T11:18:53.652929Z",
     "iopub.status.busy": "2023-06-25T11:18:53.651916Z",
     "iopub.status.idle": "2023-06-25T11:18:53.661889Z",
     "shell.execute_reply": "2023-06-25T11:18:53.661889Z",
     "shell.execute_reply.started": "2023-06-25T11:18:53.652929Z"
    },
    "tags": []
   },
   "outputs": [],
   "source": [
    "def cal_ret_market(market_value,ret_excess_data):\n",
    "    '''计算市场（平均）收益\n",
    "        :param market_value：{pd.Series} --市值\n",
    "        :param ret_excess_data：{pd.Series} --超额回报\n",
    "        \n",
    "        :return: {pd.Series}  -- 市值加权的市场平均收益\n",
    "    '''\n",
    "    ##  不取对数有时候有精度问题,权重不是精确1\n",
    "    market_value_log = np.log(market_value)\n",
    "    weight = market_value_log / market_value_log.sum()\n",
    "    ret_market_f = (ret_excess_data * weight).sum()\n",
    "    return ret_market_f\n",
    "'''\n",
    "    需要准备的基础数据\n",
    "    stock_df = load_cache('all_train_qfq',cache_type=CACHE_TYPE.STOCK).sort_index()\n",
    "    smpl.optimize_data_type(stock_df)\n",
    "    # stock_df = pd.concat(list(map(lambda file:load_cache(file,cache_type=CACHE_TYPE.STOCK),['all_train_qfq','all_tail_qfq','all_older_qfq']))).sort_index()\n",
    "\n",
    "    ## 日无风险回报\n",
    "    ret_fs_data = pd.read_csv(module_path+'/data/static/china10yearbond.csv').set_index('date').sort_index()\n",
    "    ret_fs_data = (ret_fs_data['high'].astype(np.float32)+ret_fs_data['low'].astype(np.float32))/2 * 0.01\n",
    "    ret_fs_daily = ret_fs_data/252\n",
    "'''\n",
    "\n",
    "def prepare_data(stock_df,ret_fs):\n",
    "    '''数据准备\n",
    "        :param stock_df：{pd.DataFrame} --股票数据，包含close,volume,market_value，liquidity_market_value,industry\n",
    "        :param ret_fs：{pd.Series} --无风险回报\n",
    "        \n",
    "        :return: {set in [ret_t,ret_t_excess,market_value_t,ret_excess_market_t]}\n",
    "    '''\n",
    "\n",
    "    ret_t = smpl.get_current_return(stock_df,'close')\n",
    "    ret_t.name = 'ret'\n",
    "\n",
    "    # 超额回报\n",
    "    ret_t_excess = ret_t.groupby(pd.Grouper(level='date', freq='1M')).apply(\n",
    "            lambda x:(x-ret_fs.get(x.index[0][0].strftime('%Y-%m'),default=ret_fs[-1])))\n",
    "    ret_t_excess.name = 'ret_excess'\n",
    "    \n",
    "    # 市值\n",
    "    market_value_t = stock_df['market_value']\n",
    "    market_value_t.name = 'market_value'\n",
    "\n",
    "    # 市场收益，日内全市场收益加权平均\n",
    "    ret_excess_market_t = excute_for_multidates(ret_t_excess,\n",
    "                                         lambda ret: cal_ret_market(market_value_t.loc[ret.index[0][0]],ret), \n",
    "                                         level=0)\n",
    "    ret_excess_market_t.name = 'ret_excess_market'\n",
    "    \n",
    "    return ret_t, ret_t_excess, market_value_t, ret_excess_market_t"
   ]
  },
  {
   "cell_type": "code",
   "execution_count": 59,
   "id": "220a4940-35a3-48a0-ae19-72267dbe969e",
   "metadata": {
    "execution": {
     "iopub.execute_input": "2023-06-25T11:18:59.167140Z",
     "iopub.status.busy": "2023-06-25T11:18:59.167140Z",
     "iopub.status.idle": "2023-06-25T11:19:37.137438Z",
     "shell.execute_reply": "2023-06-25T11:19:37.136469Z",
     "shell.execute_reply.started": "2023-06-25T11:18:59.167140Z"
    },
    "tags": []
   },
   "outputs": [],
   "source": [
    "from tools.Cacher import (CACHE_TYPE, save_cache,load_cache_adv,load_cache)\n",
    "stock_df = load_cache('all_train_qfq',cache_type=CACHE_TYPE.STOCK).sort_index()\n",
    "smpl.optimize_data_type(stock_df)\n",
    "# stock_df = pd.concat(list(map(lambda file:load_cache(file,cache_type=CACHE_TYPE.STOCK),['all_train_qfq','all_tail_qfq','all_older_qfq']))).sort_index()\n",
    "\n",
    "## 日无风险回报\n",
    "ret_fs_data = pd.read_csv(module_path+'/data/static/china10yearbond.csv').set_index('date').sort_index()\n",
    "ret_fs_data = (ret_fs_data['high'].astype(np.float32)+ret_fs_data['low'].astype(np.float32))/2 * 0.01\n",
    "ret_fs_daily = ret_fs_data/252\n",
    "\n",
    "\n",
    "ret_t, ret_t_excess, market_value_t, ret_excess_market_t = prepare_data(stock_df,ret_fs_daily)\n",
    "\n"
   ]
  },
  {
   "cell_type": "code",
   "execution_count": 4,
   "id": "3dc62f68-1f77-4974-9d66-08daf50d10f4",
   "metadata": {
    "execution": {
     "iopub.execute_input": "2023-06-25T03:13:13.883293Z",
     "iopub.status.busy": "2023-06-25T03:13:13.883293Z",
     "iopub.status.idle": "2023-06-25T03:13:13.897258Z",
     "shell.execute_reply": "2023-06-25T03:13:13.896395Z",
     "shell.execute_reply.started": "2023-06-25T03:13:13.883293Z"
    }
   },
   "outputs": [],
   "source": [
    "def sizelg(stock_data):\n",
    "    '''市值因子\n",
    "        :param stock_data：{pd.DataFrame} --需要包含market_value\n",
    "    '''\n",
    "    mv = np.log(stock_data['market_value'])\n",
    "    mv.name = 'sizelg'\n",
    "    return mv\n",
    "\n",
    "def bp(stock_data):\n",
    "    '''Book-to-Price\n",
    "        :param stock_data：{pd.DataFrame} --需要包含close\n",
    "    '''\n",
    "    data = smpl.add_report_inds(stock_data[['close']],'netAssetsPerShare')\n",
    "    bp = data['close']/data['netAssetsPerShare']\n",
    "    bp.name = 'bp'\n",
    "    return bp"
   ]
  },
  {
   "cell_type": "code",
   "execution_count": 169,
   "id": "0e4a724d-235f-4d16-8a3a-c7fdcbbeaef7",
   "metadata": {
    "execution": {
     "iopub.execute_input": "2023-06-25T17:18:53.563986Z",
     "iopub.status.busy": "2023-06-25T17:18:53.562989Z",
     "iopub.status.idle": "2023-06-25T17:19:44.644645Z",
     "shell.execute_reply": "2023-06-25T17:19:44.644077Z",
     "shell.execute_reply.started": "2023-06-25T17:18:53.563986Z"
    },
    "tags": []
   },
   "outputs": [],
   "source": [
    "# ret_excess_market_t\n",
    "# size_ = sizelg(stock_df)\n",
    "# bp_ = bp(stock_df)\n",
    "\n",
    "# 因子收益率为样本空间内因子值最小的 1/3 股票构建的流通市值加权组合与最大 1/3 股票组合收益率之差。\n",
    "\n",
    "# # 市值因子收益率\n",
    "# def calc_SMB(x):\n",
    "#     bin_labels = pd.qcut(x['sizelg'],[0, 0.3, 0.7, 1],labels=[0,1,2])\n",
    "#     return x['ret'][bin_labels==2].sum()-x['ret'][bin_labels==0].sum()\n",
    "\n",
    "# SMB = pd.concat([ret_t,size_],axis=1).dropna().groupby(level=0).apply(lambda x:calc_SMB(x))\n",
    "\n",
    "# # 估值因子收益率\n",
    "# def calc_HML(x):\n",
    "#     bin_labels = pd.qcut(x['bp'],[0, 0.3, 0.7, 1],labels=[0,1,2])\n",
    "#     return x['ret'][bin_labels==2].sum()-x['ret'][bin_labels==0].sum()\n",
    "# HML = pd.concat([ret_t,bp_],axis=1).dropna().groupby(level=0).apply(lambda x:calc_HML(x))\n",
    "\n",
    "\n",
    "# ret_exce = alpha + b_1*(ret_mk_exce)+b_2*SMB+b_3*HML + epsilon\n",
    "# 市场收益率、市值因子收益率、估值因子收益率\n",
    "\n",
    "def calc_residual(xs,y):\n",
    "    y_ = y.dropna()\n",
    "    y_mat = y_.values.reshape(-1, 1)\n",
    "    x_mat = np.repeat(xs.values , y_mat.shape[0], axis=0)\n",
    "    model = linear_model.LinearRegression(fit_intercept=True)  \n",
    "    resualt = model.fit(x_mat, y_mat)\n",
    "    residual = pd.Series((y_mat-resualt.predict(x_mat)).squeeze(),index=y_.index)\n",
    "    return residual\n",
    "    \n",
    "# xs_df = pd.concat([ret_excess_market_t.loc[SMB.index],SMB,HML],axis=1)\n",
    "\n",
    "residuals_df = excute_for_multidates(xs_df,\n",
    "                                 lambda xs: calc_residual(xs,ret_t_excess.loc[xs.index]), \n",
    "                                 level=0)\n",
    "\n",
    "\n",
    "# size_"
   ]
  },
  {
   "cell_type": "code",
   "execution_count": 150,
   "id": "e2996ce6-0480-45a5-87b6-7c8c379dccae",
   "metadata": {
    "execution": {
     "iopub.execute_input": "2023-06-25T16:56:34.747955Z",
     "iopub.status.busy": "2023-06-25T16:56:34.747955Z",
     "iopub.status.idle": "2023-06-25T16:56:34.828812Z",
     "shell.execute_reply": "2023-06-25T16:56:34.828812Z",
     "shell.execute_reply.started": "2023-06-25T16:56:34.747955Z"
    },
    "tags": []
   },
   "outputs": [
    {
     "data": {
      "text/plain": [
       "date        code  \n",
       "2016-01-05  000001    0.023025\n",
       "            000006   -0.015909\n",
       "            000008    0.035697\n",
       "            000009   -0.030183\n",
       "            000010   -0.039198\n",
       "                        ...   \n",
       "            603989   -0.027239\n",
       "            603993   -0.003054\n",
       "            603997   -0.058843\n",
       "            603998   -0.045640\n",
       "            603999    0.116783\n",
       "Length: 1964, dtype: float64"
      ]
     },
     "execution_count": 150,
     "metadata": {},
     "output_type": "execute_result"
    }
   ],
   "source": [
    "Y = ret_t_excess.dropna().loc['2016-01-05']\n",
    "y_mat = Y.values.reshape(-1, 1)\n",
    "\n",
    "x_mat = np.repeat([X.loc['2016-01-05']] , y_mat.shape[0], axis=0)\n",
    "model = linear_model.LinearRegression(fit_intercept=True)  \n",
    "resualt = model.fit(x_mat, y_mat)\n"
   ]
  },
  {
   "cell_type": "code",
   "execution_count": 170,
   "id": "66fdbea9-53dc-4b65-b123-90febe22af03",
   "metadata": {
    "execution": {
     "iopub.execute_input": "2023-06-25T17:21:56.039982Z",
     "iopub.status.busy": "2023-06-25T17:21:56.038985Z",
     "iopub.status.idle": "2023-06-25T17:21:56.049954Z",
     "shell.execute_reply": "2023-06-25T17:21:56.049954Z",
     "shell.execute_reply.started": "2023-06-25T17:21:56.039982Z"
    },
    "tags": []
   },
   "outputs": [
    {
     "data": {
      "text/plain": [
       "date        code  \n",
       "2016-01-05  000001    0.023025\n",
       "            000006   -0.015909\n",
       "            000008    0.035697\n",
       "            000009   -0.030183\n",
       "            000010   -0.039198\n",
       "                        ...   \n",
       "2020-12-31  605376    0.041337\n",
       "            605377   -0.027039\n",
       "            605388   -0.025466\n",
       "            605399    0.009075\n",
       "            605500   -0.027268\n",
       "Length: 3020035, dtype: float64"
      ]
     },
     "execution_count": 170,
     "metadata": {},
     "output_type": "execute_result"
    }
   ],
   "source": [
    "residuals_df"
   ]
  },
  {
   "cell_type": "code",
   "execution_count": null,
   "id": "9b7e651c-b0d5-431f-aa5e-bcf394c220bf",
   "metadata": {},
   "outputs": [],
   "source": [
    "\n",
    "# ivol = epsilon.std(ddof=1) * sqrt(N) \n",
    "# SMB\n",
    "\n",
    "# HML\n",
    "\n",
    "# r2 = 1 - np.sum((y_true - y_pred)**2) / np.sum((y_true - np.mean(y_true))**2\n",
    "\n",
    "# 特异度 1-r2 \n",
    "# 特质波动=sqrt（特异度）*总波动率 ？？？\n",
    "\n",
    "# ln(turnover) = alpha + b* ln(mv)+epsilon\n",
    "# 回归残差项我们用来作为剔除市值后的换手率代理变量，我们称之为流通市值调整换手。\n"
   ]
  },
  {
   "cell_type": "code",
   "execution_count": null,
   "id": "d1ce2b23-6af0-4f37-8f6c-58e447f067ce",
   "metadata": {},
   "outputs": [],
   "source": [
    "# behaviorIndex = 1/2*[Q(IVR)+Q(adjTurnover)]\n",
    "# behaviorIndex为股票i在时刻t的交易热度，IVR为股票i在时刻t的特异度，adjTurnover为股票i在时刻t的市值调整换手。\n",
    "# Q表示股票i的指标在时刻t样本空间内所有股票中所对应的分位数（累计分布概率）。\n",
    "# 根据交易热度的定义可知，交易热度的取值在0-1之间，交易热度取值越高，表明股票交易的活跃程度越高，反应的投机程度越大，后期预期收益率越低。"
   ]
  }
 ],
 "metadata": {
  "kernelspec": {
   "display_name": "Python 3 (ipykernel)",
   "language": "python",
   "name": "python3"
  },
  "language_info": {
   "codemirror_mode": {
    "name": "ipython",
    "version": 3
   },
   "file_extension": ".py",
   "mimetype": "text/x-python",
   "name": "python",
   "nbconvert_exporter": "python",
   "pygments_lexer": "ipython3",
   "version": "3.9.7"
  }
 },
 "nbformat": 4,
 "nbformat_minor": 5
}
