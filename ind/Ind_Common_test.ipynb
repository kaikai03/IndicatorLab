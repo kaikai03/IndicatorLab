{
 "cells": [
  {
   "cell_type": "code",
   "execution_count": 6,
   "metadata": {},
   "outputs": [
    {
     "name": "stdout",
     "output_type": "stream",
     "text": [
      "The autoreload extension is already loaded. To reload it, use:\n",
      "  %reload_ext autoreload\n"
     ]
    }
   ],
   "source": [
    "\n",
    "import sys\n",
    "import os \n",
    "module_path = os.path.abspath(os.path.join('..')) \n",
    "if module_path not in sys.path: \n",
    "    sys.path.append(module_path)\n",
    "    \n",
    "import numpy as np\n",
    "\n",
    "import QUANTAXIS as QA\n",
    "\n",
    "import Ind_Model_Base\n",
    "\n",
    "import matplotlib.pyplot as plt\n",
    "import matplotlib.ticker as ticker\n",
    "\n",
    "from tools.Test_Tools import FactorTest\n",
    "import tools.Sample_Tools as smpl\n",
    "\n",
    "\n",
    "import pandas as pd\n",
    "\n",
    "\n",
    "\n",
    "%load_ext autoreload\n",
    "%autoreload 1\n",
    "%aimport tools.Test_Tools,tools.Sample_Tools\n",
    "\n",
    "\n",
    "class Ind_Test(Ind_Model_Base.Ind_Model):\n",
    "    def __init__(self,data, frequence=QA.FREQUENCE.DAY):\n",
    "        super().__init__(data, 'TEST', frequence)\n",
    "\n",
    "    \n",
    "    def on_set_params_default(self):\n",
    "        return {}\n",
    "    \n",
    "        \n",
    "    def on_indicator_structuring(self, data):\n",
    "        return self.excute_for_multicode(data, self.kernel, **self.pramas)\n",
    "\n",
    "    \n",
    "    def on_desition_structuring(self, data, ind_data):\n",
    "        return None\n",
    "        \n",
    "    def kernel(self,dataframe):\n",
    "        CLOSE = dataframe.close\n",
    "        ret=(CLOSE-CLOSE.shift(1))/CLOSE.shift(1)\n",
    "        res = alpha1(CLOSE, ret)\n",
    "        \n",
    "        return pd.DataFrame({'main': res}, index=dataframe.index)\n",
    "    \n",
    "    \n",
    "    def plot(self,figsize=(1120/72,420/72)):\n",
    "        pass\n",
    "    \n",
    "\n"
   ]
  },
  {
   "cell_type": "code",
   "execution_count": 7,
   "metadata": {
    "tags": []
   },
   "outputs": [],
   "source": [
    "\n",
    "# 移动求和\n",
    "def ts_sum(df, window):\n",
    "    return df.rolling(window).sum()\n",
    "# 移动平均\n",
    "\n",
    "\n",
    "def sma(df, window):\n",
    "    return df.rolling(window).mean()\n",
    "\n",
    "# 移动标准差\n",
    "def stddev(df, window):\n",
    "    return df.rolling(window).std()\n",
    "\n",
    "# 移动相关系数\n",
    "def correlation(x, y, window):\n",
    "    return x.rolling(window).corr(y)\n",
    "\n",
    "# 移动协方差\n",
    "def covariance(x, y, window):\n",
    "    return x.rolling(window).cov(y)\n",
    "\n",
    "# 在过去d天的时序排名\n",
    "def rolling_rank(na):\n",
    "    return rankdata(na)[-1]\n",
    "\n",
    "\n",
    "def ts_rank(df, window):\n",
    "    return df.rolling(window).apply(rolling_rank)\n",
    "\n",
    "# 过去d天的时序乘积\n",
    "def rolling_prod(na):\n",
    "    return np.prod(na)\n",
    "\n",
    "\n",
    "def product(df, window):\n",
    "    return df.rolling(window).apply(rolling_prod)\n",
    "\n",
    "# 过去d天最小值\n",
    "def ts_min(df, window):\n",
    "    return df.rolling(window).min()\n",
    "\n",
    "# 过去d天最大值\n",
    "def ts_max(df, window):\n",
    "    return df.rolling(window).max()\n",
    "\n",
    "# 当天取值减去d天前的值\n",
    "def delta(df, period):\n",
    "    return df.diff(period)\n",
    "\n",
    "# d天前的值，滞后值\n",
    "def delay(df, period):\n",
    "    return df.shift(period)\n",
    "# 截面数据排序，输出boolean值\n",
    "\n",
    "\n",
    "def rank(df):\n",
    "    return df.rank(pct=True, axis=0)\n",
    "\n",
    "# 缩放时间序列，使其和为1\n",
    "def scale(df, k=1):\n",
    "    return df.mul(k).div(np.abs(df).sum())\n",
    "# 过去d天最大值的位置\n",
    "\n",
    "\n",
    "def ts_argmax(df, window):\n",
    "    return df.rolling(window).apply(np.argmax) + 1\n",
    "\n",
    "# 过去d天最小值的位置\n",
    "def ts_argmin(df, window):\n",
    "    return df.rolling(window).apply(np.argmin) + 1\n",
    "\n",
    "# 线性衰减的移动平均加权\n",
    "def decay_linear(df, period):\n",
    "    if df.isnull().values.any():\n",
    "        df.fillna(method='ffill', inplace=True)\n",
    "        df.fillna(method='bfill', inplace=True)\n",
    "        df.fillna(value=0, inplace=True)\n",
    "    na_lwma = np.zeros_like(df)  # 生成与df大小相同的零数组\n",
    "    na_lwma[:period, :] = df.iloc[:period, :]  # 赋前period项的值\n",
    "    na_series = df.as_matrix()\n",
    "    # 计算加权系数\n",
    "    divisor = period * (period + 1) / 2\n",
    "    y = (np.arange(period) + 1) * 1.0 / divisor\n",
    "    # 从第period项开始计算数值\n",
    "    for row in range(period - 1, df.shape[0]):\n",
    "        x = na_series[row - period + 1: row + 1, :]\n",
    "        na_lwma[row, :] = (np.dot(x.T, y))\n",
    "    return pd.DataFrame(na_lwma, index=df.index, columns=df.columns)\n",
    "\n",
    "    "
   ]
  },
  {
   "cell_type": "code",
   "execution_count": 8,
   "metadata": {
    "tags": []
   },
   "outputs": [
    {
     "name": "stdout",
     "output_type": "stream",
     "text": [
      "                       main\n",
      "date       code            \n",
      "2021-02-02 000001  0.000000\n",
      "           000004  0.000000\n",
      "2021-02-03 000001  0.000000\n",
      "           000004  0.000000\n",
      "2021-02-04 000001  0.000000\n",
      "...                     ...\n",
      "2021-06-30 000004  0.151316\n",
      "2021-07-01 000001 -0.426667\n",
      "           000004 -0.039474\n",
      "2021-07-02 000001  0.100000\n",
      "           000004 -0.236842\n",
      "\n",
      "[198 rows x 1 columns]\n"
     ]
    }
   ],
   "source": [
    "data = smpl.get_data(['000001','000004'],end='2021-07-02', gap=100)\n",
    "\n",
    "def alpha1(close, returns):\n",
    "    x = close\n",
    "    \n",
    "    x[returns < 0] = stddev(returns, 20)\n",
    "    alpha = rank(ts_argmax(x ** 2, 5))-0.5\n",
    "\n",
    "    return alpha.fillna(value=0)\n",
    "\n",
    "ttt = Ind_Test(data)\n",
    "ttt.fit()\n",
    "# with pd.option_context('display.max_rows', None, 'display.max_columns', None):\n",
    "print(ttt.ind_df)"
   ]
  },
  {
   "cell_type": "code",
   "execution_count": 68,
   "metadata": {
    "collapsed": true,
    "jupyter": {
     "outputs_hidden": true
    },
    "tags": []
   },
   "outputs": [
    {
     "name": "stdout",
     "output_type": "stream",
     "text": [
      "                    open   high    low  close     volume        amount\n",
      "date       code                                                       \n",
      "2021-06-18 000001  23.13  23.28  22.39  22.65   694099.0  1.574438e+09\n",
      "           000004  20.20  20.68  19.55  19.78   106875.0  2.143071e+08\n",
      "2021-06-21 000001  22.60  22.67  22.01  22.16   718272.0  1.600120e+09\n",
      "           000004  19.50  21.40  19.18  20.77   113211.0  2.304986e+08\n",
      "2021-06-22 000001  22.38  23.09  22.25  22.97   757751.0  1.720058e+09\n",
      "           000004  20.30  20.94  20.01  20.18    78693.0  1.597537e+08\n",
      "2021-06-23 000001  22.85  23.41  22.72  23.14   447907.0  1.035836e+09\n",
      "           000004  20.26  20.40  19.66  19.80    65989.0  1.313061e+08\n",
      "2021-06-24 000001  23.03  23.12  22.68  23.08   390283.0  8.945021e+08\n",
      "           000004  20.10  20.20  18.82  18.86    79985.0  1.556011e+08\n",
      "2021-06-25 000001  23.08  23.60  23.06  23.36   559972.0  1.310287e+09\n",
      "           000004  18.86  19.10  17.90  18.11    85398.0  1.559673e+08\n",
      "2021-06-28 000001  23.36  23.39  22.48  22.78   626257.0  1.425702e+09\n",
      "           000004  17.99  18.75  17.88  18.44    63284.0  1.161550e+08\n",
      "2021-06-29 000001  22.58  22.79  22.00  22.34  1049749.0  2.341926e+09\n",
      "           000004  18.22  19.13  18.22  18.81    71591.0  1.339842e+08\n",
      "2021-06-30 000001  22.36  22.93  22.35  22.62   403435.0  9.132852e+08\n",
      "           000004  18.44  18.83  18.31  18.56    46573.0  8.637627e+07\n",
      "2021-07-01 000001  22.81  23.50  22.52  23.20   664833.0  1.530549e+09\n",
      "           000004  18.50  18.80  17.58  17.73    54976.0  1.004022e+08\n",
      "2021-07-02 000001  22.72  22.74  21.76  21.81  1070677.0  2.360190e+09\n",
      "           000004  17.63  18.25  17.60  17.98    39881.0  7.138607e+07\n",
      "                       open      high    low  close     volume        amount\n",
      "date       code                                                             \n",
      "2021-06-18 000001  3.141130  3.147595  22.39  22.65   694099.0  1.574438e+09\n",
      "           000004  3.005683  3.029167  19.55  19.78   106875.0  2.143071e+08\n",
      "2021-06-21 000001  3.117950  3.121042  22.01  22.16   718272.0  1.600120e+09\n",
      "           000004  2.970414  3.063391  19.18  20.77   113211.0  2.304986e+08\n",
      "2021-06-22 000001  3.108168  3.139400  22.25  22.97   757751.0  1.720058e+09\n",
      "           000004  3.010621  3.041661  20.01  20.18    78693.0  1.597537e+08\n",
      "2021-06-23 000001  3.128951  3.153163  22.72  23.14   447907.0  1.035836e+09\n",
      "           000004  3.008648  3.015535  19.66  19.80    65989.0  1.313061e+08\n",
      "2021-06-24 000001  3.136798  3.140698  22.68  23.08   390283.0  8.945021e+08\n",
      "           000004  3.000720  3.005683  18.82  18.86    79985.0  1.556011e+08\n",
      "2021-06-25 000001  3.138966  3.161247  23.06  23.36   559972.0  1.310287e+09\n",
      "           000004  2.937043  2.949688  17.90  18.11    85398.0  1.559673e+08\n",
      "2021-06-28 000001  3.151025  3.152309  22.48  22.78   626257.0  1.425702e+09\n",
      "           000004  2.889816  2.931194  17.88  18.44    63284.0  1.161550e+08\n",
      "2021-06-29 000001  3.117065  3.126322  22.00  22.34  1049749.0  2.341926e+09\n",
      "           000004  2.902520  2.951258  18.22  18.81    71591.0  1.339842e+08\n",
      "2021-06-30 000001  3.107274  3.132446  22.35  22.62   403435.0  9.132852e+08\n",
      "           000004  2.914522  2.935451  18.31  18.56    46573.0  8.637627e+07\n",
      "2021-07-01 000001  3.127199  3.157000  22.52  23.20   664833.0  1.530549e+09\n",
      "           000004  2.917771  2.933857  17.58  17.73    54976.0  1.004022e+08\n",
      "2021-07-02 000001  3.123246  3.124125  21.76  21.81  1070677.0  2.360190e+09\n",
      "           000004  2.869602  2.904165  17.60  17.98    39881.0  7.138607e+07\n"
     ]
    }
   ],
   "source": [
    "# import Sample_Tools as smpl\n",
    "try:\n",
    "    import talib\n",
    "except:\n",
    "    print('PLEASE install TALIB to call these methods')\n",
    "    pass\n",
    "\n",
    "def AROONOSC(DataFrame, N=3):\n",
    "    res = talib.EMA(DataFrame.close.values, N)\n",
    "    print('----------')\n",
    "    print(res)\n",
    "    return pd.DataFrame({'ema': res}, index=DataFrame.index)\n",
    "\n",
    "data = smpl.get_data(['000001','000004'],end='2021-07-02', gap=10)\n",
    "ff = data.data\n",
    "print(ff)\n",
    "# print(talib.MA(data.data.open, timeperiod=3, matype=0))\n",
    "\n",
    "# data.add_func(AROONOSC)\n",
    "ff[['open','high']]=ff[['open','high']].agg('log')\n",
    "print(ff)"
   ]
  },
  {
   "cell_type": "code",
   "execution_count": 15,
   "metadata": {
    "tags": []
   },
   "outputs": [
    {
     "name": "stdout",
     "output_type": "stream",
     "text": [
      "Wall time: 22.2 s\n"
     ]
    }
   ],
   "source": [
    "%%time\n",
    "test = FactorTest(Ind_Test, sample='沪深300',freq=\"m\",end='2016-01-29',gap=500,only_main=True,neutralize={'enable':False,'static_mv':False})\n",
    "# test = FactorTest(Ind_Test, sample='沪深300',freq=\"m\",end='2020-06-29',gap=2500,only_main=True,neutralize={'enable':False,'static_mv':False})\n",
    "test.process()\n",
    "# test.plot()"
   ]
  },
  {
   "cell_type": "code",
   "execution_count": 2,
   "metadata": {},
   "outputs": [
    {
     "name": "stdout",
     "output_type": "stream",
     "text": [
      "Wall time: 5.51 s\n"
     ]
    }
   ],
   "source": [
    "%%time\n",
    "tt = smpl.get_sample_by_zs('沪深300', end='2016-01-29',gap=2500,only_main=True)"
   ]
  },
  {
   "cell_type": "code",
   "execution_count": 3,
   "metadata": {
    "collapsed": true,
    "jupyter": {
     "outputs_hidden": true
    },
    "tags": []
   },
   "outputs": [
    {
     "name": "stdout",
     "output_type": "stream",
     "text": [
      "                        open       high        low      close     volume  \\\n",
      "date       code                                                            \n",
      "2005-10-20 000002   1.110340   1.121846   1.055686   1.107463  1885512.0   \n",
      "           000063   4.972785   5.080005   4.921024   5.076308    16680.0   \n",
      "           000066   2.371709   2.383125   2.308920   2.337460    17423.0   \n",
      "           000069   1.263005   1.307582   1.258052   1.275387    37441.0   \n",
      "           000100   0.659399   0.665864   0.646469   0.659399    49116.0   \n",
      "...                      ...        ...        ...        ...        ...   \n",
      "2016-01-29 603799   8.042174   8.449717   7.721574   8.384510    57434.0   \n",
      "           603806  13.478810  14.285522  13.478810  14.260312    30039.0   \n",
      "           603899  15.012016  15.484092  14.964808  15.266937    16346.0   \n",
      "           603939  13.695875  14.300419  13.155530  14.166670    17110.0   \n",
      "           603993   2.852105   3.075800   2.833464   2.982594   548002.0   \n",
      "\n",
      "                        amount       adj  \n",
      "date       code                           \n",
      "2005-10-20 000002  717181184.0  0.287653  \n",
      "           000063   44933504.0  0.184862  \n",
      "           000066   14266036.0  0.285404  \n",
      "           000069   38974532.0  0.123824  \n",
      "           000100    9939854.0  0.323235  \n",
      "...                        ...       ...  \n",
      "2016-01-29 603799   86288424.0  0.543390  \n",
      "           603806  100850608.0  0.420162  \n",
      "           603899   52809996.0  0.472076  \n",
      "           603939   44605972.0  0.534995  \n",
      "           603993  173282656.0  0.932061  \n",
      "\n",
      "[409932 rows x 7 columns]\n",
      "Wall time: 8.51 s\n"
     ]
    }
   ],
   "source": [
    "%%time\n",
    "# print(tt.data)\n",
    "print(tt.to_qfq().data)"
   ]
  },
  {
   "cell_type": "code",
   "execution_count": null,
   "metadata": {},
   "outputs": [],
   "source": []
  }
 ],
 "metadata": {
  "kernelspec": {
   "display_name": "Python 3 (ipykernel)",
   "language": "python",
   "name": "python3"
  },
  "language_info": {
   "codemirror_mode": {
    "name": "ipython",
    "version": 3
   },
   "file_extension": ".py",
   "mimetype": "text/x-python",
   "name": "python",
   "nbconvert_exporter": "python",
   "pygments_lexer": "ipython3",
   "version": "3.9.7"
  }
 },
 "nbformat": 4,
 "nbformat_minor": 4
}
