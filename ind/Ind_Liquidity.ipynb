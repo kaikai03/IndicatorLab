{
 "cells": [
  {
   "cell_type": "code",
   "execution_count": 19,
   "id": "13fef9e6-bc26-41bf-ba77-5fd61e748cb7",
   "metadata": {
    "execution": {
     "iopub.execute_input": "2023-09-24T15:38:23.880802Z",
     "iopub.status.busy": "2023-09-24T15:38:23.879829Z",
     "iopub.status.idle": "2023-09-24T15:38:23.912540Z",
     "shell.execute_reply": "2023-09-24T15:38:23.911729Z",
     "shell.execute_reply.started": "2023-09-24T15:38:23.880802Z"
    },
    "tags": []
   },
   "outputs": [],
   "source": [
    "# %%writefile Ind_xxxxx.py\n",
    "\n",
    "import sys\n",
    "import os \n",
    "module_path = os.path.abspath(os.path.join('..')) \n",
    "if module_path not in sys.path: \n",
    "    sys.path.append(module_path)\n",
    "    \n",
    "import numpy as np\n",
    "import pandas as pd\n",
    "\n",
    "\n",
    "import matplotlib.pyplot as plt\n",
    "import matplotlib.ticker as ticker\n",
    "\n",
    "import tools.Sample_Tools as smpl\n",
    "import tools.Pretreat_Tools as pretreat\n"
   ]
  },
  {
   "cell_type": "code",
   "execution_count": null,
   "id": "f9d3ec2a-1da2-4bbb-b7c8-11c177503293",
   "metadata": {},
   "outputs": [],
   "source": []
  },
  {
   "cell_type": "code",
   "execution_count": null,
   "id": "12b27934-7eac-4e7a-a69e-c1a3f4215f03",
   "metadata": {},
   "outputs": [],
   "source": [
    "# Amihud定义了ILLIQ度量\n",
    "# 一个粗略而实用的价格影响指标考虑了一段时间内绝对股票收益率与美元成交量的日平均比率。遵循Kyle的流动性概念，\n",
    "# ILLIQ = 1/n * sum_t(|r_t|/v_t)"
   ]
  },
  {
   "cell_type": "code",
   "execution_count": null,
   "id": "0ae21e5c-c956-4e62-9ae1-7e8fbd565226",
   "metadata": {},
   "outputs": [],
   "source": [
    "# 均衡度量\n",
    "# 基于均衡价格的测度试图捕捉向均衡价格的有序移动，主要是为了衡量弹性\n",
    "# 市场效率系数（MEC）用于衡量价格变动的连续性：\n",
    "# MEC = Var(R_t) / N*Var(r_t)\n",
    "\n",
    "# Var（Rt）是对数长周期收益的方差，Var（Rt）是对数短周期收益的方差，N是每个长周期内的短周期数。\n",
    "\n",
    "# 在更具弹性的市场中，这一比率往往接近但略低于1。低市场弹性意味着过度的短期波动，而价格四舍五入、利差和不准确的价格发现等因素将推动MEC远低于1。\n",
    "# 做市商干预和价格决定不准确后对新信息的部分调整等因素将抑制短期波动，导致MEC升至1以上。"
   ]
  },
  {
   "cell_type": "code",
   "execution_count": null,
   "id": "4559d233-faa2-4309-8027-ffc34f553ac9",
   "metadata": {},
   "outputs": [],
   "source": [
    "# 市场调整度量\n",
    "# 市场调整措施试图区分流动性引起的价格变动和一般市场状况或新信息到达等因素引起的价格变动。当新的信息可用时，即使是小的交易量也可能与大的价格变动相关联。\n",
    "\n",
    "# 在股票市场上，经常根据资本资产定价模型（CAPM）区分系统性风险和非系统性风险，CAPM也提供了一种提取市场波动的方法。\n",
    "# 系统性风险不能分散，因为它影响到所有证券。系统风险的程度称为股票的β，它是指股票的日收益率Ri与市场Rm的日收益率Ri的回归系数：\n",
    "# Ri= α + β*R_m+ui\n",
    "\n",
    "# 然后，使用回归残差ui将其方差与交易额的每日百分比变化联系起来\n",
    "\n",
    "# ui^2 = γi + γ2*ΔVi+ ei\n",
    "# 经市场调整的流动性利用资产回报率与市场回报率之间的回归残差（从而将其从系统风险中清除）来确定资产的内在流动性。\n",
    "# γ2越小，交易量对资产价格波动性的影响越小，这意味着资产是流动的。系数越低，市场的宽度就越大。\n",
    "\n",
    "# 没有一个单一的衡量标准明确地衡量紧密性、即时性、深度、广度和弹性。\n",
    "# 然而，从从业者的角度来看，基于交易难度的证券聚类是可能的，这取决于许多因素，但主要取决于波动性、盘口价差、价格、排队规模、成交量等。\n",
    "\n"
   ]
  },
  {
   "cell_type": "code",
   "execution_count": 21,
   "id": "608f8090-6a7c-4435-874d-71608d324668",
   "metadata": {
    "execution": {
     "iopub.execute_input": "2023-09-24T15:38:49.900196Z",
     "iopub.status.busy": "2023-09-24T15:38:49.899201Z",
     "iopub.status.idle": "2023-09-24T15:38:52.011852Z",
     "shell.execute_reply": "2023-09-24T15:38:52.011852Z",
     "shell.execute_reply.started": "2023-09-24T15:38:49.900196Z"
    },
    "tags": []
   },
   "outputs": [],
   "source": [
    "from tools.Cacher import (CACHE_TYPE, save_cache,load_cache_adv,load_cache)\n",
    "\n",
    "tail = True\n",
    "if tail:\n",
    "    file = 'all_tail_qfq'\n",
    "else:\n",
    "    file = 'all_train_qfq'\n",
    "    \n",
    "df_all = load_cache(file,cache_type=CACHE_TYPE.STOCK).sort_index()\n",
    "smpl.optimize_data_type(df_all)\n",
    "\n",
    "data_ = df_all\n",
    "\n",
    "year1 = '2022'\n",
    "year2 = '2022'\n",
    "data_ = df_all.loc[year1+'-01-03':year2+'-12-31']\n",
    "codes = data_.index.get_level_values(1).unique()\n",
    "dates = data_.index.get_level_values(0).unique()\n",
    "\n",
    "\n",
    "# ret = smpl.get_forward_return(data_,'close')\n",
    "# ret.name = 'ret_forward'\n",
    "# ret[np.abs(ret)>0.15]=np.nan"
   ]
  },
  {
   "cell_type": "code",
   "execution_count": 15,
   "id": "62c87558-56e2-49d3-bb9a-fe12b60a370c",
   "metadata": {
    "execution": {
     "iopub.execute_input": "2023-09-21T02:21:12.415147Z",
     "iopub.status.busy": "2023-09-21T02:21:12.415147Z",
     "iopub.status.idle": "2023-09-21T02:21:12.419172Z",
     "shell.execute_reply": "2023-09-21T02:21:12.419172Z",
     "shell.execute_reply.started": "2023-09-21T02:21:12.415147Z"
    },
    "tags": []
   },
   "outputs": [],
   "source": [
    "from base.JuUnits import excute_for_multidates\n",
    "\n",
    "# x = excute_for_multidates(data_, lambda x:x.shape[0],level='code')\n",
    "\n",
    "def excute_priod_limit(stocks_df, limit=60):\n",
    "    '''排除数据（交易天数or时间）过少的数据\n",
    "    :param stocks_df: {pd.DataFrame 或 stock_struct}\n",
    "    :param limit: {int} --数据量（天数）限制\n",
    "    :return: {pd.DataFrame} --返回原数据对象的指针，未新建对象\n",
    "    '''\n",
    "    count = excute_for_multidates(stocks_df, lambda x:x.shape[0],level='code')\n",
    "    exclude = count[x<=limit]\n",
    "    if exclude.count() == 0:\n",
    "        return stocks_df\n",
    "    excluded_codes = stocks_df.index.get_level_values('code').difference(exclude.index)\n",
    "    return stocks_df.loc[(slice(None),exclude_new),]"
   ]
  },
  {
   "cell_type": "code",
   "execution_count": 29,
   "id": "bfe7ae3e-abb0-4556-a81d-0eb96cfe4cee",
   "metadata": {
    "execution": {
     "iopub.execute_input": "2023-09-24T15:39:57.027725Z",
     "iopub.status.busy": "2023-09-24T15:39:57.027725Z",
     "iopub.status.idle": "2023-09-24T15:39:57.469724Z",
     "shell.execute_reply": "2023-09-24T15:39:57.468902Z",
     "shell.execute_reply.started": "2023-09-24T15:39:57.027725Z"
    },
    "tags": []
   },
   "outputs": [
    {
     "data": {
      "image/png": "[encoded data removed]",
      "text/plain": [
       "<Figure size 1420x62.8571 with 1 Axes>"
      ]
     },
     "metadata": {
      "needs_background": "light"
     },
     "output_type": "display_data"
    }
   ],
   "source": [
    "# x = smpl.get_current_return(data_,'close')\n",
    "\n",
    "ranks = x.groupby([x.index.get_level_values(0)]).rank()\n",
    "asset_rank = ranks.reset_index().pivot(index='date',columns='code')\n",
    "autocorr = asset_rank.corrwith(asset_rank.shift(1), axis=1)\n",
    "fig = plt.figure(figsize=(1420/72,440/72/7))\n",
    "ax = fig.gca()\n",
    "ax.set_ylim(0,1.1)\n",
    "ax.yaxis.set_major_locator(plt.MultipleLocator(0.5))\n",
    "ax.plot(autocorr.index.get_level_values(0).unique().tolist(),autocorr.values.tolist())\n",
    "ax.yaxis.grid(linestyle=\"dotted\",color=\"lightgray\")\n",
    "plt.show()"
   ]
  }
 ],
 "metadata": {
  "kernelspec": {
   "display_name": "Python 3 (ipykernel)",
   "language": "python",
   "name": "python3"
  },
  "language_info": {
   "codemirror_mode": {
    "name": "ipython",
    "version": 3
   },
   "file_extension": ".py",
   "mimetype": "text/x-python",
   "name": "python",
   "nbconvert_exporter": "python",
   "pygments_lexer": "ipython3",
   "version": "3.9.7"
  }
 },
 "nbformat": 4,
 "nbformat_minor": 5
}
