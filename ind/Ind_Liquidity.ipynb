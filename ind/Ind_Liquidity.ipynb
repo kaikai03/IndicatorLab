{
 "cells": [
  {
   "cell_type": "code",
   "execution_count": null,
   "id": "12b27934-7eac-4e7a-a69e-c1a3f4215f03",
   "metadata": {},
   "outputs": [],
   "source": [
    "# Amihud定义了ILLIQ度量\n",
    "# 一个粗略而实用的价格影响指标考虑了一段时间内绝对股票收益率与美元成交量的日平均比率。遵循Kyle的流动性概念，\n",
    "# ILLIQ = 1/n * sum_t(|r_t|/v_t)"
   ]
  },
  {
   "cell_type": "code",
   "execution_count": null,
   "id": "0ae21e5c-c956-4e62-9ae1-7e8fbd565226",
   "metadata": {},
   "outputs": [],
   "source": [
    "均衡度量\n",
    "基于均衡价格的测度试图捕捉向均衡价格的有序移动，主要是为了衡量弹性\n",
    "市场效率系数（MEC）用于衡量价格变动的连续性：\n",
    "MEC = Var(R_t) / N*Var(r_t)\n",
    "\n",
    "Var（Rt）是对数长周期收益的方差，Var（Rt）是对数短周期收益的方差，N是每个长周期内的短周期数。\n",
    "\n",
    "在更具弹性的市场中，这一比率往往接近但略低于1。低市场弹性意味着过度的短期波动，而价格四舍五入、利差和不准确的价格发现等因素将推动MEC远低于1。\n",
    "做市商干预和价格决定不准确后对新信息的部分调整等因素将抑制短期波动，导致MEC升至1以上。"
   ]
  },
  {
   "cell_type": "code",
   "execution_count": null,
   "id": "4559d233-faa2-4309-8027-ffc34f553ac9",
   "metadata": {},
   "outputs": [],
   "source": [
    "市场调整度量\n",
    "市场调整措施试图区分流动性引起的价格变动和一般市场状况或新信息到达等因素引起的价格变动。当新的信息可用时，即使是小的交易量也可能与大的价格变动相关联。\n",
    "\n",
    "在股票市场上，经常根据资本资产定价模型（CAPM）区分系统性风险和非系统性风险，CAPM也提供了一种提取市场波动的方法。\n",
    "系统性风险不能分散，因为它影响到所有证券。系统风险的程度称为股票的β，它是指股票的日收益率Ri与市场Rm的日收益率Ri的回归系数：\n",
    "Ri= α + β*R_m+ui\n",
    "\n",
    "然后，使用回归残差ui将其方差与交易额的每日百分比变化联系起来\n",
    "\n",
    "ui^2 = γi + γ2*ΔVi+ ei\n",
    "经市场调整的流动性利用资产回报率与市场回报率之间的回归残差（从而将其从系统风险中清除）来确定资产的内在流动性。\n",
    "γ2越小，交易量对资产价格波动性的影响越小，这意味着资产是流动的。系数越低，市场的宽度就越大。\n",
    "\n",
    "没有一个单一的衡量标准明确地衡量紧密性、即时性、深度、广度和弹性。\n",
    "然而，从从业者的角度来看，基于交易难度的证券聚类是可能的，这取决于许多因素，但主要取决于波动性、盘口价差、价格、排队规模、成交量等。\n",
    "\n"
   ]
  },
  {
   "cell_type": "code",
   "execution_count": 3,
   "id": "e79628e9-6e5c-4f12-a0b4-40e2b30ad4b1",
   "metadata": {
    "execution": {
     "iopub.execute_input": "2023-08-28T10:41:53.826412Z",
     "iopub.status.busy": "2023-08-28T10:41:53.826412Z",
     "iopub.status.idle": "2023-08-28T10:41:59.664072Z",
     "shell.execute_reply": "2023-08-28T10:41:59.663839Z",
     "shell.execute_reply.started": "2023-08-28T10:41:53.826412Z"
    },
    "tags": []
   },
   "outputs": [],
   "source": []
  }
 ],
 "metadata": {
  "kernelspec": {
   "display_name": "Python 3 (ipykernel)",
   "language": "python",
   "name": "python3"
  },
  "language_info": {
   "codemirror_mode": {
    "name": "ipython",
    "version": 3
   },
   "file_extension": ".py",
   "mimetype": "text/x-python",
   "name": "python",
   "nbconvert_exporter": "python",
   "pygments_lexer": "ipython3",
   "version": "3.9.7"
  }
 },
 "nbformat": 4,
 "nbformat_minor": 5
}
