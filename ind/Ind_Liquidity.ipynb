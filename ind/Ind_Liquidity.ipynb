{
 "cells": [
  {
   "cell_type": "code",
   "execution_count": 1,
   "id": "13fef9e6-bc26-41bf-ba77-5fd61e748cb7",
   "metadata": {
    "execution": {
     "iopub.execute_input": "2023-09-15T13:52:53.755952Z",
     "iopub.status.busy": "2023-09-15T13:52:53.755952Z",
     "iopub.status.idle": "2023-09-15T13:53:21.544274Z",
     "shell.execute_reply": "2023-09-15T13:53:21.544076Z",
     "shell.execute_reply.started": "2023-09-15T13:52:53.755952Z"
    },
    "tags": []
   },
   "outputs": [],
   "source": [
    "# %%writefile Ind_xxxxx.py\n",
    "\n",
    "import sys\n",
    "import os \n",
    "module_path = os.path.abspath(os.path.join('..')) \n",
    "if module_path not in sys.path: \n",
    "    sys.path.append(module_path)\n",
    "    \n",
    "import numpy as np\n",
    "import pandas as pd\n",
    "\n",
    "\n",
    "import matplotlib.pyplot as plt\n",
    "import matplotlib.ticker as ticker\n",
    "\n",
    "import tools.Sample_Tools as smpl\n",
    "import tools.Pretreat_Tools as pretreat\n"
   ]
  },
  {
   "cell_type": "code",
   "execution_count": null,
   "id": "12b27934-7eac-4e7a-a69e-c1a3f4215f03",
   "metadata": {},
   "outputs": [],
   "source": [
    "# Amihud定义了ILLIQ度量\n",
    "# 一个粗略而实用的价格影响指标考虑了一段时间内绝对股票收益率与美元成交量的日平均比率。遵循Kyle的流动性概念，\n",
    "# ILLIQ = 1/n * sum_t(|r_t|/v_t)"
   ]
  },
  {
   "cell_type": "code",
   "execution_count": null,
   "id": "0ae21e5c-c956-4e62-9ae1-7e8fbd565226",
   "metadata": {},
   "outputs": [],
   "source": [
    "# 均衡度量\n",
    "# 基于均衡价格的测度试图捕捉向均衡价格的有序移动，主要是为了衡量弹性\n",
    "# 市场效率系数（MEC）用于衡量价格变动的连续性：\n",
    "# MEC = Var(R_t) / N*Var(r_t)\n",
    "\n",
    "# Var（Rt）是对数长周期收益的方差，Var（Rt）是对数短周期收益的方差，N是每个长周期内的短周期数。\n",
    "\n",
    "# 在更具弹性的市场中，这一比率往往接近但略低于1。低市场弹性意味着过度的短期波动，而价格四舍五入、利差和不准确的价格发现等因素将推动MEC远低于1。\n",
    "# 做市商干预和价格决定不准确后对新信息的部分调整等因素将抑制短期波动，导致MEC升至1以上。"
   ]
  },
  {
   "cell_type": "code",
   "execution_count": null,
   "id": "4559d233-faa2-4309-8027-ffc34f553ac9",
   "metadata": {},
   "outputs": [],
   "source": [
    "# 市场调整度量\n",
    "# 市场调整措施试图区分流动性引起的价格变动和一般市场状况或新信息到达等因素引起的价格变动。当新的信息可用时，即使是小的交易量也可能与大的价格变动相关联。\n",
    "\n",
    "# 在股票市场上，经常根据资本资产定价模型（CAPM）区分系统性风险和非系统性风险，CAPM也提供了一种提取市场波动的方法。\n",
    "# 系统性风险不能分散，因为它影响到所有证券。系统风险的程度称为股票的β，它是指股票的日收益率Ri与市场Rm的日收益率Ri的回归系数：\n",
    "# Ri= α + β*R_m+ui\n",
    "\n",
    "# 然后，使用回归残差ui将其方差与交易额的每日百分比变化联系起来\n",
    "\n",
    "# ui^2 = γi + γ2*ΔVi+ ei\n",
    "# 经市场调整的流动性利用资产回报率与市场回报率之间的回归残差（从而将其从系统风险中清除）来确定资产的内在流动性。\n",
    "# γ2越小，交易量对资产价格波动性的影响越小，这意味着资产是流动的。系数越低，市场的宽度就越大。\n",
    "\n",
    "# 没有一个单一的衡量标准明确地衡量紧密性、即时性、深度、广度和弹性。\n",
    "# 然而，从从业者的角度来看，基于交易难度的证券聚类是可能的，这取决于许多因素，但主要取决于波动性、盘口价差、价格、排队规模、成交量等。\n",
    "\n"
   ]
  },
  {
   "cell_type": "code",
   "execution_count": 57,
   "id": "608f8090-6a7c-4435-874d-71608d324668",
   "metadata": {
    "execution": {
     "iopub.execute_input": "2023-09-15T15:16:47.403742Z",
     "iopub.status.busy": "2023-09-15T15:16:47.403742Z",
     "iopub.status.idle": "2023-09-15T15:16:48.805995Z",
     "shell.execute_reply": "2023-09-15T15:16:48.804117Z",
     "shell.execute_reply.started": "2023-09-15T15:16:47.403742Z"
    },
    "tags": []
   },
   "outputs": [],
   "source": [
    "from tools.Cacher import (CACHE_TYPE, save_cache,load_cache_adv,load_cache)\n",
    "\n",
    "tail = True\n",
    "if tail:\n",
    "    file = 'all_tail_qfq'\n",
    "else:\n",
    "    file = 'all_train_qfq'\n",
    "    \n",
    "df_all = load_cache(file,cache_type=CACHE_TYPE.STOCK).sort_index()\n",
    "smpl.optimize_data_type(df_all)\n",
    "\n",
    "data_ = df_all\n",
    "\n",
    "# year1 = '2022'\n",
    "# year2 = '2022'\n",
    "# data_ = df_all.loc[year1+'-01-03':year2+'-12-31']\n",
    "# codes = data_.index.get_level_values(1).unique()\n",
    "# dates = data_.index.get_level_values(0).unique()\n",
    "\n",
    "\n",
    "# ret = smpl.get_forward_return(data_,'close')\n",
    "# ret.name = 'ret_forward'\n",
    "# ret[np.abs(ret)>0.15]=np.nan"
   ]
  },
  {
   "cell_type": "code",
   "execution_count": 122,
   "id": "e79628e9-6e5c-4f12-a0b4-40e2b30ad4b1",
   "metadata": {
    "execution": {
     "iopub.execute_input": "2023-09-15T15:47:10.819930Z",
     "iopub.status.busy": "2023-09-15T15:47:10.819930Z",
     "iopub.status.idle": "2023-09-15T15:47:10.833854Z",
     "shell.execute_reply": "2023-09-15T15:47:10.833854Z",
     "shell.execute_reply.started": "2023-09-15T15:47:10.819930Z"
    },
    "tags": []
   },
   "outputs": [],
   "source": [
    "def get_future_period_return(stocks_df,column,forward_window,method='sum'):\n",
    "    '''计算未来一定区间的（总）回报率\n",
    "    :param stocks_df: {pd.DataFrame 或 stock_struct}\n",
    "    :param column: {string}\n",
    "    :param forward_window: {int} --前望窗口长度\n",
    "    :param method: {str in ['mean', 'sum', 'std', 'median', 'skew', 'kurt', 'min', 'max']} --计算方法，\n",
    "    :return: {pd.Series}\n",
    "    '''\n",
    "    assert method in ['mean', 'sum', 'std', 'median', 'skew', 'kurt', 'min', 'max'], \"method MUST Be one of ['mean', 'sum', 'std', 'median', 'skew', 'kurt', 'min', 'max']}\"\n",
    "    def calc(x):\n",
    "        ret = (x/x.shift(1)-1).shift(-1)\n",
    "        if method in ['sum']:\n",
    "            ret = np.log(ret+1)\n",
    "            \n",
    "        ret = ret[::-1].rolling(forward_window).agg(method)[::-1]\n",
    "        \n",
    "        if method in ['sum']:\n",
    "            ret = np.exp(ret)-1\n",
    "        \n",
    "        return ret\n",
    "        \n",
    "    ret = stocks_df[column].groupby(level=1, group_keys=False).apply(calc)\n",
    "    ret.name = 'ret_forward'\n",
    "    return ret"
   ]
  },
  {
   "cell_type": "code",
   "execution_count": 84,
   "id": "a5ac878a-17d7-440b-b140-2a74e1d679c7",
   "metadata": {
    "execution": {
     "iopub.execute_input": "2023-09-15T15:29:05.226504Z",
     "iopub.status.busy": "2023-09-15T15:29:05.226504Z",
     "iopub.status.idle": "2023-09-15T15:29:05.252705Z",
     "shell.execute_reply": "2023-09-15T15:29:05.252433Z",
     "shell.execute_reply.started": "2023-09-15T15:29:05.226504Z"
    },
    "tags": []
   },
   "outputs": [
    {
     "data": {
      "text/plain": [
       "date        code  \n",
       "2021-01-04  000001   -0.023118\n",
       "2021-01-05  000001    0.076500\n",
       "2021-01-06  000001    0.017382\n",
       "2021-01-07  000001   -0.002513\n",
       "2021-01-08  000001    0.026700\n",
       "2021-01-11  000001    0.030422\n",
       "2021-01-12  000001   -0.014286\n",
       "2021-01-13  000001   -0.025604\n",
       "2021-01-14  000001    0.041150\n",
       "2021-01-15  000001    0.080952\n",
       "2021-01-18  000001   -0.015859\n",
       "2021-01-19  000001    0.005819\n",
       "2021-01-20  000001   -0.010681\n",
       "2021-01-21  000001   -0.008997\n",
       "2021-01-22  000001    0.020881\n",
       "2021-01-25  000001   -0.005336\n",
       "2021-01-26  000001    0.031739\n",
       "2021-01-27  000001   -0.011698\n",
       "2021-01-28  000001    0.012275\n",
       "2021-01-29  000001    0.063231\n",
       "2021-02-01  000001   -0.051731\n",
       "2021-02-02  000001    0.071736\n",
       "2021-02-03  000001   -0.014028\n",
       "2021-02-04  000001         NaN\n",
       "Name: close, dtype: float32"
      ]
     },
     "execution_count": 84,
     "metadata": {},
     "output_type": "execute_result"
    }
   ],
   "source": [
    "test=data_.loc[(slice('2021-01-04','2021-02-04'),'000001'),]\n",
    "\n",
    "(test['close']/test['close'].shift(1)-1).shift(-1)"
   ]
  },
  {
   "cell_type": "code",
   "execution_count": 119,
   "id": "895d7cef-e31a-47b6-b768-77a7e383fad7",
   "metadata": {
    "execution": {
     "iopub.execute_input": "2023-09-15T15:44:56.879131Z",
     "iopub.status.busy": "2023-09-15T15:44:56.879131Z",
     "iopub.status.idle": "2023-09-15T15:44:56.903066Z",
     "shell.execute_reply": "2023-09-15T15:44:56.902068Z",
     "shell.execute_reply.started": "2023-09-15T15:44:56.879131Z"
    },
    "tags": []
   },
   "outputs": [
    {
     "data": {
      "text/plain": [
       "date        code  \n",
       "2021-01-04  000001    0.067204\n",
       "2021-01-05  000001    0.121629\n",
       "2021-01-06  000001    0.073620\n",
       "2021-01-07  000001    0.040201\n",
       "2021-01-08  000001    0.016121\n",
       "2021-01-11  000001    0.030422\n",
       "2021-01-12  000001    0.080952\n",
       "2021-01-13  000001    0.079227\n",
       "2021-01-14  000001    0.114031\n",
       "2021-01-15  000001    0.058571\n",
       "2021-01-18  000001   -0.029515\n",
       "2021-01-19  000001    0.006715\n",
       "2021-01-20  000001   -0.004450\n",
       "2021-01-21  000001    0.038237\n",
       "2021-01-22  000001    0.035406\n",
       "2021-01-25  000001    0.026678\n",
       "2021-01-26  000001    0.097452\n",
       "2021-01-27  000001    0.008665\n",
       "2021-01-28  000001    0.093819\n",
       "2021-01-29  000001    0.065396\n",
       "2021-02-01  000001         NaN\n",
       "2021-02-02  000001         NaN\n",
       "2021-02-03  000001         NaN\n",
       "2021-02-04  000001         NaN\n",
       "Name: ret_forward, dtype: float64"
      ]
     },
     "execution_count": 119,
     "metadata": {},
     "output_type": "execute_result"
    }
   ],
   "source": [
    "get_future_period_return(test,'close',4,method='sum')"
   ]
  },
  {
   "cell_type": "code",
   "execution_count": 121,
   "id": "4fd74cde-b8ad-4a1e-8fb1-4a0b13bf90e6",
   "metadata": {
    "execution": {
     "iopub.execute_input": "2023-09-15T15:45:09.318353Z",
     "iopub.status.busy": "2023-09-15T15:45:09.318353Z",
     "iopub.status.idle": "2023-09-15T15:45:09.330601Z",
     "shell.execute_reply": "2023-09-15T15:45:09.330310Z",
     "shell.execute_reply.started": "2023-09-15T15:45:09.318353Z"
    },
    "tags": []
   },
   "outputs": [
    {
     "data": {
      "text/plain": [
       "date        code  \n",
       "2021-01-04  000001    0.068251\n",
       "2021-01-05  000001    0.118070\n",
       "2021-01-06  000001    0.071992\n",
       "2021-01-07  000001    0.040324\n",
       "2021-01-08  000001    0.017233\n",
       "2021-01-11  000001    0.031683\n",
       "2021-01-12  000001    0.082213\n",
       "2021-01-13  000001    0.080640\n",
       "2021-01-14  000001    0.112063\n",
       "2021-01-15  000001    0.060232\n",
       "2021-01-18  000001   -0.029718\n",
       "2021-01-19  000001    0.007022\n",
       "2021-01-20  000001   -0.004133\n",
       "2021-01-21  000001    0.038287\n",
       "2021-01-22  000001    0.035586\n",
       "2021-01-25  000001    0.026980\n",
       "2021-01-26  000001    0.095547\n",
       "2021-01-27  000001    0.012076\n",
       "2021-01-28  000001    0.095510\n",
       "2021-01-29  000001    0.069207\n",
       "2021-02-01  000001         NaN\n",
       "2021-02-02  000001         NaN\n",
       "2021-02-03  000001         NaN\n",
       "2021-02-04  000001         NaN\n",
       "Name: ret_forward, dtype: float64"
      ]
     },
     "execution_count": 121,
     "metadata": {},
     "output_type": "execute_result"
    }
   ],
   "source": [
    "get_future_period_return(test,'close',4,method='sum')"
   ]
  },
  {
   "cell_type": "code",
   "execution_count": 114,
   "id": "2d70218a-6f89-4279-9bde-239165417b1f",
   "metadata": {
    "execution": {
     "iopub.execute_input": "2023-09-15T15:42:08.747101Z",
     "iopub.status.busy": "2023-09-15T15:42:08.747101Z",
     "iopub.status.idle": "2023-09-15T15:42:08.755079Z",
     "shell.execute_reply": "2023-09-15T15:42:08.755079Z",
     "shell.execute_reply.started": "2023-09-15T15:42:08.747101Z"
    },
    "tags": []
   },
   "outputs": [
    {
     "name": "stdout",
     "output_type": "stream",
     "text": [
      "0.020000000000000004\n",
      "0.01649999999999996\n"
     ]
    }
   ],
   "source": [
    "a = -0.05\n",
    "b = 0.07\n",
    "print(a+b)\n",
    "print(np.exp(np.log(a+1) + np.log(b+1))-1)"
   ]
  },
  {
   "cell_type": "code",
   "execution_count": 102,
   "id": "f7848591-0c43-4b73-b770-df5fd18c92b9",
   "metadata": {
    "execution": {
     "iopub.execute_input": "2023-09-15T15:37:01.582782Z",
     "iopub.status.busy": "2023-09-15T15:37:01.582782Z",
     "iopub.status.idle": "2023-09-15T15:37:01.591112Z",
     "shell.execute_reply": "2023-09-15T15:37:01.590726Z",
     "shell.execute_reply.started": "2023-09-15T15:37:01.582782Z"
    },
    "tags": []
   },
   "outputs": [
    {
     "data": {
      "text/plain": [
       "2499.9999999999995"
      ]
     },
     "execution_count": 105,
     "metadata": {},
     "output_type": "execute_result"
    }
   ],
   "source": [
    "np.exp(np.log(a))"
   ]
  }
 ],
 "metadata": {
  "kernelspec": {
   "display_name": "Python 3 (ipykernel)",
   "language": "python",
   "name": "python3"
  },
  "language_info": {
   "codemirror_mode": {
    "name": "ipython",
    "version": 3
   },
   "file_extension": ".py",
   "mimetype": "text/x-python",
   "name": "python",
   "nbconvert_exporter": "python",
   "pygments_lexer": "ipython3",
   "version": "3.9.7"
  }
 },
 "nbformat": 4,
 "nbformat_minor": 5
}
