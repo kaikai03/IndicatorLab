{
 "cells": [
  {
   "cell_type": "code",
   "execution_count": 1,
   "id": "511116c7-b8eb-469f-9050-4d1594a5fdf7",
   "metadata": {
    "execution": {
     "iopub.execute_input": "2023-10-16T02:54:03.358560Z",
     "iopub.status.busy": "2023-10-16T02:54:03.357562Z",
     "iopub.status.idle": "2023-10-16T02:54:06.667909Z",
     "shell.execute_reply": "2023-10-16T02:54:06.667909Z",
     "shell.execute_reply.started": "2023-10-16T02:54:03.358560Z"
    },
    "tags": []
   },
   "outputs": [
    {
     "name": "stderr",
     "output_type": "stream",
     "text": [
      "E:\\PyProjects\\IndicatorLab\\EAST\\Crawler_Block_East.py:41: TqdmExperimentalWarning: Using `tqdm.autonotebook.tqdm` in notebook mode. Use `tqdm.tqdm` instead to force console mode (e.g. in jupyter console)\n",
      "  from tqdm.autonotebook import trange, tqdm\n"
     ]
    }
   ],
   "source": [
    "# %%writefile Ind_xxxxx.py\n",
    "\n",
    "import sys\n",
    "import os \n",
    "module_path = os.path.abspath(os.path.join('..')) \n",
    "if module_path not in sys.path: \n",
    "    sys.path.append(module_path)\n",
    "\n",
    "import numpy as np\n",
    "import pandas as pd\n",
    "\n",
    "\n",
    "import matplotlib.pyplot as plt\n",
    "import matplotlib.ticker as ticker\n",
    "import QUANTAXIS as QA\n",
    "\n",
    "import tools.Sample_Tools as smpl\n",
    "import tools.Pretreat_Tools as pretreat\n",
    "\n",
    "import EAST.Fetcher_EM as east\n",
    "\n",
    "from base.JuUnits import excute_for_multidates"
   ]
  },
  {
   "cell_type": "code",
   "execution_count": 2,
   "id": "630528e4-8779-41b9-b0f6-7317f116463b",
   "metadata": {
    "execution": {
     "iopub.execute_input": "2023-10-16T02:54:06.669903Z",
     "iopub.status.busy": "2023-10-16T02:54:06.668906Z",
     "iopub.status.idle": "2023-10-16T02:54:08.519128Z",
     "shell.execute_reply": "2023-10-16T02:54:08.518587Z",
     "shell.execute_reply.started": "2023-10-16T02:54:06.669903Z"
    },
    "tags": []
   },
   "outputs": [],
   "source": [
    "from tools.Cacher import (CACHE_TYPE, save_cache,load_cache_adv,load_cache)\n",
    "\n",
    "tail = False\n",
    "if tail:\n",
    "    file = 'all_tail_qfq'\n",
    "else:\n",
    "    file = 'all_train_qfq'\n",
    "    \n",
    "df_all = load_cache(file,cache_type=CACHE_TYPE.STOCK).sort_index()\n",
    "smpl.optimize_data_type(df_all)\n",
    "\n",
    "data_ = df_all\n",
    "\n",
    "year1 = '2016'\n",
    "year2 = '2020'\n",
    "data_ = df_all.loc[year1+'-01-03':year2+'-12-31']\n",
    "codes = data_.index.get_level_values(1).unique()\n",
    "dates = data_.index.get_level_values(0).unique()"
   ]
  },
  {
   "cell_type": "code",
   "execution_count": 139,
   "id": "978ad46b-644f-44e3-97e2-cb75125102df",
   "metadata": {
    "execution": {
     "iopub.execute_input": "2023-10-16T02:43:34.145003Z",
     "iopub.status.busy": "2023-10-16T02:43:34.145003Z",
     "iopub.status.idle": "2023-10-16T02:43:34.374908Z",
     "shell.execute_reply": "2023-10-16T02:43:34.374676Z",
     "shell.execute_reply.started": "2023-10-16T02:43:34.145003Z"
    },
    "tags": []
   },
   "outputs": [],
   "source": [
    "# df_all1 = load_cache('all_train_qfq',cache_type=CACHE_TYPE.STOCK).sort_index()\n",
    "# df_all2 = load_cache('all_tail_qfq',cache_type=CACHE_TYPE.STOCK).sort_index()\n",
    "# df_all = pd.concat([df_all1,df_all2],axis=0).sort_index()\n",
    "\n",
    "data_ = df_all\n",
    "\n",
    "year1 = '2016'\n",
    "year2 = '2022'\n",
    "data_ = df_all.loc[year1+'-01-03':year2+'-12-31']\n",
    "codes = data_.index.get_level_values(1).unique()\n",
    "dates = data_.index.get_level_values(0).unique()"
   ]
  },
  {
   "cell_type": "code",
   "execution_count": 140,
   "id": "6d673539-481e-437f-b1bf-ca039e18ef08",
   "metadata": {
    "execution": {
     "iopub.execute_input": "2023-10-16T02:43:34.376904Z",
     "iopub.status.busy": "2023-10-16T02:43:34.375912Z",
     "iopub.status.idle": "2023-10-16T02:43:37.383179Z",
     "shell.execute_reply": "2023-10-16T02:43:37.383179Z",
     "shell.execute_reply.started": "2023-10-16T02:43:34.376904Z"
    },
    "tags": []
   },
   "outputs": [],
   "source": [
    "# 个股情绪\n",
    "\n",
    "# turnover = data_['volume'] / (data_['lshares'] *100) \n",
    "\n",
    "# turnover_mean_month = excute_for_multidates(turnover, lambda x:x.rolling(22).mean(), level='code')\n",
    "# turnover_mean_week = excute_for_multidates(turnover, lambda x:x.rolling(5).mean(), level='code')\n",
    "# turnover_unknown = turnover_mean_week/turnover_mean_month\n",
    "\n",
    "# overnight_ret = excute_for_multidates(data_, lambda x:(x['open']/x['close'].shift(1))-1, level='code')\n",
    "# turnover_rate = excute_for_multidates(turnover, lambda x: x-x.shift(1), level='code')\n",
    "# # 指令不平衡(净流入额/总成交额)  代理达成一致意见所需时间\n",
    "# buy_sell_belance = intraday_df_tmp['bs_balance']\n",
    "\n",
    "# ret = smpl.get_current_return(data_, 'close')\n",
    "# ret_std5 = excute_for_multidates(ret, lambda x:x.rolling(5).std(), level='code')\n",
    "\n",
    "def calc_rs(x):\n",
    "    down = (x<0).sum()\n",
    "    if down==0:\n",
    "        rs = float(x.shape[0])\n",
    "    else:\n",
    "        up = (x>0).sum()\n",
    "        rs = up/down\n",
    "    rsi=100-100/(1+rs)\n",
    "    return rsi\n",
    "    \n",
    "# *投资者达成一致意见所需时间 = (最高价 - 开盘价) / (收盘价 - 开盘价)\n",
    "# *相对强弱指标（RSI）：计算公式：RSI=100-100/(1+RS)\n",
    "   # 相对强度(RS)=一定时期收盘指数涨数的平均值/一定时期收盘指数跌数的平均值，主要和价格的收盘平均值有关，可以表现股价的运动速率。\n",
    "\n",
    "# RSI_6 = excute_for_multidates(ret, lambda x:x.rolling(6).apply(lambda xx:calc_rs(xx)), level='code')\n",
    "# RSI_12 = excute_for_multidates(ret, lambda x:x.rolling(12).apply(lambda xx:calc_rs(xx)), level='code')\n",
    "# RSI_CD = RS_6-RS_12\n",
    "\n",
    "# *随机指标（KD）\n",
    "# C为当天的收；\n",
    "# UP:=HHV(H,20);\n",
    "# DN:=LLV(L,20);\n",
    "# RSV:=(C-DN)/(UP-DN)*100;\n",
    "# K:SMA(RSV,3,1);\n",
    "# D:SMA(K,3,1);\n",
    "\n",
    "def calc_kd(df):\n",
    "    up = df.high.rolling(20).max()\n",
    "    dn = df.low.rolling(20).min()\n",
    "    c = df.close\n",
    "    rsv = (c-dn)/(up-dn) * 100\n",
    "    return rsv\n",
    "    \n",
    "KD = excute_for_multidates(data_, lambda xs:calc_kd(xs), level='code')\n",
    "\n",
    "\n",
    "\n",
    "# volume\n",
    "\n",
    "\n",
    "\n"
   ]
  },
  {
   "cell_type": "code",
   "execution_count": 141,
   "id": "51485d73-1408-44cd-b5a4-6497f21d1ccc",
   "metadata": {
    "execution": {
     "iopub.execute_input": "2023-10-16T02:43:37.384226Z",
     "iopub.status.busy": "2023-10-16T02:43:37.384226Z",
     "iopub.status.idle": "2023-10-16T02:43:37.399186Z",
     "shell.execute_reply": "2023-10-16T02:43:37.399186Z",
     "shell.execute_reply.started": "2023-10-16T02:43:37.384226Z"
    },
    "tags": []
   },
   "outputs": [],
   "source": [
    "# KD[20:60]"
   ]
  },
  {
   "cell_type": "code",
   "execution_count": 142,
   "id": "690503a7-e798-4848-82f7-48810c6baaf9",
   "metadata": {
    "execution": {
     "iopub.execute_input": "2023-10-16T02:43:37.401181Z",
     "iopub.status.busy": "2023-10-16T02:43:37.400182Z",
     "iopub.status.idle": "2023-10-16T02:43:37.415199Z",
     "shell.execute_reply": "2023-10-16T02:43:37.415199Z",
     "shell.execute_reply.started": "2023-10-16T02:43:37.400182Z"
    },
    "tags": []
   },
   "outputs": [],
   "source": [
    "# RSI_CD[24200:24260]"
   ]
  },
  {
   "cell_type": "code",
   "execution_count": 143,
   "id": "66cf3f61-2423-4904-9b09-65db1a9fc9d0",
   "metadata": {
    "execution": {
     "iopub.execute_input": "2023-10-16T02:43:37.416140Z",
     "iopub.status.busy": "2023-10-16T02:43:37.416140Z",
     "iopub.status.idle": "2023-10-16T02:43:37.447058Z",
     "shell.execute_reply": "2023-10-16T02:43:37.446169Z",
     "shell.execute_reply.started": "2023-10-16T02:43:37.416140Z"
    },
    "tags": []
   },
   "outputs": [
    {
     "ename": "NameError",
     "evalue": "name 'ret' is not defined",
     "output_type": "error",
     "traceback": [
      "\u001b[1;31m---------------------------------------------------------------------------\u001b[0m",
      "\u001b[1;31mNameError\u001b[0m                                 Traceback (most recent call last)",
      "\u001b[1;32m~\\AppData\\Local\\Temp/ipykernel_6788/2437903217.py\u001b[0m in \u001b[0;36m<module>\u001b[1;34m\u001b[0m\n\u001b[0;32m      7\u001b[0m         \u001b[1;32mreturn\u001b[0m \u001b[0mup\u001b[0m\u001b[1;33m/\u001b[0m\u001b[0mdown\u001b[0m\u001b[1;33m\u001b[0m\u001b[1;33m\u001b[0m\u001b[0m\n\u001b[0;32m      8\u001b[0m \u001b[1;33m\u001b[0m\u001b[0m\n\u001b[1;32m----> 9\u001b[1;33m \u001b[0mexcute_for_multidates\u001b[0m\u001b[1;33m(\u001b[0m\u001b[0mret\u001b[0m\u001b[1;33m.\u001b[0m\u001b[0mloc\u001b[0m\u001b[1;33m[\u001b[0m\u001b[1;33m(\u001b[0m\u001b[0mslice\u001b[0m\u001b[1;33m(\u001b[0m\u001b[1;32mNone\u001b[0m\u001b[1;33m)\u001b[0m\u001b[1;33m,\u001b[0m\u001b[1;34m'000002'\u001b[0m\u001b[1;33m)\u001b[0m\u001b[1;33m,\u001b[0m\u001b[1;33m]\u001b[0m\u001b[1;33m,\u001b[0m \u001b[1;32mlambda\u001b[0m \u001b[0mx\u001b[0m\u001b[1;33m:\u001b[0m\u001b[0mx\u001b[0m\u001b[1;33m.\u001b[0m\u001b[0mrolling\u001b[0m\u001b[1;33m(\u001b[0m\u001b[1;36m12\u001b[0m\u001b[1;33m)\u001b[0m\u001b[1;33m.\u001b[0m\u001b[0mapply\u001b[0m\u001b[1;33m(\u001b[0m\u001b[1;32mlambda\u001b[0m \u001b[0mxx\u001b[0m\u001b[1;33m:\u001b[0m\u001b[0mcalc_rs\u001b[0m\u001b[1;33m(\u001b[0m\u001b[0mxx\u001b[0m\u001b[1;33m)\u001b[0m\u001b[1;33m)\u001b[0m\u001b[1;33m,\u001b[0m \u001b[0mlevel\u001b[0m\u001b[1;33m=\u001b[0m\u001b[1;34m'code'\u001b[0m\u001b[1;33m)\u001b[0m\u001b[1;33m\u001b[0m\u001b[1;33m\u001b[0m\u001b[0m\n\u001b[0m",
      "\u001b[1;31mNameError\u001b[0m: name 'ret' is not defined"
     ]
    }
   ],
   "source": [
    "def calc_rs(x):\n",
    "    down = (x<0).sum()\n",
    "    if down==0:\n",
    "        return float(x.shape[0])\n",
    "    else:\n",
    "        up = (x>0).sum()\n",
    "        return up/down\n",
    "    \n",
    "excute_for_multidates(ret.loc[(slice(None),'000002'),], lambda x:x.rolling(12).apply(lambda xx:calc_rs(xx)), level='code')"
   ]
  },
  {
   "cell_type": "code",
   "execution_count": null,
   "id": "ab84ccf8-3761-465d-b4b6-6d1838c4c4ac",
   "metadata": {
    "execution": {
     "iopub.status.busy": "2023-10-16T02:43:37.448055Z",
     "iopub.status.idle": "2023-10-16T02:43:37.448055Z",
     "shell.execute_reply": "2023-10-16T02:43:37.448055Z",
     "shell.execute_reply.started": "2023-10-16T02:43:37.448055Z"
    },
    "tags": []
   },
   "outputs": [],
   "source": [
    "def get_intraday_indicator_by_code(code,st='2016-03-01',en='2020-12-31',fr=QA.FREQUENCE.FIVE_MIN):\n",
    "    def calc(varaints_daily):\n",
    "        close = varaints_daily.close\n",
    "        ret = (close/close.shift(1) - 1)#.dropna()\n",
    "        #######指令平衡###########################\n",
    "        #已实现方差 RealizedVolatility\n",
    "        net_mf_amount = varaints_daily.amount[ret > 0].sum()\n",
    "        neg_amount = varaints_daily.amount[ret < 0].sum()\n",
    "        amount = neg_amount+net_mf_amount\n",
    "        if amount == 0:\n",
    "            bs_balance = 0\n",
    "        else:\n",
    "            bs_balance = (net_mf_amount/amount)-0.5\n",
    "        ##########################################\n",
    "        \n",
    "        \n",
    "        # print()\n",
    "        return bs_balance\n",
    "\n",
    "    stock_df = smpl.get_data(code, start=st, end=en, gap=None, freq=fr)\n",
    "    if stock_df is None:\n",
    "        return None\n",
    "    stock_df = stock_df.data\n",
    "    columns = ['close','volume','amount']\n",
    "    var = stock_df[columns]\n",
    "    var_unindex = var.reset_index()\n",
    "\n",
    "    res = var_unindex[columns].groupby(var_unindex.datetime.dt.to_period(\"D\"),group_keys=False).apply(lambda x: calc(x))\n",
    "    res_df = pd.DataFrame(res.to_list(),\n",
    "                          index=pd.MultiIndex.from_arrays([res.index.to_timestamp(),[code]*len(res.index)]),\n",
    "                          columns=['bs_balance'])\n",
    "    \n",
    "    return res_df\n",
    "\n",
    "intraday_df_tmp = pd.DataFrame()\n",
    "for code in ['002415']:\n",
    "    res = get_intraday_indicator_by_code(code,dates.min().strftime('%Y-%m-%d'),dates.max().strftime('%Y-%m-%d'))\n",
    "    if res is None:\n",
    "        continue\n",
    "    intraday_df_tmp = pd.concat([intraday_df_tmp,res],axis=0)"
   ]
  },
  {
   "cell_type": "code",
   "execution_count": null,
   "id": "8d9c3cf0-b052-4b78-a320-7fc031fe554d",
   "metadata": {
    "execution": {
     "iopub.status.busy": "2023-10-16T02:43:37.449051Z",
     "iopub.status.idle": "2023-10-16T02:43:37.449051Z",
     "shell.execute_reply": "2023-10-16T02:43:37.449051Z",
     "shell.execute_reply.started": "2023-10-16T02:43:37.449051Z"
    },
    "tags": []
   },
   "outputs": [],
   "source": [
    "# a = smpl.get_index_data(['880810','880811'], start=dates.min(), end=dates.max(), gap=None).data\n",
    "# a = turnover_unknown.loc[(slice(None),'000001')]\n",
    "a = KD.loc[(slice(None),'000002'),]\n",
    "d = a.index.get_level_values(0).unique()\n",
    "# bench = smpl.get_benchmark(name='沪深300', start=d.min(), end=d.max()).data\n",
    "bench = data_.loc[(slice(None),'000002'),]"
   ]
  },
  {
   "cell_type": "code",
   "execution_count": null,
   "id": "d4869806-7bf5-4fe9-ad38-465e0862f37a",
   "metadata": {
    "execution": {
     "iopub.status.busy": "2023-10-16T02:43:37.450066Z",
     "iopub.status.idle": "2023-10-16T02:43:37.450066Z",
     "shell.execute_reply": "2023-10-16T02:43:37.450066Z",
     "shell.execute_reply.started": "2023-10-16T02:43:37.450066Z"
    },
    "tags": []
   },
   "outputs": [],
   "source": [
    "fig = plt.figure(figsize=(1420/72,320/72))\n",
    "# a['close'].groupby(level=1).apply(lambda x:x.plot())\n",
    "a.plot()\n",
    "# ax2 = plt.gca()\n",
    "# ax2.plot(range(bench.shape[0]),(0.5*a['close'].loc[(slice(None),'880876')].values+0.5*a['close'].loc[(slice(None),'880877')]).values,linewidth=2,color=\"red\")\n",
    "\n",
    "\n",
    "\n",
    "ax3 = plt.gca().twinx()\n",
    "ax3.plot(range(bench.shape[0]),bench['close'].values,linestyle=\":\", linewidth=2,color=\"black\",label='bm')\n",
    "# ax3.plot(bench.index.get_level_values(0).values,bench['close'].values,linestyle=\":\", linewidth=2,color=\"black\",label='bm')\n"
   ]
  },
  {
   "cell_type": "code",
   "execution_count": null,
   "id": "b03dfcc8-e9c9-47e4-8432-b9b2b0f448ed",
   "metadata": {
    "execution": {
     "iopub.status.busy": "2023-10-16T02:43:37.451047Z",
     "iopub.status.idle": "2023-10-16T02:43:37.451047Z",
     "shell.execute_reply": "2023-10-16T02:43:37.451047Z",
     "shell.execute_reply.started": "2023-10-16T02:43:37.451047Z"
    },
    "tags": []
   },
   "outputs": [],
   "source": [
    "data_"
   ]
  },
  {
   "cell_type": "code",
   "execution_count": null,
   "id": "7c46f207-4da9-402e-ac44-486f45b696e2",
   "metadata": {
    "execution": {
     "iopub.status.busy": "2023-10-16T02:43:37.452045Z",
     "iopub.status.idle": "2023-10-16T02:43:37.452045Z",
     "shell.execute_reply": "2023-10-16T02:43:37.452045Z",
     "shell.execute_reply.started": "2023-10-16T02:43:37.452045Z"
    },
    "tags": []
   },
   "outputs": [],
   "source": [
    "a.corr(bench['close'])"
   ]
  },
  {
   "cell_type": "code",
   "execution_count": null,
   "id": "dce27f6f-95eb-4438-8876-c3788ef32a5e",
   "metadata": {
    "execution": {
     "iopub.status.busy": "2023-10-16T02:43:37.453042Z",
     "iopub.status.idle": "2023-10-16T02:43:37.453042Z",
     "shell.execute_reply": "2023-10-16T02:43:37.453042Z",
     "shell.execute_reply.started": "2023-10-16T02:43:37.453042Z"
    },
    "tags": []
   },
   "outputs": [],
   "source": [
    "(a['close'].loc[(slice(None),'880811')]).corr(bench['close'])"
   ]
  },
  {
   "cell_type": "code",
   "execution_count": null,
   "id": "79077384-dcc2-47ec-8dad-977efa2a9e9e",
   "metadata": {
    "execution": {
     "iopub.status.busy": "2023-10-16T02:43:37.454041Z",
     "iopub.status.idle": "2023-10-16T02:43:37.454041Z",
     "shell.execute_reply": "2023-10-16T02:43:37.454041Z",
     "shell.execute_reply.started": "2023-10-16T02:43:37.454041Z"
    },
    "tags": []
   },
   "outputs": [],
   "source": [
    "(a['close'].loc[(slice(None),'880008')]).corr(a['close'].loc[(slice(None),'880018')])"
   ]
  },
  {
   "cell_type": "code",
   "execution_count": null,
   "id": "3a02d056-9f72-4a48-8f84-5ab97a66e7c3",
   "metadata": {
    "execution": {
     "iopub.status.busy": "2023-10-16T02:43:37.455037Z",
     "iopub.status.idle": "2023-10-16T02:43:37.455037Z",
     "shell.execute_reply": "2023-10-16T02:43:37.455037Z",
     "shell.execute_reply.started": "2023-10-16T02:43:37.455037Z"
    },
    "tags": []
   },
   "outputs": [],
   "source": [
    "a"
   ]
  },
  {
   "cell_type": "code",
   "execution_count": null,
   "id": "d3f9c76e-72cf-473f-98de-40718111dfa8",
   "metadata": {
    "execution": {
     "iopub.status.busy": "2023-10-16T02:43:37.456033Z",
     "iopub.status.idle": "2023-10-16T02:43:37.457032Z",
     "shell.execute_reply": "2023-10-16T02:43:37.456033Z",
     "shell.execute_reply.started": "2023-10-16T02:43:37.456033Z"
    },
    "tags": []
   },
   "outputs": [],
   "source": [
    "a['close'].loc[(slice(None),'880780')]"
   ]
  },
  {
   "cell_type": "code",
   "execution_count": null,
   "id": "af8a8942-e16e-4808-836b-b037750cfc52",
   "metadata": {
    "execution": {
     "iopub.status.busy": "2023-10-16T02:43:37.457032Z",
     "iopub.status.idle": "2023-10-16T02:43:37.457032Z",
     "shell.execute_reply": "2023-10-16T02:43:37.457032Z",
     "shell.execute_reply.started": "2023-10-16T02:43:37.457032Z"
    }
   },
   "outputs": [],
   "source": [
    "# 市场情绪\n",
    "# n=east.fetch_north_deal_day(direct='north_', start=dates.min(), end=dates.max()).data\n",
    "# s=east.fetch_north_deal_day(direct='south_', start=dates.min(), end=dates.max()).data\n",
    "#~ 880780 融资增加 2019开始\n",
    "#~ 880792 基金增仓 2020\n",
    "#~ 880793 基金减仓 2020\n",
    "#~ 880751 昨日跌停# 880863  昨日涨停 # 880876 户数增加 # 880877 户数减少\n",
    "#~ 880752 昨曾跌停# 880874  昨曾涨停\n",
    "#~ 880008 全Ａ等权\n",
    "#~ 880018 主板等权\n",
    "\n",
    "\n",
    "# 880990 TDX 金融 \n",
    "# 880005 涨跌家数 收=涨数，开=跌数\n",
    "# 880006 停板家数 收=涨停数，开=跌停数，高=最大涨停数\n",
    "\n",
    "# 4.简易市场情绪\n",
    "# 每日涨停/跌停数"
   ]
  },
  {
   "cell_type": "code",
   "execution_count": null,
   "id": "4116cfa5-6dc8-412b-a545-dc2b05640480",
   "metadata": {
    "execution": {
     "iopub.status.busy": "2023-10-16T02:43:37.458029Z",
     "iopub.status.idle": "2023-10-16T02:43:37.459026Z",
     "shell.execute_reply": "2023-10-16T02:43:37.459026Z",
     "shell.execute_reply.started": "2023-10-16T02:43:37.459026Z"
    },
    "tags": []
   },
   "outputs": [],
   "source": [
    "a = smpl.get_index_data(['880810','880811'], start=dates.min(), end=dates.max(), gap=None).data\n",
    "d = a.index.get_level_values(0).unique()\n",
    "bench = smpl.get_benchmark(name='沪深300', start=d.min(), end=d.max()).data\n",
    "\n",
    "fig = plt.figure(figsize=(1420/72,320/72))\n",
    "a['close'].groupby(level=1).apply(lambda x:x.plot())\n",
    "\n",
    "\n",
    "ax3 = plt.gca().twinx()\n",
    "ax3.plot(range(bench.shape[0]),bench['close'].values,linestyle=\":\", linewidth=2,color=\"black\",label='bm')\n",
    "# ax3.plot(bench.index.get_level_values(0).values,bench['close'].values,linestyle=\":\", linewidth=2,color=\"black\",label='bm')\n"
   ]
  },
  {
   "cell_type": "code",
   "execution_count": 3,
   "id": "e651c757-ed59-4f61-8fea-0754ba0383c0",
   "metadata": {
    "execution": {
     "iopub.execute_input": "2023-10-16T02:54:17.737226Z",
     "iopub.status.busy": "2023-10-16T02:54:17.737226Z",
     "iopub.status.idle": "2023-10-16T02:54:17.756262Z",
     "shell.execute_reply": "2023-10-16T02:54:17.756262Z",
     "shell.execute_reply.started": "2023-10-16T02:54:17.737226Z"
    },
    "tags": []
   },
   "outputs": [],
   "source": [
    "c = data_.loc[(slice(None),'000001'),]\n",
    "c_ret = smpl.get_current_return(c,'close').dropna()\n",
    "c_ret_x = c_ret.shift(1).dropna().values\n",
    "c_ret_y = c_ret[1:].values\n",
    "c_ret_x = c_ret.shift(1).dropna().values.reshape(-1,1)\n",
    "c_ret_y = c_ret[1:].values.reshape(-1,1)\n",
    "\n",
    "# x_train,x_test, y_train, y_test =train_test_split(c_ret_x,c_ret_y,test_size=.1, shuffle=False)"
   ]
  },
  {
   "cell_type": "code",
   "execution_count": 153,
   "id": "c3413d64-8f07-494b-b958-0cd85855c4a3",
   "metadata": {
    "execution": {
     "iopub.execute_input": "2023-10-18T16:23:35.718444Z",
     "iopub.status.busy": "2023-10-18T16:23:35.718444Z",
     "iopub.status.idle": "2023-10-18T16:23:35.737528Z",
     "shell.execute_reply": "2023-10-18T16:23:35.737528Z",
     "shell.execute_reply.started": "2023-10-18T16:23:35.718444Z"
    },
    "tags": []
   },
   "outputs": [],
   "source": [
    "clo = c.close.values\n",
    "lookback = 5\n",
    "data_tmp = []\n",
    "for i in range(len(clo)-5) :\n",
    "    data_tmp.append(clo[i:i+lookback+1])\n",
    "data_tmp = np.array(data_tmp)"
   ]
  },
  {
   "cell_type": "code",
   "execution_count": 209,
   "id": "ddf63e02-ad25-4135-beb7-0c4a60934b76",
   "metadata": {
    "execution": {
     "iopub.execute_input": "2023-10-18T17:11:15.351661Z",
     "iopub.status.busy": "2023-10-18T17:11:15.351661Z",
     "iopub.status.idle": "2023-10-18T17:11:15.374564Z",
     "shell.execute_reply": "2023-10-18T17:11:15.373622Z",
     "shell.execute_reply.started": "2023-10-18T17:11:15.351661Z"
    },
    "tags": []
   },
   "outputs": [],
   "source": [
    "x = data_tmp[:,:-1].reshape(-1,lookback,1)\n",
    "x = torch.tensor(x).to(torch.float32)\n",
    "y = data_tmp[:,-1].reshape(-1,1)\n",
    "y = torch.tensor(y).to(torch.float32)\n",
    "x_train,x_test, y_train, y_test = train_test_split(x,y,test_size=.1, shuffle=False)\n",
    "# x_train,x_test, y_train, y_test"
   ]
  },
  {
   "cell_type": "code",
   "execution_count": 210,
   "id": "15e67dc2-e6a4-4c24-b499-2b48a0e1e90c",
   "metadata": {
    "execution": {
     "iopub.execute_input": "2023-10-18T17:11:18.269680Z",
     "iopub.status.busy": "2023-10-18T17:11:18.269680Z",
     "iopub.status.idle": "2023-10-18T17:11:18.287562Z",
     "shell.execute_reply": "2023-10-18T17:11:18.287562Z",
     "shell.execute_reply.started": "2023-10-18T17:11:18.269680Z"
    },
    "tags": []
   },
   "outputs": [
    {
     "data": {
      "text/plain": [
       "(torch.Size([1091, 5, 1]),\n",
       " torch.Size([1091, 1]),\n",
       " torch.Size([122, 5, 1]),\n",
       " torch.Size([122, 1]))"
      ]
     },
     "execution_count": 210,
     "metadata": {},
     "output_type": "execute_result"
    }
   ],
   "source": [
    "x_train.shape, y_train.shape,x_test.shape, y_test.shape"
   ]
  },
  {
   "cell_type": "code",
   "execution_count": 211,
   "id": "7283ac3a-665c-498c-a4a4-1d66f30fcc24",
   "metadata": {
    "execution": {
     "iopub.execute_input": "2023-10-18T17:11:20.105227Z",
     "iopub.status.busy": "2023-10-18T17:11:20.104320Z",
     "iopub.status.idle": "2023-10-18T17:11:20.121454Z",
     "shell.execute_reply": "2023-10-18T17:11:20.121454Z",
     "shell.execute_reply.started": "2023-10-18T17:11:20.105227Z"
    },
    "tags": []
   },
   "outputs": [],
   "source": [
    "from torch.utils.data import Dataset,DataLoader\n",
    "\n",
    "class time_series_dataset(Dataset):\n",
    "    def __init__(self, x, y):\n",
    "        self.x = x\n",
    "        self.y = y\n",
    "    \n",
    "    def __len__(self):\n",
    "        return len(self.x)\n",
    "    \n",
    "    def __getitem__(self, i):\n",
    "        return self.x[i],self.y[i]\n",
    "    \n",
    "train_dataset = time_series_dataset(x_train, y_train)\n",
    "test_dataset = time_series_dataset(x_test, y_test)\n",
    "\n",
    "batch_size = 4\n",
    "train_loader = DataLoader(train_dataset, batch_size=batch_size, shuffle=False)\n",
    "test_loader = DataLoader(test_dataset, batch_size=batch_size, shuffle=False)\n",
    "\n"
   ]
  },
  {
   "cell_type": "code",
   "execution_count": 251,
   "id": "0a57b8bd-b943-4b8c-a3f4-cfdef6557d9c",
   "metadata": {
    "execution": {
     "iopub.execute_input": "2023-10-18T17:38:02.818763Z",
     "iopub.status.busy": "2023-10-18T17:38:02.817775Z",
     "iopub.status.idle": "2023-10-18T17:38:02.844656Z",
     "shell.execute_reply": "2023-10-18T17:38:02.843734Z",
     "shell.execute_reply.started": "2023-10-18T17:38:02.818763Z"
    },
    "tags": []
   },
   "outputs": [],
   "source": [
    "import torch\n",
    "import torch.nn as nn\n",
    "\n",
    "from sklearn.model_selection import train_test_split\n",
    "\n",
    "\n",
    "# 输入的维度为1，只有Close收盘价\n",
    "input_dim = 1\n",
    "# 隐藏层特征的维度\n",
    "hidden_dim = 4\n",
    "# 循环的layers\n",
    "num_stacked_layers = 1\n",
    "# 预测后一天的收盘价\n",
    "output_dim = 1\n",
    "num_epochs = 80\n",
    "\n",
    "\n",
    "class LSTM(nn.Module):\n",
    "    def __init__(self, input_dim, hidden_dim, num_stacked_layers, output_dim):\n",
    "        super(LSTM, self).__init__()\n",
    "        self.hidden_dim = hidden_dim\n",
    "        self.num_stacked_layers = num_stacked_layers\n",
    "\n",
    "        self.lstm = nn.LSTM(input_dim, hidden_dim, num_stacked_layers, batch_first=True)\n",
    "        self.fc = nn.Linear(hidden_dim, output_dim)\n",
    "\n",
    "    def forward(self, x):\n",
    "        # batch_size = x.size(0)\n",
    "        # h0 = torch.zeros(self.num_stacked_layers, batch_size, self.hidden_dim).requires_grad_()\n",
    "        # c0 = torch.zeros(self.num_stacked_layers, batch_size, self.hidden_dim).requires_grad_()\n",
    "        # out, (hn, cn) = self.lstm(x, (h0.detach(), c0.detach()))\n",
    "        out, _ = self.lstm(x)\n",
    "        out = self.fc(out[:, -1, :])\n",
    "        return out\n",
    "\n",
    "model = LSTM(input_dim=input_dim, hidden_dim=hidden_dim, output_dim=output_dim, num_stacked_layers=num_stacked_layers)\n",
    "criterion = torch.nn.MSELoss()\n",
    "optimiser = torch.optim.Adam(model.parameters(), lr=0.01)"
   ]
  },
  {
   "cell_type": "code",
   "execution_count": 252,
   "id": "6192d772-bf10-4554-962c-390657e885f2",
   "metadata": {
    "execution": {
     "iopub.execute_input": "2023-10-18T17:38:04.744511Z",
     "iopub.status.busy": "2023-10-18T17:38:04.744511Z",
     "iopub.status.idle": "2023-10-18T17:38:33.563774Z",
     "shell.execute_reply": "2023-10-18T17:38:33.563774Z",
     "shell.execute_reply.started": "2023-10-18T17:38:04.744511Z"
    },
    "tags": []
   },
   "outputs": [
    {
     "name": "stdout",
     "output_type": "stream",
     "text": [
      "Batch 4 avgLoss: 57.178555488586426\n",
      "Epoch  0 MSE:  6072.643781633582\n",
      "Batch 4 avgLoss: 1541.4108824658906\n",
      "Batch 4 avgLoss: 412.756153094042\n",
      "Batch 4 avgLoss: 346.3999802682665\n",
      "Batch 4 avgLoss: 317.23311926372844\n",
      "Batch 4 avgLoss: 258.67371174829896\n",
      "Batch 4 avgLoss: 408.835570357438\n",
      "Batch 4 avgLoss: 267.9242196264822\n",
      "Batch 4 avgLoss: 207.2965535790936\n",
      "Batch 4 avgLoss: 165.95087510540907\n",
      "Batch 4 avgLoss: 138.80953196517657\n",
      "Epoch  10 MSE:  448.062761425972\n",
      "Batch 4 avgLoss: 130.41942980885506\n",
      "Batch 4 avgLoss: 121.8382156904554\n",
      "Batch 4 avgLoss: 112.48476158099947\n",
      "Batch 4 avgLoss: 98.7842009243468\n",
      "Batch 4 avgLoss: 87.95709500437079\n",
      "Batch 4 avgLoss: 74.76948627753154\n",
      "Batch 4 avgLoss: 62.3008058249834\n",
      "Batch 4 avgLoss: 53.87609754974255\n",
      "Batch 4 avgLoss: 46.82908071190468\n",
      "Batch 4 avgLoss: 42.31251885328675\n",
      "Epoch  20 MSE:  140.9850280204555\n",
      "Batch 4 avgLoss: 38.8750055412238\n",
      "Batch 4 avgLoss: 36.31733544321469\n",
      "Batch 4 avgLoss: 34.37070517808752\n",
      "Batch 4 avgLoss: 32.755933954736975\n",
      "Batch 4 avgLoss: 31.396786830679048\n",
      "Batch 4 avgLoss: 30.216753887711093\n",
      "Batch 4 avgLoss: 29.15790351461328\n",
      "Batch 4 avgLoss: 28.179695407183317\n",
      "Batch 4 avgLoss: 27.25907249969896\n",
      "Batch 4 avgLoss: 26.38817051903243\n",
      "Epoch  30 MSE:  96.7587088935361\n",
      "Batch 4 avgLoss: 25.58302281779015\n",
      "Batch 4 avgLoss: 24.922463078299188\n",
      "Batch 4 avgLoss: 24.676211681431596\n",
      "Batch 4 avgLoss: 25.70478431490301\n",
      "Batch 4 avgLoss: 30.85492932282068\n",
      "Batch 4 avgLoss: 37.4282716202797\n",
      "Batch 4 avgLoss: 33.57264281692915\n",
      "Batch 4 avgLoss: 24.470903012130293\n",
      "Batch 4 avgLoss: 21.999151920739678\n",
      "Batch 4 avgLoss: 20.180412324722056\n",
      "Epoch  40 MSE:  70.60919737291988\n",
      "Batch 4 avgLoss: 18.449257178785047\n",
      "Batch 4 avgLoss: 17.696343367060763\n",
      "Batch 4 avgLoss: 16.879650762966776\n",
      "Batch 4 avgLoss: 16.705395465818583\n",
      "Batch 4 avgLoss: 16.537650942249456\n",
      "Batch 4 avgLoss: 16.514582659841835\n",
      "Batch 4 avgLoss: 16.704816150238912\n",
      "Batch 4 avgLoss: 16.798968760340358\n",
      "Batch 4 avgLoss: 16.982208729414197\n",
      "Batch 4 avgLoss: 17.084754908930336\n",
      "Epoch  50 MSE:  67.36710048708483\n",
      "Batch 4 avgLoss: 17.201776041321864\n",
      "Batch 4 avgLoss: 17.259259633690817\n",
      "Batch 4 avgLoss: 17.322246700125106\n",
      "Batch 4 avgLoss: 16.83231323841028\n",
      "Batch 4 avgLoss: 17.377257489410113\n",
      "Batch 4 avgLoss: 17.404857902663935\n",
      "Batch 4 avgLoss: 17.401767582712637\n",
      "Batch 4 avgLoss: 17.45457293774234\n",
      "Batch 4 avgLoss: 17.42815353372862\n",
      "Batch 4 avgLoss: 17.468948138666747\n",
      "Epoch  60 MSE:  69.01143309948384\n",
      "Batch 4 avgLoss: 17.431239567020384\n",
      "Batch 4 avgLoss: 17.481070831723628\n",
      "Batch 4 avgLoss: 17.452120925147028\n",
      "Batch 4 avgLoss: 17.462843659959617\n",
      "Batch 4 avgLoss: 17.356454052940535\n",
      "Batch 4 avgLoss: 17.480146233487176\n",
      "Batch 4 avgLoss: 17.515437766414834\n",
      "Batch 4 avgLoss: 17.518234500777908\n",
      "Batch 4 avgLoss: 17.481425770325586\n",
      "Batch 4 avgLoss: 16.96920708163816\n",
      "Epoch  70 MSE:  69.45663707968197\n",
      "Batch 4 avgLoss: 17.511575343516597\n",
      "Batch 4 avgLoss: 17.507910732747405\n",
      "Batch 4 avgLoss: 17.535660648165504\n",
      "Batch 4 avgLoss: 17.551696308422834\n",
      "Batch 4 avgLoss: 17.51291733563994\n",
      "Batch 4 avgLoss: 17.525025845636264\n",
      "Batch 4 avgLoss: 17.527802515578514\n",
      "Batch 4 avgLoss: 17.493422475054103\n",
      "Batch 4 avgLoss: 16.79859798011603\n",
      "Training time: 28.80533719062805\n"
     ]
    }
   ],
   "source": [
    "import time\n",
    "\n",
    "hist = np.zeros(num_epochs)\n",
    "start_time = time.time()\n",
    "lstm = []\n",
    "running_loss = .0\n",
    "\n",
    "model.train(True)\n",
    "for t in range(num_epochs):\n",
    "    for batch_index, batch in enumerate(train_loader):\n",
    "        x_batch,y_batch = batch[0],batch[1]\n",
    "    \n",
    "        output = model(x_batch)\n",
    "        loss = criterion(output, y_batch)\n",
    "        running_loss += loss.item()\n",
    "\n",
    "        optimiser.zero_grad()\n",
    "        loss.backward()\n",
    "        optimiser.step()\n",
    "        \n",
    "        if batch_index == batch_size-1:\n",
    "            print(\"Batch {0} avgLoss: {1}\".format(batch_index+1,running_loss/batch_size))\n",
    "            hist[t] = running_loss\n",
    "            running_loss = .0\n",
    "\n",
    "    if t%10==0:\n",
    "        print(\"Epoch \", t, \"MSE: \", running_loss)\n",
    "\n",
    "\n",
    "training_time = time.time() - start_time\n",
    "print(\"Training time: {}\".format(training_time))\n",
    "\n",
    "\n",
    "\n"
   ]
  },
  {
   "cell_type": "code",
   "execution_count": 291,
   "id": "2f7a8126-abe7-47b1-bb36-2bc277c939ea",
   "metadata": {
    "execution": {
     "iopub.execute_input": "2023-10-18T17:56:26.394591Z",
     "iopub.status.busy": "2023-10-18T17:56:26.393591Z",
     "iopub.status.idle": "2023-10-18T17:56:26.420477Z",
     "shell.execute_reply": "2023-10-18T17:56:26.420477Z",
     "shell.execute_reply.started": "2023-10-18T17:56:26.394591Z"
    },
    "tags": []
   },
   "outputs": [
    {
     "name": "stdout",
     "output_type": "stream",
     "text": [
      "validate avgLoss: 3.70405521496169\n"
     ]
    }
   ],
   "source": [
    "model.train(False)\n",
    "running_loss = .0\n",
    "\n",
    "predict=[]\n",
    "original=[]\n",
    "te\n",
    "for batch_index, batch in enumerate(test_loader):\n",
    "    x_batch,y_batch = batch[0],batch[1]\n",
    "\n",
    "    with torch.no_grad():\n",
    "        output = model(x_batch)\n",
    "        loss = criterion(output, y_batch)\n",
    "        running_loss += loss.item()\n",
    "        predict.extend(output.detach().numpy().squeeze().tolist())\n",
    "        original.extend(y_batch.detach().numpy().squeeze().tolist())\n",
    "\n",
    "print(\"validate avgLoss: {0}\".format(running_loss/len(test_loader)))\n",
    "running_loss = .0\n"
   ]
  },
  {
   "cell_type": "code",
   "execution_count": 294,
   "id": "73e0d8c6-a20f-4e4a-afa7-001635119878",
   "metadata": {
    "execution": {
     "iopub.execute_input": "2023-10-18T17:56:48.576871Z",
     "iopub.status.busy": "2023-10-18T17:56:48.576871Z",
     "iopub.status.idle": "2023-10-18T17:56:48.590912Z",
     "shell.execute_reply": "2023-10-18T17:56:48.590912Z",
     "shell.execute_reply.started": "2023-10-18T17:56:48.576871Z"
    },
    "tags": []
   },
   "outputs": [
    {
     "data": {
      "text/plain": [
       "122"
      ]
     },
     "execution_count": 294,
     "metadata": {},
     "output_type": "execute_result"
    }
   ],
   "source": [
    "len(original)"
   ]
  },
  {
   "cell_type": "code",
   "execution_count": 295,
   "id": "b81cc51e-85c6-4d5f-bd17-ea41cfa652c4",
   "metadata": {
    "execution": {
     "iopub.execute_input": "2023-10-18T17:56:51.511746Z",
     "iopub.status.busy": "2023-10-18T17:56:51.510747Z",
     "iopub.status.idle": "2023-10-18T17:56:51.525782Z",
     "shell.execute_reply": "2023-10-18T17:56:51.525782Z",
     "shell.execute_reply.started": "2023-10-18T17:56:51.510747Z"
    },
    "tags": []
   },
   "outputs": [],
   "source": [
    "predict = pd.DataFrame(predict)\n",
    "# print(predict)  # 预测值\n",
    "original = pd.DataFrame(original)\n",
    "# print(original)  # 真实值"
   ]
  },
  {
   "cell_type": "code",
   "execution_count": 296,
   "id": "c226deed-c996-453e-953f-27bece81582d",
   "metadata": {
    "execution": {
     "iopub.execute_input": "2023-10-18T17:57:20.473833Z",
     "iopub.status.busy": "2023-10-18T17:57:20.472804Z",
     "iopub.status.idle": "2023-10-18T17:57:20.697918Z",
     "shell.execute_reply": "2023-10-18T17:57:20.697918Z",
     "shell.execute_reply.started": "2023-10-18T17:57:20.473833Z"
    },
    "tags": []
   },
   "outputs": [
    {
     "data": {
      "image/png": "[encoded data removed]",
      "text/plain": [
       "<Figure size 1152x432 with 2 Axes>"
      ]
     },
     "metadata": {},
     "output_type": "display_data"
    }
   ],
   "source": [
    "\n",
    "fig = plt.figure()\n",
    "fig.subplots_adjust(hspace=0.2, wspace=0.2)\n",
    "\n",
    "plt.subplot(1, 2, 1)\n",
    "ax = plt.plot(list(original.index), original.values, label=\"Data\", color='royalblue')\n",
    "ax = plt.plot(list(predict.index), predict.values, label=\"Training Prediction (LSTM)\", color='tomato')\n",
    "\n",
    "\n",
    "plt.subplot(1, 2, 2)\n",
    "ax = plt.plot(hist, color='royalblue')\n",
    "fig.set_figheight(6)\n",
    "fig.set_figwidth(16)\n",
    "plt.show()\n"
   ]
  },
  {
   "cell_type": "code",
   "execution_count": 115,
   "id": "54bfd095-d1a0-4114-bb7a-40618e9da5be",
   "metadata": {
    "collapsed": true,
    "execution": {
     "iopub.execute_input": "2023-10-16T07:04:26.952284Z",
     "iopub.status.busy": "2023-10-16T07:04:26.951297Z",
     "iopub.status.idle": "2023-10-16T07:04:27.316694Z",
     "shell.execute_reply": "2023-10-16T07:04:27.316694Z",
     "shell.execute_reply.started": "2023-10-16T07:04:26.952284Z"
    },
    "jupyter": {
     "outputs_hidden": true
    },
    "tags": []
   },
   "outputs": [
    {
     "data": {
      "image/png": "[encoded data removed]",
      "text/plain": [
       "<Figure size 432x288 with 1 Axes>"
      ]
     },
     "metadata": {},
     "output_type": "display_data"
    },
    {
     "name": "stdout",
     "output_type": "stream",
     "text": [
      "tensor([-0.0290, -0.0744,  0.0840,  0.0089, -0.1195, -0.0694, -0.0895,  0.0019,\n",
      "         0.0300,  0.0824,  0.0228, -0.1586, -0.0348, -0.0504,  0.0879, -0.0646,\n",
      "        -0.0562,  0.0881,  0.0188, -0.0628, -0.0239,  0.0712,  0.0167,  0.1379,\n",
      "         0.0311, -0.0030, -0.0269,  0.0861, -0.0537, -0.0635,  0.1522, -0.0779],\n",
      "       grad_fn=<SliceBackward0>)\n",
      "tensor([-0.1247], grad_fn=<ViewBackward0>)\n",
      "Epoch [1/50], Loss: 0.5206\n",
      "tensor([ 0.0024, -0.0970,  0.0554,  0.0365, -0.1450, -0.0348, -0.0670,  0.0291,\n",
      "         0.0088,  0.0566,  0.0038, -0.1314, -0.0506, -0.0661,  0.0566, -0.0424,\n",
      "        -0.0366,  0.1007,  0.0141, -0.0940, -0.0430,  0.1026, -0.0012,  0.1124,\n",
      "        -0.0034,  0.0014, -0.0182,  0.1053, -0.0744, -0.0881,  0.1686, -0.1128],\n",
      "       grad_fn=<SliceBackward0>)\n",
      "tensor([-0.0276], grad_fn=<ViewBackward0>)\n",
      "tensor([ 0.0247, -0.1199,  0.0329,  0.0625, -0.1694, -0.0095, -0.0515,  0.0551,\n",
      "        -0.0043,  0.0371, -0.0121, -0.1147, -0.0672, -0.0832,  0.0317, -0.0311,\n",
      "        -0.0210,  0.1190,  0.0146, -0.1251, -0.0612,  0.1337, -0.0144,  0.0968,\n",
      "        -0.0291,  0.0048, -0.0127,  0.1247, -0.0927, -0.1130,  0.1887, -0.1477],\n",
      "       grad_fn=<SliceBackward0>)\n",
      "tensor([0.0582], grad_fn=<ViewBackward0>)\n",
      "tensor([ 0.0317, -0.1183,  0.0284,  0.0642, -0.1704, -0.0025, -0.0381,  0.0560,\n",
      "        -0.0161,  0.0293, -0.0158, -0.0988, -0.0666, -0.0809,  0.0253, -0.0225,\n",
      "        -0.0164,  0.1013,  0.0040, -0.1249, -0.0608,  0.1288, -0.0207,  0.0790,\n",
      "        -0.0344,  0.0064, -0.0062,  0.1199, -0.0943, -0.1088,  0.1794, -0.1425],\n",
      "       grad_fn=<SliceBackward0>)\n",
      "tensor([0.0665], grad_fn=<ViewBackward0>)\n",
      "tensor([ 0.0315, -0.1062,  0.0323,  0.0573, -0.1617, -0.0023, -0.0260,  0.0485,\n",
      "        -0.0271,  0.0267, -0.0144, -0.0838, -0.0583, -0.0710,  0.0261, -0.0159,\n",
      "        -0.0179,  0.0806, -0.0088, -0.1129, -0.0538,  0.1116, -0.0246,  0.0616,\n",
      "        -0.0331,  0.0076, -0.0010,  0.1072, -0.0886, -0.0939,  0.1612, -0.1256],\n",
      "       grad_fn=<SliceBackward0>)\n",
      "tensor([0.0417], grad_fn=<ViewBackward0>)\n",
      "tensor([ 0.0294, -0.0932,  0.0380,  0.0496, -0.1518, -0.0036, -0.0160,  0.0403,\n",
      "        -0.0381,  0.0261, -0.0122, -0.0711, -0.0491, -0.0607,  0.0288, -0.0104,\n",
      "        -0.0212,  0.0628, -0.0200, -0.1002, -0.0464,  0.0941, -0.0279,  0.0469,\n",
      "        -0.0311,  0.0088,  0.0030,  0.0946, -0.0819, -0.0787,  0.1436, -0.1090],\n",
      "       grad_fn=<SliceBackward0>)\n",
      "tensor([0.0121], grad_fn=<ViewBackward0>)\n",
      "tensor([ 0.0274, -0.0825,  0.0430,  0.0434, -0.1435, -0.0048, -0.0083,  0.0339,\n",
      "        -0.0483,  0.0259, -0.0104, -0.0611, -0.0416, -0.0523,  0.0313, -0.0060,\n",
      "        -0.0241,  0.0491, -0.0289, -0.0900, -0.0403,  0.0801, -0.0308,  0.0356,\n",
      "        -0.0297,  0.0099,  0.0062,  0.0845, -0.0762, -0.0665,  0.1295, -0.0960],\n",
      "       grad_fn=<SliceBackward0>)\n",
      "tensor([-0.0125], grad_fn=<ViewBackward0>)\n",
      "tensor([ 0.0262, -0.0750,  0.0462,  0.0391, -0.1377, -0.0054, -0.0025,  0.0294,\n",
      "        -0.0547,  0.0254, -0.0092, -0.0536, -0.0364, -0.0465,  0.0326, -0.0026,\n",
      "        -0.0259,  0.0385, -0.0352, -0.0829, -0.0360,  0.0703, -0.0327,  0.0271,\n",
      "        -0.0288,  0.0104,  0.0084,  0.0773, -0.0722, -0.0580,  0.1193, -0.0865],\n",
      "       grad_fn=<SliceBackward0>)\n",
      "tensor([-0.0292], grad_fn=<ViewBackward0>)\n",
      "tensor([ 2.5950e-02, -7.0871e-02,  4.6990e-02,  3.6495e-02, -1.3460e-01,\n",
      "        -5.1984e-03,  1.7388e-03,  2.6769e-02, -5.5249e-02,  2.4175e-02,\n",
      "        -8.4841e-03, -4.8186e-02, -3.3661e-02, -4.3362e-02,  3.2668e-02,\n",
      "         9.1755e-05, -2.6053e-02,  2.9973e-02, -3.9059e-02, -7.8437e-02,\n",
      "        -3.3533e-02,  6.4499e-02, -3.3266e-02,  2.0820e-02, -2.8005e-02,\n",
      "         1.0049e-02,  9.9397e-03,  7.3021e-02, -7.0067e-02, -5.3033e-02,\n",
      "         1.1267e-01, -7.9653e-02], grad_fn=<SliceBackward0>)\n",
      "tensor([-0.0375], grad_fn=<ViewBackward0>)\n",
      "tensor([ 0.0264, -0.0695,  0.0458,  0.0353, -0.1338, -0.0046,  0.0048,  0.0256,\n",
      "        -0.0516,  0.0223, -0.0080, -0.0444, -0.0329, -0.0423,  0.0316,  0.0020,\n",
      "        -0.0247,  0.0224, -0.0411, -0.0763, -0.0325,  0.0620, -0.0324,  0.0162,\n",
      "        -0.0271,  0.0088,  0.0108,  0.0709, -0.0696, -0.0510,  0.1089, -0.0748],\n",
      "       grad_fn=<SliceBackward0>)\n",
      "tensor([-0.0386], grad_fn=<ViewBackward0>)\n",
      "tensor([ 0.0274, -0.0703,  0.0430,  0.0350, -0.1346, -0.0037,  0.0068,  0.0254,\n",
      "        -0.0456,  0.0200, -0.0075, -0.0419, -0.0338, -0.0429,  0.0297,  0.0033,\n",
      "        -0.0222,  0.0151, -0.0422, -0.0758, -0.0326,  0.0619, -0.0305,  0.0128,\n",
      "        -0.0261,  0.0069,  0.0112,  0.0704, -0.0703, -0.0510,  0.1072, -0.0713],\n",
      "       grad_fn=<SliceBackward0>)\n",
      "tensor([-0.0343], grad_fn=<ViewBackward0>)\n",
      "Epoch [11/50], Loss: 0.5062\n",
      "tensor([ 0.0287, -0.0726,  0.0394,  0.0355, -0.1366, -0.0028,  0.0081,  0.0260,\n",
      "        -0.0388,  0.0174, -0.0068, -0.0405, -0.0358, -0.0445,  0.0274,  0.0041,\n",
      "        -0.0189,  0.0078, -0.0430, -0.0767, -0.0333,  0.0634, -0.0280,  0.0104,\n",
      "        -0.0248,  0.0047,  0.0113,  0.0709, -0.0719, -0.0524,  0.1070, -0.0689],\n",
      "       grad_fn=<SliceBackward0>)\n",
      "tensor([-0.0263], grad_fn=<ViewBackward0>)\n",
      "tensor([ 0.0302, -0.0759,  0.0353,  0.0363, -0.1393, -0.0019,  0.0088,  0.0270,\n",
      "        -0.0319,  0.0146, -0.0061, -0.0400, -0.0385, -0.0467,  0.0250,  0.0046,\n",
      "        -0.0153,  0.0006, -0.0439, -0.0783, -0.0346,  0.0660, -0.0252,  0.0087,\n",
      "        -0.0234,  0.0023,  0.0114,  0.0721, -0.0741, -0.0546,  0.1078, -0.0671],\n",
      "       grad_fn=<SliceBackward0>)\n",
      "tensor([-0.0162], grad_fn=<ViewBackward0>)\n",
      "tensor([ 0.0316, -0.0795,  0.0312,  0.0374, -0.1423, -0.0012,  0.0091,  0.0283,\n",
      "        -0.0255,  0.0120, -0.0053, -0.0399, -0.0415, -0.0491,  0.0227,  0.0049,\n",
      "        -0.0116, -0.0064, -0.0451, -0.0802, -0.0360,  0.0689, -0.0225,  0.0076,\n",
      "        -0.0221,  0.0002,  0.0114,  0.0736, -0.0765, -0.0572,  0.1091, -0.0657],\n",
      "       grad_fn=<SliceBackward0>)\n",
      "tensor([-0.0052], grad_fn=<ViewBackward0>)\n",
      "tensor([ 0.0330, -0.0829,  0.0274,  0.0384, -0.1452, -0.0006,  0.0093,  0.0294,\n",
      "        -0.0199,  0.0095, -0.0046, -0.0400, -0.0444, -0.0515,  0.0207,  0.0050,\n",
      "        -0.0083, -0.0128, -0.0464, -0.0821, -0.0373,  0.0718, -0.0201,  0.0066,\n",
      "        -0.0208, -0.0017,  0.0115,  0.0751, -0.0788, -0.0597,  0.1105, -0.0646],\n",
      "       grad_fn=<SliceBackward0>)\n",
      "tensor([0.0052], grad_fn=<ViewBackward0>)\n",
      "tensor([ 3.4150e-02, -8.5793e-02,  2.4298e-02,  3.9250e-02, -1.4762e-01,\n",
      "         8.9464e-07,  9.6056e-03,  3.0389e-02, -1.5199e-02,  7.4072e-03,\n",
      "        -3.9877e-03, -3.9926e-02, -4.6824e-02, -5.3433e-02,  1.8845e-02,\n",
      "         5.2458e-03, -5.4510e-03, -1.8170e-02, -4.7268e-02, -8.3639e-02,\n",
      "        -3.8370e-02,  7.4054e-02, -1.8094e-02,  5.6474e-03, -1.9753e-02,\n",
      "        -3.2887e-03,  1.1504e-02,  7.6117e-02, -8.0658e-02, -6.1760e-02,\n",
      "         1.1146e-01, -6.3441e-02], grad_fn=<SliceBackward0>)\n",
      "tensor([0.0139], grad_fn=<ViewBackward0>)\n",
      "tensor([ 0.0350, -0.0876,  0.0219,  0.0397, -0.1492,  0.0006,  0.0102,  0.0310,\n",
      "        -0.0114,  0.0057, -0.0036, -0.0392, -0.0484, -0.0547,  0.0173,  0.0056,\n",
      "        -0.0033, -0.0222, -0.0472, -0.0844, -0.0389,  0.0754, -0.0165,  0.0045,\n",
      "        -0.0190, -0.0045,  0.0113,  0.0765, -0.0818, -0.0630,  0.1117, -0.0621],\n",
      "       grad_fn=<SliceBackward0>)\n",
      "tensor([0.0197], grad_fn=<ViewBackward0>)\n",
      "tensor([ 0.0355, -0.0883,  0.0203,  0.0398, -0.1497,  0.0013,  0.0113,  0.0311,\n",
      "        -0.0082,  0.0044, -0.0036, -0.0377, -0.0488, -0.0553,  0.0158,  0.0061,\n",
      "        -0.0020, -0.0245, -0.0459, -0.0842, -0.0388,  0.0757, -0.0153,  0.0029,\n",
      "        -0.0187, -0.0053,  0.0108,  0.0762, -0.0820, -0.0633,  0.1111, -0.0605],\n",
      "       grad_fn=<SliceBackward0>)\n",
      "tensor([0.0222], grad_fn=<ViewBackward0>)\n",
      "tensor([ 0.0356, -0.0877,  0.0195,  0.0394, -0.1492,  0.0022,  0.0128,  0.0307,\n",
      "        -0.0057,  0.0036, -0.0040, -0.0355, -0.0483, -0.0551,  0.0146,  0.0068,\n",
      "        -0.0014, -0.0253, -0.0435, -0.0832, -0.0381,  0.0748, -0.0145,  0.0011,\n",
      "        -0.0187, -0.0059,  0.0101,  0.0751, -0.0813, -0.0627,  0.1096, -0.0586],\n",
      "       grad_fn=<SliceBackward0>)\n",
      "tensor([0.0214], grad_fn=<ViewBackward0>)\n",
      "tensor([ 0.0355, -0.0862,  0.0193,  0.0387, -0.1479,  0.0032,  0.0147,  0.0300,\n",
      "        -0.0035,  0.0030, -0.0046, -0.0326, -0.0469, -0.0542,  0.0134,  0.0076,\n",
      "        -0.0013, -0.0248, -0.0403, -0.0813, -0.0369,  0.0731, -0.0140, -0.0010,\n",
      "        -0.0190, -0.0062,  0.0091,  0.0733, -0.0799, -0.0614,  0.1073, -0.0566],\n",
      "       grad_fn=<SliceBackward0>)\n",
      "tensor([0.0178], grad_fn=<ViewBackward0>)\n",
      "tensor([ 0.0352, -0.0839,  0.0196,  0.0378, -0.1460,  0.0042,  0.0168,  0.0291,\n",
      "        -0.0017,  0.0027, -0.0054, -0.0294, -0.0449, -0.0530,  0.0123,  0.0085,\n",
      "        -0.0017, -0.0233, -0.0368, -0.0790, -0.0355,  0.0708, -0.0137, -0.0033,\n",
      "        -0.0196, -0.0064,  0.0079,  0.0712, -0.0781, -0.0595,  0.1045, -0.0544],\n",
      "       grad_fn=<SliceBackward0>)\n",
      "tensor([0.0124], grad_fn=<ViewBackward0>)\n",
      "Epoch [21/50], Loss: 0.5052\n",
      "tensor([ 3.4827e-02, -8.1403e-02,  2.0073e-02,  3.6743e-02, -1.4382e-01,\n",
      "         5.3258e-03,  1.9099e-02,  2.8050e-02, -7.0572e-05,  2.6134e-03,\n",
      "        -6.2718e-03, -2.6032e-02, -4.2740e-02, -5.1456e-02,  1.1316e-02,\n",
      "         9.4256e-03, -2.3659e-03, -2.1488e-02, -3.3254e-02, -7.6570e-02,\n",
      "        -3.3971e-02,  6.8234e-02, -1.3543e-02, -5.5180e-03, -2.0214e-02,\n",
      "        -6.5062e-03,  6.7092e-03,  6.8984e-02, -7.6044e-02, -5.7360e-02,\n",
      "         1.0161e-01, -5.2339e-02], grad_fn=<SliceBackward0>)\n",
      "tensor([0.0062], grad_fn=<ViewBackward0>)\n",
      "tensor([ 0.0344, -0.0789,  0.0206,  0.0357, -0.1417,  0.0063,  0.0213,  0.0270,\n",
      "         0.0014,  0.0026, -0.0072, -0.0228, -0.0406, -0.0499,  0.0104,  0.0103,\n",
      "        -0.0030, -0.0196, -0.0300, -0.0742, -0.0325,  0.0657, -0.0134, -0.0076,\n",
      "        -0.0209, -0.0066,  0.0056,  0.0668, -0.0741, -0.0553,  0.0988, -0.0504],\n",
      "       grad_fn=<SliceBackward0>)\n",
      "tensor([-3.3654e-05], grad_fn=<ViewBackward0>)\n",
      "tensor([ 0.0341, -0.0767,  0.0212,  0.0348, -0.1398,  0.0073,  0.0233,  0.0261,\n",
      "         0.0026,  0.0025, -0.0080, -0.0200, -0.0387, -0.0486,  0.0096,  0.0111,\n",
      "        -0.0037, -0.0179, -0.0273, -0.0720, -0.0312,  0.0635, -0.0133, -0.0095,\n",
      "        -0.0215, -0.0067,  0.0046,  0.0649, -0.0723, -0.0534,  0.0963, -0.0487],\n",
      "       grad_fn=<SliceBackward0>)\n",
      "tensor([-0.0055], grad_fn=<ViewBackward0>)\n",
      "tensor([ 0.0339, -0.0749,  0.0215,  0.0341, -0.1383,  0.0080,  0.0249,  0.0254,\n",
      "         0.0037,  0.0024, -0.0086, -0.0177, -0.0373, -0.0475,  0.0089,  0.0117,\n",
      "        -0.0041, -0.0166, -0.0251, -0.0703, -0.0302,  0.0618, -0.0132, -0.0110,\n",
      "        -0.0219, -0.0068,  0.0037,  0.0634, -0.0709, -0.0519,  0.0942, -0.0473],\n",
      "       grad_fn=<SliceBackward0>)\n",
      "tensor([-0.0098], grad_fn=<ViewBackward0>)\n",
      "tensor([ 0.0337, -0.0737,  0.0216,  0.0336, -0.1373,  0.0086,  0.0261,  0.0249,\n",
      "         0.0046,  0.0021, -0.0091, -0.0160, -0.0363, -0.0468,  0.0083,  0.0122,\n",
      "        -0.0042, -0.0158, -0.0235, -0.0691, -0.0294,  0.0606, -0.0130, -0.0122,\n",
      "        -0.0222, -0.0068,  0.0031,  0.0622, -0.0699, -0.0509,  0.0927, -0.0461],\n",
      "       grad_fn=<SliceBackward0>)\n",
      "tensor([-0.0125], grad_fn=<ViewBackward0>)\n",
      "tensor([ 0.0336, -0.0732,  0.0214,  0.0333, -0.1367,  0.0090,  0.0266,  0.0246,\n",
      "         0.0054,  0.0018, -0.0093, -0.0149, -0.0358, -0.0465,  0.0078,  0.0123,\n",
      "        -0.0042, -0.0156, -0.0224, -0.0683, -0.0289,  0.0599, -0.0128, -0.0131,\n",
      "        -0.0223, -0.0068,  0.0026,  0.0615, -0.0693, -0.0505,  0.0918, -0.0452],\n",
      "       grad_fn=<SliceBackward0>)\n",
      "tensor([-0.0137], grad_fn=<ViewBackward0>)\n",
      "tensor([ 0.0337, -0.0732,  0.0210,  0.0332, -0.1366,  0.0093,  0.0267,  0.0245,\n",
      "         0.0059,  0.0014, -0.0093, -0.0144, -0.0358, -0.0466,  0.0073,  0.0123,\n",
      "        -0.0038, -0.0158, -0.0217, -0.0679, -0.0286,  0.0597, -0.0124, -0.0136,\n",
      "        -0.0221, -0.0067,  0.0023,  0.0613, -0.0692, -0.0504,  0.0914, -0.0445],\n",
      "       grad_fn=<SliceBackward0>)\n",
      "tensor([-0.0133], grad_fn=<ViewBackward0>)\n",
      "tensor([ 0.0338, -0.0737,  0.0203,  0.0334, -0.1370,  0.0094,  0.0263,  0.0247,\n",
      "         0.0064,  0.0008, -0.0091, -0.0144, -0.0361, -0.0470,  0.0069,  0.0121,\n",
      "        -0.0032, -0.0165, -0.0214, -0.0680, -0.0286,  0.0601, -0.0120, -0.0138,\n",
      "        -0.0218, -0.0066,  0.0022,  0.0614, -0.0693, -0.0508,  0.0915, -0.0440],\n",
      "       grad_fn=<SliceBackward0>)\n",
      "tensor([-0.0116], grad_fn=<ViewBackward0>)\n",
      "tensor([ 0.0340, -0.0746,  0.0195,  0.0336, -0.1376,  0.0094,  0.0256,  0.0249,\n",
      "         0.0066,  0.0002, -0.0088, -0.0148, -0.0369, -0.0477,  0.0065,  0.0117,\n",
      "        -0.0025, -0.0175, -0.0215, -0.0683, -0.0287,  0.0607, -0.0116, -0.0138,\n",
      "        -0.0214, -0.0064,  0.0021,  0.0617, -0.0698, -0.0516,  0.0919, -0.0437],\n",
      "       grad_fn=<SliceBackward0>)\n",
      "tensor([-0.0088], grad_fn=<ViewBackward0>)\n",
      "tensor([ 0.0342, -0.0758,  0.0185,  0.0340, -0.1385,  0.0092,  0.0246,  0.0253,\n",
      "         0.0068, -0.0005, -0.0083, -0.0155, -0.0378, -0.0485,  0.0062,  0.0112,\n",
      "        -0.0016, -0.0187, -0.0217, -0.0689, -0.0289,  0.0617, -0.0111, -0.0137,\n",
      "        -0.0209, -0.0062,  0.0022,  0.0623, -0.0704, -0.0526,  0.0927, -0.0435],\n",
      "       grad_fn=<SliceBackward0>)\n",
      "tensor([-0.0053], grad_fn=<ViewBackward0>)\n",
      "Epoch [31/50], Loss: 0.5051\n",
      "tensor([ 0.0344, -0.0771,  0.0176,  0.0344, -0.1395,  0.0091,  0.0236,  0.0257,\n",
      "         0.0070, -0.0011, -0.0079, -0.0163, -0.0388, -0.0495,  0.0059,  0.0108,\n",
      "        -0.0008, -0.0200, -0.0220, -0.0696, -0.0292,  0.0627, -0.0106, -0.0134,\n",
      "        -0.0204, -0.0060,  0.0022,  0.0630, -0.0712, -0.0536,  0.0935, -0.0434],\n",
      "       grad_fn=<SliceBackward0>)\n",
      "tensor([-0.0015], grad_fn=<ViewBackward0>)\n",
      "tensor([ 3.4635e-02, -7.8366e-02,  1.6695e-02,  3.4845e-02, -1.4049e-01,\n",
      "         8.8904e-03,  2.2691e-02,  2.6102e-02,  7.0714e-03, -1.7557e-03,\n",
      "        -7.4530e-03, -1.7069e-02, -3.9777e-02, -5.0366e-02,  5.6826e-03,\n",
      "         1.0303e-02,  6.3118e-05, -2.1207e-02, -2.2354e-02, -7.0236e-02,\n",
      "        -2.9421e-02,  6.3677e-02, -1.0231e-02, -1.3207e-02, -1.9945e-02,\n",
      "        -5.8045e-03,  2.2956e-03,  6.3599e-02, -7.1870e-02, -5.4611e-02,\n",
      "         9.4363e-02, -4.3325e-02], grad_fn=<SliceBackward0>)\n",
      "tensor([0.0021], grad_fn=<ViewBackward0>)\n",
      "tensor([ 0.0348, -0.0794,  0.0159,  0.0352, -0.1413,  0.0088,  0.0219,  0.0264,\n",
      "         0.0072, -0.0023, -0.0071, -0.0177, -0.0406, -0.0511,  0.0054,  0.0099,\n",
      "         0.0008, -0.0222, -0.0226, -0.0708, -0.0296,  0.0645, -0.0099, -0.0130,\n",
      "        -0.0195, -0.0056,  0.0023,  0.0641, -0.0725, -0.0555,  0.0950, -0.0432],\n",
      "       grad_fn=<SliceBackward0>)\n",
      "tensor([0.0052], grad_fn=<ViewBackward0>)\n",
      "tensor([ 0.0349, -0.0801,  0.0153,  0.0354, -0.1418,  0.0087,  0.0213,  0.0266,\n",
      "         0.0073, -0.0027, -0.0068, -0.0181, -0.0412, -0.0517,  0.0052,  0.0096,\n",
      "         0.0013, -0.0230, -0.0227, -0.0711, -0.0297,  0.0650, -0.0096, -0.0130,\n",
      "        -0.0192, -0.0055,  0.0023,  0.0644, -0.0728, -0.0560,  0.0955, -0.0430],\n",
      "       grad_fn=<SliceBackward0>)\n",
      "tensor([0.0074], grad_fn=<ViewBackward0>)\n",
      "tensor([ 0.0350, -0.0805,  0.0149,  0.0355, -0.1420,  0.0087,  0.0210,  0.0267,\n",
      "         0.0075, -0.0031, -0.0067, -0.0182, -0.0414, -0.0519,  0.0050,  0.0094,\n",
      "         0.0016, -0.0233, -0.0226, -0.0711, -0.0297,  0.0653, -0.0093, -0.0131,\n",
      "        -0.0190, -0.0054,  0.0023,  0.0645, -0.0729, -0.0563,  0.0956, -0.0428],\n",
      "       grad_fn=<SliceBackward0>)\n",
      "tensor([0.0085], grad_fn=<ViewBackward0>)\n",
      "tensor([ 0.0350, -0.0804,  0.0147,  0.0354, -0.1419,  0.0089,  0.0209,  0.0267,\n",
      "         0.0077, -0.0033, -0.0066, -0.0179, -0.0413, -0.0519,  0.0048,  0.0093,\n",
      "         0.0018, -0.0233, -0.0222, -0.0709, -0.0295,  0.0652, -0.0092, -0.0133,\n",
      "        -0.0190, -0.0053,  0.0022,  0.0644, -0.0728, -0.0563,  0.0953, -0.0425],\n",
      "       grad_fn=<SliceBackward0>)\n",
      "tensor([0.0084], grad_fn=<ViewBackward0>)\n",
      "tensor([ 0.0350, -0.0799,  0.0147,  0.0352, -0.1414,  0.0091,  0.0210,  0.0265,\n",
      "         0.0080, -0.0034, -0.0067, -0.0175, -0.0410, -0.0516,  0.0045,  0.0093,\n",
      "         0.0018, -0.0230, -0.0217, -0.0705, -0.0292,  0.0647, -0.0090, -0.0137,\n",
      "        -0.0190, -0.0053,  0.0020,  0.0640, -0.0724, -0.0559,  0.0947, -0.0421],\n",
      "       grad_fn=<SliceBackward0>)\n",
      "tensor([0.0074], grad_fn=<ViewBackward0>)\n",
      "tensor([ 0.0349, -0.0792,  0.0149,  0.0349, -0.1406,  0.0095,  0.0213,  0.0262,\n",
      "         0.0083, -0.0034, -0.0068, -0.0168, -0.0404, -0.0512,  0.0043,  0.0093,\n",
      "         0.0016, -0.0224, -0.0211, -0.0698, -0.0289,  0.0641, -0.0090, -0.0141,\n",
      "        -0.0192, -0.0052,  0.0018,  0.0634, -0.0718, -0.0553,  0.0939, -0.0416],\n",
      "       grad_fn=<SliceBackward0>)\n",
      "tensor([0.0055], grad_fn=<ViewBackward0>)\n",
      "tensor([ 0.0348, -0.0783,  0.0151,  0.0346, -0.1397,  0.0098,  0.0217,  0.0259,\n",
      "         0.0087, -0.0033, -0.0070, -0.0159, -0.0397, -0.0506,  0.0041,  0.0094,\n",
      "         0.0013, -0.0217, -0.0204, -0.0690, -0.0284,  0.0633, -0.0089, -0.0147,\n",
      "        -0.0194, -0.0052,  0.0016,  0.0627, -0.0711, -0.0546,  0.0929, -0.0412],\n",
      "       grad_fn=<SliceBackward0>)\n",
      "tensor([0.0032], grad_fn=<ViewBackward0>)\n",
      "tensor([ 0.0347, -0.0773,  0.0154,  0.0342, -0.1388,  0.0102,  0.0221,  0.0255,\n",
      "         0.0090, -0.0033, -0.0072, -0.0151, -0.0389, -0.0500,  0.0039,  0.0095,\n",
      "         0.0010, -0.0209, -0.0197, -0.0682, -0.0280,  0.0624, -0.0089, -0.0152,\n",
      "        -0.0196, -0.0052,  0.0014,  0.0620, -0.0703, -0.0539,  0.0919, -0.0407],\n",
      "       grad_fn=<SliceBackward0>)\n",
      "tensor([0.0007], grad_fn=<ViewBackward0>)\n",
      "Epoch [41/50], Loss: 0.5051\n",
      "tensor([ 0.0346, -0.0764,  0.0156,  0.0338, -0.1379,  0.0106,  0.0226,  0.0252,\n",
      "         0.0093, -0.0032, -0.0074, -0.0143, -0.0382, -0.0494,  0.0037,  0.0096,\n",
      "         0.0008, -0.0202, -0.0191, -0.0675, -0.0276,  0.0617, -0.0089, -0.0157,\n",
      "        -0.0198, -0.0052,  0.0012,  0.0613, -0.0696, -0.0531,  0.0910, -0.0403],\n",
      "       grad_fn=<SliceBackward0>)\n",
      "tensor([-0.0016], grad_fn=<ViewBackward0>)\n",
      "tensor([ 0.0345, -0.0756,  0.0159,  0.0335, -0.1372,  0.0108,  0.0229,  0.0250,\n",
      "         0.0096, -0.0032, -0.0075, -0.0136, -0.0377, -0.0489,  0.0035,  0.0097,\n",
      "         0.0005, -0.0196, -0.0185, -0.0669, -0.0272,  0.0610, -0.0088, -0.0161,\n",
      "        -0.0200, -0.0052,  0.0010,  0.0608, -0.0691, -0.0526,  0.0902, -0.0399],\n",
      "       grad_fn=<SliceBackward0>)\n",
      "tensor([-0.0035], grad_fn=<ViewBackward0>)\n",
      "tensor([ 0.0344, -0.0751,  0.0160,  0.0333, -0.1367,  0.0111,  0.0231,  0.0248,\n",
      "         0.0098, -0.0032, -0.0076, -0.0131, -0.0373, -0.0486,  0.0033,  0.0097,\n",
      "         0.0004, -0.0191, -0.0181, -0.0664, -0.0269,  0.0606, -0.0088, -0.0164,\n",
      "        -0.0201, -0.0052,  0.0009,  0.0604, -0.0687, -0.0522,  0.0897, -0.0396],\n",
      "       grad_fn=<SliceBackward0>)\n",
      "tensor([-0.0048], grad_fn=<ViewBackward0>)\n",
      "tensor([ 0.0344, -0.0748,  0.0160,  0.0332, -0.1364,  0.0112,  0.0232,  0.0247,\n",
      "         0.0099, -0.0032, -0.0077, -0.0129, -0.0371, -0.0484,  0.0032,  0.0097,\n",
      "         0.0004, -0.0189, -0.0179, -0.0662, -0.0268,  0.0603, -0.0087, -0.0166,\n",
      "        -0.0201, -0.0051,  0.0008,  0.0601, -0.0684, -0.0520,  0.0894, -0.0394],\n",
      "       grad_fn=<SliceBackward0>)\n",
      "tensor([-0.0054], grad_fn=<ViewBackward0>)\n",
      "tensor([ 0.0344, -0.0748,  0.0159,  0.0332, -0.1364,  0.0112,  0.0231,  0.0246,\n",
      "         0.0099, -0.0033, -0.0076, -0.0128, -0.0371, -0.0485,  0.0031,  0.0096,\n",
      "         0.0005, -0.0189, -0.0177, -0.0661, -0.0267,  0.0603, -0.0086, -0.0167,\n",
      "        -0.0201, -0.0051,  0.0007,  0.0601, -0.0684, -0.0520,  0.0893, -0.0393],\n",
      "       grad_fn=<SliceBackward0>)\n",
      "tensor([-0.0053], grad_fn=<ViewBackward0>)\n",
      "tensor([ 0.0344, -0.0751,  0.0157,  0.0333, -0.1365,  0.0112,  0.0228,  0.0247,\n",
      "         0.0099, -0.0035, -0.0076, -0.0130, -0.0372, -0.0486,  0.0030,  0.0095,\n",
      "         0.0006, -0.0191, -0.0177, -0.0662, -0.0267,  0.0605, -0.0086, -0.0167,\n",
      "        -0.0200, -0.0050,  0.0007,  0.0602, -0.0685, -0.0522,  0.0894, -0.0392],\n",
      "       grad_fn=<SliceBackward0>)\n",
      "tensor([-0.0046], grad_fn=<ViewBackward0>)\n",
      "tensor([ 0.0344, -0.0755,  0.0154,  0.0334, -0.1369,  0.0111,  0.0225,  0.0249,\n",
      "         0.0099, -0.0037, -0.0075, -0.0133, -0.0376, -0.0490,  0.0030,  0.0094,\n",
      "         0.0009, -0.0193, -0.0178, -0.0664, -0.0268,  0.0608, -0.0085, -0.0165,\n",
      "        -0.0198, -0.0049,  0.0007,  0.0604, -0.0687, -0.0525,  0.0897, -0.0392],\n",
      "       grad_fn=<SliceBackward0>)\n",
      "tensor([-0.0033], grad_fn=<ViewBackward0>)\n",
      "tensor([ 0.0345, -0.0761,  0.0151,  0.0336, -0.1373,  0.0110,  0.0220,  0.0250,\n",
      "         0.0098, -0.0039, -0.0073, -0.0136, -0.0380, -0.0493,  0.0029,  0.0092,\n",
      "         0.0012, -0.0197, -0.0180, -0.0667, -0.0269,  0.0612, -0.0083, -0.0163,\n",
      "        -0.0196, -0.0048,  0.0008,  0.0607, -0.0690, -0.0530,  0.0902, -0.0393],\n",
      "       grad_fn=<SliceBackward0>)\n",
      "tensor([-0.0018], grad_fn=<ViewBackward0>)\n",
      "tensor([ 0.0346, -0.0766,  0.0148,  0.0338, -0.1378,  0.0109,  0.0216,  0.0252,\n",
      "         0.0097, -0.0041, -0.0072, -0.0141, -0.0384, -0.0497,  0.0029,  0.0090,\n",
      "         0.0015, -0.0201, -0.0182, -0.0670, -0.0271,  0.0617, -0.0082, -0.0161,\n",
      "        -0.0194, -0.0048,  0.0008,  0.0611, -0.0694, -0.0534,  0.0906, -0.0393],\n",
      "       grad_fn=<SliceBackward0>)\n",
      "tensor([-0.0001], grad_fn=<ViewBackward0>)\n"
     ]
    },
    {
     "name": "stderr",
     "output_type": "stream",
     "text": [
      "D:\\Anaconda3\\lib\\site-packages\\torch\\nn\\modules\\loss.py:535: UserWarning: Using a target size (torch.Size([99, 1])) that is different to the input size (torch.Size([1])). This will likely lead to incorrect results due to broadcasting. Please ensure they have the same size.\n",
      "  return F.mse_loss(input, target, reduction=self.reduction)\n"
     ]
    },
    {
     "data": {
      "image/png": "[encoded data removed]",
      "text/plain": [
       "<Figure size 432x288 with 1 Axes>"
      ]
     },
     "metadata": {},
     "output_type": "display_data"
    }
   ],
   "source": [
    "\n",
    "# 设置随机种子，便于复现结果\n",
    "# torch.manual_seed(1)\n",
    "\n",
    "# 生成时间序列数据\n",
    "seq_len = 100\n",
    "sin_seq = np.sin(np.linspace(0, 2*np.pi, seq_len+1)[:-1])\n",
    "plt.plot(sin_seq)\n",
    "plt.show()\n",
    "\n",
    "# 定义LSTM模型\n",
    "class LSTMModel(nn.Module):\n",
    "    def __init__(self, input_size, hidden_size, output_size):\n",
    "        super(LSTMModel, self).__init__()\n",
    "        self.lstm = nn.LSTM(input_size, hidden_size, batch_first=True)\n",
    "        self.fc = nn.Linear(hidden_size, output_size)\n",
    "\n",
    "    def forward(self, inputx):\n",
    "        output, _ = self.lstm(inputx)\n",
    "        # output = output[:, -1, :]\n",
    "        output = output[-1, :]\n",
    "        print(output)\n",
    "        output = self.fc(output)\n",
    "        print(output)\n",
    "        return output\n",
    "\n",
    "# 定义模型参数\n",
    "input_size = 1\n",
    "hidden_size = 32\n",
    "output_size = 1\n",
    "lr = 0.01\n",
    "epochs = 50\n",
    "\n",
    "# 构造数据集\n",
    "X = []\n",
    "y = []\n",
    "for i in range(seq_len-1):\n",
    "    X.append(sin_seq[i])\n",
    "    y.append(sin_seq[i+1])\n",
    "\n",
    "X = torch.tensor(X).unsqueeze(1).to(torch.float32)\n",
    "y = torch.tensor(y).unsqueeze(1).to(torch.float32)\n",
    "\n",
    "# 初始化模型和优化器\n",
    "model = LSTMModel(input_size, hidden_size, output_size)\n",
    "optimizer = torch.optim.Adam(model.parameters(), lr=lr)\n",
    "criterion = nn.MSELoss()\n",
    "\n",
    "# 训练模型\n",
    "for epoch in range(epochs):\n",
    "    optimizer.zero_grad()\n",
    "    pred = model(X)\n",
    "    loss = criterion(pred, y)\n",
    "    loss.backward()\n",
    "    optimizer.step()\n",
    "    if epoch % 10 == 0:\n",
    "        print('Epoch [{}/{}], Loss: {:.4f}'.format(epoch+1, epochs, loss.item()))\n",
    "\n",
    "# 绘制预测结果\n",
    "plt.plot(y.squeeze().numpy(), label='ground truth')\n",
    "plt.plot(pred.detach().numpy(), label='prediction')\n",
    "plt.legend()\n",
    "plt.show()"
   ]
  },
  {
   "cell_type": "code",
   "execution_count": 106,
   "id": "db8b3329-7748-4b4f-ab55-768298d68c21",
   "metadata": {
    "execution": {
     "iopub.execute_input": "2023-10-16T06:55:54.242210Z",
     "iopub.status.busy": "2023-10-16T06:55:54.241214Z",
     "iopub.status.idle": "2023-10-16T06:55:54.248193Z",
     "shell.execute_reply": "2023-10-16T06:55:54.248193Z",
     "shell.execute_reply.started": "2023-10-16T06:55:54.242210Z"
    },
    "tags": []
   },
   "outputs": [
    {
     "data": {
      "text/plain": [
       "tensor([-0.0022])"
      ]
     },
     "execution_count": 106,
     "metadata": {},
     "output_type": "execute_result"
    }
   ],
   "source": [
    "pred.detach()"
   ]
  }
 ],
 "metadata": {
  "kernelspec": {
   "display_name": "Python 3 (ipykernel)",
   "language": "python",
   "name": "python3"
  },
  "language_info": {
   "codemirror_mode": {
    "name": "ipython",
    "version": 3
   },
   "file_extension": ".py",
   "mimetype": "text/x-python",
   "name": "python",
   "nbconvert_exporter": "python",
   "pygments_lexer": "ipython3",
   "version": "3.9.7"
  }
 },
 "nbformat": 4,
 "nbformat_minor": 5
}
