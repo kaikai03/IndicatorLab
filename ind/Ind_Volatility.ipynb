{
 "cells": [
  {
   "cell_type": "code",
   "execution_count": 57,
   "id": "12b27934-7eac-4e7a-a69e-c1a3f4215f03",
   "metadata": {
    "execution": {
     "iopub.execute_input": "2023-09-05T13:29:54.306396Z",
     "iopub.status.busy": "2023-09-05T13:29:54.304921Z",
     "iopub.status.idle": "2023-09-05T13:29:54.332846Z",
     "shell.execute_reply": "2023-09-05T13:29:54.332072Z",
     "shell.execute_reply.started": "2023-09-05T13:29:54.305921Z"
    },
    "tags": []
   },
   "outputs": [],
   "source": [
    "# %%writefile xxx.py\n",
    "\n",
    "import sys\n",
    "import os \n",
    "module_path = os.path.abspath(os.path.join('..')) \n",
    "if module_path not in sys.path: \n",
    "    sys.path.append(module_path)\n",
    "\n",
    "import numpy as np\n",
    "import pandas as pd\n",
    "\n",
    "import QUANTAXIS as QA\n",
    "\n",
    "import tools.Sample_Tools as smpl\n",
    "from base.JuUnits import excute_for_multidates\n",
    "\n",
    "import matplotlib.pyplot as plt\n",
    "import matplotlib.ticker as ticker\n"
   ]
  },
  {
   "cell_type": "code",
   "execution_count": 66,
   "id": "0ae21e5c-c956-4e62-9ae1-7e8fbd565226",
   "metadata": {
    "execution": {
     "iopub.execute_input": "2023-09-05T13:31:35.935437Z",
     "iopub.status.busy": "2023-09-05T13:31:35.935437Z",
     "iopub.status.idle": "2023-09-05T13:31:36.118343Z",
     "shell.execute_reply": "2023-09-05T13:31:36.117845Z",
     "shell.execute_reply.started": "2023-09-05T13:31:35.935437Z"
    },
    "tags": []
   },
   "outputs": [],
   "source": [
    "min5 = smpl.get_data(['000001'], start='2017-01-03', end='2017-12-31', gap=None, freq=QA.FREQUENCE.FIVE_MIN).data\n"
   ]
  },
  {
   "cell_type": "code",
   "execution_count": 69,
   "id": "4559d233-faa2-4309-8027-ffc34f553ac9",
   "metadata": {
    "execution": {
     "iopub.execute_input": "2023-09-05T13:32:11.848005Z",
     "iopub.status.busy": "2023-09-05T13:32:11.848005Z",
     "iopub.status.idle": "2023-09-05T13:32:11.860598Z",
     "shell.execute_reply": "2023-09-05T13:32:11.859969Z",
     "shell.execute_reply.started": "2023-09-05T13:32:11.848005Z"
    },
    "tags": []
   },
   "outputs": [
    {
     "data": {
      "text/plain": [
       "datetime             code  \n",
       "2017-01-03 09:35:00  000001         NaN\n",
       "2017-01-03 09:40:00  000001   -0.001099\n",
       "2017-01-03 09:45:00  000001    0.001100\n",
       "2017-01-03 09:50:00  000001    0.004396\n",
       "2017-01-03 09:55:00  000001    0.001094\n",
       "                                 ...   \n",
       "2017-12-29 14:40:00  000001   -0.000754\n",
       "2017-12-29 14:45:00  000001   -0.000755\n",
       "2017-12-29 14:50:00  000001    0.005287\n",
       "2017-12-29 14:55:00  000001   -0.001503\n",
       "2017-12-29 15:00:00  000001    0.000752\n",
       "Name: close, Length: 11712, dtype: float64"
      ]
     },
     "execution_count": 69,
     "metadata": {},
     "output_type": "execute_result"
    }
   ],
   "source": [
    "ret5 = min5.close/min5.close.shift(1) - 1\n",
    "ret5"
   ]
  },
  {
   "cell_type": "code",
   "execution_count": 70,
   "id": "5c80361a-9297-4b88-ae19-ee954832121a",
   "metadata": {
    "execution": {
     "iopub.execute_input": "2023-09-05T13:32:52.027634Z",
     "iopub.status.busy": "2023-09-05T13:32:52.027634Z",
     "iopub.status.idle": "2023-09-05T13:32:52.133611Z",
     "shell.execute_reply": "2023-09-05T13:32:52.133611Z",
     "shell.execute_reply.started": "2023-09-05T13:32:52.027634Z"
    },
    "tags": []
   },
   "outputs": [
    {
     "data": {
      "text/html": [
       "<div>\n",
       "<style scoped>\n",
       "    .dataframe tbody tr th:only-of-type {\n",
       "        vertical-align: middle;\n",
       "    }\n",
       "\n",
       "    .dataframe tbody tr th {\n",
       "        vertical-align: top;\n",
       "    }\n",
       "\n",
       "    .dataframe thead th {\n",
       "        text-align: right;\n",
       "    }\n",
       "</style>\n",
       "<table border=\"1\" class=\"dataframe\">\n",
       "  <thead>\n",
       "    <tr style=\"text-align: right;\">\n",
       "      <th></th>\n",
       "      <th></th>\n",
       "      <th>open</th>\n",
       "      <th>high</th>\n",
       "      <th>low</th>\n",
       "      <th>close</th>\n",
       "      <th>volume</th>\n",
       "      <th>amount</th>\n",
       "      <th>type</th>\n",
       "    </tr>\n",
       "    <tr>\n",
       "      <th>datetime</th>\n",
       "      <th>code</th>\n",
       "      <th></th>\n",
       "      <th></th>\n",
       "      <th></th>\n",
       "      <th></th>\n",
       "      <th></th>\n",
       "      <th></th>\n",
       "      <th></th>\n",
       "    </tr>\n",
       "  </thead>\n",
       "  <tbody>\n",
       "    <tr>\n",
       "      <th>2017-01-03 10:00:00</th>\n",
       "      <th>000001</th>\n",
       "      <td>9.11</td>\n",
       "      <td>9.17</td>\n",
       "      <td>9.09</td>\n",
       "      <td>9.17</td>\n",
       "      <td>15533200.0</td>\n",
       "      <td>141786352.0</td>\n",
       "      <td>30min</td>\n",
       "    </tr>\n",
       "    <tr>\n",
       "      <th>2017-01-03 10:30:00</th>\n",
       "      <th>000001</th>\n",
       "      <td>9.17</td>\n",
       "      <td>9.18</td>\n",
       "      <td>9.15</td>\n",
       "      <td>9.16</td>\n",
       "      <td>7086700.0</td>\n",
       "      <td>64971616.0</td>\n",
       "      <td>30min</td>\n",
       "    </tr>\n",
       "    <tr>\n",
       "      <th>2017-01-03 11:00:00</th>\n",
       "      <th>000001</th>\n",
       "      <td>9.17</td>\n",
       "      <td>9.18</td>\n",
       "      <td>9.15</td>\n",
       "      <td>9.15</td>\n",
       "      <td>3731200.0</td>\n",
       "      <td>34188272.0</td>\n",
       "      <td>30min</td>\n",
       "    </tr>\n",
       "    <tr>\n",
       "      <th>2017-01-03 11:30:00</th>\n",
       "      <th>000001</th>\n",
       "      <td>9.15</td>\n",
       "      <td>9.16</td>\n",
       "      <td>9.13</td>\n",
       "      <td>9.14</td>\n",
       "      <td>3003200.0</td>\n",
       "      <td>27468464.0</td>\n",
       "      <td>30min</td>\n",
       "    </tr>\n",
       "    <tr>\n",
       "      <th>2017-01-03 13:30:00</th>\n",
       "      <th>000001</th>\n",
       "      <td>9.13</td>\n",
       "      <td>9.15</td>\n",
       "      <td>9.13</td>\n",
       "      <td>9.14</td>\n",
       "      <td>2267000.0</td>\n",
       "      <td>20721232.0</td>\n",
       "      <td>30min</td>\n",
       "    </tr>\n",
       "    <tr>\n",
       "      <th>...</th>\n",
       "      <th>...</th>\n",
       "      <td>...</td>\n",
       "      <td>...</td>\n",
       "      <td>...</td>\n",
       "      <td>...</td>\n",
       "      <td>...</td>\n",
       "      <td>...</td>\n",
       "      <td>...</td>\n",
       "    </tr>\n",
       "    <tr>\n",
       "      <th>2017-12-29 11:30:00</th>\n",
       "      <th>000001</th>\n",
       "      <td>13.20</td>\n",
       "      <td>13.31</td>\n",
       "      <td>13.19</td>\n",
       "      <td>13.24</td>\n",
       "      <td>7353500.0</td>\n",
       "      <td>97452288.0</td>\n",
       "      <td>30min</td>\n",
       "    </tr>\n",
       "    <tr>\n",
       "      <th>2017-12-29 13:30:00</th>\n",
       "      <th>000001</th>\n",
       "      <td>13.26</td>\n",
       "      <td>13.29</td>\n",
       "      <td>13.18</td>\n",
       "      <td>13.19</td>\n",
       "      <td>9439800.0</td>\n",
       "      <td>124841344.0</td>\n",
       "      <td>30min</td>\n",
       "    </tr>\n",
       "    <tr>\n",
       "      <th>2017-12-29 14:00:00</th>\n",
       "      <th>000001</th>\n",
       "      <td>13.18</td>\n",
       "      <td>13.24</td>\n",
       "      <td>13.12</td>\n",
       "      <td>13.20</td>\n",
       "      <td>10448000.0</td>\n",
       "      <td>137503488.0</td>\n",
       "      <td>30min</td>\n",
       "    </tr>\n",
       "    <tr>\n",
       "      <th>2017-12-29 14:30:00</th>\n",
       "      <th>000001</th>\n",
       "      <td>13.21</td>\n",
       "      <td>13.32</td>\n",
       "      <td>13.19</td>\n",
       "      <td>13.27</td>\n",
       "      <td>13163900.0</td>\n",
       "      <td>174649920.0</td>\n",
       "      <td>30min</td>\n",
       "    </tr>\n",
       "    <tr>\n",
       "      <th>2017-12-29 15:00:00</th>\n",
       "      <th>000001</th>\n",
       "      <td>13.26</td>\n",
       "      <td>13.33</td>\n",
       "      <td>13.23</td>\n",
       "      <td>13.30</td>\n",
       "      <td>14652200.0</td>\n",
       "      <td>194642048.0</td>\n",
       "      <td>30min</td>\n",
       "    </tr>\n",
       "  </tbody>\n",
       "</table>\n",
       "<p>1952 rows × 7 columns</p>\n",
       "</div>"
      ],
      "text/plain": [
       "                             open   high    low  close      volume  \\\n",
       "datetime            code                                             \n",
       "2017-01-03 10:00:00 000001   9.11   9.17   9.09   9.17  15533200.0   \n",
       "2017-01-03 10:30:00 000001   9.17   9.18   9.15   9.16   7086700.0   \n",
       "2017-01-03 11:00:00 000001   9.17   9.18   9.15   9.15   3731200.0   \n",
       "2017-01-03 11:30:00 000001   9.15   9.16   9.13   9.14   3003200.0   \n",
       "2017-01-03 13:30:00 000001   9.13   9.15   9.13   9.14   2267000.0   \n",
       "...                           ...    ...    ...    ...         ...   \n",
       "2017-12-29 11:30:00 000001  13.20  13.31  13.19  13.24   7353500.0   \n",
       "2017-12-29 13:30:00 000001  13.26  13.29  13.18  13.19   9439800.0   \n",
       "2017-12-29 14:00:00 000001  13.18  13.24  13.12  13.20  10448000.0   \n",
       "2017-12-29 14:30:00 000001  13.21  13.32  13.19  13.27  13163900.0   \n",
       "2017-12-29 15:00:00 000001  13.26  13.33  13.23  13.30  14652200.0   \n",
       "\n",
       "                                 amount   type  \n",
       "datetime            code                        \n",
       "2017-01-03 10:00:00 000001  141786352.0  30min  \n",
       "2017-01-03 10:30:00 000001   64971616.0  30min  \n",
       "2017-01-03 11:00:00 000001   34188272.0  30min  \n",
       "2017-01-03 11:30:00 000001   27468464.0  30min  \n",
       "2017-01-03 13:30:00 000001   20721232.0  30min  \n",
       "...                                 ...    ...  \n",
       "2017-12-29 11:30:00 000001   97452288.0  30min  \n",
       "2017-12-29 13:30:00 000001  124841344.0  30min  \n",
       "2017-12-29 14:00:00 000001  137503488.0  30min  \n",
       "2017-12-29 14:30:00 000001  174649920.0  30min  \n",
       "2017-12-29 15:00:00 000001  194642048.0  30min  \n",
       "\n",
       "[1952 rows x 7 columns]"
      ]
     },
     "execution_count": 70,
     "metadata": {},
     "output_type": "execute_result"
    }
   ],
   "source": [
    "min30 = smpl.get_data(['000001'], start='2017-01-03', end='2017-12-31', gap=None, freq=QA.FREQUENCE.THIRTY_MIN).data\n"
   ]
  },
  {
   "cell_type": "code",
   "execution_count": 71,
   "id": "4a67ffb3-f012-4b38-8c87-0fa61fe83007",
   "metadata": {
    "execution": {
     "iopub.execute_input": "2023-09-05T13:33:18.470101Z",
     "iopub.status.busy": "2023-09-05T13:33:18.470101Z",
     "iopub.status.idle": "2023-09-05T13:33:18.490903Z",
     "shell.execute_reply": "2023-09-05T13:33:18.490149Z",
     "shell.execute_reply.started": "2023-09-05T13:33:18.470101Z"
    },
    "tags": []
   },
   "outputs": [
    {
     "data": {
      "text/plain": [
       "datetime             code  \n",
       "2017-01-03 10:00:00  000001         NaN\n",
       "2017-01-03 10:30:00  000001   -0.001091\n",
       "2017-01-03 11:00:00  000001   -0.001092\n",
       "2017-01-03 11:30:00  000001   -0.001093\n",
       "2017-01-03 13:30:00  000001    0.000000\n",
       "                                 ...   \n",
       "2017-12-29 11:30:00  000001    0.003030\n",
       "2017-12-29 13:30:00  000001   -0.003776\n",
       "2017-12-29 14:00:00  000001    0.000758\n",
       "2017-12-29 14:30:00  000001    0.005303\n",
       "2017-12-29 15:00:00  000001    0.002261\n",
       "Name: close, Length: 1952, dtype: float64"
      ]
     },
     "execution_count": 71,
     "metadata": {},
     "output_type": "execute_result"
    }
   ],
   "source": [
    "ret30 = min30.close/min30.close.shift(1) - 1\n",
    "ret30"
   ]
  },
  {
   "cell_type": "code",
   "execution_count": 72,
   "id": "9acc932d-b4c3-4e50-911a-acc5345b89d9",
   "metadata": {
    "execution": {
     "iopub.execute_input": "2023-09-05T13:33:29.989983Z",
     "iopub.status.busy": "2023-09-05T13:33:29.989983Z",
     "iopub.status.idle": "2023-09-05T13:33:30.021010Z",
     "shell.execute_reply": "2023-09-05T13:33:30.020900Z",
     "shell.execute_reply.started": "2023-09-05T13:33:29.989983Z"
    },
    "tags": []
   },
   "outputs": [
    {
     "data": {
      "text/plain": [
       "0.002328890543630854"
      ]
     },
     "execution_count": 72,
     "metadata": {},
     "output_type": "execute_result"
    }
   ],
   "source": [
    "ret5.std()"
   ]
  },
  {
   "cell_type": "code",
   "execution_count": 73,
   "id": "145abfdb-fcd5-4cca-9af6-bc79c67e500b",
   "metadata": {
    "execution": {
     "iopub.execute_input": "2023-09-05T13:33:35.573566Z",
     "iopub.status.busy": "2023-09-05T13:33:35.573566Z",
     "iopub.status.idle": "2023-09-05T13:33:35.586892Z",
     "shell.execute_reply": "2023-09-05T13:33:35.586632Z",
     "shell.execute_reply.started": "2023-09-05T13:33:35.573566Z"
    },
    "tags": []
   },
   "outputs": [
    {
     "data": {
      "text/plain": [
       "0.005692617783639892"
      ]
     },
     "execution_count": 73,
     "metadata": {},
     "output_type": "execute_result"
    }
   ],
   "source": [
    "ret30.std()"
   ]
  },
  {
   "cell_type": "code",
   "execution_count": 74,
   "id": "ff77528e-e54d-40f8-8f83-030bbcdc2ec8",
   "metadata": {
    "execution": {
     "iopub.execute_input": "2023-09-05T13:34:36.653613Z",
     "iopub.status.busy": "2023-09-05T13:34:36.652615Z",
     "iopub.status.idle": "2023-09-05T13:34:36.745367Z",
     "shell.execute_reply": "2023-09-05T13:34:36.745367Z",
     "shell.execute_reply.started": "2023-09-05T13:34:36.653613Z"
    },
    "tags": []
   },
   "outputs": [
    {
     "data": {
      "text/plain": [
       "0.00798770423036689"
      ]
     },
     "execution_count": 74,
     "metadata": {},
     "output_type": "execute_result"
    }
   ],
   "source": [
    "min60 = smpl.get_data(['000001'], start='2017-01-03', end='2017-12-31', gap=None, freq=QA.FREQUENCE.HOUR).data\n",
    "ret60 = min60.close/min60.close.shift(1) - 1\n",
    "ret60.std()"
   ]
  }
 ],
 "metadata": {
  "kernelspec": {
   "display_name": "Python 3 (ipykernel)",
   "language": "python",
   "name": "python3"
  },
  "language_info": {
   "codemirror_mode": {
    "name": "ipython",
    "version": 3
   },
   "file_extension": ".py",
   "mimetype": "text/x-python",
   "name": "python",
   "nbconvert_exporter": "python",
   "pygments_lexer": "ipython3",
   "version": "3.9.7"
  }
 },
 "nbformat": 4,
 "nbformat_minor": 5
}
