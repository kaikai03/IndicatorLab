{
 "cells": [
  {
   "cell_type": "code",
   "execution_count": 1,
   "id": "12b27934-7eac-4e7a-a69e-c1a3f4215f03",
   "metadata": {
    "execution": {
     "iopub.execute_input": "2023-09-02T15:03:28.176048Z",
     "iopub.status.busy": "2023-09-02T15:03:28.175434Z",
     "iopub.status.idle": "2023-09-02T15:03:54.070684Z",
     "shell.execute_reply": "2023-09-02T15:03:54.070684Z",
     "shell.execute_reply.started": "2023-09-02T15:03:28.176048Z"
    },
    "tags": []
   },
   "outputs": [],
   "source": [
    "# %%writefile xxx.py\n",
    "\n",
    "import sys\n",
    "import os \n",
    "module_path = os.path.abspath(os.path.join('..')) \n",
    "if module_path not in sys.path: \n",
    "    sys.path.append(module_path)\n",
    "\n",
    "import numpy as np\n",
    "import pandas as pd\n",
    "\n",
    "import QUANTAXIS as QA\n",
    "\n",
    "import tools.Sample_Tools as smpl\n",
    "from base.JuUnits import excute_for_multidates\n",
    "\n",
    "import matplotlib.pyplot as plt\n",
    "import matplotlib.ticker as ticker\n"
   ]
  },
  {
   "cell_type": "code",
   "execution_count": null,
   "id": "0ae21e5c-c956-4e62-9ae1-7e8fbd565226",
   "metadata": {
    "execution": {
     "iopub.execute_input": "2023-09-02T15:06:24.320267Z",
     "iopub.status.busy": "2023-09-02T15:06:24.320267Z"
    },
    "tags": []
   },
   "outputs": [],
   "source": [
    "min1 = smpl.get_data(['000001'], start='2017-01-03', end=None, gap=220, freq=QA.FREQUENCE.ONE_MIN)"
   ]
  },
  {
   "cell_type": "code",
   "execution_count": null,
   "id": "4559d233-faa2-4309-8027-ffc34f553ac9",
   "metadata": {},
   "outputs": [],
   "source": [
    "min5 = smpl.get_data(['000001'], start='2017-01-03', end=None, gap=220, freq=QA.FREQUENCE.FIVE_MIN):\n"
   ]
  },
  {
   "cell_type": "code",
   "execution_count": 3,
   "id": "e79628e9-6e5c-4f12-a0b4-40e2b30ad4b1",
   "metadata": {
    "execution": {
     "iopub.execute_input": "2023-08-28T10:41:53.826412Z",
     "iopub.status.busy": "2023-08-28T10:41:53.826412Z",
     "iopub.status.idle": "2023-08-28T10:41:59.664072Z",
     "shell.execute_reply": "2023-08-28T10:41:59.663839Z",
     "shell.execute_reply.started": "2023-08-28T10:41:53.826412Z"
    },
    "tags": []
   },
   "outputs": [],
   "source": []
  }
 ],
 "metadata": {
  "kernelspec": {
   "display_name": "Python 3 (ipykernel)",
   "language": "python",
   "name": "python3"
  },
  "language_info": {
   "codemirror_mode": {
    "name": "ipython",
    "version": 3
   },
   "file_extension": ".py",
   "mimetype": "text/x-python",
   "name": "python",
   "nbconvert_exporter": "python",
   "pygments_lexer": "ipython3",
   "version": "3.9.7"
  }
 },
 "nbformat": 4,
 "nbformat_minor": 5
}
