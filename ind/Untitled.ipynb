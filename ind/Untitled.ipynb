{
 "cells": [
  {
   "cell_type": "code",
   "execution_count": 8,
   "id": "bac06be8-76b5-4295-8c30-45ac642cf324",
   "metadata": {
    "execution": {
     "iopub.execute_input": "2022-03-07T03:48:06.775120Z",
     "iopub.status.busy": "2022-03-07T03:48:06.775120Z",
     "iopub.status.idle": "2022-03-07T03:48:06.850988Z",
     "shell.execute_reply": "2022-03-07T03:48:06.850988Z",
     "shell.execute_reply.started": "2022-03-07T03:48:06.775120Z"
    },
    "tags": []
   },
   "outputs": [
    {
     "name": "stdout",
     "output_type": "stream",
     "text": [
      "The autoreload extension is already loaded. To reload it, use:\n",
      "  %reload_ext autoreload\n",
      "Wall time: 763 µs\n"
     ]
    }
   ],
   "source": [
    "%%time\n",
    "import sys\n",
    "import os \n",
    "module_path = os.path.abspath(os.path.join('..')) \n",
    "if module_path not in sys.path: \n",
    "    sys.path.append(module_path)\n",
    "import tools.Sample_Tools as smpl\n",
    "import tools.Factor_Cacher as cacher\n",
    "import tools.Pretreat_Tools as pretreat\n",
    "from base.JuUnits import excute_for_multidates\n",
    "\n",
    "import pandas as pd\n",
    "import numpy as np\n",
    "\n",
    "%load_ext autoreload\n",
    "%autoreload 2\n",
    "%aimport tools.Factor_Cacher\n"
   ]
  },
  {
   "cell_type": "code",
   "execution_count": 44,
   "id": "cfdb8e8e-4591-42e3-86bb-3c0945b54202",
   "metadata": {
    "execution": {
     "iopub.execute_input": "2022-03-09T15:32:54.910322Z",
     "iopub.status.busy": "2022-03-09T15:32:54.910322Z",
     "iopub.status.idle": "2022-03-09T15:32:54.972157Z",
     "shell.execute_reply": "2022-03-09T15:32:54.972157Z",
     "shell.execute_reply.started": "2022-03-09T15:32:54.910322Z"
    },
    "tags": []
   },
   "outputs": [
    {
     "name": "stdout",
     "output_type": "stream",
     "text": [
      "Wall time: 972 µs\n"
     ]
    },
    {
     "data": {
      "text/plain": [
       "date        code  \n",
       "2021-11-24  000001    0.006190\n",
       "            000002    0.004977\n",
       "            000063    0.004130\n",
       "            000066    0.002145\n",
       "            000069    0.002378\n",
       "                        ...   \n",
       "            603899    0.002456\n",
       "            603939    0.001951\n",
       "            603986    0.003391\n",
       "            603993    0.003765\n",
       "            605499    0.002920\n",
       "Name: totalCapital, Length: 255, dtype: float64"
      ]
     },
     "execution_count": 44,
     "metadata": {},
     "output_type": "execute_result"
    }
   ],
   "source": [
    "%%time\n",
    "# factors = cacher.load_caches_adv(['alpha11','alpha24','alpha38','alpha41'],'2021-11-24','2021-11-24')\n",
    "# codes = factors.index.get_level_values(1).unique()\n",
    "# dates = factors.index.get_level_values(0).unique()\n",
    "# data = smpl.get_data(codes.to_list(),dates.min().strftime('%Y-%m-%d'),dates.max().strftime('%Y-%m-%d')).data\n",
    "# mv_industry = smpl.add_marketvalue_industry(data).drop(columns=data.columns.to_list())\n",
    "# industy = mv_industry['industry']\n",
    "cap = mv_industry['totalCapital']\n",
    "adj_weight = np.sqrt(cap)/np.sqrt(cap).sum()\n",
    "adj_weight_mat = pd.DataFrame(np.diag(adj_weight),index=)\n",
    "# ret_forward = smpl.get_forward_return(data,'close')\n",
    "# ret_forward.name = 'ret_forward'\n",
    "# factors = factors.assign(country=1.0, industry = data['industry'])\n",
    "# factors = pd.get_dummies(factors,'industry')\n"
   ]
  },
  {
   "cell_type": "code",
   "execution_count": 14,
   "id": "d670c89d-6b06-40c0-b1ad-9c6e49ebc440",
   "metadata": {
    "execution": {
     "iopub.execute_input": "2022-03-07T09:24:28.121832Z",
     "iopub.status.busy": "2022-03-07T09:24:28.119890Z",
     "iopub.status.idle": "2022-03-07T09:24:28.400093Z",
     "shell.execute_reply": "2022-03-07T09:24:28.399171Z",
     "shell.execute_reply.started": "2022-03-07T09:24:28.121832Z"
    },
    "tags": []
   },
   "outputs": [],
   "source": [
    "k=factors.shape[1]\n",
    "diag_r = np.diag(np.ones(k))\n",
    "location = k-1\n",
    "r=np.delete(diag_r,location,axis=1)\n",
    "\n",
    "\n"
   ]
  },
  {
   "cell_type": "code",
   "execution_count": 15,
   "id": "4c1b49e3-eb06-4772-bb20-88f43eca8e77",
   "metadata": {
    "execution": {
     "iopub.execute_input": "2022-03-07T09:24:29.599762Z",
     "iopub.status.busy": "2022-03-07T09:24:29.599287Z",
     "iopub.status.idle": "2022-03-07T09:24:29.689045Z",
     "shell.execute_reply": "2022-03-07T09:24:29.688048Z",
     "shell.execute_reply.started": "2022-03-07T09:24:29.599762Z"
    },
    "tags": []
   },
   "outputs": [
    {
     "data": {
      "text/plain": [
       "(128, 127)"
      ]
     },
     "execution_count": 15,
     "metadata": {},
     "output_type": "execute_result"
    }
   ],
   "source": [
    "r.shape"
   ]
  },
  {
   "cell_type": "code",
   "execution_count": 73,
   "id": "92e9264b-4fff-4074-aec9-e2b0a5c96130",
   "metadata": {
    "execution": {
     "iopub.execute_input": "2022-03-06T15:12:54.233337Z",
     "iopub.status.busy": "2022-03-06T15:12:54.233337Z",
     "iopub.status.idle": "2022-03-06T15:12:55.109151Z",
     "shell.execute_reply": "2022-03-06T15:12:55.108277Z",
     "shell.execute_reply.started": "2022-03-06T15:12:54.233337Z"
    },
    "tags": []
   },
   "outputs": [
    {
     "data": {
      "text/plain": [
       "167423"
      ]
     },
     "execution_count": 73,
     "metadata": {},
     "output_type": "execute_result"
    }
   ],
   "source": [
    "# factors.info(memory_usage='deep')\n",
    "# factors.memory_usage(deep=True)\n",
    "# import gc\n",
    "# gc.collect()"
   ]
  }
 ],
 "metadata": {
  "kernelspec": {
   "display_name": "Python 3 (ipykernel)",
   "language": "python",
   "name": "python3"
  },
  "language_info": {
   "codemirror_mode": {
    "name": "ipython",
    "version": 3
   },
   "file_extension": ".py",
   "mimetype": "text/x-python",
   "name": "python",
   "nbconvert_exporter": "python",
   "pygments_lexer": "ipython3",
   "version": "3.9.7"
  }
 },
 "nbformat": 4,
 "nbformat_minor": 5
}
