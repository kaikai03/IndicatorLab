{
 "cells": [
  {
   "cell_type": "code",
   "execution_count": 1,
   "id": "bac06be8-76b5-4295-8c30-45ac642cf324",
   "metadata": {
    "execution": {
     "iopub.execute_input": "2022-03-06T15:19:36.334904Z",
     "iopub.status.busy": "2022-03-06T15:19:36.334248Z",
     "iopub.status.idle": "2022-03-06T15:19:38.507835Z",
     "shell.execute_reply": "2022-03-06T15:19:38.506972Z",
     "shell.execute_reply.started": "2022-03-06T15:19:36.334248Z"
    },
    "tags": []
   },
   "outputs": [
    {
     "name": "stdout",
     "output_type": "stream",
     "text": [
      "Wall time: 2.16 s\n"
     ]
    }
   ],
   "source": [
    "%%time\n",
    "import sys\n",
    "import os \n",
    "module_path = os.path.abspath(os.path.join('..')) \n",
    "if module_path not in sys.path: \n",
    "    sys.path.append(module_path)\n",
    "import tools.Sample_Tools as smpl\n",
    "import tools.Factor_Cacher as cacher\n",
    "import tools.Pretreat_Tools as pretreat\n",
    "from base.JuUnits import excute_for_multidates\n",
    "\n",
    "import pandas as pd\n",
    "import numpy as np\n",
    "\n"
   ]
  },
  {
   "cell_type": "code",
   "execution_count": 4,
   "id": "cfdb8e8e-4591-42e3-86bb-3c0945b54202",
   "metadata": {
    "execution": {
     "iopub.execute_input": "2022-03-06T15:20:36.138942Z",
     "iopub.status.busy": "2022-03-06T15:20:36.137945Z",
     "iopub.status.idle": "2022-03-06T15:21:05.407097Z",
     "shell.execute_reply": "2022-03-06T15:21:05.406066Z",
     "shell.execute_reply.started": "2022-03-06T15:20:36.138942Z"
    },
    "tags": []
   },
   "outputs": [
    {
     "name": "stdout",
     "output_type": "stream",
     "text": [
      "Wall time: 29.3 s\n"
     ]
    }
   ],
   "source": [
    "%%time\n",
    "factors = cacher.load_caches_adv(['alpha11','alpha24','alpha38','alpha41'])\n",
    "codes = factors.index.get_level_values(1).unique()\n",
    "dates = factors.index.get_level_values(0).unique()\n",
    "data = smpl.get_data(codes.to_list(),dates.min().strftime('%Y-%m-%d'),dates.max().strftime('%Y-%m-%d')).data\n",
    "data = smpl.add_marketvalue_industry(data)\n",
    "ret_forward = smpl.get_forward_return(data,'close')\n",
    "ret_forward.name = 'ret_forward'\n",
    "factors = factors.assgin(country=1, industry = data['industry'])\n",
    "factors = pd.get_dummies(factors,'industry')\n"
   ]
  },
  {
   "cell_type": "code",
   "execution_count": 73,
   "id": "92e9264b-4fff-4074-aec9-e2b0a5c96130",
   "metadata": {
    "execution": {
     "iopub.execute_input": "2022-03-06T15:12:54.233337Z",
     "iopub.status.busy": "2022-03-06T15:12:54.233337Z",
     "iopub.status.idle": "2022-03-06T15:12:55.109151Z",
     "shell.execute_reply": "2022-03-06T15:12:55.108277Z",
     "shell.execute_reply.started": "2022-03-06T15:12:54.233337Z"
    },
    "tags": []
   },
   "outputs": [
    {
     "data": {
      "text/plain": [
       "167423"
      ]
     },
     "execution_count": 73,
     "metadata": {},
     "output_type": "execute_result"
    }
   ],
   "source": [
    "# factors.info(memory_usage='deep')\n",
    "# factors.memory_usage(deep=True)\n",
    "# import gc\n",
    "# gc.collect()"
   ]
  }
 ],
 "metadata": {
  "kernelspec": {
   "display_name": "Python 3 (ipykernel)",
   "language": "python",
   "name": "python3"
  },
  "language_info": {
   "codemirror_mode": {
    "name": "ipython",
    "version": 3
   },
   "file_extension": ".py",
   "mimetype": "text/x-python",
   "name": "python",
   "nbconvert_exporter": "python",
   "pygments_lexer": "ipython3",
   "version": "3.9.7"
  }
 },
 "nbformat": 4,
 "nbformat_minor": 5
}
