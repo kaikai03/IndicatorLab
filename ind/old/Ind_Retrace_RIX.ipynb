{
 "cells": [
  {
   "cell_type": "code",
   "execution_count": 2,
   "id": "f26dfb74-6c45-4688-8894-bb459a1233d9",
   "metadata": {},
   "outputs": [
    {
     "name": "stdout",
     "output_type": "stream",
     "text": [
      "Overwriting Ind_Retrace_RIX.py\n"
     ]
    }
   ],
   "source": [
    "# %%writefile Ind_Retrace_RIX.py\n",
    "\n",
    "import os \n",
    "import sys \n",
    "module_path = os.path.abspath(os.path.join('..')) \n",
    "if module_path not in sys.path: \n",
    "    sys.path.append(module_path)\n",
    "    \n",
    "import numpy as np\n",
    "import pandas as pd\n",
    "\n",
    "import QUANTAXIS as QA\n",
    "\n",
    "import Ind_Model_Base\n",
    "\n",
    "import matplotlib.pyplot as plt\n",
    "import matplotlib.ticker as ticker\n",
    "\n",
    "import tools.Sample_Tools as smpl\n",
    "import tools.Pretreat_Tools as pretreat\n",
    "import Analysis_Funs as af\n",
    "\n",
    "from base.JuUnits import roll_multi_result\n",
    "\n",
    "%load_ext autoreload\n",
    "%autoreload 2\n",
    "%aimport tools.Pretreat_Tools,tools.Sample_Tools,base.JuUnits\n",
    "\n",
    "\n",
    "class RetraceRate(Ind_Model_Base.Ind_Model):\n",
    "    optimum_param={'valid':True, 'main':'max_retrace_rate', 'desition_direct':-1, 'window':14, 'freq':'d','neutralize':{'enable':False,'static_mv':False}}\n",
    "    \"\"\"回撤（回吐）类指标\n",
    "        main 默认是回撤率，\n",
    "        sub（含main）顺序为：回撤率,最大回撤周期,最大回撤,最大下跌恢复周期，最大过山车周期\n",
    "    \"\"\"\n",
    "    \n",
    "    def __init__(self,data, frequence=QA.FREQUENCE.DAY):\n",
    "        super().__init__(data, 'RetraceRate', frequence)\n",
    "    \n",
    "    def on_set_params_default(self):\n",
    "        return {'window':14,'moving':5}\n",
    "    \n",
    "        \n",
    "    def on_indicator_structuring(self, data):\n",
    "        return self.excute_for_multicode(data, self.kernel, **self.pramas)\n",
    "\n",
    "    \n",
    "#     def on_desition_structuring(self, data, ind_data):\n",
    "#         \"\"\"\n",
    "#         \"\"\"\n",
    "\n",
    "        \n",
    "    def kernel(self,dataframe, window=14, moving=5):\n",
    "        CLOSE = dataframe.close\n",
    "        if self.ignore_sub_and_desition:\n",
    "            retraces = CLOSE.rolling(window).apply(lambda x:af.retracing(x)[1])\n",
    "            return pd.DataFrame({'main':retraces}) \n",
    "        else:\n",
    "            def dealing(arr):\n",
    "                data_ = arr[:,2]\n",
    "#                 print(data_)\n",
    "                retrace = af.retracing(data_)\n",
    "                climb = af.climbing(data_)\n",
    "                recover = af.get_longest_recover_duration(data_,af.cross_sign(af.get_direct_sign(data_)))[0]\n",
    "                rollercoaster = af.get_longest_rollercoaster_duration(data_,af.cross_sign(af.get_direct_sign(data_)))[0]\n",
    "                \n",
    "                # 回撤率,最大回撤周期,最大回撤,爬升率,最大爬升周期,最大爬升,恢复，过山车\n",
    "                return retrace[1],retrace[2],retrace[0],climb[1],climb[2],climb[0],recover,rollercoaster\n",
    "#             \n",
    "            res = roll_multi_result(CLOSE, dealing, window, 8)\n",
    "#             print(res)\n",
    "#             print(CLOSE.index)\n",
    "            return pd.DataFrame({'max_retrace_rate':res[:,0], 'max_retrace_duration':res[:,1], 'max_retrace':res[:,2], \n",
    "                                 'max_climb_rate':res[:,3], 'max_climb_duration':res[:,4], 'max_climb':res[:,5], \n",
    "                                 'recovers_duration':res[:,6], 'rollercoaster_duration':res[:,7]},index=CLOSE.index)\n",
    "  \n",
    "\n",
    "    \n",
    "    def plot(self,):\n",
    "        pass\n",
    "#         groups = self.ind_df.groupby(level=1)\n",
    "#         fig = plt.figure(figsize=(1120/72,210*len(groups)/72))\n",
    "#         for idx,item in enumerate(groups):\n",
    "#             inds_ = item[1].reset_index('code',drop=True)\n",
    "#             ax = fig.add_subplot(len(groups),1,idx+1)\n",
    "            \n",
    "            \n",
    "#             ##axis不转成字符串的话，bar和line的x轴有时候对不上，原因未知\n",
    "#             formater = '%Y%m%d' if self.is_low_frequence else '%Y%m%d %H%M%S'\n",
    "#             index_ = [pd.to_datetime(x).strftime(formater) for x in inds_.index.values]\n",
    "# #             d = item[1].reset_index(('date','code'),drop=True)\n",
    "\n",
    "#             ax.set_title(item[0],color='blue', loc ='left', pad=-10) \n",
    "    \n",
    "#             close = self.data.close.loc[(slice(None),item[0])]\n",
    "#             close.index = index_\n",
    "#             close.plot(kind='line', ax=ax)\n",
    "            \n",
    "#             ax2 = ax.twinx()\n",
    "#             ax2.set_ylim([-1,1])\n",
    "            \n",
    "#             main = inds_['main']\n",
    "#             main.index = index_\n",
    "#             main.plot(kind='line', color='black', ax=ax2,label='stably')\n",
    "            \n",
    "#             if not self.ignore_sub_and_desition:\n",
    "#                 sub = inds_['sub']\n",
    "#                 sub.index = index_\n",
    "#                 sub.plot(kind='line', ax=ax2, color='grey',label='unStably')\n",
    "#                 ax.xaxis.set_major_locator(ticker.MaxNLocator(10))\n",
    "                \n",
    "#             plt.legend(loc='lower left', fontsize=10) \n",
    "#             plt.xticks(rotation = 0)\n",
    "    \n",
    "\n",
    "    "
   ]
  },
  {
   "cell_type": "code",
   "execution_count": 1,
   "id": "4e517f95-d4ef-43bf-a2c3-e689041e21a8",
   "metadata": {
    "tags": []
   },
   "outputs": [
    {
     "name": "stdout",
     "output_type": "stream",
     "text": [
      "最大回撤周期： 14\n",
      "最大回撤： 24.429290011716947\n",
      "回撤率： 0.81\n",
      "最大恢复周期 20 12 32\n",
      "最大过山车 5 9 14\n"
     ]
    },
    {
     "data": {
      "image/png": "[encoded data removed]",
      "text/plain": [
       "<Figure size 432x288 with 1 Axes>"
      ]
     },
     "metadata": {
      "needs_background": "light"
     },
     "output_type": "display_data"
    }
   ],
   "source": [
    "\n",
    "\n",
    "import numpy as np\n",
    "import matplotlib.pyplot as plt\n",
    "\n",
    "import Analysis_Funs as af\n",
    "\n",
    "d = np.random.normal(0,5,50).cumsum()\n",
    "# d = np.linspace(1,10, num=15)\n",
    "\n",
    "retrace= af.retracing(d)\n",
    "print('最大回撤周期：', retrace[2])\n",
    "print('最大回撤：', retrace[0])\n",
    "print('回撤率：', retrace[1])\n",
    "    \n",
    "\n",
    "xx = af.get_direct_sign(d)\n",
    "xxcs = af.cross_sign(xx)\n",
    "# print(xxcs)\n",
    "\n",
    "recover = af.get_longest_recover_duration(d, xxcs)\n",
    "\n",
    "print('最大恢复周期', recover[0], recover[1],recover[2])\n",
    "\n",
    "\n",
    "rollercoaster = af.get_longest_rollercoaster_duration(d, xxcs)\n",
    "\n",
    "print('最大过山车', rollercoaster[0], rollercoaster[1],rollercoaster[2])\n",
    "    \n",
    "\n",
    "plt.plot(range(len(d)),d)\n",
    "plt.scatter(retrace[3],d[retrace[3]],color='fuchsia',linewidths=5)\n",
    "plt.scatter(retrace[4],d[retrace[4]],color='fuchsia',linewidths=5)\n",
    "for idx, cro in enumerate(xxcs):\n",
    "    if cro == 0:\n",
    "        continue\n",
    "    if cro == 1:\n",
    "        co = 'r'\n",
    "    else:\n",
    "        co = 'g'\n",
    "    plt.scatter(idx,d[idx],color=co,linewidths=1)\n",
    "    \n",
    "if rollercoaster[0] != 0:\n",
    "    plt.fill_between(np.linspace(rollercoaster[1],rollercoaster[2], num=rollercoaster[0]+1), \n",
    "                     np.linspace(d[rollercoaster[1]],d[rollercoaster[2]], num=rollercoaster[0]+1), \n",
    "                     y2=d[rollercoaster[1]:rollercoaster[2]+1],alpha=0.4,color='pink')\n",
    "\n",
    "if recover[0] != 0:\n",
    "    plt.fill_between(np.linspace(recover[1],recover[2], num=recover[0]+1), \n",
    "                     np.linspace(d[recover[1]],d[recover[2]], num=recover[0]+1), \n",
    "                     y2=d[recover[1]:recover[2]+1],alpha=0.4,color='cadetblue')\n",
    "\n",
    "plt.show()\n",
    "\n",
    "# d=[11,12,13,20.,19,18,17,18,23,21]\n",
    "# np.maximum.accumulate(d)"
   ]
  },
  {
   "cell_type": "code",
   "execution_count": 125,
   "id": "184eac09-c9b7-4f30-bc07-c9e5b9ce2eb3",
   "metadata": {
    "collapsed": true,
    "jupyter": {
     "outputs_hidden": true
    },
    "tags": []
   },
   "outputs": [
    {
     "name": "stdout",
     "output_type": "stream",
     "text": [
      "['600000', '600009', '600016', '600028', '600030', '600031', '600036', '600048', '600050', '600104', '600196', '600276', '600309', '600438', '600519', '600547', '600570', '600585', '600588', '600690', '600703', '600745', '600809', '600837', '600887', '600893', '600918', '601012', '601066', '601088', '601138', '601166', '601211', '601288', '601318', '601336', '601398', '601601', '601628', '601668', '601688', '601818', '601857', '601888', '601899', '601995', '603259', '603288', '603501', '603986']\n"
     ]
    }
   ],
   "source": [
    "print(data.close.index.get_level_values(1).unique().to_list())"
   ]
  },
  {
   "cell_type": "code",
   "execution_count": 37,
   "id": "2781a065-f2d2-4370-bb10-f7d467f8ac2e",
   "metadata": {
    "collapsed": true,
    "jupyter": {
     "outputs_hidden": true
    },
    "tags": []
   },
   "outputs": [
    {
     "name": "stdout",
     "output_type": "stream",
     "text": [
      "最大回撤周期： 9\n",
      "最大回撤： 1.8499999999999979\n",
      "回撤率： 0.08\n",
      "[ 0.  1.  1. -1.  1. -1. -1.  1.  1. -1.  1.  1. -1. -1.]\n",
      "[ 0  0 -1  1 -1  0  1  0 -1  1  0 -1  0  0]\n",
      "最大huifu 2 2 4\n",
      "最大guoshance 4 9 13\n"
     ]
    },
    {
     "data": {
      "image/png": "[encoded data removed]",
      "text/plain": [
       "<Figure size 432x288 with 1 Axes>"
      ]
     },
     "metadata": {
      "needs_background": "light"
     },
     "output_type": "display_data"
    }
   ],
   "source": [
    "# import tools.Sample_Tools as smpl\n",
    "# data = smpl.get_sample_by_zs(name='上证50', end='2021-09-03', gap=50, only_main=True)\n",
    "test = data.close.loc[:,'000001'][0+10:14+10]\n",
    "\n",
    "test_retrace= af.retracing(test)\n",
    "print('最大回撤周期：', test_retrace[2])\n",
    "print('最大回撤：', test_retrace[0])\n",
    "print('回撤率：', test_retrace[1])\n",
    "\n",
    "# print(test)\n",
    "test_direct = af.get_direct_sign(test)\n",
    "print(test_direct)\n",
    "test_cs = af.cross_sign(test_direct)\n",
    "print(test_cs)\n",
    "test_re = af.get_longest_recover_duration(test.values, test_cs)\n",
    "test_rc = af.get_longest_rollercoaster_duration(test.values, test_cs)\n",
    "\n",
    "print('最大huifu', test_re[0], test_re[1],test_re[2])\n",
    "print('最大guoshance', test_rc[0], test_rc[1],test_rc[2])\n",
    "\n",
    "plt.plot(range(len(test)),test)\n",
    "plt.scatter(test_retrace[3],test[test_retrace[3]],color='fuchsia',linewidths=5)\n",
    "plt.scatter(test_retrace[4],test[test_retrace[4]],color='fuchsia',linewidths=5)\n",
    "\n",
    "for idx, cro in enumerate(test_cs):\n",
    "    if cro == 0:\n",
    "        continue\n",
    "    if cro == 1:\n",
    "        co = 'r'\n",
    "    else:\n",
    "        co = 'g'\n",
    "    plt.scatter(idx,test[idx],color=co,linewidths=1)\n",
    "    \n",
    "if test_rc[0] != 0:\n",
    "    plt.fill_between(np.linspace(test_rc[1],test_rc[2], num=test_rc[0]+1), \n",
    "                     np.linspace(test[test_rc[1]],test[test_rc[2]], num=test_rc[0]+1), \n",
    "                     y2=test[test_rc[1]:test_rc[2]+1],alpha=0.4,color='pink')\n",
    "\n",
    "if test_re[0] != 0:\n",
    "    plt.fill_between(np.linspace(test_re[1],test_re[2], num=test_re[0]+1), \n",
    "                     np.linspace(test[test_re[1]],test[test_re[2]], num=test_re[0]+1), \n",
    "                     y2=test[test_re[1]:test_re[2]+1],alpha=0.4,color='cadetblue')\n",
    "\n",
    "plt.show()"
   ]
  },
  {
   "cell_type": "code",
   "execution_count": 56,
   "id": "30607e57-05ab-4853-8040-cae9a8b164b2",
   "metadata": {
    "tags": []
   },
   "outputs": [],
   "source": [
    "# data = smpl.get_sample_by_zs(name='上证50', end='2021-09-03', gap=252, only_main=True)\n",
    "data = smpl.get_data(['000001','000002','000004','000005','000006'], end='2021-09-03', gap=64)\n",
    "# df_re = smpl.resample_stockdata_low(data.data,'M')\n",
    "p = RetraceRate(data)\n",
    "p.change_pramas(window=14)\n",
    "p.set_ignore_sub_ind(False)\n",
    "p.fit()"
   ]
  },
  {
   "cell_type": "code",
   "execution_count": 62,
   "id": "1fe51288-e132-498f-9676-55dc281c632e",
   "metadata": {
    "tags": []
   },
   "outputs": [
    {
     "name": "stdout",
     "output_type": "stream",
     "text": [
      "                   max_retrace_rate  max_retrace_duration  max_retrace  max_climb_rate  max_climb_duration  max_climb  recovers_duration  rollercoaster_duration\n",
      "date       code                                                                                                                                                 \n",
      "2021-06-04 000001               NaN                   NaN          NaN             NaN                 NaN        NaN                NaN                     NaN\n",
      "2021-06-07 000001               NaN                   NaN          NaN             NaN                 NaN        NaN                NaN                     NaN\n",
      "2021-06-08 000001               NaN                   NaN          NaN             NaN                 NaN        NaN                NaN                     NaN\n",
      "2021-06-09 000001               NaN                   NaN          NaN             NaN                 NaN        NaN                NaN                     NaN\n",
      "2021-06-10 000001               NaN                   NaN          NaN             NaN                 NaN        NaN                NaN                     NaN\n",
      "2021-06-11 000001               NaN                   NaN          NaN             NaN                 NaN        NaN                NaN                     NaN\n",
      "2021-06-15 000001               NaN                   NaN          NaN             NaN                 NaN        NaN                NaN                     NaN\n",
      "2021-06-16 000001               NaN                   NaN          NaN             NaN                 NaN        NaN                NaN                     NaN\n",
      "2021-06-17 000001               NaN                   NaN          NaN             NaN                 NaN        NaN                NaN                     NaN\n",
      "2021-06-18 000001               NaN                   NaN          NaN             NaN                 NaN        NaN                NaN                     NaN\n",
      "2021-06-21 000001               NaN                   NaN          NaN             NaN                 NaN        NaN                NaN                     NaN\n",
      "2021-06-22 000001               NaN                   NaN          NaN             NaN                 NaN        NaN                NaN                     NaN\n",
      "2021-06-23 000001               NaN                   NaN          NaN             NaN                 NaN        NaN                NaN                     NaN\n",
      "2021-06-24 000001              0.10                   7.0         2.49            0.04                -2.0       0.98                0.0                     3.0\n",
      "2021-06-25 000001              0.10                   7.0         2.49            0.05                -4.0       1.20                7.0                     2.0\n",
      "2021-06-28 000001              0.10                   7.0         2.49            0.05                -4.0       1.20                7.0                     2.0\n",
      "2021-06-29 000001              0.10                   7.0         2.49            0.05                -4.0       1.20                7.0                     2.0\n",
      "2021-06-30 000001              0.08                   6.0         2.04            0.05                -4.0       1.20                7.0                     2.0\n",
      "2021-07-01 000001              0.05                   5.0         1.21            0.05                -4.0       1.20                7.0                     2.0\n",
      "2021-07-02 000001              0.07                   5.0         1.55            0.05                -4.0       1.20                7.0                     9.0\n",
      "2021-07-05 000001              0.07                   5.0         1.55            0.05                -4.0       1.20                2.0                     9.0\n",
      "2021-07-06 000001              0.07                   5.0         1.55            0.05                -4.0       1.20                2.0                     9.0\n",
      "2021-07-07 000001              0.07                   5.0         1.55            0.05                -4.0       1.20                2.0                     9.0\n",
      "2021-07-08 000001              0.08                   9.0         1.85            0.05                -4.0       1.20                2.0                     4.0\n",
      "2021-07-09 000001              0.09                  10.0         2.09            0.04                -2.0       0.97                2.0                     4.0\n",
      "2021-07-12 000001              0.09                  11.0         2.20            0.04                -2.0       0.97                0.0                     4.0\n",
      "2021-07-13 000001              0.10                  12.0         2.24            0.04                -2.0       0.97                0.0                     4.0\n",
      "2021-07-14 000001              0.11                  13.0         2.60            0.04                -2.0       0.97                0.0                     4.0\n",
      "2021-07-15 000001              0.11                   9.0         2.44            0.04                -2.0       0.97                0.0                     4.0\n",
      "2021-07-16 000001              0.11                   9.0         2.44            0.04                -2.0       0.97                0.0                     4.0\n",
      "2021-07-19 000001              0.11                   9.0         2.44            0.04                -2.0       0.97                0.0                     4.0\n",
      "2021-07-20 000001              0.11                  13.0         2.60            0.04                -2.0       0.97                0.0                     4.0\n",
      "2021-07-21 000001              0.10                  11.0         2.33            0.04                -2.0       0.97                0.0                     4.0\n",
      "2021-07-22 000001              0.11                  12.0         2.40            0.04                -1.0       0.86                0.0                     4.0\n",
      "2021-07-23 000001              0.12                  13.0         2.68            0.04                -1.0       0.86                0.0                     4.0\n",
      "2021-07-26 000001              0.17                  13.0         3.75            0.04                -1.0       0.86                0.0                     4.0\n",
      "2021-07-27 000001              0.18                   8.0         3.86            0.04                -1.0       0.86                0.0                     4.0\n",
      "2021-07-28 000001              0.18                   9.0         3.87            0.04                -1.0       0.86                0.0                     4.0\n",
      "2021-07-29 000001              0.18                   9.0         3.87            0.04                -1.0       0.86                0.0                     4.0\n",
      "2021-07-30 000001              0.18                  11.0         3.93            0.04                -1.0       0.86                0.0                     4.0\n",
      "2021-08-02 000001              0.18                  11.0         3.93            0.04                -1.0       0.86                2.0                     2.0\n",
      "2021-08-03 000001              0.18                  11.0         3.93            0.02                -1.0       0.32                2.0                     2.0\n",
      "2021-08-04 000001              0.17                  10.0         3.65            0.02                -1.0       0.32                2.0                     2.0\n",
      "2021-08-05 000001              0.17                  13.0         3.53            0.02                -1.0       0.32                2.0                     4.0\n",
      "2021-08-06 000001              0.14                  12.0         2.92            0.02                -1.0       0.32                2.0                     4.0\n",
      "2021-08-09 000001              0.14                  11.0         2.77            0.08                -2.0       1.38                5.0                     4.0\n",
      "2021-08-10 000001              0.13                  10.0         2.70            0.12                -3.0       2.05                5.0                     4.0\n",
      "2021-08-11 000001              0.12                   9.0         2.42            0.12                -4.0       2.13                5.0                     4.0\n",
      "2021-08-12 000001              0.06                   8.0         1.12            0.13                -5.0       2.21                5.0                     4.0\n",
      "2021-08-13 000001              0.02                   3.0         0.33            0.13                -5.0       2.21                5.0                     4.0\n",
      "2021-08-16 000001              0.02                   3.0         0.33            0.13                -7.0       2.27                5.0                     4.0\n",
      "2021-08-17 000001              0.02                   3.0         0.33            0.13                -7.0       2.27                5.0                     4.0\n",
      "2021-08-18 000001              0.02                   3.0         0.33            0.17                -9.0       2.94                5.0                     0.0\n",
      "2021-08-19 000001              0.02                   3.0         0.33            0.17                -9.0       2.94                2.0                     0.0\n",
      "2021-08-20 000001              0.06                   2.0         1.20            0.17                -9.0       2.94                2.0                     3.0\n",
      "2021-08-23 000001              0.06                   3.0         1.32            0.17                -9.0       2.94                2.0                     3.0\n",
      "2021-08-24 000001              0.06                   3.0         1.32            0.17                -9.0       2.94                2.0                     3.0\n",
      "2021-08-25 000001              0.07                   5.0         1.46            0.15                -8.0       2.76                2.0                     3.0\n",
      "2021-08-26 000001              0.10                   6.0         2.16            0.08                -7.0       1.56                2.0                     3.0\n",
      "2021-08-27 000001              0.11                   7.0         2.23            0.05                -1.0       0.95                2.0                     3.0\n",
      "2021-08-30 000001              0.14                   8.0         2.90            0.05                -1.0       0.95                2.0                     3.0\n",
      "2021-08-31 000001              0.14                   8.0         2.90            0.05                -1.0       0.95                2.0                     3.0\n",
      "2021-09-01 000001              0.14                   8.0         2.90            0.05                -1.0       0.95                2.0                     3.0\n",
      "2021-09-02 000001              0.14                   8.0         2.90            0.05                -1.0       0.95                0.0                     3.0\n",
      "2021-09-03 000001              0.14                   8.0         2.90            0.05                -1.0       0.95                0.0                     2.0\n"
     ]
    }
   ],
   "source": [
    "with pd.option_context('display.max_rows', None, 'display.max_columns', None,'display.width', 999):\n",
    "    print(p.ind_df.loc[(slice(None),'000001'),:])"
   ]
  },
  {
   "cell_type": "code",
   "execution_count": 12,
   "id": "c14b6e25-8724-44f1-a71b-42ba389348e8",
   "metadata": {
    "tags": []
   },
   "outputs": [],
   "source": [
    "from numpy.lib.stride_tricks import as_strided as stride\n",
    "# import pandas as pd\n",
    "\n",
    "dates = pd.date_range('20130101', periods=13, freq='D')\n",
    "dfx = pd.DataFrame({'C': [1.6, 4.1, 2.7, 4.9, 5.4, 1.3, 6.6, 9.6, 3.5, 5.4, 10.1, 3.08, 5.38],'D': [2, 3, 4, 5, 6, 1.3, 6.6, 9.6, 3.5, 5.4, 10.1, 3.08, 5.38]}, index=dates)\n",
    "dfx.index.name = 'datetime'\n",
    "\n",
    "dfs = dfx['C']\n",
    "\n",
    "def own_func_np2(arr, **kwargs):\n",
    "    c = arr[:, 1]\n",
    "#     d = arr[:, 2]\n",
    "    return np.mean(c), np.max(c) #+ np.min(d)\n",
    "\n",
    "result = roll_multi_result(dfs, own_func_np2, 3, 2)\n",
    "dfx['a']= result[:,0]\n",
    "dfx['b']= result[:,1]"
   ]
  },
  {
   "cell_type": "code",
   "execution_count": 28,
   "id": "80b8d4a4-6ca7-40d1-a284-64764ff5d92b",
   "metadata": {
    "collapsed": true,
    "jupyter": {
     "outputs_hidden": true
    },
    "tags": []
   },
   "outputs": [
    {
     "name": "stdout",
     "output_type": "stream",
     "text": [
      "date\n",
      "2021-06-04    24.54\n",
      "2021-06-07    24.30\n",
      "2021-06-08    24.53\n",
      "2021-06-09    24.65\n",
      "2021-06-10    24.20\n",
      "2021-06-11    23.37\n",
      "2021-06-15    23.22\n",
      "2021-06-16    23.26\n",
      "2021-06-17    23.10\n",
      "2021-06-18    22.65\n",
      "2021-06-21    22.16\n",
      "2021-06-22    22.97\n",
      "2021-06-23    23.14\n",
      "2021-06-24    23.08\n",
      "2021-06-25    23.36\n",
      "2021-06-28    22.78\n",
      "2021-06-29    22.34\n",
      "2021-06-30    22.62\n",
      "2021-07-01    23.20\n",
      "2021-07-02    21.81\n",
      "2021-07-05    22.06\n",
      "2021-07-06    22.78\n",
      "2021-07-07    22.55\n",
      "2021-07-08    21.51\n",
      "2021-07-09    21.27\n",
      "2021-07-12    21.16\n",
      "2021-07-13    21.12\n",
      "2021-07-14    20.76\n",
      "2021-07-15    21.62\n",
      "2021-07-16    21.34\n",
      "2021-07-19    21.21\n",
      "2021-07-20    20.60\n",
      "2021-07-21    20.45\n",
      "2021-07-22    20.38\n",
      "2021-07-23    20.10\n",
      "2021-07-26    18.80\n",
      "2021-07-27    17.76\n",
      "2021-07-28    17.75\n",
      "2021-07-29    17.96\n",
      "2021-07-30    17.69\n",
      "2021-08-02    18.01\n",
      "2021-08-03    17.89\n",
      "2021-08-04    17.81\n",
      "2021-08-05    17.68\n",
      "2021-08-06    17.86\n",
      "2021-08-09    19.06\n",
      "2021-08-10    19.73\n",
      "2021-08-11    19.81\n",
      "2021-08-12    19.89\n",
      "2021-08-13    19.89\n",
      "2021-08-16    19.95\n",
      "2021-08-17    19.67\n",
      "2021-08-18    20.62\n",
      "2021-08-19    20.34\n",
      "2021-08-20    19.42\n",
      "2021-08-23    19.30\n",
      "2021-08-24    19.36\n",
      "2021-08-25    19.16\n",
      "2021-08-26    18.46\n",
      "2021-08-27    18.39\n",
      "2021-08-30    17.72\n",
      "2021-08-31    17.80\n",
      "2021-09-01    17.88\n",
      "2021-09-02    18.40\n",
      "2021-09-03    18.04\n",
      "Name: close, dtype: float64\n"
     ]
    }
   ],
   "source": [
    "def tttt(arr):\n",
    "    close = arr[:,2]\n",
    "    print(close)\n",
    "    return close.mean(),close.max()\n",
    "\n",
    "def roll(df: pd.DataFrame, apply_func: callable, window: int, return_col_num: int, **kwargs):\n",
    "    # move index to values\n",
    "    v = df.reset_index().values\n",
    "\n",
    "    dim0, dim1 = v.shape\n",
    "    stride0, stride1 = v.strides\n",
    "\n",
    "    stride_values = stride(v, (dim0 - (window - 1), window, dim1), (stride0, stride0, stride1))\n",
    "\n",
    "    result_values = np.full((dim0, return_col_num), np.nan)\n",
    "\n",
    "    for idx, values in enumerate(stride_values, window - 1):\n",
    "        # values : col 1 is index, other is value\n",
    "        result_values[idx,] = apply_func(values, **kwargs)\n",
    "\n",
    "    return result_values\n",
    "\n",
    "# data.close.reset_index(drop=True).reset_index().values.shape\n",
    "# res = roll(data.close, tttt, 5, 2)\n",
    "# data.close.reset_index().values\n",
    "# res\n",
    "with pd.option_context('display.max_rows', None, 'display.max_columns', None,'display.width', 999):\n",
    "    print(data.close.loc[:,'000001'])"
   ]
  },
  {
   "cell_type": "code",
   "execution_count": 3,
   "id": "6bb3188c-dae4-49c7-bdf4-df53bd25dd80",
   "metadata": {},
   "outputs": [
    {
     "data": {
      "image/png": "[encoded data removed]",
      "text/plain": [
       "<Figure size 432x288 with 1 Axes>"
      ]
     },
     "metadata": {
      "needs_background": "light"
     },
     "output_type": "display_data"
    }
   ],
   "source": [
    "def climbup(data:np.ndarray):\n",
    "    '''上升\n",
    "       :param data: ;\n",
    "       :return：{tuple} -- tuple(最大上升,上升率,最大上升周期,底下标,顶下标)\n",
    "    '''\n",
    "    top_index = np.argmax(data-np.minimum.accumulate(data))\n",
    "    if top_index == 0:\n",
    "        return 0, 0, 0, 0, 0\n",
    "    bottom_index = np.argmin(data[:top_index])\n",
    "    \n",
    "    duration = bottom_index - top_index\n",
    "    up = data[top_index] - data[bottom_index]\n",
    "    up_rate = np.round(up / data[bottom_index], 2)\n",
    "    return up, up_rate, duration, bottom_index, top_index\n",
    "\n",
    "d = np.random.normal(0,5,50).cumsum()\n",
    "# d = np.linspace(1,10, num=15)\n",
    "\n",
    "\n",
    "climb = climbup(d)\n",
    "plt.plot(range(len(d)),d)\n",
    "plt.scatter(climb[3],d[climb[3]],color='r',linewidths=5)\n",
    "plt.scatter(climb[4],d[climb[4]],color='b',linewidths=5)\n",
    "plt.show()"
   ]
  }
 ],
 "metadata": {
  "kernelspec": {
   "display_name": "Python 3",
   "language": "python",
   "name": "python3"
  },
  "language_info": {
   "codemirror_mode": {
    "name": "ipython",
    "version": 3
   },
   "file_extension": ".py",
   "mimetype": "text/x-python",
   "name": "python",
   "nbconvert_exporter": "python",
   "pygments_lexer": "ipython3",
   "version": "3.8.8"
  }
 },
 "nbformat": 4,
 "nbformat_minor": 5
}
