{
 "cells": [
  {
   "cell_type": "code",
   "execution_count": 102,
   "id": "c09aacca-53c4-4b23-b02a-712199abf5fa",
   "metadata": {
    "execution": {
     "iopub.execute_input": "2022-03-01T12:09:01.296769Z",
     "iopub.status.busy": "2022-03-01T12:09:01.295771Z",
     "iopub.status.idle": "2022-03-01T12:09:01.309785Z",
     "shell.execute_reply": "2022-03-01T12:09:01.309785Z",
     "shell.execute_reply.started": "2022-03-01T12:09:01.296769Z"
    },
    "tags": []
   },
   "outputs": [],
   "source": [
    "# %%writefile Factor_Cacher.py\n",
    "\n",
    "import sys\n",
    "import os \n",
    "module_path = os.path.abspath(os.path.join('..')) \n",
    "if module_path not in sys.path: \n",
    "    sys.path.append(module_path)\n",
    "\n",
    "import pandas as pd\n",
    "import numpy as np\n",
    "\n",
    "import tools.Sample_Tools as smpl\n",
    "import base.JuUnits as ju\n",
    "\n",
    "__cache_dir__ = ju.get_root_path()+'/cache.feather/'\n",
    "__cache_type__ = '.feather'\n",
    "\n",
    "# df = smpl.get_sample_by_zs(name='沪深300', end='2021-11-28', gap=2500,  only_main=True, filter_st=True).data\n",
    "# df.to_parquet(__cache_dir__+'test.parquet')\n",
    "\n",
    "def file_path(file_name):\n",
    "    return __cache_dir__ + file_name + __cache_type__\n",
    "\n",
    "def is_cache_exist(name):\n",
    "    return os.path.exists(file_path(name))\n",
    "\n",
    "def save_cache(name, data):\n",
    "    df.reset_index().to_feather(file_path(name))\n",
    "    \n",
    "def load_cache(name, to_series=False):\n",
    "    assert is_cache_exist(name),'cache not exist, create first'\n",
    "    df = pd.read_feather(file_path(name)).set_index(['date','code'])\n",
    "    if to_series:\n",
    "        df =  df.squeeze()\n",
    "    return df\n",
    "\n",
    "def load_cache_adv(name, start, end, to_series=False):\n",
    "    assert is_cache_exist(name),'cache not exist, create first'\n",
    "        \n",
    "    st = pd.Timestamp(start) \n",
    "    en = pd.Timestamp(end) \n",
    "\n",
    "    df = pd.read_feather(file_path(name)).set_index(['date','code'])[st:en]\n",
    "    date_idx = df.index.get_level_values(0).unique()\n",
    "    if not (st >= date_idx.min() and en <= date_idx.max()):\n",
    "        info = 'date range out of cache[{},{}]'.format(\n",
    "            date_idx.min().strftime('%Y-%m-%d %H:%M:%S'), \n",
    "            date_idx.max().strftime('%Y-%m-%d %H:%M:%S')\n",
    "        )\n",
    "        raise BaseException(info)\n",
    "    \n",
    "    if to_series:\n",
    "        df =  df.squeeze()\n",
    "    return df"
   ]
  },
  {
   "cell_type": "code",
   "execution_count": 31,
   "id": "5bea2938-a841-4124-a0c8-9669c93c2524",
   "metadata": {
    "execution": {
     "iopub.execute_input": "2022-03-01T11:14:52.775885Z",
     "iopub.status.busy": "2022-03-01T11:14:52.775885Z",
     "iopub.status.idle": "2022-03-01T11:14:52.859660Z",
     "shell.execute_reply": "2022-03-01T11:14:52.859660Z",
     "shell.execute_reply.started": "2022-03-01T11:14:52.775885Z"
    },
    "tags": []
   },
   "outputs": [
    {
     "name": "stdout",
     "output_type": "stream",
     "text": [
      "Wall time: 71.8 ms\n"
     ]
    }
   ],
   "source": [
    "%%time\n",
    "df.reset_index().to_feather(__cache_dir__+'test.feather')"
   ]
  },
  {
   "cell_type": "code",
   "execution_count": 107,
   "id": "fd023f9f-27e9-4f6d-8145-14ad3b803054",
   "metadata": {
    "execution": {
     "iopub.execute_input": "2022-03-01T12:10:06.553396Z",
     "iopub.status.busy": "2022-03-01T12:10:06.553396Z",
     "iopub.status.idle": "2022-03-01T12:10:06.565416Z",
     "shell.execute_reply": "2022-03-01T12:10:06.565416Z",
     "shell.execute_reply.started": "2022-03-01T12:10:06.553396Z"
    },
    "tags": []
   },
   "outputs": [],
   "source": [
    "# df['open'].reset_index().to_feather(__cache_dir__+'test_s.feather')\n",
    "# pd.read_feather(__cache_dir__+'test_s.feather').set_index(['date','code']).squeeze()\n",
    "# df.squeeze()\n"
   ]
  }
 ],
 "metadata": {
  "kernelspec": {
   "display_name": "Python 3 (ipykernel)",
   "language": "python",
   "name": "python3"
  },
  "language_info": {
   "codemirror_mode": {
    "name": "ipython",
    "version": 3
   },
   "file_extension": ".py",
   "mimetype": "text/x-python",
   "name": "python",
   "nbconvert_exporter": "python",
   "pygments_lexer": "ipython3",
   "version": "3.9.7"
  }
 },
 "nbformat": 4,
 "nbformat_minor": 5
}
