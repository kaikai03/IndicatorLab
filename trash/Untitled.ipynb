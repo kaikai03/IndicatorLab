{
 "cells": [
  {
   "cell_type": "code",
   "execution_count": 34,
   "id": "af80987a-8a3b-4946-92b1-77b676f48972",
   "metadata": {},
   "outputs": [],
   "source": [
    "import requests\n",
    "import json\n",
    "import pandas as pd\n",
    "import numpy as np"
   ]
  },
  {
   "cell_type": "code",
   "execution_count": 3,
   "id": "b5a8584f-86c0-4fce-ad20-f4e50fa09329",
   "metadata": {
    "execution": {
     "iopub.execute_input": "2022-01-26T05:26:05.089213Z",
     "iopub.status.busy": "2022-01-26T05:26:05.089213Z",
     "iopub.status.idle": "2022-01-26T05:26:05.119394Z",
     "shell.execute_reply": "2022-01-26T05:26:05.118363Z",
     "shell.execute_reply.started": "2022-01-26T05:26:05.089213Z"
    },
    "tags": []
   },
   "outputs": [],
   "source": [
    "ps = []"
   ]
  },
  {
   "cell_type": "code",
   "execution_count": 45,
   "id": "01959495-66cd-468b-a83e-b8ab68557eb3",
   "metadata": {},
   "outputs": [],
   "source": [
    "url = 'http://--------:8001/research/diagnose/getDiagnoseByLsh'\n",
    "# all_zyzd = []\n",
    "quanbuzenduan = []\n",
    "for idx, code in enumerate(ps):\n",
    "    try:\n",
    "        r = requests.get(url, {'jzlsh':code,'jzlb':2,'startRow':0,'pageSize':-1}, cookies={'JSESSIONID':'BCD2E0FB970C1AA8EC557B95423C6605'})\n",
    "        res = json.loads(r.text)['result']\n",
    "        \n",
    "    except Exception as e:\n",
    "        print(code,\"===============\",e)\n",
    "        continue\n",
    "        \n",
    "    if len(res) == 0:\n",
    "        print(code,\"===============\",0)\n",
    "        continue\n",
    "    \n",
    "    tmp = []\n",
    "    for item in res:\n",
    "#         if int(item['zdlbdm']) == 0:\n",
    "#             all_zyzd.append(item['zdmc'])\n",
    "        tmp.append(item['zdmc'])\n",
    "    \n",
    "    quanbuzenduan.extend(list(set(tmp)))\n",
    "    "
   ]
  },
  {
   "cell_type": "code",
   "execution_count": 1,
   "id": "b4d7f80a-5090-464b-a945-134273f6a2fc",
   "metadata": {
    "execution": {
     "iopub.execute_input": "2022-01-26T05:25:48.130501Z",
     "iopub.status.busy": "2022-01-26T05:25:48.129503Z",
     "iopub.status.idle": "2022-01-26T05:25:48.142299Z",
     "shell.execute_reply": "2022-01-26T05:25:48.142299Z",
     "shell.execute_reply.started": "2022-01-26T05:25:48.129503Z"
    },
    "tags": []
   },
   "outputs": [],
   "source": [
    "# all_counts = pd.Series(all_zyzd).value_counts()\n",
    "# with pd.option_context('display.max_rows', None, 'display.max_columns', None, 'display.width', 999):\n",
    "#     print(all_counts)\n",
    "\n",
    "# quanbuzenduan_counts = pd.Series(quanbuzenduan).value_counts()\n",
    "# with pd.option_context('display.max_rows', None, 'display.max_columns', None, 'display.width', 999):\n",
    "#     print(quanbuzenduan_counts)\n"
   ]
  },
  {
   "cell_type": "code",
   "execution_count": 2,
   "id": "1ca266ad-fd4b-42cf-ba90-2641bd52c876",
   "metadata": {
    "execution": {
     "iopub.execute_input": "2022-01-26T05:25:50.843304Z",
     "iopub.status.busy": "2022-01-26T05:25:50.842237Z",
     "iopub.status.idle": "2022-01-26T05:25:50.849251Z",
     "shell.execute_reply": "2022-01-26T05:25:50.849251Z",
     "shell.execute_reply.started": "2022-01-26T05:25:50.843304Z"
    },
    "tags": []
   },
   "outputs": [],
   "source": [
    "# all_zyzd"
   ]
  }
 ],
 "metadata": {
  "kernelspec": {
   "display_name": "Python 3 (ipykernel)",
   "language": "python",
   "name": "python3"
  },
  "language_info": {
   "codemirror_mode": {
    "name": "ipython",
    "version": 3
   },
   "file_extension": ".py",
   "mimetype": "text/x-python",
   "name": "python",
   "nbconvert_exporter": "python",
   "pygments_lexer": "ipython3",
   "version": "3.9.7"
  }
 },
 "nbformat": 4,
 "nbformat_minor": 5
}
