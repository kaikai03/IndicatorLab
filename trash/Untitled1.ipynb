{
 "cells": [
  {
   "cell_type": "code",
   "execution_count": 19,
   "id": "a6262f3d-5c36-4e92-b498-92c9131f6eea",
   "metadata": {
    "execution": {
     "iopub.execute_input": "2022-01-20T05:33:03.533619Z",
     "iopub.status.busy": "2022-01-20T05:33:03.533619Z",
     "iopub.status.idle": "2022-01-20T05:33:03.542598Z",
     "shell.execute_reply": "2022-01-20T05:33:03.542598Z",
     "shell.execute_reply.started": "2022-01-20T05:33:03.533619Z"
    },
    "tags": []
   },
   "outputs": [],
   "source": [
    "import pandas as pd\n",
    "import json\n",
    "import numpy as np"
   ]
  },
  {
   "cell_type": "code",
   "execution_count": 4,
   "id": "234a71b2-7b1f-48cc-a8af-cf48bd53305d",
   "metadata": {
    "execution": {
     "iopub.execute_input": "2022-01-20T05:15:57.277125Z",
     "iopub.status.busy": "2022-01-20T05:15:57.277125Z",
     "iopub.status.idle": "2022-01-20T05:15:57.432781Z",
     "shell.execute_reply": "2022-01-20T05:15:57.431958Z",
     "shell.execute_reply.started": "2022-01-20T05:15:57.277125Z"
    },
    "tags": []
   },
   "outputs": [],
   "source": [
    "data = pd.read_csv('./rd_scale_asd.csv',encoding=\"GBK\")"
   ]
  },
  {
   "cell_type": "code",
   "execution_count": 75,
   "id": "86c3508f-b1e4-46ca-abd8-c4baa4bddd51",
   "metadata": {
    "execution": {
     "iopub.execute_input": "2022-01-26T05:25:38.343270Z",
     "iopub.status.busy": "2022-01-26T05:25:38.343270Z",
     "iopub.status.idle": "2022-01-26T05:25:38.346262Z",
     "shell.execute_reply": "2022-01-26T05:25:38.346262Z",
     "shell.execute_reply.started": "2022-01-26T05:25:38.343270Z"
    },
    "tags": []
   },
   "outputs": [],
   "source": [
    "# data_tmp = data[0:10]\n",
    "# data"
   ]
  },
  {
   "cell_type": "code",
   "execution_count": 68,
   "id": "2d82560e-725e-4f1e-8e0a-3e3c53a217f2",
   "metadata": {
    "execution": {
     "iopub.execute_input": "2022-01-20T06:24:43.634415Z",
     "iopub.status.busy": "2022-01-20T06:24:43.634415Z",
     "iopub.status.idle": "2022-01-20T06:24:43.815661Z",
     "shell.execute_reply": "2022-01-20T06:24:43.815661Z",
     "shell.execute_reply.started": "2022-01-20T06:24:43.634415Z"
    },
    "tags": []
   },
   "outputs": [],
   "source": [
    "lst = []\n",
    "for i,row in data.iterrows():\n",
    "    items = json.loads(row['q_result'])\n",
    "    tmp = []\n",
    "    for item in items:\n",
    "        tmp.append(item['value'])\n",
    "    lst.append(tmp)\n",
    "\n",
    "unit1 = pd.DataFrame(lst, columns=['单元1_题目'+str(i+1) for i in range(4)])\n",
    "data_x = pd.concat([data,unit1],axis=1)"
   ]
  },
  {
   "cell_type": "code",
   "execution_count": 69,
   "id": "c84b6d8b-e7f5-4b63-83b7-0abdb569c49b",
   "metadata": {
    "execution": {
     "iopub.execute_input": "2022-01-20T06:24:45.186286Z",
     "iopub.status.busy": "2022-01-20T06:24:45.185287Z",
     "iopub.status.idle": "2022-01-20T06:24:45.371902Z",
     "shell.execute_reply": "2022-01-20T06:24:45.371902Z",
     "shell.execute_reply.started": "2022-01-20T06:24:45.186286Z"
    },
    "tags": []
   },
   "outputs": [],
   "source": [
    "lst = []\n",
    "for i,row in data.iterrows():\n",
    "    if not isinstance(row['f_result'], str):\n",
    "        lst.append([])\n",
    "        continue\n",
    "    items = json.loads(row['f_result'])\n",
    "    tmp = []\n",
    "    for item in items:\n",
    "        tmp.append(item['value'])\n",
    "    lst.append(tmp)\n",
    "\n",
    "unit2 = pd.DataFrame(lst, columns=['单元2_题目'+str(i+1) for i in range(5)])\n",
    "data_x = pd.concat([data_x,unit2],axis=1)"
   ]
  },
  {
   "cell_type": "code",
   "execution_count": 70,
   "id": "63323185-6752-41b6-b325-9bdf3492153e",
   "metadata": {
    "execution": {
     "iopub.execute_input": "2022-01-20T06:24:46.669205Z",
     "iopub.status.busy": "2022-01-20T06:24:46.669205Z",
     "iopub.status.idle": "2022-01-20T06:24:46.839398Z",
     "shell.execute_reply": "2022-01-20T06:24:46.839398Z",
     "shell.execute_reply.started": "2022-01-20T06:24:46.669205Z"
    },
    "tags": []
   },
   "outputs": [],
   "source": [
    "lst = []\n",
    "for i,row in data.iterrows():\n",
    "    if not isinstance(row['t_result'], str):\n",
    "        lst.append([])\n",
    "        continue\n",
    "    items = json.loads(row['t_result'])\n",
    "    tmp = []\n",
    "    for item in items:\n",
    "        tmp.append(item['value'])\n",
    "    lst.append(tmp)\n",
    "\n",
    "unit3 = pd.DataFrame(lst, columns=['单元3_题目'+str(i+1) for i in range(23)])\n",
    "data_x = pd.concat([data_x,unit3],axis=1)"
   ]
  },
  {
   "cell_type": "code",
   "execution_count": 71,
   "id": "36050483-2842-407d-9134-c087a49a290f",
   "metadata": {
    "execution": {
     "iopub.execute_input": "2022-01-20T06:24:48.174314Z",
     "iopub.status.busy": "2022-01-20T06:24:48.174314Z",
     "iopub.status.idle": "2022-01-20T06:24:48.337158Z",
     "shell.execute_reply": "2022-01-20T06:24:48.337158Z",
     "shell.execute_reply.started": "2022-01-20T06:24:48.174314Z"
    },
    "tags": []
   },
   "outputs": [],
   "source": [
    "lst = []\n",
    "for i,row in data.iterrows():\n",
    "    if not isinstance(row['c_result'], str):\n",
    "        lst.append([])\n",
    "        continue\n",
    "    items = json.loads(row['c_result'])\n",
    "    tmp = []\n",
    "    for item in items:\n",
    "        tmp.append(item['value'])\n",
    "    lst.append(tmp)\n",
    "\n",
    "unit4 = pd.DataFrame(lst, columns=['单元4_题目'+str(i+1) for i in range(15)])\n",
    "data_x = pd.concat([data_x,unit4],axis=1)"
   ]
  },
  {
   "cell_type": "code",
   "execution_count": 73,
   "id": "673cd018-0e0f-4029-9e7f-07f8b8f06046",
   "metadata": {
    "execution": {
     "iopub.execute_input": "2022-01-20T06:27:38.951750Z",
     "iopub.status.busy": "2022-01-20T06:27:38.951750Z",
     "iopub.status.idle": "2022-01-20T06:27:42.237099Z",
     "shell.execute_reply": "2022-01-20T06:27:42.237099Z",
     "shell.execute_reply.started": "2022-01-20T06:27:38.951750Z"
    },
    "tags": []
   },
   "outputs": [],
   "source": [
    "data_x.to_excel('./deal.xlsx')"
   ]
  }
 ],
 "metadata": {
  "kernelspec": {
   "display_name": "Python 3 (ipykernel)",
   "language": "python",
   "name": "python3"
  },
  "language_info": {
   "codemirror_mode": {
    "name": "ipython",
    "version": 3
   },
   "file_extension": ".py",
   "mimetype": "text/x-python",
   "name": "python",
   "nbconvert_exporter": "python",
   "pygments_lexer": "ipython3",
   "version": "3.9.7"
  }
 },
 "nbformat": 4,
 "nbformat_minor": 5
}
