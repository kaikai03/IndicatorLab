{
 "cells": [
  {
   "cell_type": "code",
   "execution_count": 8,
   "id": "f4c30c3d-0b26-4bd1-9f2e-4aaaaf1a9570",
   "metadata": {
    "execution": {
     "iopub.execute_input": "2022-02-05T16:39:23.918726Z",
     "iopub.status.busy": "2022-02-05T16:39:23.918194Z",
     "iopub.status.idle": "2022-02-05T16:39:23.936175Z",
     "shell.execute_reply": "2022-02-05T16:39:23.936175Z",
     "shell.execute_reply.started": "2022-02-05T16:39:23.918726Z"
    },
    "tags": []
   },
   "outputs": [],
   "source": [
    "import os\n",
    "\n",
    "\n",
    "# from win32com.shell import shell,shellcon\n",
    "# debug=False\n",
    "# def deltorecyclebin(filename):\n",
    "#     print('del to recyclebin', filename)\n",
    "#     # os.remove(filename) #直接删除文件，不经过回收站\n",
    "#     res= shell.SHFileOperation((0,shellcon.FO_DELETE,filename,None, shellcon.FOF_SILENT | shellcon.FOF_ALLOWUNDO | shellcon.FOF_NOCONFIRMATION,None,None))  #删除文件到回收站\n",
    "#     if not res[1]:\n",
    "#         print('del '+filename)\n",
    "            \n",
    "\n",
    "# for root, dirs, files in os.walk('xxx'):\n",
    "#     # 遍历所有的文件夹\n",
    "#     for d in dirs:\n",
    "#         print(os.path.join(root, d))\n",
    "#         for dd, dirs, files in os.walk(os.path.join(root, d)):\n",
    "#             for f in files:\n",
    "#                 # print(os.path.join(dd, f))\n",
    "#                 if '.PNG' in f.upper():\n",
    "#                     deltorecyclebin(os.path.join(dd, f))\n"
   ]
  }
 ],
 "metadata": {
  "kernelspec": {
   "display_name": "Python 3 (ipykernel)",
   "language": "python",
   "name": "python3"
  },
  "language_info": {
   "codemirror_mode": {
    "name": "ipython",
    "version": 3
   },
   "file_extension": ".py",
   "mimetype": "text/x-python",
   "name": "python",
   "nbconvert_exporter": "python",
   "pygments_lexer": "ipython3",
   "version": "3.9.7"
  }
 },
 "nbformat": 4,
 "nbformat_minor": 5
}
