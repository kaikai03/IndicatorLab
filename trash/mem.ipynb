{
 "cells": [
  {
   "cell_type": "code",
   "execution_count": null,
   "id": "db02bfd4-a5c9-4b12-bf1f-af93f19b27e1",
   "metadata": {},
   "outputs": [],
   "source": [
    "#!/usr/bin/env python\n",
    "import ctypes, re, sys\n",
    "\n",
    "## Partial interface to ptrace(2), only for PTRACE_ATTACH and PTRACE_DETACH.\n",
    "c_ptrace = ctypes.CDLL(\"libc.so.6\").ptrace\n",
    "c_pid_t = ctypes.c_int32 # This assumes pid_t is int32_t\n",
    "c_ptrace.argtypes = [ctypes.c_int, c_pid_t, ctypes.c_void_p, ctypes.c_void_p]\n",
    "def ptrace(attach, pid):\n",
    "    op = ctypes.c_int(16 if attach else 17) #PTRACE_ATTACH or PTRACE_DETACH\n",
    "    c_pid = c_pid_t(pid)\n",
    "    null = ctypes.c_void_p()\n",
    "    err = c_ptrace(op, c_pid, null, null)\n",
    "    if err != 0: raise SysError, 'ptrace', err\n",
    "\n",
    "pid = \"0010\"\n",
    "\n",
    "ptrace(True, int(pid))\n",
    "maps_file = open(\"/proc/\"+pid+\"/maps\", 'r')\n",
    "mem_file = open(\"/proc/\"+pid+\"/mem\", 'wb+', 0)\n",
    "\n",
    "\n",
    "start = int('7ffee7fbe000', 16)\n",
    "end = int('7ffee7fdf000', 16)\n",
    "mem_file.seek(start)  \n",
    "chunk = mem_file.read(end - start)  \n",
    "print chunk,\"enddddddddddddddddd\"\n",
    "\n",
    "\n",
    "# mem_file.write('&餳騔齢?'*int((end - start)/5))\n",
    "\n",
    "# l = maps_file.readlines()\n",
    "\n",
    "maps_file.close()\n",
    "mem_file.close()\n",
    "ptrace(False, int(pid))\n",
    "\n",
    "\n",
    "# for line in maps_file.readlines():  # for each mapped region\n",
    "    # 0:all 1:start 2:end 3:read 4:write 5:execute 6:private/share 7:segmentoffset  8:device  9:inode   10:empty  11:imagepath  \n",
    "#     m = re.match(r'([0-9A-Fa-f]+)-([0-9A-Fa-f]+) ([-r])([-w])([-x])([-ps]) ([0-9]+) ([0-9a-z:]+) ([0-9]+) ([ ]+) (.+)', line)\n",
    "#     if m.group(3) == 'r':  # if this is a readable region\n",
    "#         start = int(m.group(1), 16)\n",
    "#         end = int(m.group(2), 16)\n",
    "#         mem_file.seek(start)  # seek to region start\n",
    "#         chunk = mem_file.read(end - start)  # read region contents\n",
    "#         print chunk,  # dump contents to standard output\n"
   ]
  }
 ],
 "metadata": {
  "kernelspec": {
   "display_name": "Python 3 (ipykernel)",
   "language": "python",
   "name": "python3"
  },
  "language_info": {
   "codemirror_mode": {
    "name": "ipython",
    "version": 3
   },
   "file_extension": ".py",
   "mimetype": "text/x-python",
   "name": "python",
   "nbconvert_exporter": "python",
   "pygments_lexer": "ipython3",
   "version": "3.9.7"
  }
 },
 "nbformat": 4,
 "nbformat_minor": 5
}
