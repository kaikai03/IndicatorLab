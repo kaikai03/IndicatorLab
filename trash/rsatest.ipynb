{
 "cells": [
  {
   "cell_type": "code",
   "execution_count": 2,
   "metadata": {},
   "outputs": [],
   "source": [
    "from cryptography.hazmat.backends import default_backend\n",
    "from cryptography.hazmat.primitives.asymmetric import padding\n",
    "from cryptography.hazmat.primitives.serialization import load_pem_public_key\n",
    "import base64"
   ]
  },
  {
   "cell_type": "code",
   "execution_count": 4,
   "metadata": {
    "execution": {
     "iopub.execute_input": "2022-01-26T05:26:44.253567Z",
     "iopub.status.busy": "2022-01-26T05:26:44.253567Z",
     "iopub.status.idle": "2022-01-26T05:26:44.258807Z",
     "shell.execute_reply": "2022-01-26T05:26:44.258807Z",
     "shell.execute_reply.started": "2022-01-26T05:26:44.253567Z"
    },
    "tags": []
   },
   "outputs": [],
   "source": [
    "\n",
    "# pubKey = load_pem_public_key(pubkey.encode('utf8'),default_backend())\n",
    "\n",
    "# ciphertext = pubKey.encrypt(\n",
    "#                         message.encode('utf-8'),\n",
    "#                         padding.PKCS1v15()\n",
    "#                     )\n",
    "\n",
    "# cipher_64 = base64.b64encode(ciphertext)\n",
    "\n",
    "\n",
    "# print(cipher_64)\n",
    "\n"
   ]
  },
  {
   "cell_type": "code",
   "execution_count": 3,
   "metadata": {
    "execution": {
     "iopub.execute_input": "2022-01-26T05:26:40.892783Z",
     "iopub.status.busy": "2022-01-26T05:26:40.892619Z",
     "iopub.status.idle": "2022-01-26T05:26:40.898026Z",
     "shell.execute_reply": "2022-01-26T05:26:40.898026Z",
     "shell.execute_reply.started": "2022-01-26T05:26:40.892783Z"
    },
    "tags": []
   },
   "outputs": [],
   "source": [
    "import re\n",
    "from collections import Counter\n",
    "\n",
    "# f = open('./e.json', 'r', encoding='utf-8').read()\n",
    "# res2 = re.findall(\"form_id\\\":\\ \\\"(.*)\\\",\",f)\n",
    "# # print(res2)\n",
    "# print(Counter(res2))\n",
    "# print(f)\n",
    "\n",
    "\n",
    "    "
   ]
  }
 ],
 "metadata": {
  "kernelspec": {
   "display_name": "Python 3 (ipykernel)",
   "language": "python",
   "name": "python3"
  },
  "language_info": {
   "codemirror_mode": {
    "name": "ipython",
    "version": 3
   },
   "file_extension": ".py",
   "mimetype": "text/x-python",
   "name": "python",
   "nbconvert_exporter": "python",
   "pygments_lexer": "ipython3",
   "version": "3.9.7"
  }
 },
 "nbformat": 4,
 "nbformat_minor": 4
}
