{
 "cells": [
  {
   "cell_type": "code",
   "execution_count": 1,
   "metadata": {
    "execution": {
     "iopub.execute_input": "2021-12-21T05:20:14.302494Z",
     "iopub.status.busy": "2021-12-21T05:20:14.301497Z",
     "iopub.status.idle": "2021-12-21T05:20:14.949676Z",
     "shell.execute_reply": "2021-12-21T05:20:14.949676Z",
     "shell.execute_reply.started": "2021-12-21T05:20:14.302494Z"
    },
    "tags": []
   },
   "outputs": [],
   "source": [
    "%load_ext autoreload\n",
    "%autoreload 1\n",
    "import matplotlib.pyplot as plt\n",
    "import numpy as np\n",
    "import pandas as pd"
   ]
  },
  {
   "cell_type": "code",
   "execution_count": 3,
   "metadata": {
    "execution": {
     "iopub.execute_input": "2021-12-21T02:45:50.812483Z",
     "iopub.status.busy": "2021-12-21T02:45:50.811481Z",
     "iopub.status.idle": "2021-12-21T02:45:50.825443Z",
     "shell.execute_reply": "2021-12-21T02:45:50.825443Z",
     "shell.execute_reply.started": "2021-12-21T02:45:50.812483Z"
    },
    "tags": []
   },
   "outputs": [],
   "source": [
    "import sys\n",
    "import os \n",
    "module_path = os.path.abspath(os.path.join('..')) \n",
    "if module_path not in sys.path: \n",
    "    sys.path.append(module_path)\n",
    "\n",
    "\n",
    "import base.JuUnits as ju\n",
    "import time\n",
    "\n",
    "# %aimport base.JuUnits"
   ]
  },
  {
   "cell_type": "code",
   "execution_count": 4,
   "metadata": {
    "execution": {
     "iopub.execute_input": "2021-12-21T02:46:10.662881Z",
     "iopub.status.busy": "2021-12-21T02:46:10.661884Z",
     "iopub.status.idle": "2021-12-21T02:46:10.956164Z",
     "shell.execute_reply": "2021-12-21T02:46:10.955682Z",
     "shell.execute_reply.started": "2021-12-21T02:46:10.661884Z"
    },
    "tags": []
   },
   "outputs": [
    {
     "ename": "NameError",
     "evalue": "name 'plt' is not defined",
     "output_type": "error",
     "traceback": [
      "\u001b[1;31m---------------------------------------------------------------------------\u001b[0m",
      "\u001b[1;31mNameError\u001b[0m                                 Traceback (most recent call last)",
      "\u001b[1;32m~\\AppData\\Local\\Temp/ipykernel_11500/64790385.py\u001b[0m in \u001b[0;36m<module>\u001b[1;34m\u001b[0m\n\u001b[1;32m----> 1\u001b[1;33m \u001b[0mfig\u001b[0m \u001b[1;33m=\u001b[0m \u001b[0mplt\u001b[0m\u001b[1;33m.\u001b[0m\u001b[0mfigure\u001b[0m\u001b[1;33m(\u001b[0m\u001b[1;33m)\u001b[0m\u001b[1;33m\u001b[0m\u001b[1;33m\u001b[0m\u001b[0m\n\u001b[0m\u001b[0;32m      2\u001b[0m \u001b[0mx\u001b[0m \u001b[1;33m=\u001b[0m \u001b[0mnp\u001b[0m\u001b[1;33m.\u001b[0m\u001b[0mlinspace\u001b[0m\u001b[1;33m(\u001b[0m\u001b[1;33m-\u001b[0m\u001b[0mnp\u001b[0m\u001b[1;33m.\u001b[0m\u001b[0mpi\u001b[0m\u001b[1;33m,\u001b[0m \u001b[0mnp\u001b[0m\u001b[1;33m.\u001b[0m\u001b[0mpi\u001b[0m\u001b[1;33m,\u001b[0m \u001b[1;36m50\u001b[0m\u001b[1;33m)\u001b[0m\u001b[1;33m\u001b[0m\u001b[1;33m\u001b[0m\u001b[0m\n\u001b[0;32m      3\u001b[0m \u001b[0my\u001b[0m \u001b[1;33m=\u001b[0m \u001b[0mnp\u001b[0m\u001b[1;33m.\u001b[0m\u001b[0msin\u001b[0m\u001b[1;33m(\u001b[0m\u001b[0mx\u001b[0m\u001b[1;33m)\u001b[0m\u001b[1;33m\u001b[0m\u001b[1;33m\u001b[0m\u001b[0m\n\u001b[0;32m      4\u001b[0m \u001b[0mplt\u001b[0m\u001b[1;33m.\u001b[0m\u001b[0mplot\u001b[0m\u001b[1;33m(\u001b[0m\u001b[0mx\u001b[0m\u001b[1;33m,\u001b[0m \u001b[0my\u001b[0m\u001b[1;33m)\u001b[0m\u001b[1;33m\u001b[0m\u001b[1;33m\u001b[0m\u001b[0m\n",
      "\u001b[1;31mNameError\u001b[0m: name 'plt' is not defined"
     ]
    }
   ],
   "source": [
    "fig = plt.figure()\n",
    "x = np.linspace(-np.pi, np.pi, 50)\n",
    "y = np.sin(x)\n",
    "plt.plot(x, y)"
   ]
  },
  {
   "cell_type": "code",
   "execution_count": 3,
   "metadata": {
    "execution": {
     "iopub.execute_input": "2021-12-20T17:33:14.046174Z",
     "iopub.status.busy": "2021-12-20T17:33:14.046174Z",
     "iopub.status.idle": "2021-12-20T17:33:14.053156Z",
     "shell.execute_reply": "2021-12-20T17:33:14.052158Z",
     "shell.execute_reply.started": "2021-12-20T17:33:14.046174Z"
    },
    "tags": []
   },
   "outputs": [],
   "source": [
    "# %matplotlib widget"
   ]
  },
  {
   "cell_type": "code",
   "execution_count": null,
   "metadata": {},
   "outputs": [],
   "source": [
    "@ju.stream_print_wrap\n",
    "def test1():\n",
    "    for i in range(3):\n",
    "        ju.stream_print(str(time.clock()))\n",
    "        time.sleep(1)\n",
    "\n",
    "test1()"
   ]
  },
  {
   "cell_type": "code",
   "execution_count": 9,
   "metadata": {
    "execution": {
     "iopub.execute_input": "2021-12-19T14:02:20.479308Z",
     "iopub.status.busy": "2021-12-19T14:02:20.479308Z",
     "iopub.status.idle": "2021-12-19T14:02:20.493270Z",
     "shell.execute_reply": "2021-12-19T14:02:20.493270Z",
     "shell.execute_reply.started": "2021-12-19T14:02:20.479308Z"
    },
    "tags": []
   },
   "outputs": [
    {
     "data": {
      "text/plain": [
       "6"
      ]
     },
     "execution_count": 9,
     "metadata": {},
     "output_type": "execute_result"
    }
   ],
   "source": [
    "np.random.randint(0,9)"
   ]
  },
  {
   "cell_type": "code",
   "execution_count": 13,
   "metadata": {
    "execution": {
     "iopub.execute_input": "2021-12-19T14:03:16.484251Z",
     "iopub.status.busy": "2021-12-19T14:03:16.484013Z",
     "iopub.status.idle": "2021-12-19T14:03:16.496044Z",
     "shell.execute_reply": "2021-12-19T14:03:16.496044Z",
     "shell.execute_reply.started": "2021-12-19T14:03:16.484013Z"
    },
    "tags": []
   },
   "outputs": [
    {
     "name": "stdout",
     "output_type": "stream",
     "text": [
      "Wall time: 0 ns\n"
     ]
    }
   ],
   "source": [
    "import akshare as ak\n",
    "import pandas as pd\n",
    "# df = ak.stock_zh_a_spot()\n",
    "# data = pd.DataFrame().assign(code=df['代码'].str[2:8],\n",
    "#                              volunit=100.0,\n",
    "#                              decimal_point=2.0,\n",
    "#                              name=df['名称'],\n",
    "#                              pre_close=df['最新价'],\n",
    "#                              sse=df['代码'].str[0:2],\n",
    "#                              sec='stock_cn'\n",
    "#                              ).set_index(['code','sse'], drop=False)\n",
    "# data[data.index.get_level_values(1)!='bj']\n"
   ]
  }
 ],
 "metadata": {
  "kernelspec": {
   "display_name": "Python 3 (ipykernel)",
   "language": "python",
   "name": "python3"
  },
  "language_info": {
   "codemirror_mode": {
    "name": "ipython",
    "version": 3
   },
   "file_extension": ".py",
   "mimetype": "text/x-python",
   "name": "python",
   "nbconvert_exporter": "python",
   "pygments_lexer": "ipython3",
   "version": "3.9.7"
  },
  "toc-autonumbering": false,
  "toc-showcode": false,
  "toc-showmarkdowntxt": false
 },
 "nbformat": 4,
 "nbformat_minor": 4
}
